{
  "nbformat": 4,
  "nbformat_minor": 0,
  "metadata": {
    "colab": {
      "name": "NLP.ipynb",
      "provenance": [],
      "toc_visible": true
    },
    "kernelspec": {
      "name": "python3",
      "display_name": "Python 3"
    },
    "language_info": {
      "name": "python"
    },
    "accelerator": "GPU"
  },
  "cells": [
    {
      "cell_type": "markdown",
      "metadata": {
        "id": "1CSUQJnYUhwz"
      },
      "source": [
        "# **Introduction**\n",
        "\n"
      ]
    },
    {
      "cell_type": "markdown",
      "metadata": {
        "id": "h37nNpMwSYxM"
      },
      "source": [
        "NLP(Natural Language Processing) là khái niệm để chỉ các kĩ thuật, phương pháp thao tác trên ngôn ngữ tự nhiên bằng máy tính. Bạn cần phân biệt ngôn ngữ tự nhiên (ví dụ như tiếng Việt, tiếng Anh, tiếng Nhật… là những ngôn ngữ trong giao tiếp thường ngày) và ngôn ngữ nhân tạo ( như ngôn ngữ lập trình, ngôn ngữ máy, …).\n",
        "\n",
        "Trong NLP có 2 quan điểm cơ bản :\n",
        "\n",
        "1. Xử lý các từ ngữ bằng máy tính.\n",
        "\n",
        "2. Làm cho máy tính hiểu được các từ ngữ.\n",
        "\n",
        "Hiện tại, cả 2 hướng này đều đang được tích cực nghiên cứu và phát triển, nhờ đó rất nhiều các hệ thống hiệu quả đã và đang được tạo ra.\n",
        "\n",
        "Các ứng dụng cơ bản của NLP :\n",
        "\n",
        "1. Chế tạo các hệ thống Máy dịch, ví dụ như Google translation.\n",
        "\n",
        "2. Xử lý văn bản và ngôn ngữ.\n",
        "\n",
        "3. Tìm kiếm thông tin.\n",
        "\n",
        "4. Chiết suất thông tin.\n",
        "\n",
        "5. Tóm tắt văn bản.\n",
        "\n",
        "6. Phân loại văn bản.\n",
        "\n",
        "7. Data mining, web mining. \n",
        "\n",
        "Các loại dữ liệu NLP xử lý:\n",
        "1. Text(hẳng hạn như trong email, bài đăng blog, sách, Tweet)\n",
        "2. Speech(Cuộc trò chuyện, lệnh đưa ra đối với các thiết bị thông minh)\n",
        "\n",
        "Cả hai loại dữ liệu này thường được gọi là chuỗi (một câu là một chuỗi các từ). Vì vậy, một thuật ngữ phổ biến = sẽ gặp trong các bài toán NLP được gọi là seq2seq, nói cách khác, tìm kiếm thông tin trong một chuỗi để tạo ra một chuỗi khác (ví dụ: chuyển đổi một lệnh thoại thành một chuỗi văn bản)."
      ]
    },
    {
      "cell_type": "markdown",
      "metadata": {
        "id": "B8o_VxvkVy-y"
      },
      "source": [
        "Để thực hành NLP trong TensorFlow, chúng ta sẽ thực hành các bước chúng ta đã sử dụng trước đây nhưng lần này với dữ liệu văn bản:\n",
        "\n",
        "`Text -> turn into numbers -> build a model -> train the model to find patterns -> use patterns (make predictions)`"
      ]
    },
    {
      "cell_type": "code",
      "metadata": {
        "colab": {
          "base_uri": "https://localhost:8080/"
        },
        "id": "JQLuD-2HUf67",
        "outputId": "c7ec6fa1-19e9-4395-a978-f32dc08aad8e"
      },
      "source": [
        "# Get helper_functions.py script from course Github\n",
        "!wget https://raw.githubusercontent.com/Wassefy/tensorflow/main/Extras/helper_functions.py\n",
        "\n",
        "# Import helper functions we're going to use\n",
        "from helper_functions import unzip_data, create_tensorboard_callback, plot_loss_curves, compare_historys\n"
      ],
      "execution_count": null,
      "outputs": [
        {
          "output_type": "stream",
          "text": [
            "--2021-06-28 16:06:16--  https://raw.githubusercontent.com/Wassefy/tensorflow/main/Extras/helper_functions.py\n",
            "Resolving raw.githubusercontent.com (raw.githubusercontent.com)... 185.199.108.133, 185.199.109.133, 185.199.110.133, ...\n",
            "Connecting to raw.githubusercontent.com (raw.githubusercontent.com)|185.199.108.133|:443... connected.\n",
            "HTTP request sent, awaiting response... 200 OK\n",
            "Length: 10234 (10.0K) [text/plain]\n",
            "Saving to: ‘helper_functions.py’\n",
            "\n",
            "\rhelper_functions.py   0%[                    ]       0  --.-KB/s               \rhelper_functions.py 100%[===================>]   9.99K  --.-KB/s    in 0s      \n",
            "\n",
            "2021-06-28 16:06:16 (92.7 MB/s) - ‘helper_functions.py’ saved [10234/10234]\n",
            "\n"
          ],
          "name": "stdout"
        }
      ]
    },
    {
      "cell_type": "markdown",
      "metadata": {
        "id": "yzWJtTLVbttn"
      },
      "source": [
        "# **Tải và trực quan hóa dữ liệu**"
      ]
    },
    {
      "cell_type": "markdown",
      "metadata": {
        "id": "zuchVrX0hCpa"
      },
      "source": [
        "Trong phần này chúng ta sẽ tải và sử dụng bộ dữ liệu [Real or Not](https://www.kaggle.com/c/nlp-getting-started/data?select=sample_submission.csv) Dự báo những Tweet nào nói về thảm họa tự nhiên thực sự và những Tweet nào không.\n",
        "\n",
        "Ví dụ:\n",
        "- Tweet nói về thảm họa tự nhiên: `Jetstar and Virgin forced to cancel Bali flights again because of ash from Mount Raung volcano`\n",
        "- Tweet không nói về thảm họa tự nhiên: `'Education is the most powerful weapon which you can use to change the world.' Nelson #Mandela #quote`\n",
        "\n",
        "`\n"
      ]
    },
    {
      "cell_type": "code",
      "metadata": {
        "colab": {
          "base_uri": "https://localhost:8080/"
        },
        "id": "DmzOjv4rb0Xz",
        "outputId": "f6cd1d4d-a653-4924-c843-9f04345aad7b"
      },
      "source": [
        "\n",
        "# Download data (same as from Kaggle)\n",
        "!wget \"https://storage.googleapis.com/ztm_tf_course/nlp_getting_started.zip\"\n",
        "\n",
        "# Unzip data\n",
        "unzip_data(\"nlp_getting_started.zip\")"
      ],
      "execution_count": null,
      "outputs": [
        {
          "output_type": "stream",
          "text": [
            "--2021-06-28 16:06:18--  https://storage.googleapis.com/ztm_tf_course/nlp_getting_started.zip\n",
            "Resolving storage.googleapis.com (storage.googleapis.com)... 142.250.73.208, 142.250.73.240, 142.250.65.80, ...\n",
            "Connecting to storage.googleapis.com (storage.googleapis.com)|142.250.73.208|:443... connected.\n",
            "HTTP request sent, awaiting response... 200 OK\n",
            "Length: 607343 (593K) [application/zip]\n",
            "Saving to: ‘nlp_getting_started.zip’\n",
            "\n",
            "\rnlp_getting_started   0%[                    ]       0  --.-KB/s               \rnlp_getting_started 100%[===================>] 593.11K  --.-KB/s    in 0.004s  \n",
            "\n",
            "2021-06-28 16:06:18 (147 MB/s) - ‘nlp_getting_started.zip’ saved [607343/607343]\n",
            "\n"
          ],
          "name": "stdout"
        }
      ]
    },
    {
      "cell_type": "markdown",
      "metadata": {
        "id": "ILUVvXLfj2z5"
      },
      "source": [
        "Sau khi tải xong dữ liệu chúng ta đi xem xét nó"
      ]
    },
    {
      "cell_type": "code",
      "metadata": {
        "colab": {
          "base_uri": "https://localhost:8080/",
          "height": 206
        },
        "id": "h6wLbAfVj8L4",
        "outputId": "edc03c30-fa90-4025-ea3d-71dd27ea860b"
      },
      "source": [
        "# Turn .csv files into pandas DataFrame's\n",
        "import pandas as pd\n",
        "train_df = pd.read_csv(\"train.csv\")\n",
        "test_df = pd.read_csv(\"test.csv\")\n",
        "train_df.head()"
      ],
      "execution_count": null,
      "outputs": [
        {
          "output_type": "execute_result",
          "data": {
            "text/html": [
              "<div>\n",
              "<style scoped>\n",
              "    .dataframe tbody tr th:only-of-type {\n",
              "        vertical-align: middle;\n",
              "    }\n",
              "\n",
              "    .dataframe tbody tr th {\n",
              "        vertical-align: top;\n",
              "    }\n",
              "\n",
              "    .dataframe thead th {\n",
              "        text-align: right;\n",
              "    }\n",
              "</style>\n",
              "<table border=\"1\" class=\"dataframe\">\n",
              "  <thead>\n",
              "    <tr style=\"text-align: right;\">\n",
              "      <th></th>\n",
              "      <th>id</th>\n",
              "      <th>keyword</th>\n",
              "      <th>location</th>\n",
              "      <th>text</th>\n",
              "      <th>target</th>\n",
              "    </tr>\n",
              "  </thead>\n",
              "  <tbody>\n",
              "    <tr>\n",
              "      <th>0</th>\n",
              "      <td>1</td>\n",
              "      <td>NaN</td>\n",
              "      <td>NaN</td>\n",
              "      <td>Our Deeds are the Reason of this #earthquake M...</td>\n",
              "      <td>1</td>\n",
              "    </tr>\n",
              "    <tr>\n",
              "      <th>1</th>\n",
              "      <td>4</td>\n",
              "      <td>NaN</td>\n",
              "      <td>NaN</td>\n",
              "      <td>Forest fire near La Ronge Sask. Canada</td>\n",
              "      <td>1</td>\n",
              "    </tr>\n",
              "    <tr>\n",
              "      <th>2</th>\n",
              "      <td>5</td>\n",
              "      <td>NaN</td>\n",
              "      <td>NaN</td>\n",
              "      <td>All residents asked to 'shelter in place' are ...</td>\n",
              "      <td>1</td>\n",
              "    </tr>\n",
              "    <tr>\n",
              "      <th>3</th>\n",
              "      <td>6</td>\n",
              "      <td>NaN</td>\n",
              "      <td>NaN</td>\n",
              "      <td>13,000 people receive #wildfires evacuation or...</td>\n",
              "      <td>1</td>\n",
              "    </tr>\n",
              "    <tr>\n",
              "      <th>4</th>\n",
              "      <td>7</td>\n",
              "      <td>NaN</td>\n",
              "      <td>NaN</td>\n",
              "      <td>Just got sent this photo from Ruby #Alaska as ...</td>\n",
              "      <td>1</td>\n",
              "    </tr>\n",
              "  </tbody>\n",
              "</table>\n",
              "</div>"
            ],
            "text/plain": [
              "   id keyword  ...                                               text target\n",
              "0   1     NaN  ...  Our Deeds are the Reason of this #earthquake M...      1\n",
              "1   4     NaN  ...             Forest fire near La Ronge Sask. Canada      1\n",
              "2   5     NaN  ...  All residents asked to 'shelter in place' are ...      1\n",
              "3   6     NaN  ...  13,000 people receive #wildfires evacuation or...      1\n",
              "4   7     NaN  ...  Just got sent this photo from Ruby #Alaska as ...      1\n",
              "\n",
              "[5 rows x 5 columns]"
            ]
          },
          "metadata": {
            "tags": []
          },
          "execution_count": 4
        }
      ]
    },
    {
      "cell_type": "code",
      "metadata": {
        "colab": {
          "base_uri": "https://localhost:8080/",
          "height": 206
        },
        "id": "elUBd8xZkHlK",
        "outputId": "be191201-dc38-4614-f927-cf0d0b359610"
      },
      "source": [
        "# Shuffle training dataframe\n",
        "train_df_shuffled = train_df.sample(frac=1, random_state=42) # shuffle with random_state=42 for reproducibility\n",
        "train_df_shuffled.head()"
      ],
      "execution_count": null,
      "outputs": [
        {
          "output_type": "execute_result",
          "data": {
            "text/html": [
              "<div>\n",
              "<style scoped>\n",
              "    .dataframe tbody tr th:only-of-type {\n",
              "        vertical-align: middle;\n",
              "    }\n",
              "\n",
              "    .dataframe tbody tr th {\n",
              "        vertical-align: top;\n",
              "    }\n",
              "\n",
              "    .dataframe thead th {\n",
              "        text-align: right;\n",
              "    }\n",
              "</style>\n",
              "<table border=\"1\" class=\"dataframe\">\n",
              "  <thead>\n",
              "    <tr style=\"text-align: right;\">\n",
              "      <th></th>\n",
              "      <th>id</th>\n",
              "      <th>keyword</th>\n",
              "      <th>location</th>\n",
              "      <th>text</th>\n",
              "      <th>target</th>\n",
              "    </tr>\n",
              "  </thead>\n",
              "  <tbody>\n",
              "    <tr>\n",
              "      <th>2644</th>\n",
              "      <td>3796</td>\n",
              "      <td>destruction</td>\n",
              "      <td>NaN</td>\n",
              "      <td>So you have a new weapon that can cause un-ima...</td>\n",
              "      <td>1</td>\n",
              "    </tr>\n",
              "    <tr>\n",
              "      <th>2227</th>\n",
              "      <td>3185</td>\n",
              "      <td>deluge</td>\n",
              "      <td>NaN</td>\n",
              "      <td>The f$&amp;amp;@ing things I do for #GISHWHES Just...</td>\n",
              "      <td>0</td>\n",
              "    </tr>\n",
              "    <tr>\n",
              "      <th>5448</th>\n",
              "      <td>7769</td>\n",
              "      <td>police</td>\n",
              "      <td>UK</td>\n",
              "      <td>DT @georgegalloway: RT @Galloway4Mayor: ÛÏThe...</td>\n",
              "      <td>1</td>\n",
              "    </tr>\n",
              "    <tr>\n",
              "      <th>132</th>\n",
              "      <td>191</td>\n",
              "      <td>aftershock</td>\n",
              "      <td>NaN</td>\n",
              "      <td>Aftershock back to school kick off was great. ...</td>\n",
              "      <td>0</td>\n",
              "    </tr>\n",
              "    <tr>\n",
              "      <th>6845</th>\n",
              "      <td>9810</td>\n",
              "      <td>trauma</td>\n",
              "      <td>Montgomery County, MD</td>\n",
              "      <td>in response to trauma Children of Addicts deve...</td>\n",
              "      <td>0</td>\n",
              "    </tr>\n",
              "  </tbody>\n",
              "</table>\n",
              "</div>"
            ],
            "text/plain": [
              "        id  ... target\n",
              "2644  3796  ...      1\n",
              "2227  3185  ...      0\n",
              "5448  7769  ...      1\n",
              "132    191  ...      0\n",
              "6845  9810  ...      0\n",
              "\n",
              "[5 rows x 5 columns]"
            ]
          },
          "metadata": {
            "tags": []
          },
          "execution_count": 5
        }
      ]
    },
    {
      "cell_type": "markdown",
      "metadata": {
        "id": "bYvkzAL2kyGa"
      },
      "source": [
        "Nhìn vào bảng dữ liệu ta cần chú ý vào cột '`target`'. Chúng ta sẽ tiến hành viết code để tìm các mẫu thuộc cột '`text`' của tập dữ liệu đào tạo để dự đoán giá trị của cột '`target`'. Tập dữ liệu thử nghiệm sẽ không có cột '`target`'."
      ]
    },
    {
      "cell_type": "code",
      "metadata": {
        "colab": {
          "base_uri": "https://localhost:8080/",
          "height": 206
        },
        "id": "NyopcfRxlcjR",
        "outputId": "efea2746-4e53-444a-efff-980f36818ece"
      },
      "source": [
        "# The test data doesn't have a target (that's what we'd try to predict)\n",
        "test_df.head()"
      ],
      "execution_count": null,
      "outputs": [
        {
          "output_type": "execute_result",
          "data": {
            "text/html": [
              "<div>\n",
              "<style scoped>\n",
              "    .dataframe tbody tr th:only-of-type {\n",
              "        vertical-align: middle;\n",
              "    }\n",
              "\n",
              "    .dataframe tbody tr th {\n",
              "        vertical-align: top;\n",
              "    }\n",
              "\n",
              "    .dataframe thead th {\n",
              "        text-align: right;\n",
              "    }\n",
              "</style>\n",
              "<table border=\"1\" class=\"dataframe\">\n",
              "  <thead>\n",
              "    <tr style=\"text-align: right;\">\n",
              "      <th></th>\n",
              "      <th>id</th>\n",
              "      <th>keyword</th>\n",
              "      <th>location</th>\n",
              "      <th>text</th>\n",
              "    </tr>\n",
              "  </thead>\n",
              "  <tbody>\n",
              "    <tr>\n",
              "      <th>0</th>\n",
              "      <td>0</td>\n",
              "      <td>NaN</td>\n",
              "      <td>NaN</td>\n",
              "      <td>Just happened a terrible car crash</td>\n",
              "    </tr>\n",
              "    <tr>\n",
              "      <th>1</th>\n",
              "      <td>2</td>\n",
              "      <td>NaN</td>\n",
              "      <td>NaN</td>\n",
              "      <td>Heard about #earthquake is different cities, s...</td>\n",
              "    </tr>\n",
              "    <tr>\n",
              "      <th>2</th>\n",
              "      <td>3</td>\n",
              "      <td>NaN</td>\n",
              "      <td>NaN</td>\n",
              "      <td>there is a forest fire at spot pond, geese are...</td>\n",
              "    </tr>\n",
              "    <tr>\n",
              "      <th>3</th>\n",
              "      <td>9</td>\n",
              "      <td>NaN</td>\n",
              "      <td>NaN</td>\n",
              "      <td>Apocalypse lighting. #Spokane #wildfires</td>\n",
              "    </tr>\n",
              "    <tr>\n",
              "      <th>4</th>\n",
              "      <td>11</td>\n",
              "      <td>NaN</td>\n",
              "      <td>NaN</td>\n",
              "      <td>Typhoon Soudelor kills 28 in China and Taiwan</td>\n",
              "    </tr>\n",
              "  </tbody>\n",
              "</table>\n",
              "</div>"
            ],
            "text/plain": [
              "   id keyword location                                               text\n",
              "0   0     NaN      NaN                 Just happened a terrible car crash\n",
              "1   2     NaN      NaN  Heard about #earthquake is different cities, s...\n",
              "2   3     NaN      NaN  there is a forest fire at spot pond, geese are...\n",
              "3   9     NaN      NaN           Apocalypse lighting. #Spokane #wildfires\n",
              "4  11     NaN      NaN      Typhoon Soudelor kills 28 in China and Taiwan"
            ]
          },
          "metadata": {
            "tags": []
          },
          "execution_count": 6
        }
      ]
    },
    {
      "cell_type": "markdown",
      "metadata": {
        "id": "EDXKtk55lkLs"
      },
      "source": [
        "`Inputs (text column) -> Machine Learning Algorithm -> Outputs (target column)`"
      ]
    },
    {
      "cell_type": "markdown",
      "metadata": {
        "id": "6aj5QAcxlnPj"
      },
      "source": [
        ""
      ]
    },
    {
      "cell_type": "code",
      "metadata": {
        "colab": {
          "base_uri": "https://localhost:8080/"
        },
        "id": "UEAwtMcPmzub",
        "outputId": "7964792d-2740-449c-ec0c-c34a00206a13"
      },
      "source": [
        "# How many examples of each class?\n",
        "train_df.target.value_counts()"
      ],
      "execution_count": null,
      "outputs": [
        {
          "output_type": "execute_result",
          "data": {
            "text/plain": [
              "0    4342\n",
              "1    3271\n",
              "Name: target, dtype: int64"
            ]
          },
          "metadata": {
            "tags": []
          },
          "execution_count": 7
        }
      ]
    },
    {
      "cell_type": "markdown",
      "metadata": {
        "id": "oBZWXUzqm_QA"
      },
      "source": [
        "Vì chúng ta chỉ có hai trạng thái là Tweet đúng và sai nên ở đây sẽ sử dụng phân loại nhị phân để giải quyết vấn đề.Bộ dữ liệu khá cân bằng khoảng 60% kết quả tiêu cực (target = 0) và 40% kết quả tích cực (target = 1)."
      ]
    },
    {
      "cell_type": "code",
      "metadata": {
        "colab": {
          "base_uri": "https://localhost:8080/"
        },
        "id": "r61UQLC3nZaS",
        "outputId": "ea172900-5319-411e-e5b8-9a885e825609"
      },
      "source": [
        "# How many samples total?\n",
        "print(f\"Total training samples: {len(train_df)}\")\n",
        "print(f\"Total test samples: {len(test_df)}\")\n",
        "print(f\"Total samples: {len(train_df) + len(test_df)}\")"
      ],
      "execution_count": null,
      "outputs": [
        {
          "output_type": "stream",
          "text": [
            "Total training samples: 7613\n",
            "Total test samples: 3263\n",
            "Total samples: 10876\n"
          ],
          "name": "stdout"
        }
      ]
    },
    {
      "cell_type": "markdown",
      "metadata": {
        "id": "khLxEl-God-g"
      },
      "source": [
        "Trực quan hóa dữ liệu "
      ]
    },
    {
      "cell_type": "code",
      "metadata": {
        "colab": {
          "base_uri": "https://localhost:8080/"
        },
        "id": "26g7b7AgoJQd",
        "outputId": "4a175f14-139d-4e00-8c95-31bc6283ad8c"
      },
      "source": [
        "# Let's visualize some random training examples\n",
        "import random\n",
        "random_index = random.randint(0, len(train_df)-5) # create random indexes not higher than the total number of samples\n",
        "for row in train_df_shuffled[[\"text\", \"target\"]][random_index:random_index+5].itertuples():\n",
        "  _, text, target = row\n",
        "  print(f\"Target: {target}\", \"(real disaster)\" if target > 0 else \"(not real disaster)\")\n",
        "  print(f\"Text:\\n{text}\\n\")\n",
        "  print(\"---\\n\")"
      ],
      "execution_count": null,
      "outputs": [
        {
          "output_type": "stream",
          "text": [
            "Target: 0 (not real disaster)\n",
            "Text:\n",
            "Uber reduces drunk driving fatalities says independent study http://t.co/jVIVT6zrv7\n",
            "\n",
            "---\n",
            "\n",
            "Target: 0 (not real disaster)\n",
            "Text:\n",
            "Black Ops 3 SEARCH AND DESTROY GAMEPLAY! (Hunted SnD Competitive Multiplayer): http://t.co/ss1zL36y9V via @YouTube\n",
            "\n",
            "---\n",
            "\n",
            "Target: 1 (real disaster)\n",
            "Text:\n",
            "The Latest: More homes razed by Northern California wildfire - http://t.co/P3g3bQBczu http://t.co/RpBxdfnx5k\n",
            "\n",
            "---\n",
            "\n",
            "Target: 0 (not real disaster)\n",
            "Text:\n",
            "I attacked Robot-lvl 19 and I've earned a total of 6615434 free satoshis! http://t.co/DMLJ1aGoTw #robotcoingame #Bitcoin #FreeBitcoin\n",
            "\n",
            "---\n",
            "\n",
            "Target: 1 (real disaster)\n",
            "Text:\n",
            "The Cafe Run by Acid Attack Survivors in #India http://t.co/qmiF0bLwOa http://t.co/l6PIf3LpEn\n",
            "\n",
            "---\n",
            "\n"
          ],
          "name": "stdout"
        }
      ]
    },
    {
      "cell_type": "markdown",
      "metadata": {
        "id": "ME0QQ8Vhow4L"
      },
      "source": [
        "# **Chia dữ liệu thành các tập hợp đào tạo và xác nhận**"
      ]
    },
    {
      "cell_type": "markdown",
      "metadata": {
        "id": "YjAYtJ0gozE5"
      },
      "source": [
        "Vì tập hợp thử nghiệm không có nhãn và chúng ta cần một cách để đánh giá các mô hình được đào tạo của mình, chúng tôi sẽ tách một số dữ liệu đào tạo và tạo một tập hợp xác thực.Khi mô hình của chúng ta đào tạo (thử các mẫu trong các mẫu Tweet), nó sẽ chỉ thấy dữ liệu từ nhóm đào tạo và chúng ta có thể thấy cách nó hoạt động trên dữ liệu không nhìn thấy bằng cách sử dụng bộ xác thực."
      ]
    },
    {
      "cell_type": "code",
      "metadata": {
        "id": "Jx5OBqkEqAih"
      },
      "source": [
        "from sklearn.model_selection import train_test_split\n",
        "\n",
        "# Use train_test_split to split training data into training and validation sets\n",
        "train_sentences, val_sentences, train_labels, val_labels = train_test_split(train_df_shuffled[\"text\"].to_numpy(),\n",
        "                                                                            train_df_shuffled[\"target\"].to_numpy(),\n",
        "                                                                            test_size=0.1, # dedicate 10% of samples to validation set\n",
        "                                                                            random_state=42) # random state for reproducibility"
      ],
      "execution_count": null,
      "outputs": []
    },
    {
      "cell_type": "code",
      "metadata": {
        "colab": {
          "base_uri": "https://localhost:8080/"
        },
        "id": "PfUv5yvCqELw",
        "outputId": "9573d51c-623d-4c02-a885-d5b76d425c6f"
      },
      "source": [
        "# Check the lengths\n",
        "len(train_sentences), len(train_labels), len(val_sentences), len(val_labels)"
      ],
      "execution_count": null,
      "outputs": [
        {
          "output_type": "execute_result",
          "data": {
            "text/plain": [
              "(6851, 6851, 762, 762)"
            ]
          },
          "metadata": {
            "tags": []
          },
          "execution_count": 11
        }
      ]
    },
    {
      "cell_type": "code",
      "metadata": {
        "colab": {
          "base_uri": "https://localhost:8080/"
        },
        "id": "L0kNE6GaqG3x",
        "outputId": "29779ada-baed-4886-bbed-f7fa582803cf"
      },
      "source": [
        "# View the first 10 training sentences and their labels\n",
        "train_sentences[:10], train_labels[:10]"
      ],
      "execution_count": null,
      "outputs": [
        {
          "output_type": "execute_result",
          "data": {
            "text/plain": [
              "(array(['@mogacola @zamtriossu i screamed after hitting tweet',\n",
              "        'Imagine getting flattened by Kurt Zouma',\n",
              "        '@Gurmeetramrahim #MSGDoing111WelfareWorks Green S welfare force ke appx 65000 members har time disaster victim ki help ke liye tyar hai....',\n",
              "        \"@shakjn @C7 @Magnums im shaking in fear he's gonna hack the planet\",\n",
              "        'Somehow find you and I collide http://t.co/Ee8RpOahPk',\n",
              "        '@EvaHanderek @MarleyKnysh great times until the bus driver held us hostage in the mall parking lot lmfao',\n",
              "        'destroy the free fandom honestly',\n",
              "        'Weapons stolen from National Guard Armory in New Albany still missing #Gunsense http://t.co/lKNU8902JE',\n",
              "        '@wfaaweather Pete when will the heat wave pass? Is it really going to be mid month? Frisco Boy Scouts have a canoe trip in Okla.',\n",
              "        'Patient-reported outcomes in long-term survivors of metastatic colorectal cancer - British Journal of Surgery http://t.co/5Yl4DC1Tqt'],\n",
              "       dtype=object), array([0, 0, 1, 0, 0, 1, 1, 0, 1, 1]))"
            ]
          },
          "metadata": {
            "tags": []
          },
          "execution_count": 12
        }
      ]
    },
    {
      "cell_type": "markdown",
      "metadata": {
        "id": "rg3pEoJbq6ec"
      },
      "source": [
        "# **Chuyển đổi văn bản thành số**"
      ]
    },
    {
      "cell_type": "markdown",
      "metadata": {
        "id": "V50Ui7-Vq8ox"
      },
      "source": [
        "Chúng ta đã có một bộ đào tạo và một bộ xác thực sau khi chia từ dữ liệu đào tạo gốc. Vấn đề hiện tại là nhãn của chúng ta là dạng số(0 và 1) nhưng các Tweet lại là dạng văn bản(chuỗi). Vậy nên để có thể áp dụng các thuật toán học máy thì điều đầu tiên chúng ta cần là chuyển dữ liệu sang dạng số.\n",
        "\n",
        "Trong NLP có hai các chính để chuyển dữ liệu từ dạng văn bản sang dạng số:\n",
        "- **Tokenization** - Ánh xạ thẳng từ từ hoặc ký tự hoặc từ phụ(sub-word) sang giá trị số.Cự thể:\n",
        "> 1. **word-level tokenization**: Sử dụng Tokenization cấp độ từ với câu \"I love TensorFlow\" có thể dẫn đến \"I\" là 0, \"love\" là 1 và \"TensorFlow\" là 2. Trong trường hợp này, mỗi từ trong một chuỗi được coi là một token duy nhất.\n",
        "> 2.**Character-level tokenization:** chuyển đổi các chữ cái A-Z thành các giá trị 1-26. Trong trường hợp này, mọi ký tự trong một chuỗi được coi là một token duy nhất.\n",
        "> 3. **Sub-word tokenization**: nằm giữa word-level tokenization và Character-level tokenization.Chia các từ thành các phần nhỏ sau đó ánh xạ các phần đó thành số.\n",
        "- **Embeddings** - Phép nhúng là một biểu diễn của ngôn ngữ tự nhiên có thể học được.Biểu diễn có dạng vector đặc trưng. Ví dụ từ \"dance\" có thể biểu diễn bằng vector 5 chiều `[-0.8547, 0.4559, -0.3332, 0.9877, 0.1112] `.Điều quan trọng cần lưu ý ở đây, kích thước của vector đặc trưng có thể điều chỉnh được. Có hai cách để sử dụng nhúng:\n",
        "> 1. Tạo mới: Khi văn bản đã được chuyển thành số (bắt buộc đối với một lần nhúng),có thể đưa chúng qua một lớp nhúng (chẳng hạn như `tf.keras.layers.Embedding`) và cách biểu diễn nhúng sẽ được học trong quá trình đào tạo mô hình.\n",
        "> 2. Sử dụng lại nhúng đã được đào tạo trước: Nhiều phương pháp nhúng đã được đào tạo trước tồn tại trực tuyến. Những cách nhúng được đào tạo trước này thường được học trên các kho văn bản lớn (chẳng hạn như Wikipedia) và do đó có một cách thể hiện tốt cơ bản của ngôn ngữ tự nhiên.Chúng ta có thể sử dụng phương pháp nhúng được đào tạo trước để khởi tạo mô hình của mình và tinh chỉnh nó cho phù hợp với nhiệm vụ cụ thể."
      ]
    },
    {
      "cell_type": "markdown",
      "metadata": {
        "id": "tWaG5Ho2Wfsy"
      },
      "source": [
        "## **Vector hóa văn bản(tokenization)**\n",
        "\n",
        "Để thực hiện mã hóa các từ, chúng ta sẽ sử dụng lớp tiền xử lý `tf.keras.layers.experimental.preprocessing.TextVectorization`.Lớp `TextVectorization` nhận các tham số sau:\n",
        "- `max-tokens` - Số từ tối đa trong vốn từ vựng của chúng ta, bao gồm 1 giá trị co OOV token(ngoài từ vựng).\n",
        "- `standardize` - phương pháp chuẩn hóa văn bản.Mặc định là \"`Lower_and_strip_punctuation`\" làm giảm văn bản và xóa tất cả các dấu câu.\n",
        "- `split` - cách chia văn bản, mặc định là '`whitespace`' chia trên các khoảng trắng.\n",
        "- `ngrams`- có bao nhiêu từ cần chứa cho mỗi lần phân chia token, ví dụ `ngrams = 2` chia token thành chuỗi liên tục của 2.\n",
        "- `output_mode` - cách xuất token, có thể là `\"int\"` (ánh xạ số nguyên), `\"binary\"`(mã hóa one-hot), `\"count\"` hoặc `\"tf-idf\"`.\n",
        "- `output_sequence_lenght` - độ dài của chuỗi mã hóa xuất ra. \n",
        "- `pad_to_max_tokens` - Nếu True (mặc định), trục tính năng đầu ra sẽ được đệm thành `max_tokens` ngay cả khi số lượng thẻ duy nhất trong từ vựng ít hơn `max_tokens`."
      ]
    },
    {
      "cell_type": "code",
      "metadata": {
        "id": "mJpoGGW4fKwz"
      },
      "source": [
        "import tensorflow as tf\n",
        "from tensorflow.keras.layers.experimental.preprocessing import TextVectorization\n",
        "\n",
        "# Use the default TextVectorization\n",
        "text_vectorizer = TextVectorization(max_tokens=None, \n",
        "                                    standardize=\"lower_and_strip_punctuation\", \n",
        "                                    split=\"whitespace\", \n",
        "                                    ngrams=None, \n",
        "                                    output_mode=\"int\", \n",
        "                                    output_sequence_length=None, \n",
        "                                    pad_to_max_tokens=True)"
      ],
      "execution_count": null,
      "outputs": []
    },
    {
      "cell_type": "markdown",
      "metadata": {
        "id": "_f2qCh91gxgk"
      },
      "source": [
        "Trên đây là một khởi tạo TextVectorization với cài đặt mặc định. Tiếp theo chúng ta sẽ đi tủy chỉnh một số thông số để phù hợp với mục đính của mình.\n",
        "Đặc biệt,là đặt giá trị `max_tokens` và `output_sequence_length`.\n",
        "Đối với `max_tokens` (số lượng từ trong từ vựng),thường đặt là  bội số của 10.000 (10.000, 20.000, 30.000) hoặc số từ duy nhất chính xác trong văn bản sẽ làm việc (ví dụ: 62.179) là các giá trị phổ biến.Trong trường hợp này chúng ta sẽ sử dụng 10.000. Và đối với `output_sequence_length`, chúng ta sẽ sử dụng số lượng mã thông báo trung bình trên mỗi Tweet trong tập huấn luyện."
      ]
    },
    {
      "cell_type": "code",
      "metadata": {
        "colab": {
          "base_uri": "https://localhost:8080/"
        },
        "id": "4MXiM50Fhyr7",
        "outputId": "852dec53-98d4-4dba-e8e3-28696ab99014"
      },
      "source": [
        "# Find average number of tokens (words) in training Tweets\n",
        "round(sum([len(i.split()) for i in train_sentences])/len(train_sentences))"
      ],
      "execution_count": null,
      "outputs": [
        {
          "output_type": "execute_result",
          "data": {
            "text/plain": [
              "15"
            ]
          },
          "metadata": {
            "tags": []
          },
          "execution_count": 14
        }
      ]
    },
    {
      "cell_type": "code",
      "metadata": {
        "id": "PDgTiJy4h2QX"
      },
      "source": [
        "# Setup text vectorization variables\n",
        "max_vocab_length = 10000 # max number of words to have in our vocabulary\n",
        "max_length = 15 # max length our sequences will be (e.g. how many words from a Tweet does our model see?)\n",
        "\n",
        "text_vectorizer = TextVectorization(max_tokens=max_vocab_length,\n",
        "                                    output_mode=\"int\",\n",
        "                                    output_sequence_length=max_length)"
      ],
      "execution_count": null,
      "outputs": []
    },
    {
      "cell_type": "markdown",
      "metadata": {
        "id": "yxKCjUF7iCqf"
      },
      "source": [
        "Để vector hóa tùy chỉnh `text_vectorizer` vào dữ liệu , chúng ta có thể gợi phương thức `adapt()` trên đó trong khi truyền vào văn bản đào tạo của mình."
      ]
    },
    {
      "cell_type": "code",
      "metadata": {
        "id": "yhWFMcdtibAZ"
      },
      "source": [
        "# Fit the text vectorizer to the training text\n",
        "text_vectorizer.adapt(train_sentences)"
      ],
      "execution_count": null,
      "outputs": []
    },
    {
      "cell_type": "code",
      "metadata": {
        "colab": {
          "base_uri": "https://localhost:8080/"
        },
        "id": "a8XIecl0i6_t",
        "outputId": "69546b53-acb4-4b4b-8204-11832ba7b5a2"
      },
      "source": [
        "# Create sample sentence and tokenize it\n",
        "sample_sentence = \"There's a flood in my street!\"\n",
        "text_vectorizer([sample_sentence])"
      ],
      "execution_count": null,
      "outputs": [
        {
          "output_type": "execute_result",
          "data": {
            "text/plain": [
              "<tf.Tensor: shape=(1, 15), dtype=int64, numpy=\n",
              "array([[264,   3, 232,   4,  13, 698,   0,   0,   0,   0,   0,   0,   0,\n",
              "          0,   0]])>"
            ]
          },
          "metadata": {
            "tags": []
          },
          "execution_count": 17
        }
      ]
    },
    {
      "cell_type": "code",
      "metadata": {
        "colab": {
          "base_uri": "https://localhost:8080/"
        },
        "id": "W6Il-sYzlD5u",
        "outputId": "5ff132bb-5928-4f3c-db03-eca210b6171c"
      },
      "source": [
        "# Choose a random sentence from the training dataset and tokenize it\n",
        "random_sentence = random.choice(train_sentences)\n",
        "print(f\"Original text:\\n{random_sentence}\\\n",
        "      \\n\\nVectorized version:\")\n",
        "text_vectorizer([random_sentence])"
      ],
      "execution_count": null,
      "outputs": [
        {
          "output_type": "stream",
          "text": [
            "Original text:\n",
            "@RosemaryTravale Do we all use the same weapon? 'cause we might be screwed XD      \n",
            "\n",
            "Vectorized version:\n"
          ],
          "name": "stdout"
        },
        {
          "output_type": "execute_result",
          "data": {
            "text/plain": [
              "<tf.Tensor: shape=(1, 15), dtype=int64, numpy=\n",
              "array([[8978,   68,   46,   44,  447,    2,  726,  263,  257,   46,  843,\n",
              "          21, 8730, 1916,    0]])>"
            ]
          },
          "metadata": {
            "tags": []
          },
          "execution_count": 18
        }
      ]
    },
    {
      "cell_type": "code",
      "metadata": {
        "colab": {
          "base_uri": "https://localhost:8080/"
        },
        "id": "RgFzUTJ7mtwZ",
        "outputId": "f0d8a8a2-40e1-45a6-98e2-b7157fb1a52b"
      },
      "source": [
        "# Get the unique words in the vocabulary\n",
        "words_in_vocab = text_vectorizer.get_vocabulary()\n",
        "top_5_words = words_in_vocab[:5] # most common tokens (notice the [UNK] token for \"unknown\" words)\n",
        "bottom_5_words = words_in_vocab[-5:] # least common tokens\n",
        "print(f\"Number of words in vocab: {len(words_in_vocab)}\")\n",
        "print(f\"Top 5 most common words: {top_5_words}\") \n",
        "print(f\"Bottom 5 least common words: {bottom_5_words}\")"
      ],
      "execution_count": null,
      "outputs": [
        {
          "output_type": "stream",
          "text": [
            "Number of words in vocab: 10000\n",
            "Top 5 most common words: ['', '[UNK]', 'the', 'a', 'in']\n",
            "Bottom 5 least common words: ['pages', 'paeds', 'pads', 'padres', 'paddytomlinson1']\n"
          ],
          "name": "stdout"
        }
      ]
    },
    {
      "cell_type": "markdown",
      "metadata": {
        "id": "lHAwNzsuxSsB"
      },
      "source": [
        "## **Tạo một nhúng bằng lớp nhúng**"
      ]
    },
    {
      "cell_type": "markdown",
      "metadata": {
        "id": "4CCzIxtIxW3p"
      },
      "source": [
        "Điều mạnh mẽ về cách nhúng là nó có thể học được trong quá trình đào tạo. Điều này có nghĩa là thay vì chỉ là tĩnh (ví dụ: 1 = I, 2 = love, 3 = TensorFlow), biểu diễn số của một từ có thể được cải thiện khi một mô hình đi qua các mẫu dữ liệu.Chúng ta có thể thấy việc nhúng một từ như thế nào bằng cách sử dụng lớp `tf.keras.layers.Embedding.`Các thông số chính mà chúng ta quan tâm ở đây là:\n",
        "- `input_dim` - Kích thước của từ vựng.\n",
        "- `output_dim` - Kích thước của vectơ nhúng đầu ra, ví dụ: giá trị 100 sẽ xuất ra vectơ đặc trưng có kích thước 100 cho mỗi từ.\n",
        "- `embeddings_initializer` - Cách khởi tạo ma trận nhúng,mặc định là `\"uniform\"` ngẫu nhiên tạo ra ma trận nhúng có phân phối đều.Điều này có thể được thay đổi để sử dụng các phương pháp nhúng đã học trước.\n",
        "- `input_lenght` - Độ dài của dãy được chuyển đến lớp nhúng."
      ]
    },
    {
      "cell_type": "code",
      "metadata": {
        "colab": {
          "base_uri": "https://localhost:8080/"
        },
        "id": "Zh2Bp14g1XMD",
        "outputId": "2e48b95c-744b-41bd-dc97-bbd6ebf0f204"
      },
      "source": [
        "from tensorflow.keras import layers\n",
        "\n",
        "embedding = layers.Embedding(input_dim=max_vocab_length, # set input shape\n",
        "                             output_dim=128, # set size of embedding vector\n",
        "                             embeddings_initializer=\"uniform\", # default, intialize randomly\n",
        "                             input_length=max_length) # how long is each input\n",
        "\n",
        "embedding"
      ],
      "execution_count": null,
      "outputs": [
        {
          "output_type": "execute_result",
          "data": {
            "text/plain": [
              "<tensorflow.python.keras.layers.embeddings.Embedding at 0x7f8ef0216290>"
            ]
          },
          "metadata": {
            "tags": []
          },
          "execution_count": 20
        }
      ]
    },
    {
      "cell_type": "markdown",
      "metadata": {
        "id": "nlOwTDZ4149I"
      },
      "source": [
        "Hãy chú ý cách nhúng một lớp TensoFlow? Điều này rất quan trọng vì chúng ta có thể sử dụng nó như một phần của mô hình, có nghĩa là các tham số của nó (biểu diễn từ) có thể được cập nhật và cải thiện khi mô hình học."
      ]
    },
    {
      "cell_type": "code",
      "metadata": {
        "colab": {
          "base_uri": "https://localhost:8080/"
        },
        "id": "ml76IMfa2AlB",
        "outputId": "0dfc541c-c3c6-4477-ffa1-b36a1d1dcf0e"
      },
      "source": [
        "# Get a random sentence from training set\n",
        "random_sentence = random.choice(train_sentences)\n",
        "print(f\"Original text:\\n{random_sentence}\\\n",
        "      \\n\\nEmbedded version:\")\n",
        "\n",
        "# Embed the random sentence (turn it into numerical representation)\n",
        "sample_embed = embedding(text_vectorizer([random_sentence]))\n",
        "sample_embed"
      ],
      "execution_count": null,
      "outputs": [
        {
          "output_type": "stream",
          "text": [
            "Original text:\n",
            "@CAgov If 90BLKs&amp;8WHTs colluded 2 take WHT F @USAgov AUTH Hostage&amp;2 make her look BLK w/Bioterrorism&amp;use her lgl/org IDis ID still hers?@VP      \n",
            "\n",
            "Embedded version:\n"
          ],
          "name": "stdout"
        },
        {
          "output_type": "execute_result",
          "data": {
            "text/plain": [
              "<tf.Tensor: shape=(1, 15, 128), dtype=float32, numpy=\n",
              "array([[[ 0.02958581, -0.01827241,  0.01755928, ...,  0.03137148,\n",
              "          0.03219812,  0.02740312],\n",
              "        [-0.04216301,  0.02720702,  0.02656131, ...,  0.00049473,\n",
              "         -0.04333213,  0.03193778],\n",
              "        [-0.0485543 ,  0.024884  , -0.01338657, ...,  0.01699643,\n",
              "          0.04919944,  0.00560246],\n",
              "        ...,\n",
              "        [-0.03342596,  0.02535467,  0.00383983, ...,  0.00984838,\n",
              "         -0.01201522,  0.00933059],\n",
              "        [-0.01554222, -0.04623461,  0.03652329, ..., -0.01084423,\n",
              "         -0.02374125,  0.00553109],\n",
              "        [ 0.02848505, -0.02369044,  0.0454335 , ...,  0.03211285,\n",
              "         -0.00294398, -0.01950049]]], dtype=float32)>"
            ]
          },
          "metadata": {
            "tags": []
          },
          "execution_count": 21
        }
      ]
    },
    {
      "cell_type": "markdown",
      "metadata": {
        "id": "YFYx_reR2GCK"
      },
      "source": [
        "Mỗi token trong câu được chuyển thành một vector đặc trưng có độ dài 128."
      ]
    },
    {
      "cell_type": "code",
      "metadata": {
        "colab": {
          "base_uri": "https://localhost:8080/"
        },
        "id": "9kLbj6Sv2IQ2",
        "outputId": "e88f6caf-74d8-4f1f-b68a-b37c22359330"
      },
      "source": [
        "# Check out a single token's embedding\n",
        "sample_embed[0][0]"
      ],
      "execution_count": null,
      "outputs": [
        {
          "output_type": "execute_result",
          "data": {
            "text/plain": [
              "<tf.Tensor: shape=(128,), dtype=float32, numpy=\n",
              "array([ 0.02958581, -0.01827241,  0.01755928, -0.00767253,  0.02846822,\n",
              "       -0.01893332, -0.01097124, -0.00320617,  0.03258329, -0.01736655,\n",
              "        0.03068644, -0.01613341,  0.02483337,  0.00366951,  0.04991141,\n",
              "       -0.02770906, -0.01477566, -0.03978081, -0.03152939, -0.02229257,\n",
              "       -0.04454011, -0.00661216, -0.01975546, -0.04510192,  0.00393914,\n",
              "       -0.01248174,  0.04146205, -0.04510004, -0.04840701, -0.00287011,\n",
              "        0.02761406,  0.02577703,  0.00620513, -0.022595  ,  0.02893002,\n",
              "        0.0197631 , -0.02201543,  0.020131  ,  0.03101948,  0.03299582,\n",
              "       -0.0085776 ,  0.01849792, -0.03515804,  0.0031064 , -0.0378454 ,\n",
              "       -0.01557378, -0.04670259, -0.02205813,  0.04629186,  0.02400775,\n",
              "        0.03637478,  0.00463959,  0.03611099, -0.01972885, -0.04447008,\n",
              "        0.04368213, -0.0174072 ,  0.03004416, -0.00974355,  0.00991337,\n",
              "        0.04702238, -0.02868366, -0.03368513, -0.03712898,  0.04077243,\n",
              "       -0.04421374,  0.04440049, -0.04001269,  0.00082139, -0.0044102 ,\n",
              "        0.03561825,  0.02183962,  0.00773146, -0.046292  ,  0.03922143,\n",
              "        0.02435069, -0.02134832,  0.04203161,  0.04319916,  0.00059706,\n",
              "        0.00879901, -0.03811412, -0.02979336,  0.03608708,  0.01408369,\n",
              "       -0.00792295,  0.00921395,  0.01397189, -0.00521029, -0.03783833,\n",
              "       -0.00032221, -0.01382051,  0.03652543, -0.0258577 , -0.00178599,\n",
              "       -0.00408958, -0.01930685,  0.04037119,  0.04638452,  0.01024803,\n",
              "        0.01683087,  0.02191856,  0.04525324,  0.01242298, -0.04884785,\n",
              "       -0.01103504, -0.04895267,  0.03660119,  0.03804583,  0.04425711,\n",
              "       -0.03505258, -0.01011158, -0.00998374,  0.01178415, -0.02116846,\n",
              "       -0.01102562,  0.02661449, -0.04258152, -0.02106014,  0.0477869 ,\n",
              "        0.01165758, -0.04772369, -0.03966201, -0.01073706, -0.01119434,\n",
              "        0.03137148,  0.03219812,  0.02740312], dtype=float32)>"
            ]
          },
          "metadata": {
            "tags": []
          },
          "execution_count": 22
        }
      ]
    },
    {
      "cell_type": "markdown",
      "metadata": {
        "id": "lrVFjaBP2N-_"
      },
      "source": [
        "Những giá trị này có thể không có nhiều ý nghĩa đối với chúng ta nhưng chúng là những gì máy tính của chúng tôi nhìn thấy mỗi từ. Khi mô hình của chúng ta tìm kiếm các mẫu trong các mẫu khác nhau, các giá trị này sẽ được cập nhật khi cần thiết."
      ]
    },
    {
      "cell_type": "markdown",
      "metadata": {
        "id": "lGELdiEk2Q_u"
      },
      "source": [
        "# **Mô hình hóa tập dữ liệu văn bản**"
      ]
    },
    {
      "cell_type": "markdown",
      "metadata": {
        "id": "jYUKCcvY2pUK"
      },
      "source": [
        "Chúng ta đã có dữ liệu dưới dạng số bằng cách sử dụng ánh xạ, bây giờ có thể tiến hành xây dựng các mô hình để mô hình hóa tập dữ liệu.Để có được kết quả tốt nhất, chúng ta sẽ xây dựng một loạt các mô hình khác nhau, mỗi mô hình là một thử nghiệm của riêng nó. Sau đó, chúng ta sẽ so sánh kết quả của từng mô hình và xem mô hình nào hoạt động tốt nhất.\n",
        "Cụ thể hơn, chúng ta sẽ xây dựng những thứ sau:\n",
        "1. Model 0: Naive Bayes (cơ sở)\n",
        "2. Model 1: Feed-forward neural network(Dense model)\n",
        "3. Model 2: LSTM\n",
        "4. Model 3: GRU \n",
        "5. Model 4: LSTM 2 chiều\n",
        "6. Model 5: 1D CNN\n",
        "7. Model 6: Trích xuất tính năng với TensorFlow Hub\n",
        "8. Model 7: Giống với Model 6 với 10% dữ liệu.\n",
        "\n"
      ]
    },
    {
      "cell_type": "markdown",
      "metadata": {
        "id": "gIjc5BAMiXLN"
      },
      "source": [
        "## **Model 0: Mô hình cơ sở**"
      ]
    },
    {
      "cell_type": "markdown",
      "metadata": {
        "id": "DxqLO-dtibxo"
      },
      "source": [
        "Như với tất cả các thử nghiệm mô hình học máy, điều quan trọng là tạo mô hình cơ sở để bạn có điểm chuẩn cho các thử nghiệm trong tương lai để xây dựng.\n",
        "Để tạo đường cơ sở, chúng ta sẽ tạo một Đường ống Scikit-Learn bằng cách sử dụng công thức TF-IDF  để chuyển đổi các từ của chúng ta thành số và sau đó lập mô hình bằng thuật toán Naive Bayes. Điều này đã được chọn thông qua việc tham khảo bản đồ học máy Scikit-Learn."
      ]
    },
    {
      "cell_type": "code",
      "metadata": {
        "colab": {
          "base_uri": "https://localhost:8080/"
        },
        "id": "o5mrUxHPlqgp",
        "outputId": "81a1399f-910c-4eb9-8c99-7bd0dca7f2fa"
      },
      "source": [
        "from sklearn.feature_extraction.text import TfidfVectorizer\n",
        "from sklearn.naive_bayes import MultinomialNB\n",
        "from sklearn.pipeline import Pipeline\n",
        "\n",
        "# Create tokenization and modelling pipeline\n",
        "model_0 = Pipeline([\n",
        "                    (\"tfidf\", TfidfVectorizer()), # convert words to numbers using tfidf\n",
        "                    (\"clf\", MultinomialNB()) # model the text\n",
        "])\n",
        "\n",
        "# Fit the pipeline to the training data\n",
        "model_0.fit(train_sentences, train_labels)"
      ],
      "execution_count": null,
      "outputs": [
        {
          "output_type": "execute_result",
          "data": {
            "text/plain": [
              "Pipeline(memory=None,\n",
              "         steps=[('tfidf',\n",
              "                 TfidfVectorizer(analyzer='word', binary=False,\n",
              "                                 decode_error='strict',\n",
              "                                 dtype=<class 'numpy.float64'>,\n",
              "                                 encoding='utf-8', input='content',\n",
              "                                 lowercase=True, max_df=1.0, max_features=None,\n",
              "                                 min_df=1, ngram_range=(1, 1), norm='l2',\n",
              "                                 preprocessor=None, smooth_idf=True,\n",
              "                                 stop_words=None, strip_accents=None,\n",
              "                                 sublinear_tf=False,\n",
              "                                 token_pattern='(?u)\\\\b\\\\w\\\\w+\\\\b',\n",
              "                                 tokenizer=None, use_idf=True,\n",
              "                                 vocabulary=None)),\n",
              "                ('clf',\n",
              "                 MultinomialNB(alpha=1.0, class_prior=None, fit_prior=True))],\n",
              "         verbose=False)"
            ]
          },
          "metadata": {
            "tags": []
          },
          "execution_count": 23
        }
      ]
    },
    {
      "cell_type": "markdown",
      "metadata": {
        "id": "iUiWWxIJmdji"
      },
      "source": [
        "Lợi ích của việc sử dụng một mô hình nông như Multinomial Naive Bayes là việc huấn luyện diễn ra rất nhanh."
      ]
    },
    {
      "cell_type": "code",
      "metadata": {
        "colab": {
          "base_uri": "https://localhost:8080/"
        },
        "id": "XlHjlLjFcVNb",
        "outputId": "d6144c35-f197-4ca3-dcf1-f0fce00738ef"
      },
      "source": [
        "baseline_score = model_0.score(val_sentences, val_labels)\n",
        "print(f\"Our baseline model achieves an accuracy of: {baseline_score*100:.2f}%\")"
      ],
      "execution_count": null,
      "outputs": [
        {
          "output_type": "stream",
          "text": [
            "Our baseline model achieves an accuracy of: 79.27%\n"
          ],
          "name": "stdout"
        }
      ]
    },
    {
      "cell_type": "code",
      "metadata": {
        "colab": {
          "base_uri": "https://localhost:8080/"
        },
        "id": "QGm8SPg1nFkJ",
        "outputId": "b974b143-3219-4b35-9446-ede433262f46"
      },
      "source": [
        "# Make predictions\n",
        "baseline_preds = model_0.predict(val_sentences)\n",
        "baseline_preds[:20]"
      ],
      "execution_count": null,
      "outputs": [
        {
          "output_type": "execute_result",
          "data": {
            "text/plain": [
              "array([1, 1, 1, 0, 0, 1, 1, 1, 1, 0, 0, 1, 0, 0, 0, 0, 0, 0, 0, 1])"
            ]
          },
          "metadata": {
            "tags": []
          },
          "execution_count": 25
        }
      ]
    },
    {
      "cell_type": "markdown",
      "metadata": {
        "id": "ycP51B_Xnna3"
      },
      "source": [
        "## Tạo chức năng đánh giá cho các thử nghiệm mô hình của chúng ta"
      ]
    },
    {
      "cell_type": "markdown",
      "metadata": {
        "id": "msHBas0onqTv"
      },
      "source": [
        "Để có thể dễ dàng đánh giá kết quả của mô hình, chúng ta sẽ xây dựng hàm trợ giúp lấy một loạt các dự đoán và nhãn sự thật cơ bản và tính toán những điều sau.\n",
        "- Accuracy - độ chính xác.\n",
        "- Precision - tính rõ ràng.\n",
        "- Recall - gọi lại\n",
        "- F1-score - Điểm F1\n",
        "\n",
        "Vì chúng ta đang giải quyết vấn đề phân loại, các số liệu trên là thích hợp nhất. Nếu chúng ta đang làm việc với một vấn đề hồi quy, các số liệu khác như MAE (sai số tuyệt đối có nghĩa là) sẽ là lựa chọn tốt hơn."
      ]
    },
    {
      "cell_type": "code",
      "metadata": {
        "id": "9R7ZApN3n1CX"
      },
      "source": [
        "# Function to evaluate: accuracy, precision, recall, f1-score\n",
        "from sklearn.metrics import accuracy_score, precision_recall_fscore_support\n",
        "\n",
        "def calculate_results(y_true, y_pred):\n",
        "  \"\"\"\n",
        "  Calculates model accuracy, precision, recall and f1 score of a binary classification model.\n",
        "\n",
        "  Args:\n",
        "  -----\n",
        "  y_true = true labels in the form of a 1D array\n",
        "  y_pred = predicted labels in the form of a 1D array\n",
        "\n",
        "  Returns a dictionary of accuracy, precision, recall, f1-score.\n",
        "  \"\"\"\n",
        "  # Calculate model accuracy\n",
        "  model_accuracy = accuracy_score(y_true, y_pred) * 100\n",
        "  # Calculate model precision, recall and f1 score using \"weighted\" average\n",
        "  model_precision, model_recall, model_f1, _ = precision_recall_fscore_support(y_true, y_pred, average=\"weighted\")\n",
        "  model_results = {\"accuracy\": model_accuracy,\n",
        "                  \"precision\": model_precision,\n",
        "                  \"recall\": model_recall,\n",
        "                  \"f1\": model_f1}\n",
        "  return model_results"
      ],
      "execution_count": null,
      "outputs": []
    },
    {
      "cell_type": "code",
      "metadata": {
        "colab": {
          "base_uri": "https://localhost:8080/"
        },
        "id": "4DUb913Tn3Nx",
        "outputId": "2a6b5a91-96df-42ab-f80e-63f6a7becb7e"
      },
      "source": [
        "# Get baseline results\n",
        "baseline_results = calculate_results(y_true=val_labels,\n",
        "                                     y_pred=baseline_preds)\n",
        "baseline_results"
      ],
      "execution_count": null,
      "outputs": [
        {
          "output_type": "execute_result",
          "data": {
            "text/plain": [
              "{'accuracy': 79.26509186351706,\n",
              " 'f1': 0.7862189758049549,\n",
              " 'precision': 0.8111390004213173,\n",
              " 'recall': 0.7926509186351706}"
            ]
          },
          "metadata": {
            "tags": []
          },
          "execution_count": 27
        }
      ]
    },
    {
      "cell_type": "markdown",
      "metadata": {
        "id": "nUXiskHjqP68"
      },
      "source": [
        "## **Model 1: Mô hình Dense đơn giản**"
      ]
    },
    {
      "cell_type": "markdown",
      "metadata": {
        "id": "vFv8fZRgqaVx"
      },
      "source": [
        "Mô hình học sâu đầu tiên mà chúng ta sẽ xây dựng là một mô hình lớp Dense.Nó sẽ lấy văn bản và nhãn của chúng ta làm đầu vào, mã hóa văn bản, tạo nhúng, tìm mức trung bình của việc nhúng (sử dụng GlobalAveragePooling) và sau đó chuyển mức trung bình qua một lớp được kết nối đầy đủ với một đơn vị đầu ra và chức năng kích hoạt sigmoid ."
      ]
    },
    {
      "cell_type": "code",
      "metadata": {
        "id": "wNGLz3warCuy"
      },
      "source": [
        "# Create tensorboard callback (need to create a new one for each model)\n",
        "from helper_functions import create_tensorboard_callback\n",
        "\n",
        "# Create directory to save TensorBoard logs\n",
        "SAVE_DIR = \"model_logs\""
      ],
      "execution_count": null,
      "outputs": []
    },
    {
      "cell_type": "code",
      "metadata": {
        "id": "s8JgUNclrMM6"
      },
      "source": [
        "# Build model with the Functional API\n",
        "from tensorflow.keras import layers\n",
        "# inputs are 1-dimensional strings\n",
        "inputs = layers.Input(shape=(1,), dtype=\"string\") \n",
        "\n",
        "# turn the input text into numbers\n",
        "x = text_vectorizer(inputs) \n",
        "\n",
        "# create an embedding of the numerized numbers\n",
        "x = embedding(x) \n",
        "\n",
        "# lower the dimensionality of the embedding (try running the model without this layer and see what happens)\n",
        "x = layers.GlobalAveragePooling1D()(x)\n",
        "\n",
        "# create the output layer, want binary outputs so use sigmoid activation\n",
        "outputs = layers.Dense(1, activation=\"sigmoid\")(x) \n",
        "# construct the model\n",
        "model_1 = tf.keras.Model(inputs, outputs, name=\"model_1_dense\") "
      ],
      "execution_count": null,
      "outputs": []
    },
    {
      "cell_type": "markdown",
      "metadata": {
        "id": "53IP2vuQrVTI"
      },
      "source": [
        "Mô hình của chúng ta lấy một chuỗi 1 chiều làm đầu vào ( Tweet), sau đó nó mã hóa chuỗi bằng cách sử dụng `text_vectorizer` và tạo một nhúng bằng cách sử dụng `embedding`.Sau đó, chúng ta (tùy chọn) gộp các đầu ra của lớp nhúng để giảm kích thước của tensor mà chúng ta truyền cho lớp đầu ra.Cuối cùng, chúng ta chuyển đầu ra của lớp gộp thành một lớp dày đặc với kích hoạt `sigmoid` ( sử dụng `sigmoid` vì vấn đề là phân loại nhị phân).\n",
        "\n",
        "Trước khi chúng ta có thể điều chỉnh mô hình của mình cho phù hợp với dữ liệu, chúng ta phải biên dịch nó. Vì chúng ta đang làm việc với phân loại nhị phân, chúng ta sẽ sử dụng \"binary_crossentropy\" làm hàm mất mát của chúng ta và trình tối ưu hóa `Adam`."
      ]
    },
    {
      "cell_type": "code",
      "metadata": {
        "id": "Zbg1Sj1lr8_c"
      },
      "source": [
        "# Compile model\n",
        "model_1.compile(loss=\"binary_crossentropy\",\n",
        "                optimizer=tf.keras.optimizers.Adam(),\n",
        "                metrics=[\"accuracy\"])"
      ],
      "execution_count": null,
      "outputs": []
    },
    {
      "cell_type": "code",
      "metadata": {
        "colab": {
          "base_uri": "https://localhost:8080/"
        },
        "id": "GaLezvnAr_8k",
        "outputId": "430d5dd0-53a0-46d7-c1ea-8f440bec7e80"
      },
      "source": [
        "# Get a summary of the model\n",
        "model_1.summary()"
      ],
      "execution_count": null,
      "outputs": [
        {
          "output_type": "stream",
          "text": [
            "Model: \"model_1_dense\"\n",
            "_________________________________________________________________\n",
            "Layer (type)                 Output Shape              Param #   \n",
            "=================================================================\n",
            "input_1 (InputLayer)         [(None, 1)]               0         \n",
            "_________________________________________________________________\n",
            "text_vectorization_1 (TextVe (None, 15)                0         \n",
            "_________________________________________________________________\n",
            "embedding (Embedding)        (None, 15, 128)           1280000   \n",
            "_________________________________________________________________\n",
            "global_average_pooling1d (Gl (None, 128)               0         \n",
            "_________________________________________________________________\n",
            "dense (Dense)                (None, 1)                 129       \n",
            "=================================================================\n",
            "Total params: 1,280,129\n",
            "Trainable params: 1,280,129\n",
            "Non-trainable params: 0\n",
            "_________________________________________________________________\n"
          ],
          "name": "stdout"
        }
      ]
    },
    {
      "cell_type": "markdown",
      "metadata": {
        "id": "H7l7wYgdsigm"
      },
      "source": [
        "Hầu hết các tham số có thể đào tạo được chứa trong lớp nhúng. Nhớ lại, chúng ta đã tạo một nhúng có kích thước 128 (`output_dim = 128`) cho từ vựng có kích thước 10.000 (`input_dim = 10000`), do đó có 1.280.000 tham số có thể đào tạo."
      ]
    },
    {
      "cell_type": "code",
      "metadata": {
        "colab": {
          "base_uri": "https://localhost:8080/"
        },
        "id": "R4d0SkAfs1Y5",
        "outputId": "a3756682-b661-4769-f487-42e432846d29"
      },
      "source": [
        "# Fit the model\n",
        "model_1_history = model_1.fit(train_sentences, # input sentences can be a list of strings due to text preprocessing layer built-in model\n",
        "                              train_labels,\n",
        "                              epochs=5,\n",
        "                              validation_data=(val_sentences, val_labels),\n",
        "                              callbacks=[create_tensorboard_callback(dir_name=SAVE_DIR, \n",
        "                                                                     experiment_name=\"simple_dense_model\")])"
      ],
      "execution_count": null,
      "outputs": [
        {
          "output_type": "stream",
          "text": [
            "Saving TensorBoard log files to: model_logs/simple_dense_model/20210628-160626\n",
            "Epoch 1/5\n",
            "215/215 [==============================] - 7s 17ms/step - loss: 0.6112 - accuracy: 0.6935 - val_loss: 0.5344 - val_accuracy: 0.7585\n",
            "Epoch 2/5\n",
            "215/215 [==============================] - 3s 14ms/step - loss: 0.4409 - accuracy: 0.8173 - val_loss: 0.4688 - val_accuracy: 0.7861\n",
            "Epoch 3/5\n",
            "215/215 [==============================] - 3s 15ms/step - loss: 0.3468 - accuracy: 0.8605 - val_loss: 0.4586 - val_accuracy: 0.7940\n",
            "Epoch 4/5\n",
            "215/215 [==============================] - 3s 14ms/step - loss: 0.2840 - accuracy: 0.8910 - val_loss: 0.4623 - val_accuracy: 0.7822\n",
            "Epoch 5/5\n",
            "215/215 [==============================] - 3s 14ms/step - loss: 0.2372 - accuracy: 0.9120 - val_loss: 0.4889 - val_accuracy: 0.7940\n"
          ],
          "name": "stdout"
        }
      ]
    },
    {
      "cell_type": "code",
      "metadata": {
        "colab": {
          "base_uri": "https://localhost:8080/"
        },
        "id": "0V377hdQtNFD",
        "outputId": "a03350b6-784b-46de-91b5-109ecd847086"
      },
      "source": [
        "# Check the results\n",
        "model_1.evaluate(val_sentences, val_labels)"
      ],
      "execution_count": null,
      "outputs": [
        {
          "output_type": "stream",
          "text": [
            "24/24 [==============================] - 0s 3ms/step - loss: 0.4889 - accuracy: 0.7940\n"
          ],
          "name": "stdout"
        },
        {
          "output_type": "execute_result",
          "data": {
            "text/plain": [
              "[0.4889355003833771, 0.7939632534980774]"
            ]
          },
          "metadata": {
            "tags": []
          },
          "execution_count": 33
        }
      ]
    },
    {
      "cell_type": "code",
      "metadata": {
        "colab": {
          "base_uri": "https://localhost:8080/"
        },
        "id": "B9jweUmWt_P0",
        "outputId": "2f3f3e83-69d5-4489-baae-dbba5801303a"
      },
      "source": [
        "# # View tensorboard logs of transfer learning modelling experiments (should be 4 models)\n",
        "# # Upload TensorBoard dev records\n",
        "!tensorboard dev upload --logdir ./model_logs \\\n",
        "  --name \"First deep model on text data\" \\\n",
        "     --description \"Trying a dense model with an embedding layer\" \\\n",
        "  --one_shot # exits the uploader when upload has finished"
      ],
      "execution_count": null,
      "outputs": [
        {
          "output_type": "stream",
          "text": [
            "2021-06-28 16:06:47.892829: I tensorflow/stream_executor/platform/default/dso_loader.cc:53] Successfully opened dynamic library libcudart.so.11.0\n",
            "\n",
            "***** TensorBoard Uploader *****\n",
            "\n",
            "This will upload your TensorBoard logs to https://tensorboard.dev/ from\n",
            "the following directory:\n",
            "\n",
            "./model_logs\n",
            "\n",
            "This TensorBoard will be visible to everyone. Do not upload sensitive\n",
            "data.\n",
            "\n",
            "Your use of this service is subject to Google's Terms of Service\n",
            "<https://policies.google.com/terms> and Privacy Policy\n",
            "<https://policies.google.com/privacy>, and TensorBoard.dev's Terms of Service\n",
            "<https://tensorboard.dev/policy/terms/>.\n",
            "\n",
            "This notice will not be shown again while you are logged into the uploader.\n",
            "To log out, run `tensorboard dev auth revoke`.\n",
            "\n",
            "Continue? (yes/NO) NO\n"
          ],
          "name": "stdout"
        }
      ]
    },
    {
      "cell_type": "code",
      "metadata": {
        "colab": {
          "base_uri": "https://localhost:8080/"
        },
        "id": "7I66SomuxCSU",
        "outputId": "296aa735-cb99-4e72-e4a6-95b1fb350b8c"
      },
      "source": [
        "# Make predictions (these come back in the form of probabilities)\n",
        "model_1_pred_probs = model_1.predict(val_sentences)\n",
        "model_1_pred_probs[:10] # only print out the first 10 prediction probabilities"
      ],
      "execution_count": null,
      "outputs": [
        {
          "output_type": "execute_result",
          "data": {
            "text/plain": [
              "array([[0.25246558],\n",
              "       [0.801432  ],\n",
              "       [0.99802905],\n",
              "       [0.09998302],\n",
              "       [0.10098734],\n",
              "       [0.9284608 ],\n",
              "       [0.90893734],\n",
              "       [0.99403137],\n",
              "       [0.9629521 ],\n",
              "       [0.24785067]], dtype=float32)"
            ]
          },
          "metadata": {
            "tags": []
          },
          "execution_count": 35
        }
      ]
    },
    {
      "cell_type": "markdown",
      "metadata": {
        "id": "-97N5VTvzi3J"
      },
      "source": [
        "Vì lớp cuối cùng của chúng ta sử dụng chức năng kích hoạt `sigmoid`, chúng ta lấy lại các dự đoán của mình dưới dạng xác suất.Để chuyển đổi chúng thành các lớp dự đoán, chúng tôi sẽ sử dụng tf.round (), nghĩa là xác suất dự đoán dưới 0,5 sẽ được làm tròn thành 0 và những xác suất trên 0,5 sẽ được làm tròn thành 1.\n",
        "\n"
      ]
    },
    {
      "cell_type": "code",
      "metadata": {
        "colab": {
          "base_uri": "https://localhost:8080/"
        },
        "id": "mOcVbQgHz5f0",
        "outputId": "587c37e8-4dca-40e7-d7d9-a32653c0ec7c"
      },
      "source": [
        "# Turn prediction probabilities into single-dimension tensor of floats\n",
        "model_1_preds = tf.squeeze(tf.round(model_1_pred_probs)) # squeeze removes single dimensions\n",
        "model_1_preds[:20]"
      ],
      "execution_count": null,
      "outputs": [
        {
          "output_type": "execute_result",
          "data": {
            "text/plain": [
              "<tf.Tensor: shape=(20,), dtype=float32, numpy=\n",
              "array([0., 1., 1., 0., 0., 1., 1., 1., 1., 0., 0., 1., 0., 0., 0., 0., 0.,\n",
              "       0., 0., 0.], dtype=float32)>"
            ]
          },
          "metadata": {
            "tags": []
          },
          "execution_count": 36
        }
      ]
    },
    {
      "cell_type": "code",
      "metadata": {
        "colab": {
          "base_uri": "https://localhost:8080/"
        },
        "id": "MlGVZNpC0yMh",
        "outputId": "e4354ba3-e584-428b-e354-244f626534cd"
      },
      "source": [
        "# Calculate model_1 metrics\n",
        "model_1_results = calculate_results(y_true=val_labels, \n",
        "                                    y_pred=model_1_preds)\n",
        "model_1_results"
      ],
      "execution_count": null,
      "outputs": [
        {
          "output_type": "execute_result",
          "data": {
            "text/plain": [
              "{'accuracy': 79.39632545931758,\n",
              " 'f1': 0.7899134672804106,\n",
              " 'precision': 0.8031272377768599,\n",
              " 'recall': 0.7939632545931758}"
            ]
          },
          "metadata": {
            "tags": []
          },
          "execution_count": 37
        }
      ]
    },
    {
      "cell_type": "code",
      "metadata": {
        "colab": {
          "base_uri": "https://localhost:8080/"
        },
        "id": "pqfDwQbA031n",
        "outputId": "53ad7b3d-2e2b-4696-f698-e2c3c0be4689"
      },
      "source": [
        "# Is our simple Keras model better than our baseline model?\n",
        "import numpy as np\n",
        "np.array(list(model_1_results.values())) > np.array(list(baseline_results.values()))"
      ],
      "execution_count": null,
      "outputs": [
        {
          "output_type": "execute_result",
          "data": {
            "text/plain": [
              "array([ True, False,  True,  True])"
            ]
          },
          "metadata": {
            "tags": []
          },
          "execution_count": 38
        }
      ]
    },
    {
      "cell_type": "code",
      "metadata": {
        "colab": {
          "base_uri": "https://localhost:8080/"
        },
        "id": "tcF9QoOu1CFE",
        "outputId": "f4be0fe9-9f6b-4e33-dc6a-371a8d38b7e8"
      },
      "source": [
        "# Create a helper function to compare our baseline results to new model results\n",
        "def compare_baseline_to_new_results(baseline_results, new_model_results):\n",
        "  for key, value in baseline_results.items():\n",
        "    print(f\"Baseline {key}: {value:.2f}, New {key}: {new_model_results[key]:.2f}, Difference: {new_model_results[key]-value:.2f}\")\n",
        "\n",
        "compare_baseline_to_new_results(baseline_results=baseline_results, \n",
        "                                new_model_results=model_1_results)"
      ],
      "execution_count": null,
      "outputs": [
        {
          "output_type": "stream",
          "text": [
            "Baseline accuracy: 79.27, New accuracy: 79.40, Difference: 0.13\n",
            "Baseline precision: 0.81, New precision: 0.80, Difference: -0.01\n",
            "Baseline recall: 0.79, New recall: 0.79, Difference: 0.00\n",
            "Baseline f1: 0.79, New f1: 0.79, Difference: 0.00\n"
          ],
          "name": "stdout"
        }
      ]
    },
    {
      "cell_type": "code",
      "metadata": {
        "id": "OS7nSxuj2rzS"
      },
      "source": [
        ""
      ],
      "execution_count": null,
      "outputs": []
    },
    {
      "cell_type": "markdown",
      "metadata": {
        "id": "4dslRt9Y2spH"
      },
      "source": [
        "## Trực quan hóa quá trình học nhúng"
      ]
    },
    {
      "cell_type": "markdown",
      "metadata": {
        "id": "iS2z86Ye21EK"
      },
      "source": [
        "Mô hình đầu tiên của chúng ta (model_1) chứa một lớp nhúng (embedding) đã học được cách biểu diễn các từ dưới dạng vectơ đặc trưng bằng cách chuyển qua dữ liệu đào tạo.để dễ hình dung chúng ta sẽ đi trực quan hóa quá trình học nhúng đó. Để làm vậy, chúng ta sẽ sử dụng công cụ `Embedding Projector` với hai thông số là số lượng từ vựng và kích thước đầu ra của lớp nhúng."
      ]
    },
    {
      "cell_type": "code",
      "metadata": {
        "colab": {
          "base_uri": "https://localhost:8080/"
        },
        "id": "GNENF7Sc3SVF",
        "outputId": "9b5a278d-639a-49e7-940c-1448b32d6687"
      },
      "source": [
        "# Get the vocabulary from the text vectorization layer\n",
        "words_in_vocab = text_vectorizer.get_vocabulary()\n",
        "len(words_in_vocab), words_in_vocab[:10]"
      ],
      "execution_count": null,
      "outputs": [
        {
          "output_type": "execute_result",
          "data": {
            "text/plain": [
              "(10000, ['', '[UNK]', 'the', 'a', 'in', 'to', 'of', 'and', 'i', 'is'])"
            ]
          },
          "metadata": {
            "tags": []
          },
          "execution_count": 40
        }
      ]
    },
    {
      "cell_type": "code",
      "metadata": {
        "colab": {
          "base_uri": "https://localhost:8080/"
        },
        "id": "seAxgzwGElLG",
        "outputId": "f5297609-6457-4124-f19b-5b54b0136ea1"
      },
      "source": [
        "# Get the weight matrix of embedding layer \n",
        "# (these are the numerical patterns between the text in the training dataset the model has learned)\n",
        "embed_weights = model_1.get_layer(\"embedding\").get_weights()[0]\n",
        "# same size as vocab size and embedding_dim (each word is a embedding_dim size vector)\n",
        "print(embed_weights.shape) "
      ],
      "execution_count": null,
      "outputs": [
        {
          "output_type": "stream",
          "text": [
            "(10000, 128)\n"
          ],
          "name": "stdout"
        }
      ]
    },
    {
      "cell_type": "code",
      "metadata": {
        "colab": {
          "base_uri": "https://localhost:8080/"
        },
        "id": "C4lGxG6aDgbi",
        "outputId": "a7bee1af-ae51-4659-e320-400d4dd586ce"
      },
      "source": [
        " # Code below is adapted from: https://www.tensorflow.org/tutorials/text/word_embeddings#retrieve_the_trained_word_embeddings_and_save_them_to_disk\n",
        " import io\n",
        "\n",
        " # Create output writers\n",
        " out_v = io.open(\"embedding_vectors.tsv\", \"w\", encoding=\"utf-8\")\n",
        " out_m = io.open(\"embedding_metadata.tsv\", \"w\", encoding=\"utf-8\")\n",
        "\n",
        " # Write embedding vectors and words to file\n",
        "for num, word in enumerate(words_in_vocab):\n",
        "   if num == 0: \n",
        "      continue # skip padding token\n",
        "   vec = embed_weights[num]\n",
        "   out_m.write(word + \"\\n\") # write words to file\n",
        "   out_v.write(\"\\t\".join([str(x) for x in vec]) + \"\\n\") # write corresponding word vector to file\n",
        "out_v.close()\n",
        "out_m.close()\n",
        "\n",
        " # Download files locally to upload to Embedding Projector\n",
        "try:\n",
        "   from google.colab import files\n",
        "except ImportError:\n",
        "   pass\n",
        "else:\n",
        "   files.download(\"embedding_vectors.tsv\")\n",
        "   files.download(\"embedding_metadata.tsv\")"
      ],
      "execution_count": null,
      "outputs": [
        {
          "output_type": "display_data",
          "data": {
            "application/javascript": [
              "\n",
              "    async function download(id, filename, size) {\n",
              "      if (!google.colab.kernel.accessAllowed) {\n",
              "        return;\n",
              "      }\n",
              "      const div = document.createElement('div');\n",
              "      const label = document.createElement('label');\n",
              "      label.textContent = `Downloading \"${filename}\": `;\n",
              "      div.appendChild(label);\n",
              "      const progress = document.createElement('progress');\n",
              "      progress.max = size;\n",
              "      div.appendChild(progress);\n",
              "      document.body.appendChild(div);\n",
              "\n",
              "      const buffers = [];\n",
              "      let downloaded = 0;\n",
              "\n",
              "      const channel = await google.colab.kernel.comms.open(id);\n",
              "      // Send a message to notify the kernel that we're ready.\n",
              "      channel.send({})\n",
              "\n",
              "      for await (const message of channel.messages) {\n",
              "        // Send a message to notify the kernel that we're ready.\n",
              "        channel.send({})\n",
              "        if (message.buffers) {\n",
              "          for (const buffer of message.buffers) {\n",
              "            buffers.push(buffer);\n",
              "            downloaded += buffer.byteLength;\n",
              "            progress.value = downloaded;\n",
              "          }\n",
              "        }\n",
              "      }\n",
              "      const blob = new Blob(buffers, {type: 'application/binary'});\n",
              "      const a = document.createElement('a');\n",
              "      a.href = window.URL.createObjectURL(blob);\n",
              "      a.download = filename;\n",
              "      div.appendChild(a);\n",
              "      a.click();\n",
              "      div.remove();\n",
              "    }\n",
              "  "
            ],
            "text/plain": [
              "<IPython.core.display.Javascript object>"
            ]
          },
          "metadata": {
            "tags": []
          }
        },
        {
          "output_type": "display_data",
          "data": {
            "application/javascript": [
              "download(\"download_d80949cd-c47a-4a38-aecd-ca7c39602ed7\", \"embedding_vectors.tsv\", 15380150)"
            ],
            "text/plain": [
              "<IPython.core.display.Javascript object>"
            ]
          },
          "metadata": {
            "tags": []
          }
        },
        {
          "output_type": "display_data",
          "data": {
            "application/javascript": [
              "\n",
              "    async function download(id, filename, size) {\n",
              "      if (!google.colab.kernel.accessAllowed) {\n",
              "        return;\n",
              "      }\n",
              "      const div = document.createElement('div');\n",
              "      const label = document.createElement('label');\n",
              "      label.textContent = `Downloading \"${filename}\": `;\n",
              "      div.appendChild(label);\n",
              "      const progress = document.createElement('progress');\n",
              "      progress.max = size;\n",
              "      div.appendChild(progress);\n",
              "      document.body.appendChild(div);\n",
              "\n",
              "      const buffers = [];\n",
              "      let downloaded = 0;\n",
              "\n",
              "      const channel = await google.colab.kernel.comms.open(id);\n",
              "      // Send a message to notify the kernel that we're ready.\n",
              "      channel.send({})\n",
              "\n",
              "      for await (const message of channel.messages) {\n",
              "        // Send a message to notify the kernel that we're ready.\n",
              "        channel.send({})\n",
              "        if (message.buffers) {\n",
              "          for (const buffer of message.buffers) {\n",
              "            buffers.push(buffer);\n",
              "            downloaded += buffer.byteLength;\n",
              "            progress.value = downloaded;\n",
              "          }\n",
              "        }\n",
              "      }\n",
              "      const blob = new Blob(buffers, {type: 'application/binary'});\n",
              "      const a = document.createElement('a');\n",
              "      a.href = window.URL.createObjectURL(blob);\n",
              "      a.download = filename;\n",
              "      div.appendChild(a);\n",
              "      a.click();\n",
              "      div.remove();\n",
              "    }\n",
              "  "
            ],
            "text/plain": [
              "<IPython.core.display.Javascript object>"
            ]
          },
          "metadata": {
            "tags": []
          }
        },
        {
          "output_type": "display_data",
          "data": {
            "application/javascript": [
              "download(\"download_901cfe6e-4e7e-4990-84be-b72540558ab8\", \"embedding_metadata.tsv\", 80388)"
            ],
            "text/plain": [
              "<IPython.core.display.Javascript object>"
            ]
          },
          "metadata": {
            "tags": []
          }
        }
      ]
    },
    {
      "cell_type": "markdown",
      "metadata": {
        "id": "wEQy0d8_FN2N"
      },
      "source": [
        "## **Recurrent Neural Networks (RNN's)**\n"
      ]
    },
    {
      "cell_type": "markdown",
      "metadata": {
        "id": "kIq5VkQ_FSro"
      },
      "source": [
        "Đối với loạt thử nghiệm mô hình hóa tiếp theo, chúng ta sẽ sử dụng một loại mạng nơ-ron đặc biệt được gọi là Mạng nơ-ron tuần hoàn (RNN).\n",
        "\n",
        "Tiền đề của một RNN rất đơn giản: sử dụng thông tin từ quá khứ để giúp bạn trong tương lai (đây là nguồn gốc của thuật ngữ lặp lại). Nói cách khác, lấy một đầu vào (`X`) và tính toán một đầu ra (`y`) dựa trên tất cả các đầu vào trước đó.Khái niệm này đặc biệt hữu ích khi xử lý các chuỗi như các đoạn văn bản ngôn ngữ tự nhiên (chẳng hạn như Tweet).\n",
        "\n",
        "Khi một RNN xem xét một chuỗi văn bản (đã ở dạng số), các mẫu nó học được liên tục cập nhật dựa trên thứ tự của chuỗi.Đối với một ví dụ đơn giản, hãy lấy hai câu:\n",
        "1. Massive earthquake last week, no?\n",
        "2. No massive earthquake last week.\n",
        "\n",
        "Cả hai đều chứa những từ giống hệt nhau nhưng có nghĩa khác nhau. Thứ tự của các từ quyết định ý nghĩa (người ta có thể tranh luận các dấu câu cũng quyết định ý nghĩa nhưng vì đơn giản, chúng ta hãy tập trung vào các từ).\n",
        "\n",
        "Mạng nơron lặp lại có thể được sử dụng cho một số vấn đề dựa trên trình tự:\n",
        "- **One to One** - một đầu vào, một đầu ra, chẳng hạn như phân loại hình ảnh.\n",
        "- **One to many** - một đầu vào, nhiều đầu ra, chẳng hạn như chú thích hình ảnh (đầu vào hình ảnh, một chuỗi văn bản làm đầu ra phụ đề).\n",
        "- **Many to one** - nhiều đầu vào, một đầu ra, chẳng hạn như phân loại văn bản (phân loại một Tweet là thảm họa thực sự hoặc không phải thảm họa thực sự).\n",
        "- **Many to many** - nhiều đầu vào, nhiều đầu ra, chẳng hạn như dịch máy (dịch tiếng Anh sang tiếng Việt) hoặc lời nói thành văn bản (sóng âm thanh làm đầu vào, văn bản dưới dạng đầu ra).\n",
        "\n",
        "Trong thực tế, chúng ta thường gặp các biến thể của RNN's:\n",
        "- Các ô nhớ ngắn hạn dài hạn (LSTMs)\n",
        "- Đơn vị định kỳ được xác định (GRUs)\n",
        "- RNN's hai chiều ( duyệt chuỗi theo 2 chiều, từ trái sang phải và từ phải sang trái)\n",
        "\n"
      ]
    },
    {
      "cell_type": "markdown",
      "metadata": {
        "id": "7ca_Tj3dOnna"
      },
      "source": [
        "## **Model 2: LSTM**"
      ]
    },
    {
      "cell_type": "markdown",
      "metadata": {
        "id": "G87WO5PqOsAp"
      },
      "source": [
        "Mạng bộ nhớ dài-ngắn (Long Short Term Memory networks), thường được gọi là LSTM - là một dạng đặc biệt của RNN, nó có khả năng học được các phụ thuộc xa. LSTM được giới thiệu bởi Hochreiter & Schmidhuber (1997), và sau đó đã được cải tiến và phổ biến bởi rất nhiều người trong ngành. Chúng hoạt động cực kì hiệu quả trên nhiều bài toán khác nhau nên dần đã trở nên phổ biến như hiện nay.\n",
        "\n",
        "LSTM được thiết kế để tránh được vấn đề phụ thuộc xa (long-term dependency). Việc nhớ thông tin trong suốt thời gian dài là đặc tính mặc định của chúng, chứ ta không cần phải huấn luyện nó để có thể nhớ được. Tức là ngay nội tại của nó đã có thể ghi nhớ được mà không cần bất kì can thiệp nào.\n",
        "\n",
        "Để khai thác sức mạnh của ô LSTM (ô LSTM và lớp LSTM thường được sử dụng thay thế cho nhau) trong TensorFlow, chúng ta sẽ sử dụng tensorflow.keras.layers.LSTM ().\n",
        "\n",
        "Mô hình của chúng ta sẽ có cấu trúc rất giống với model_1:\n",
        "```\n",
        "Input (text) -> Tokenize -> Embedding -> Layers -> Output (label probability)\n",
        "```\n",
        "Sự khác biệt chính là chúng ta sẽ thêm một lớp LSTM giữa nhúng và đầu ra."
      ]
    },
    {
      "cell_type": "code",
      "metadata": {
        "colab": {
          "base_uri": "https://localhost:8080/"
        },
        "id": "lgwMPYO0OwZt",
        "outputId": "287cb684-3002-4a0f-80cf-99194b530251"
      },
      "source": [
        "# Create LSTM model\n",
        "from tensorflow.keras import layers\n",
        "inputs = layers.Input(shape=(1,), dtype=\"string\")\n",
        "x = text_vectorizer(inputs)\n",
        "x = embedding(x)\n",
        "print(x.shape)\n",
        "# x = layers.LSTM(64, return_sequences=True)(x) # return vector for each word in the Tweet (you can stack RNN cells as long as return_sequences=True)\n",
        "x = layers.LSTM(64)(x) # return vector for whole sequence\n",
        "print(x.shape)\n",
        "# x = layers.Dense(64, activation=\"relu\")(x) # optional dense layer on top of output of LSTM cell\n",
        "outputs = layers.Dense(1, activation=\"sigmoid\")(x)\n",
        "model_2 = tf.keras.Model(inputs, outputs, name=\"model_2_LSTM\")"
      ],
      "execution_count": null,
      "outputs": [
        {
          "output_type": "stream",
          "text": [
            "(None, 15, 128)\n",
            "(None, 64)\n"
          ],
          "name": "stdout"
        }
      ]
    },
    {
      "cell_type": "code",
      "metadata": {
        "id": "pwbP6NyaTNfC"
      },
      "source": [
        "# Compile model\n",
        "model_2.compile(loss=\"binary_crossentropy\",\n",
        "                optimizer=tf.keras.optimizers.Adam(),\n",
        "                metrics=[\"accuracy\"])"
      ],
      "execution_count": null,
      "outputs": []
    },
    {
      "cell_type": "code",
      "metadata": {
        "colab": {
          "base_uri": "https://localhost:8080/"
        },
        "id": "Rbj677-EXjk7",
        "outputId": "2da3f460-c802-4cb4-a066-763d6fb7d7ea"
      },
      "source": [
        "model_2.summary()"
      ],
      "execution_count": null,
      "outputs": [
        {
          "output_type": "stream",
          "text": [
            "Model: \"model_2_LSTM\"\n",
            "_________________________________________________________________\n",
            "Layer (type)                 Output Shape              Param #   \n",
            "=================================================================\n",
            "input_2 (InputLayer)         [(None, 1)]               0         \n",
            "_________________________________________________________________\n",
            "text_vectorization_1 (TextVe (None, 15)                0         \n",
            "_________________________________________________________________\n",
            "embedding (Embedding)        (None, 15, 128)           1280000   \n",
            "_________________________________________________________________\n",
            "lstm (LSTM)                  (None, 64)                49408     \n",
            "_________________________________________________________________\n",
            "dense_1 (Dense)              (None, 1)                 65        \n",
            "=================================================================\n",
            "Total params: 1,329,473\n",
            "Trainable params: 1,329,473\n",
            "Non-trainable params: 0\n",
            "_________________________________________________________________\n"
          ],
          "name": "stdout"
        }
      ]
    },
    {
      "cell_type": "code",
      "metadata": {
        "colab": {
          "base_uri": "https://localhost:8080/"
        },
        "id": "cumBtBgJTit5",
        "outputId": "77c431fb-ce07-4c03-a947-2c8cb4e566b4"
      },
      "source": [
        "# Fit model\n",
        "model_2_history = model_2.fit(train_sentences,\n",
        "                              train_labels,\n",
        "                              epochs=5,\n",
        "                              validation_data=(val_sentences, val_labels),\n",
        "                              callbacks=[create_tensorboard_callback(SAVE_DIR, \n",
        "                                                                     \"LSTM\")])"
      ],
      "execution_count": null,
      "outputs": [
        {
          "output_type": "stream",
          "text": [
            "Saving TensorBoard log files to: model_logs/LSTM/20210628-160655\n",
            "Epoch 1/5\n",
            "215/215 [==============================] - 10s 22ms/step - loss: 0.2236 - accuracy: 0.9184 - val_loss: 0.5742 - val_accuracy: 0.7822\n",
            "Epoch 2/5\n",
            "215/215 [==============================] - 4s 16ms/step - loss: 0.1554 - accuracy: 0.9413 - val_loss: 0.6619 - val_accuracy: 0.7664\n",
            "Epoch 3/5\n",
            "215/215 [==============================] - 4s 16ms/step - loss: 0.1300 - accuracy: 0.9501 - val_loss: 0.6570 - val_accuracy: 0.7808\n",
            "Epoch 4/5\n",
            "215/215 [==============================] - 3s 16ms/step - loss: 0.1043 - accuracy: 0.9596 - val_loss: 0.7522 - val_accuracy: 0.7769\n",
            "Epoch 5/5\n",
            "215/215 [==============================] - 3s 16ms/step - loss: 0.0807 - accuracy: 0.9676 - val_loss: 0.9149 - val_accuracy: 0.7795\n"
          ],
          "name": "stdout"
        }
      ]
    },
    {
      "cell_type": "code",
      "metadata": {
        "id": "0LU3Mji5T2U9"
      },
      "source": [
        "from helper_functions import plot_loss_curves"
      ],
      "execution_count": null,
      "outputs": []
    },
    {
      "cell_type": "code",
      "metadata": {
        "colab": {
          "base_uri": "https://localhost:8080/",
          "height": 573
        },
        "id": "AShfeQPhT7Ap",
        "outputId": "cc70d30c-d8bf-48ab-a8e6-89e8d246d0a3"
      },
      "source": [
        "plot_loss_curves(model_2_history)"
      ],
      "execution_count": null,
      "outputs": [
        {
          "output_type": "display_data",
          "data": {
            "image/png": "[encoded data removed]",
            "text/plain": [
              "<Figure size 432x288 with 1 Axes>"
            ]
          },
          "metadata": {
            "tags": [],
            "needs_background": "light"
          }
        },
        {
          "output_type": "display_data",
          "data": {
            "image/png": "[encoded data removed]",
            "text/plain": [
              "<Figure size 432x288 with 1 Axes>"
            ]
          },
          "metadata": {
            "tags": [],
            "needs_background": "light"
          }
        }
      ]
    },
    {
      "cell_type": "markdown",
      "metadata": {
        "id": "Qs3ppDcMUOoA"
      },
      "source": [
        "Chúng ta đã có mô hình RNN được đào tạo đầu tiên sử dụng các ô LSTM. Hãy đưa ra một số dự đoán với nó.Điều tương tự sẽ xảy ra như trước đây, do hàm kích hoạt `sigmoid` trong lớp cuối cùng, khi chúng ta gọi phương thức `predict()` trên mô hình của mình, nó sẽ trả về xác suất dự đoán thay vì các lớp."
      ]
    },
    {
      "cell_type": "code",
      "metadata": {
        "colab": {
          "base_uri": "https://localhost:8080/"
        },
        "id": "wVlz0RNjUcTK",
        "outputId": "1e881d8f-6560-4a73-d44a-f63766898ad0"
      },
      "source": [
        "model_2_pred_probs = model_2.predict(val_sentences)\n",
        "model_2_pred_probs.shape, model_2_pred_probs[:10]"
      ],
      "execution_count": null,
      "outputs": [
        {
          "output_type": "execute_result",
          "data": {
            "text/plain": [
              "((762, 1), array([[3.7907854e-02],\n",
              "        [6.6081131e-01],\n",
              "        [9.9963570e-01],\n",
              "        [6.1096571e-02],\n",
              "        [3.1612421e-04],\n",
              "        [9.9823904e-01],\n",
              "        [5.3959686e-01],\n",
              "        [9.9988639e-01],\n",
              "        [9.9980181e-01],\n",
              "        [3.9663017e-01]], dtype=float32))"
            ]
          },
          "metadata": {
            "tags": []
          },
          "execution_count": 49
        }
      ]
    },
    {
      "cell_type": "markdown",
      "metadata": {
        "id": "G1gQFI2pUicX"
      },
      "source": [
        "Chúng ta có thể biến các xác suất dự đoán này thành các lớp dự đoán bằng cách làm tròn đến số nguyên gần nhất (theo mặc định, các xác suất dự đoán dưới 0,5 sẽ thành 0 và những xác suất trên 0,5 sẽ thành 1)"
      ]
    },
    {
      "cell_type": "code",
      "metadata": {
        "colab": {
          "base_uri": "https://localhost:8080/"
        },
        "id": "sCRYRXPPUi9S",
        "outputId": "c7661ee6-7424-4ca6-e24f-f9fc2dbdaad5"
      },
      "source": [
        "# Round out predictions and reduce to 1-dimensional array\n",
        "model_2_preds = tf.squeeze(tf.round(model_2_pred_probs))\n",
        "model_2_preds[:10]"
      ],
      "execution_count": null,
      "outputs": [
        {
          "output_type": "execute_result",
          "data": {
            "text/plain": [
              "<tf.Tensor: shape=(10,), dtype=float32, numpy=array([0., 1., 1., 0., 0., 1., 1., 1., 1., 0.], dtype=float32)>"
            ]
          },
          "metadata": {
            "tags": []
          },
          "execution_count": 50
        }
      ]
    },
    {
      "cell_type": "markdown",
      "metadata": {
        "id": "J_US7wNoWbAr"
      },
      "source": [
        "Tuyệt vời, bây giờ chúng ta hãy sử dụng hàm `caculate_results()` để đánh giá mô hình LSTM của chúng ta và hàm `Compare_baseline_to_new_results()` để so sánh nó với mô hình cơ sở."
      ]
    },
    {
      "cell_type": "code",
      "metadata": {
        "colab": {
          "base_uri": "https://localhost:8080/"
        },
        "id": "remmgeUKUm57",
        "outputId": "e0510215-9518-4928-df8d-995425e6d83c"
      },
      "source": [
        "# Calculate LSTM model results\n",
        "model_2_results = calculate_results(y_true=val_labels,\n",
        "                                    y_pred=model_2_preds)\n",
        "model_2_results"
      ],
      "execution_count": null,
      "outputs": [
        {
          "output_type": "execute_result",
          "data": {
            "text/plain": [
              "{'accuracy': 77.95275590551181,\n",
              " 'f1': 0.776722451043917,\n",
              " 'precision': 0.7833144267983451,\n",
              " 'recall': 0.7795275590551181}"
            ]
          },
          "metadata": {
            "tags": []
          },
          "execution_count": 51
        }
      ]
    },
    {
      "cell_type": "code",
      "metadata": {
        "colab": {
          "base_uri": "https://localhost:8080/"
        },
        "id": "8nHADrtAUpbg",
        "outputId": "59b2e79b-a661-4def-8d1a-61991a5a1334"
      },
      "source": [
        "# Compare model 2 to baseline\n",
        "compare_baseline_to_new_results(baseline_results, model_2_results)"
      ],
      "execution_count": null,
      "outputs": [
        {
          "output_type": "stream",
          "text": [
            "Baseline accuracy: 79.27, New accuracy: 77.95, Difference: -1.31\n",
            "Baseline precision: 0.81, New precision: 0.78, Difference: -0.03\n",
            "Baseline recall: 0.79, New recall: 0.78, Difference: -0.01\n",
            "Baseline f1: 0.79, New f1: 0.78, Difference: -0.01\n"
          ],
          "name": "stdout"
        }
      ]
    },
    {
      "cell_type": "markdown",
      "metadata": {
        "id": "NRutmz7BWhgy"
      },
      "source": [
        "## **Model 3: GRU**"
      ]
    },
    {
      "cell_type": "markdown",
      "metadata": {
        "id": "kLCTaO73WkRQ"
      },
      "source": [
        "Các đơn vị định kỳ xác định (GRU) là một cơ chế định kỳ trong mạng nơ-ron định kỳ, được giới thiệu vào năm 2014 bởi Kyunghyun Cho và cộng sự.GRU giống như một bộ nhớ ngắn hạn dài (LSTM) có cổng quên, nhưng có ít tham số hơn LSTM, vì nó thiếu cổng ra. Hiệu suất của GRU trong một số nhiệm vụ về mô hình âm nhạc đa âm, mô hình tín hiệu giọng nói và xử lý ngôn ngữ tự nhiên được nhận thấy là tương tự như của LSTM.GRU đã được chứng minh là có hiệu suất tốt hơn trên một số tập dữ liệu nhỏ hơn và ít thường xuyên hơn.\n",
        "\n",
        "Để sử dụng ô GRU trong TensorFlow, chúng ta có thể gọi lớp `tensorflow.keras.layers.GRU()`.\n",
        "\n",
        "Kiến trúc của mô hình do GRU cung cấp sẽ tuân theo cùng một cấu trúc mà chúng ta đã sử dụng:\n",
        "```\n",
        "Input (text) -> Tokenize -> Embedding -> Layers -> Output (label probability)\n",
        "```\n"
      ]
    },
    {
      "cell_type": "code",
      "metadata": {
        "id": "7ZHfvXYxXU6K"
      },
      "source": [
        "# Build an RNN using the GRU cell\n",
        "from tensorflow.keras import layers\n",
        "inputs = layers.Input(shape=(1,), dtype=\"string\")\n",
        "x = text_vectorizer(inputs)\n",
        "x = embedding(x)\n",
        "# x = layers.GRU(64, return_sequences=True) # stacking recurrent cells requires return_sequences=True\n",
        "x = layers.GRU(64)(x) \n",
        "# x = layers.Dense(64, activation=\"relu\")(x) # optional dense layer after GRU cell\n",
        "outputs = layers.Dense(1, activation=\"sigmoid\")(x)\n",
        "model_3 = tf.keras.Model(inputs, outputs, name=\"model_3_GRU\")"
      ],
      "execution_count": null,
      "outputs": []
    },
    {
      "cell_type": "code",
      "metadata": {
        "id": "9pp5QhyZXZuy"
      },
      "source": [
        "# Compile GRU model\n",
        "model_3.compile(loss=\"binary_crossentropy\",\n",
        "                optimizer=tf.keras.optimizers.Adam(),\n",
        "                metrics=[\"accuracy\"])"
      ],
      "execution_count": null,
      "outputs": []
    },
    {
      "cell_type": "code",
      "metadata": {
        "colab": {
          "base_uri": "https://localhost:8080/"
        },
        "id": "d1OQiUjtXcZO",
        "outputId": "e2301fbb-99ec-46ac-9af8-bd5b8e5a4fc1"
      },
      "source": [
        "# Get a summary of the GRU model\n",
        "model_3.summary()"
      ],
      "execution_count": null,
      "outputs": [
        {
          "output_type": "stream",
          "text": [
            "Model: \"model_3_GRU\"\n",
            "_________________________________________________________________\n",
            "Layer (type)                 Output Shape              Param #   \n",
            "=================================================================\n",
            "input_3 (InputLayer)         [(None, 1)]               0         \n",
            "_________________________________________________________________\n",
            "text_vectorization_1 (TextVe (None, 15)                0         \n",
            "_________________________________________________________________\n",
            "embedding (Embedding)        (None, 15, 128)           1280000   \n",
            "_________________________________________________________________\n",
            "gru (GRU)                    (None, 64)                37248     \n",
            "_________________________________________________________________\n",
            "dense_2 (Dense)              (None, 1)                 65        \n",
            "=================================================================\n",
            "Total params: 1,317,313\n",
            "Trainable params: 1,317,313\n",
            "Non-trainable params: 0\n",
            "_________________________________________________________________\n"
          ],
          "name": "stdout"
        }
      ]
    },
    {
      "cell_type": "markdown",
      "metadata": {
        "id": "ukRreimqXnL_"
      },
      "source": [
        "Chúng ta có thể thấy rõ sự khấc nhau về số lượng thông số có thể đào tạo giữa `model_2`(LSTM) và `model_3`(GRU). Sự khác biệt đến từ ô LSTM có nhiều tham số có thể đào tạo hơn ô GRU."
      ]
    },
    {
      "cell_type": "code",
      "metadata": {
        "colab": {
          "base_uri": "https://localhost:8080/"
        },
        "id": "3X0-xmwyYD30",
        "outputId": "2b307ae2-3b53-410a-86fb-1c81dfc1c1c1"
      },
      "source": [
        "# Fit model\n",
        "model_3_history = model_3.fit(train_sentences,\n",
        "                              train_labels,\n",
        "                              epochs=5,\n",
        "                              validation_data=(val_sentences, val_labels),\n",
        "                              callbacks=[create_tensorboard_callback(SAVE_DIR, \"GRU\")])"
      ],
      "execution_count": null,
      "outputs": [
        {
          "output_type": "stream",
          "text": [
            "Saving TensorBoard log files to: model_logs/GRU/20210628-160739\n",
            "Epoch 1/5\n",
            "215/215 [==============================] - 6s 21ms/step - loss: 0.1657 - accuracy: 0.9323 - val_loss: 0.7495 - val_accuracy: 0.7730\n",
            "Epoch 2/5\n",
            "215/215 [==============================] - 3s 16ms/step - loss: 0.0843 - accuracy: 0.9696 - val_loss: 0.9116 - val_accuracy: 0.7782\n",
            "Epoch 3/5\n",
            "215/215 [==============================] - 3s 16ms/step - loss: 0.0693 - accuracy: 0.9708 - val_loss: 0.9212 - val_accuracy: 0.7690\n",
            "Epoch 4/5\n",
            "215/215 [==============================] - 3s 16ms/step - loss: 0.0582 - accuracy: 0.9753 - val_loss: 1.2910 - val_accuracy: 0.7743\n",
            "Epoch 5/5\n",
            "215/215 [==============================] - 3s 16ms/step - loss: 0.0498 - accuracy: 0.9777 - val_loss: 1.1823 - val_accuracy: 0.7756\n"
          ],
          "name": "stdout"
        }
      ]
    },
    {
      "cell_type": "code",
      "metadata": {
        "colab": {
          "base_uri": "https://localhost:8080/"
        },
        "id": "rm-dJUbQYegX",
        "outputId": "57fe7824-b446-4c2d-ce6e-46f698d1c693"
      },
      "source": [
        "model_3_pred_probs = model_3.predict(val_sentences)\n",
        "model_3_pred_probs.shape, model_3_pred_probs[:10]"
      ],
      "execution_count": null,
      "outputs": [
        {
          "output_type": "execute_result",
          "data": {
            "text/plain": [
              "((762, 1), array([[2.3373042e-03],\n",
              "        [8.0978906e-01],\n",
              "        [9.9979955e-01],\n",
              "        [8.3622508e-02],\n",
              "        [1.0375127e-04],\n",
              "        [9.9936694e-01],\n",
              "        [6.1307085e-01],\n",
              "        [9.9990571e-01],\n",
              "        [9.9986875e-01],\n",
              "        [3.9516383e-01]], dtype=float32))"
            ]
          },
          "metadata": {
            "tags": []
          },
          "execution_count": 57
        }
      ]
    },
    {
      "cell_type": "code",
      "metadata": {
        "colab": {
          "base_uri": "https://localhost:8080/"
        },
        "id": "EtOA-bJMYhpK",
        "outputId": "5d938452-8d7c-4465-ab06-8936d75b071c"
      },
      "source": [
        "# Convert prediction probabilities to prediction classes\n",
        "model_3_preds = tf.squeeze(tf.round(model_3_pred_probs))\n",
        "model_3_preds[:10]"
      ],
      "execution_count": null,
      "outputs": [
        {
          "output_type": "execute_result",
          "data": {
            "text/plain": [
              "<tf.Tensor: shape=(10,), dtype=float32, numpy=array([0., 1., 1., 0., 0., 1., 1., 1., 1., 0.], dtype=float32)>"
            ]
          },
          "metadata": {
            "tags": []
          },
          "execution_count": 58
        }
      ]
    },
    {
      "cell_type": "code",
      "metadata": {
        "colab": {
          "base_uri": "https://localhost:8080/"
        },
        "id": "6Qilc9t1Yj4L",
        "outputId": "16711f38-2fe8-444d-8319-5bc801e09ed0"
      },
      "source": [
        "# Calcuate model_3 results\n",
        "model_3_results = calculate_results(y_true=val_labels, \n",
        "                                    y_pred=model_3_preds)\n",
        "model_3_results"
      ],
      "execution_count": null,
      "outputs": [
        {
          "output_type": "execute_result",
          "data": {
            "text/plain": [
              "{'accuracy': 77.55905511811024,\n",
              " 'f1': 0.7725109164504043,\n",
              " 'precision': 0.7797991425654591,\n",
              " 'recall': 0.7755905511811023}"
            ]
          },
          "metadata": {
            "tags": []
          },
          "execution_count": 59
        }
      ]
    },
    {
      "cell_type": "code",
      "metadata": {
        "colab": {
          "base_uri": "https://localhost:8080/"
        },
        "id": "8kJHnopYYnFf",
        "outputId": "1f95d87a-dd3b-4578-d173-a78e7d7a9b43"
      },
      "source": [
        "# Compare to baseline\n",
        "compare_baseline_to_new_results(baseline_results, model_3_results)"
      ],
      "execution_count": null,
      "outputs": [
        {
          "output_type": "stream",
          "text": [
            "Baseline accuracy: 79.27, New accuracy: 77.56, Difference: -1.71\n",
            "Baseline precision: 0.81, New precision: 0.78, Difference: -0.03\n",
            "Baseline recall: 0.79, New recall: 0.78, Difference: -0.02\n",
            "Baseline f1: 0.79, New f1: 0.77, Difference: -0.01\n"
          ],
          "name": "stdout"
        }
      ]
    },
    {
      "cell_type": "markdown",
      "metadata": {
        "id": "8j94OdS1ZFFL"
      },
      "source": [
        "## **Model 4: RNN hai chiều**"
      ]
    },
    {
      "cell_type": "markdown",
      "metadata": {
        "id": "Rx2ZvLwzZKzr"
      },
      "source": [
        "Chúng ta đã xây dựng hai RNN với các ô GRU và LSTM. Bây giờ chúng ta sẽ xem xét một loại RNN khác, RNN hai chiều.\n",
        "\n",
        "Một RNN tiêu chuẩn sẽ xử lý một trình tự từ trái sang phải, trong đó RNN hai chiều sẽ xử lý trình tự từ trái sang phải và sau đó lại từ phải sang trái.\n",
        "\n",
        "Mạng nơ-ron tái phát hai chiều (BRNN) kết nối hai lớp ẩn ngược chiều với cùng một đầu ra. Với hình thức học sâu chung này, lớp đầu ra có thể nhận thông tin từ trạng thái quá khứ (ngược) và tương lai (chuyển tiếp) đồng thời. Được phát minh vào năm 1997 bởi Schuster và Paliwal, BRNNs được giới thiệu để tăng lượng thông tin đầu vào có sẵn cho mạng. Ví dụ: perceptron nhiều lớp (MLP) và mạng nơ-ron trễ thời gian (TDNN) có những hạn chế về tính linh hoạt của dữ liệu đầu vào, vì chúng yêu cầu dữ liệu đầu vào của chúng phải được cố định. Mạng nơ-ron tuần hoàn tiêu chuẩn (RNN) cũng có những hạn chế vì không thể đạt được thông tin đầu vào trong tương lai từ trạng thái hiện tại. Ngược lại, BRNN không yêu cầu cố định dữ liệu đầu vào của chúng. Hơn nữa, thông tin đầu vào trong tương lai của họ có thể truy cập được từ trạng thái hiện tại.\n",
        "\n",
        "BRNN đặc biệt hữu ích khi ngữ cảnh của đầu vào là cần thiết. Ví dụ, trong nhận dạng chữ viết tay, hiệu suất có thể được nâng cao nhờ kiến ​​thức về các chữ cái nằm trước và sau chữ cái hiện tại.\n",
        "\n",
        "Một lần nữa, TensorFlow giúp chúng ta bằng cách cung cấp lớp `tensorflow.keras.layers.Bidirectional.` Chúng ta có thể sử dụng lớp `Bidirectional` để bọc các RNN hiện có của mình, ngay lập tức làm cho chúng có hai chiều."
      ]
    },
    {
      "cell_type": "code",
      "metadata": {
        "id": "wA91l095aHa1"
      },
      "source": [
        "# Build a Bidirectional RNN in TensorFlow\n",
        "from tensorflow.keras import layers\n",
        "inputs = layers.Input(shape=(1,), dtype=\"string\")\n",
        "x = text_vectorizer(inputs)\n",
        "x = embedding(x)\n",
        "# x = layers.Bidirectional(layers.LSTM(64, return_sequences=True))(x) # stacking RNN layers requires return_sequences=True\n",
        "x = layers.Bidirectional(layers.LSTM(64))(x) # bidirectional goes both ways so has double the parameters of a regular LSTM layer\n",
        "outputs = layers.Dense(1, activation=\"sigmoid\")(x)\n",
        "model_4 = tf.keras.Model(inputs, outputs, name=\"model_4_Bidirectional\")"
      ],
      "execution_count": null,
      "outputs": []
    },
    {
      "cell_type": "code",
      "metadata": {
        "id": "yH0ICyJzaQiD"
      },
      "source": [
        "# Compile\n",
        "model_4.compile(loss=\"binary_crossentropy\",\n",
        "                optimizer=tf.keras.optimizers.Adam(),\n",
        "                metrics=[\"accuracy\"])"
      ],
      "execution_count": null,
      "outputs": []
    },
    {
      "cell_type": "code",
      "metadata": {
        "colab": {
          "base_uri": "https://localhost:8080/"
        },
        "id": "dc9wB6lCaT2n",
        "outputId": "a87f019a-469a-4776-87cc-ba56845ef442"
      },
      "source": [
        "# Fit the model (takes longer because of the bidirectional layers)\n",
        "model_4_history = model_4.fit(train_sentences,\n",
        "                              train_labels,\n",
        "                              epochs=5,\n",
        "                              validation_data=(val_sentences, val_labels),\n",
        "                              callbacks=[create_tensorboard_callback(SAVE_DIR, \"bidirectional_RNN\")])"
      ],
      "execution_count": null,
      "outputs": [
        {
          "output_type": "stream",
          "text": [
            "Saving TensorBoard log files to: model_logs/bidirectional_RNN/20210628-160803\n",
            "Epoch 1/5\n",
            "215/215 [==============================] - 8s 24ms/step - loss: 0.1056 - accuracy: 0.9661 - val_loss: 0.9359 - val_accuracy: 0.7690\n",
            "Epoch 2/5\n",
            "215/215 [==============================] - 4s 18ms/step - loss: 0.0516 - accuracy: 0.9780 - val_loss: 1.1973 - val_accuracy: 0.7559\n",
            "Epoch 3/5\n",
            "215/215 [==============================] - 4s 19ms/step - loss: 0.0451 - accuracy: 0.9787 - val_loss: 1.5062 - val_accuracy: 0.7638\n",
            "Epoch 4/5\n",
            "215/215 [==============================] - 4s 19ms/step - loss: 0.0470 - accuracy: 0.9785 - val_loss: 1.2575 - val_accuracy: 0.7638\n",
            "Epoch 5/5\n",
            "215/215 [==============================] - 4s 18ms/step - loss: 0.0401 - accuracy: 0.9816 - val_loss: 1.4946 - val_accuracy: 0.7625\n"
          ],
          "name": "stdout"
        }
      ]
    },
    {
      "cell_type": "code",
      "metadata": {
        "colab": {
          "base_uri": "https://localhost:8080/"
        },
        "id": "9riMxYmtakNr",
        "outputId": "2e3274b9-cbae-47fc-a2ce-34fbbe6b13a4"
      },
      "source": [
        "model_4_pred_probs = model_4.predict(val_sentences)\n",
        "model_4_preds = tf.squeeze(tf.round(model_4_pred_probs))\n",
        "model_4_preds[:10]"
      ],
      "execution_count": null,
      "outputs": [
        {
          "output_type": "execute_result",
          "data": {
            "text/plain": [
              "<tf.Tensor: shape=(10,), dtype=float32, numpy=array([0., 1., 1., 0., 0., 1., 1., 1., 1., 1.], dtype=float32)>"
            ]
          },
          "metadata": {
            "tags": []
          },
          "execution_count": 64
        }
      ]
    },
    {
      "cell_type": "code",
      "metadata": {
        "colab": {
          "base_uri": "https://localhost:8080/"
        },
        "id": "T5ln8JgkapUS",
        "outputId": "233fdaec-477d-4132-b175-5e2471cbb2d9"
      },
      "source": [
        "# Calculate bidirectional RNN model results\n",
        "model_4_results = calculate_results(val_labels, model_4_preds)\n",
        "model_4_results"
      ],
      "execution_count": null,
      "outputs": [
        {
          "output_type": "execute_result",
          "data": {
            "text/plain": [
              "{'accuracy': 76.24671916010499,\n",
              " 'f1': 0.7606364368852738,\n",
              " 'precision': 0.7633250178480884,\n",
              " 'recall': 0.7624671916010499}"
            ]
          },
          "metadata": {
            "tags": []
          },
          "execution_count": 65
        }
      ]
    },
    {
      "cell_type": "code",
      "metadata": {
        "colab": {
          "base_uri": "https://localhost:8080/"
        },
        "id": "2z0d_THnarbD",
        "outputId": "dbd04618-d01a-4909-9c5b-2be7edd6e7de"
      },
      "source": [
        "# Check to see how the bidirectional model performs against the baseline\n",
        "compare_baseline_to_new_results(baseline_results, model_4_results)"
      ],
      "execution_count": null,
      "outputs": [
        {
          "output_type": "stream",
          "text": [
            "Baseline accuracy: 79.27, New accuracy: 76.25, Difference: -3.02\n",
            "Baseline precision: 0.81, New precision: 0.76, Difference: -0.05\n",
            "Baseline recall: 0.79, New recall: 0.76, Difference: -0.03\n",
            "Baseline f1: 0.79, New f1: 0.76, Difference: -0.03\n"
          ],
          "name": "stdout"
        }
      ]
    },
    {
      "cell_type": "markdown",
      "metadata": {
        "id": "IVZBJgcjd7nb"
      },
      "source": [
        "## **CNN cho văn bản**"
      ]
    },
    {
      "cell_type": "markdown",
      "metadata": {
        "id": "NAXDtZlBd-P9"
      },
      "source": [
        "Trước đây,chúng ta đã sử dụng mạng nơ-ron phức hợp (CNN) cho hình ảnh nhưng chúng cũng có thể được sử dụng cho các chuỗi.\n",
        "\n",
        "Sự khác biệt chính giữa việc sử dụng CNN cho hình ảnh và chuỗi là hình dạng của dữ liệu. Hình ảnh có 2 chiều (cao x rộng) trong khi các chuỗi thường là 1 chiều (một chuỗi văn bản).\n",
        "\n",
        "Một kiến ​​trúc CNN điển hình cho các chuỗi sẽ giống như sau:\n",
        "```\n",
        "Inputs (text) -> Tokenization -> Embedding -> Layers -> Outputs (class probabilities)\n",
        "```\n",
        "\n"
      ]
    },
    {
      "cell_type": "markdown",
      "metadata": {
        "id": "TEibvbz8rwxY"
      },
      "source": [
        "## **Model 5: Conv1D**"
      ]
    },
    {
      "cell_type": "markdown",
      "metadata": {
        "id": "-ipD4HMPr1MK"
      },
      "source": [
        "Trước khi chúng ta xây dựng mô hình CNN 1 chiều đầy đủ, hãy xem lớp tích chập 1 chiều (còn gọi là tích chập thời gian) đang hoạt động.Trước tiên, chúng ta sẽ tạo một bản nhúng của một mẫu văn bản và thử nghiệm chuyển nó qua lớp `Conv1D()` và lớp `GlobalMaxPool1D()`."
      ]
    },
    {
      "cell_type": "code",
      "metadata": {
        "id": "2KTA0u-NsDwH",
        "colab": {
          "base_uri": "https://localhost:8080/"
        },
        "outputId": "49a0c40f-1420-4e8e-9da1-788dfd599c68"
      },
      "source": [
        "# Test out the embedding, 1D convolutional and max pooling\n",
        "embedding_test = embedding(text_vectorizer([\"this is a test sentence\"])) # turn target sentence into embedding\n",
        "conv_1d = layers.Conv1D(filters=32, kernel_size=5, activation=\"relu\") # convolve over target sequence 5 words at a time\n",
        "conv_1d_output = conv_1d(embedding_test) # pass embedding through 1D convolutional layer\n",
        "max_pool = layers.GlobalMaxPool1D() \n",
        "max_pool_output = max_pool(conv_1d_output) # get the most important features\n",
        "embedding_test.shape, conv_1d_output.shape, max_pool_output.shape"
      ],
      "execution_count": null,
      "outputs": [
        {
          "output_type": "execute_result",
          "data": {
            "text/plain": [
              "(TensorShape([1, 15, 128]), TensorShape([1, 11, 32]), TensorShape([1, 32]))"
            ]
          },
          "metadata": {
            "tags": []
          },
          "execution_count": 67
        }
      ]
    },
    {
      "cell_type": "markdown",
      "metadata": {
        "id": "IXd5xwP0sEkD"
      },
      "source": [
        ""
      ]
    },
    {
      "cell_type": "code",
      "metadata": {
        "colab": {
          "base_uri": "https://localhost:8080/"
        },
        "id": "oh_UN4myXo2E",
        "outputId": "d6134804-f4cd-4b1a-8926-c170c0adde74"
      },
      "source": [
        "# See the outputs of each layer\n",
        "embedding_test[:1], conv_1d_output[:1], max_pool_output[:1]"
      ],
      "execution_count": null,
      "outputs": [
        {
          "output_type": "execute_result",
          "data": {
            "text/plain": [
              "(<tf.Tensor: shape=(1, 15, 128), dtype=float32, numpy=\n",
              " array([[[ 0.04384732, -0.04675359,  0.00813144, ..., -0.04647035,\n",
              "           0.00234443,  0.02890374],\n",
              "         [ 0.03305096, -0.03972833,  0.01069026, ...,  0.03753715,\n",
              "           0.03058189,  0.0179725 ],\n",
              "         [ 0.01346377, -0.03790578,  0.00741481, ...,  0.01455047,\n",
              "           0.02595956,  0.0442475 ],\n",
              "         ...,\n",
              "         [ 0.01773263,  0.04763007,  0.00335954, ..., -0.03156964,\n",
              "           0.01510969, -0.01513702],\n",
              "         [ 0.01773263,  0.04763007,  0.00335954, ..., -0.03156964,\n",
              "           0.01510969, -0.01513702],\n",
              "         [ 0.01773263,  0.04763007,  0.00335954, ..., -0.03156964,\n",
              "           0.01510969, -0.01513702]]], dtype=float32)>,\n",
              " <tf.Tensor: shape=(1, 11, 32), dtype=float32, numpy=\n",
              " array([[[0.        , 0.04288172, 0.        , 0.        , 0.00142348,\n",
              "          0.        , 0.        , 0.06188136, 0.        , 0.00414307,\n",
              "          0.        , 0.05366322, 0.        , 0.        , 0.05786547,\n",
              "          0.01943304, 0.00151288, 0.        , 0.        , 0.00599949,\n",
              "          0.09923208, 0.        , 0.04634219, 0.01350071, 0.05600771,\n",
              "          0.        , 0.04283343, 0.        , 0.10006759, 0.03705596,\n",
              "          0.        , 0.03802109],\n",
              "         [0.00787189, 0.        , 0.        , 0.        , 0.0375886 ,\n",
              "          0.        , 0.        , 0.        , 0.        , 0.        ,\n",
              "          0.04147344, 0.03441225, 0.07877887, 0.        , 0.        ,\n",
              "          0.00384119, 0.        , 0.03566436, 0.01058151, 0.        ,\n",
              "          0.        , 0.        , 0.        , 0.04074042, 0.00565252,\n",
              "          0.02922342, 0.00464091, 0.        , 0.0370594 , 0.        ,\n",
              "          0.        , 0.01621771],\n",
              "         [0.04375662, 0.03811584, 0.01215846, 0.        , 0.02143205,\n",
              "          0.00142304, 0.        , 0.        , 0.        , 0.        ,\n",
              "          0.0027104 , 0.        , 0.04406787, 0.        , 0.02965712,\n",
              "          0.        , 0.        , 0.11899681, 0.        , 0.06615426,\n",
              "          0.        , 0.        , 0.0064415 , 0.0600085 , 0.        ,\n",
              "          0.01033727, 0.0632884 , 0.        , 0.06391503, 0.        ,\n",
              "          0.        , 0.01233273],\n",
              "         [0.        , 0.        , 0.01678225, 0.0040146 , 0.        ,\n",
              "          0.        , 0.01086764, 0.        , 0.        , 0.03847918,\n",
              "          0.        , 0.05566968, 0.08660027, 0.        , 0.02608854,\n",
              "          0.        , 0.        , 0.        , 0.        , 0.02710524,\n",
              "          0.        , 0.02699409, 0.02917205, 0.01722185, 0.        ,\n",
              "          0.02197858, 0.06854902, 0.        , 0.01760444, 0.        ,\n",
              "          0.        , 0.        ],\n",
              "         [0.        , 0.01975013, 0.        , 0.03471306, 0.        ,\n",
              "          0.0334601 , 0.01716728, 0.        , 0.        , 0.0021007 ,\n",
              "          0.        , 0.03285191, 0.06378985, 0.02692148, 0.01379518,\n",
              "          0.        , 0.00087719, 0.007129  , 0.        , 0.        ,\n",
              "          0.03619882, 0.01121625, 0.04182121, 0.        , 0.        ,\n",
              "          0.04223957, 0.00962408, 0.        , 0.00409322, 0.0272502 ,\n",
              "          0.        , 0.        ],\n",
              "         [0.        , 0.        , 0.        , 0.00018571, 0.0173133 ,\n",
              "          0.00932824, 0.        , 0.        , 0.        , 0.02509856,\n",
              "          0.        , 0.05554479, 0.03788716, 0.00697493, 0.02892404,\n",
              "          0.01506755, 0.        , 0.03488534, 0.        , 0.01538386,\n",
              "          0.02308822, 0.04449386, 0.01452599, 0.02046859, 0.        ,\n",
              "          0.05460674, 0.04465422, 0.        , 0.        , 0.03208378,\n",
              "          0.        , 0.02781265],\n",
              "         [0.        , 0.        , 0.        , 0.00018572, 0.0173133 ,\n",
              "          0.00932823, 0.        , 0.        , 0.        , 0.02509856,\n",
              "          0.        , 0.05554479, 0.03788716, 0.00697494, 0.02892404,\n",
              "          0.01506757, 0.        , 0.03488535, 0.        , 0.01538386,\n",
              "          0.02308822, 0.04449386, 0.01452598, 0.02046859, 0.        ,\n",
              "          0.05460675, 0.04465422, 0.        , 0.        , 0.03208379,\n",
              "          0.        , 0.02781265],\n",
              "         [0.        , 0.        , 0.        , 0.00018572, 0.01731328,\n",
              "          0.00932823, 0.        , 0.        , 0.        , 0.02509855,\n",
              "          0.        , 0.05554477, 0.03788716, 0.00697493, 0.02892404,\n",
              "          0.01506756, 0.        , 0.03488535, 0.        , 0.01538387,\n",
              "          0.02308822, 0.04449387, 0.01452598, 0.02046858, 0.        ,\n",
              "          0.05460675, 0.04465423, 0.        , 0.        , 0.03208378,\n",
              "          0.        , 0.02781265],\n",
              "         [0.        , 0.        , 0.        , 0.00018572, 0.01731329,\n",
              "          0.00932824, 0.        , 0.        , 0.        , 0.02509856,\n",
              "          0.        , 0.05554478, 0.03788716, 0.00697494, 0.02892404,\n",
              "          0.01506757, 0.        , 0.03488535, 0.        , 0.01538387,\n",
              "          0.02308822, 0.04449387, 0.01452599, 0.0204686 , 0.        ,\n",
              "          0.05460675, 0.04465422, 0.        , 0.        , 0.03208379,\n",
              "          0.        , 0.02781266],\n",
              "         [0.        , 0.        , 0.        , 0.00018571, 0.01731329,\n",
              "          0.00932823, 0.        , 0.        , 0.        , 0.02509855,\n",
              "          0.        , 0.05554479, 0.03788716, 0.00697493, 0.02892404,\n",
              "          0.01506757, 0.        , 0.03488535, 0.        , 0.01538386,\n",
              "          0.02308822, 0.04449386, 0.01452598, 0.02046859, 0.        ,\n",
              "          0.05460675, 0.04465422, 0.        , 0.        , 0.03208378,\n",
              "          0.        , 0.02781266],\n",
              "         [0.        , 0.        , 0.        , 0.00018571, 0.01731329,\n",
              "          0.00932824, 0.        , 0.        , 0.        , 0.02509856,\n",
              "          0.        , 0.05554479, 0.03788716, 0.00697493, 0.02892404,\n",
              "          0.01506756, 0.        , 0.03488535, 0.        , 0.01538386,\n",
              "          0.02308823, 0.04449387, 0.01452599, 0.02046859, 0.        ,\n",
              "          0.05460675, 0.04465422, 0.        , 0.        , 0.03208379,\n",
              "          0.        , 0.02781266]]], dtype=float32)>,\n",
              " <tf.Tensor: shape=(1, 32), dtype=float32, numpy=\n",
              " array([[0.04375662, 0.04288172, 0.01678225, 0.03471306, 0.0375886 ,\n",
              "         0.0334601 , 0.01716728, 0.06188136, 0.        , 0.03847918,\n",
              "         0.04147344, 0.05566968, 0.08660027, 0.02692148, 0.05786547,\n",
              "         0.01943304, 0.00151288, 0.11899681, 0.01058151, 0.06615426,\n",
              "         0.09923208, 0.04449387, 0.04634219, 0.0600085 , 0.05600771,\n",
              "         0.05460675, 0.06854902, 0.        , 0.10006759, 0.03705596,\n",
              "         0.        , 0.03802109]], dtype=float32)>)"
            ]
          },
          "metadata": {
            "tags": []
          },
          "execution_count": 68
        }
      ]
    },
    {
      "cell_type": "code",
      "metadata": {
        "colab": {
          "base_uri": "https://localhost:8080/"
        },
        "id": "FnMy3gKMXuNI",
        "outputId": "ee564b14-7552-4344-c2a9-e4b85f45c88a"
      },
      "source": [
        "# Create 1-dimensional convolutional layer to model sequences\n",
        "from tensorflow.keras import layers\n",
        "inputs = layers.Input(shape=(1,), dtype=\"string\")\n",
        "x = text_vectorizer(inputs)\n",
        "x = embedding(x)\n",
        "x = layers.Conv1D(filters=32, kernel_size=5, activation=\"relu\")(x)\n",
        "x = layers.GlobalMaxPool1D()(x)\n",
        "# x = layers.Dense(64, activation=\"relu\")(x) # optional dense layer\n",
        "outputs = layers.Dense(1, activation=\"sigmoid\")(x)\n",
        "model_5 = tf.keras.Model(inputs, outputs, name=\"model_5_Conv1D\")\n",
        "\n",
        "# Compile Conv1D model\n",
        "model_5.compile(loss=\"binary_crossentropy\",\n",
        "                optimizer=tf.keras.optimizers.Adam(),\n",
        "                metrics=[\"accuracy\"])\n",
        "\n",
        "# Get a summary of our 1D convolution model\n",
        "model_5.summary()"
      ],
      "execution_count": null,
      "outputs": [
        {
          "output_type": "stream",
          "text": [
            "Model: \"model_5_Conv1D\"\n",
            "_________________________________________________________________\n",
            "Layer (type)                 Output Shape              Param #   \n",
            "=================================================================\n",
            "input_5 (InputLayer)         [(None, 1)]               0         \n",
            "_________________________________________________________________\n",
            "text_vectorization_1 (TextVe (None, 15)                0         \n",
            "_________________________________________________________________\n",
            "embedding (Embedding)        (None, 15, 128)           1280000   \n",
            "_________________________________________________________________\n",
            "conv1d_1 (Conv1D)            (None, 11, 32)            20512     \n",
            "_________________________________________________________________\n",
            "global_max_pooling1d_1 (Glob (None, 32)                0         \n",
            "_________________________________________________________________\n",
            "dense_4 (Dense)              (None, 1)                 33        \n",
            "=================================================================\n",
            "Total params: 1,300,545\n",
            "Trainable params: 1,300,545\n",
            "Non-trainable params: 0\n",
            "_________________________________________________________________\n"
          ],
          "name": "stdout"
        }
      ]
    },
    {
      "cell_type": "code",
      "metadata": {
        "colab": {
          "base_uri": "https://localhost:8080/"
        },
        "id": "5kqbR63IXxts",
        "outputId": "eac75647-e943-4758-c5f0-a56821dc2e27"
      },
      "source": [
        "# Fit the model\n",
        "model_5_history = model_5.fit(train_sentences,\n",
        "                              train_labels,\n",
        "                              epochs=5,\n",
        "                              validation_data=(val_sentences, val_labels),\n",
        "                              callbacks=[create_tensorboard_callback(SAVE_DIR, \n",
        "                                                                     \"Conv1D\")])"
      ],
      "execution_count": null,
      "outputs": [
        {
          "output_type": "stream",
          "text": [
            "Saving TensorBoard log files to: model_logs/Conv1D/20210628-160911\n",
            "Epoch 1/5\n",
            "215/215 [==============================] - 6s 21ms/step - loss: 0.1368 - accuracy: 0.9569 - val_loss: 0.8495 - val_accuracy: 0.7690\n",
            "Epoch 2/5\n",
            "215/215 [==============================] - 3s 16ms/step - loss: 0.0772 - accuracy: 0.9731 - val_loss: 1.0134 - val_accuracy: 0.7651\n",
            "Epoch 3/5\n",
            "215/215 [==============================] - 3s 16ms/step - loss: 0.0613 - accuracy: 0.9771 - val_loss: 1.0891 - val_accuracy: 0.7664\n",
            "Epoch 4/5\n",
            "215/215 [==============================] - 3s 16ms/step - loss: 0.0557 - accuracy: 0.9787 - val_loss: 1.1537 - val_accuracy: 0.7638\n",
            "Epoch 5/5\n",
            "215/215 [==============================] - 3s 15ms/step - loss: 0.0513 - accuracy: 0.9785 - val_loss: 1.1507 - val_accuracy: 0.7612\n"
          ],
          "name": "stdout"
        }
      ]
    },
    {
      "cell_type": "code",
      "metadata": {
        "colab": {
          "base_uri": "https://localhost:8080/"
        },
        "id": "Oiu9sYeWitwC",
        "outputId": "98acd790-5252-4ad3-8250-d50f81a1b553"
      },
      "source": [
        "# Make predictions with model_5\n",
        "model_5_pred_probs = model_5.predict(val_sentences)\n",
        "model_5_preds = tf.squeeze(tf.round(model_5_pred_probs))\n",
        "model_5_preds[:10]"
      ],
      "execution_count": null,
      "outputs": [
        {
          "output_type": "execute_result",
          "data": {
            "text/plain": [
              "<tf.Tensor: shape=(10,), dtype=float32, numpy=array([0., 0., 1., 0., 0., 1., 1., 1., 1., 1.], dtype=float32)>"
            ]
          },
          "metadata": {
            "tags": []
          },
          "execution_count": 71
        }
      ]
    },
    {
      "cell_type": "code",
      "metadata": {
        "colab": {
          "base_uri": "https://localhost:8080/"
        },
        "id": "qVxwR_-aj3oQ",
        "outputId": "45861ab5-6dee-4516-95eb-08c4e0337f06"
      },
      "source": [
        "# Calculate model_5 evaluation metrics \n",
        "model_5_results = calculate_results(y_true=val_labels, \n",
        "                                    y_pred=model_5_preds)\n",
        "model_5_results"
      ],
      "execution_count": null,
      "outputs": [
        {
          "output_type": "execute_result",
          "data": {
            "text/plain": [
              "{'accuracy': 76.11548556430446,\n",
              " 'f1': 0.7597317731418467,\n",
              " 'precision': 0.761395918264994,\n",
              " 'recall': 0.7611548556430446}"
            ]
          },
          "metadata": {
            "tags": []
          },
          "execution_count": 72
        }
      ]
    },
    {
      "cell_type": "code",
      "metadata": {
        "colab": {
          "base_uri": "https://localhost:8080/"
        },
        "id": "Rj_CeRnej5fw",
        "outputId": "b0b3cf64-7ea8-402c-9e72-63201e802aaa"
      },
      "source": [
        "# Compare model_5 results to baseline \n",
        "compare_baseline_to_new_results(baseline_results, model_5_results)"
      ],
      "execution_count": null,
      "outputs": [
        {
          "output_type": "stream",
          "text": [
            "Baseline accuracy: 79.27, New accuracy: 76.12, Difference: -3.15\n",
            "Baseline precision: 0.81, New precision: 0.76, Difference: -0.05\n",
            "Baseline recall: 0.79, New recall: 0.76, Difference: -0.03\n",
            "Baseline f1: 0.79, New f1: 0.76, Difference: -0.03\n"
          ],
          "name": "stdout"
        }
      ]
    },
    {
      "cell_type": "markdown",
      "metadata": {
        "id": "kfN2yUP1j_A9"
      },
      "source": [
        "## **Sử dụng Nhúng đã được đào tạo(transfer learning for NLP)**"
      ]
    },
    {
      "cell_type": "markdown",
      "metadata": {
        "id": "JTOC-0azkGdW"
      },
      "source": [
        "Đối với tất cả các mô hình học sâu trước đây mà chúng ta đã xây dựng và đào tạo, chúng ta đã tạo và sử dụng các bản nhúng của riêng mình từ đầu.\n",
        "\n",
        "Tuy nhiên, một thực tế phổ biến là tận dụng các nhúng được đào tạo trước thông qua học chuyển giao. Đây là một trong những lợi ích chính của việc sử dụng mô hình sâu: có thể lấy những gì một mô hình (thường lớn hơn) đã học được (thường là trên một lượng lớn dữ liệu) và điều chỉnh nó cho trường hợp sử dụng của chúng ta.ối với mô hình tiếp theo, thay vì sử dụng lớp nhúng riêng, chúng ta sẽ thay thế nó bằng một lớp nhúng được đào tạo trước.Cụ thể hơn, chúng ta sẽ sử dụng Bộ mã hóa câu đa năng(Universal Sentence Encoder) từ TensorFlow Hub (một tài nguyên tuyệt vời chứa rất nhiều tài nguyên mô hình được đào tạo trước cho nhiều tác vụ khác nhau)."
      ]
    },
    {
      "cell_type": "markdown",
      "metadata": {
        "id": "3jWDrmoylFyK"
      },
      "source": [
        "## **Model 6:  TensorFlow Hub Pretrained Sentence Encoder**\n",
        "\n"
      ]
    },
    {
      "cell_type": "markdown",
      "metadata": {
        "id": "iN6R-5R1lQuM"
      },
      "source": [
        "Sự khác biệt chính giữa lớp nhúng mà chúng ta đã tạo và Bộ mã hóa câu phổ quát là thay vì tạo kiểu nhúng cấp độ từ, Bộ mã hóa câu đa năng tạo ra một kiểu nhúng toàn bộ cấp độ câu.Lớp nhúng của chúng ta xuất ra một vectơ 128 chiều cho mỗi từ, trong đó, Bộ mã hóa câu đa năng xuất ra một vectơ 512 chiều cho mỗi câu."
      ]
    },
    {
      "cell_type": "code",
      "metadata": {
        "colab": {
          "base_uri": "https://localhost:8080/"
        },
        "id": "O29MP2GHl3H3",
        "outputId": "0e2f6a09-ab88-4d88-a351-a7d3081e2619"
      },
      "source": [
        "# Example of pretrained embedding with universal sentence encoder - https://tfhub.dev/google/universal-sentence-encoder/4\n",
        "import tensorflow_hub as hub\n",
        "embed = hub.load(\"https://tfhub.dev/google/universal-sentence-encoder/4\") # load Universal Sentence Encoder\n",
        "embed_samples = embed([sample_sentence,\n",
        "                      \"When you call the universal sentence encoder on a sentence, it turns it into numbers.\"])\n",
        "\n",
        "print(embed_samples[0][:50])"
      ],
      "execution_count": null,
      "outputs": [
        {
          "output_type": "stream",
          "text": [
            "tf.Tensor(\n",
            "[-0.01157027  0.0248591   0.02878048 -0.012715    0.03971538  0.0882776\n",
            "  0.02680985  0.05589838 -0.01068729 -0.00597292  0.00639323 -0.0181952\n",
            "  0.00030814  0.09105888  0.05874645 -0.03180628  0.01512474 -0.05162929\n",
            "  0.00991367 -0.06865346 -0.04209305  0.0267898   0.03011008  0.00321069\n",
            " -0.00337971 -0.04787356  0.02266719 -0.00985925 -0.04063613 -0.01292093\n",
            " -0.04666384  0.056303   -0.03949255  0.00517688  0.02495828 -0.07014441\n",
            "  0.02871508  0.04947684 -0.00633978 -0.08960193  0.02807117 -0.00808362\n",
            " -0.01360601  0.0599865  -0.10361787 -0.05195374  0.00232955 -0.0233253\n",
            " -0.03758105  0.03327729], shape=(50,), dtype=float32)\n"
          ],
          "name": "stdout"
        }
      ]
    },
    {
      "cell_type": "code",
      "metadata": {
        "colab": {
          "base_uri": "https://localhost:8080/"
        },
        "id": "B0HiyfxGl-gt",
        "outputId": "684cfe27-adea-4088-e646-3d92bd882fb3"
      },
      "source": [
        "# Each sentence has been encoded into a 512 dimension vector\n",
        "embed_samples[0].shape"
      ],
      "execution_count": null,
      "outputs": [
        {
          "output_type": "execute_result",
          "data": {
            "text/plain": [
              "TensorShape([512])"
            ]
          },
          "metadata": {
            "tags": []
          },
          "execution_count": 75
        }
      ]
    },
    {
      "cell_type": "markdown",
      "metadata": {
        "id": "8e2woChPmLdU"
      },
      "source": [
        "Chúng ta có thể chuyển đổi mô-đun TensorFlow Hub USE(Universal Sentence Encoder) thành một lớp Keras bằng cách sử dụng lớp `hub.KerasLayer`.\n",
        "\n",
        "> Chú ý:Do kích thước của mô-đun  TensorFlow Hub USE, có thể mất một chút thời gian để tải xuống. Sau khi tải xuống, nó sẽ được lưu vào bộ nhớ đệm và sẵn sàng để sử dụng. Và như với nhiều mô-đun TensorFlow Hub, có một phiên bản \"nhỏ\" của USE chiếm ít dung lượng hơn nhưng hy sinh một số hiệu suất và yêu cầu nhiều bước tiền xử lý hơn."
      ]
    },
    {
      "cell_type": "code",
      "metadata": {
        "id": "G5m79wNsmoAt"
      },
      "source": [
        "# We can use this encoding layer in place of our text_vectorizer and embedding layer\n",
        "sentence_encoder_layer = hub.KerasLayer(\"https://tfhub.dev/google/universal-sentence-encoder/4\",\n",
        "                                        input_shape=[], # shape of inputs coming to our model \n",
        "                                        dtype=tf.string, # data type of inputs coming to the USE layer\n",
        "                                        trainable=False, # keep the pretrained weights (we'll create a feature extractor)\n",
        "                                        name=\"USE\") "
      ],
      "execution_count": null,
      "outputs": []
    },
    {
      "cell_type": "markdown",
      "metadata": {
        "id": "CUUbfjCcm4gU"
      },
      "source": [
        "Bây giờ chúng ta đã có USE dưới dạng lớp Keras, chúng ta có thể sử dụng nó trong mô hình Keras.Sequential"
      ]
    },
    {
      "cell_type": "code",
      "metadata": {
        "colab": {
          "base_uri": "https://localhost:8080/"
        },
        "id": "xtwqDTBMmyqs",
        "outputId": "1fdbc68c-b87a-41a4-ebfb-b3c853f52282"
      },
      "source": [
        "# Create model using the Sequential API\n",
        "model_6 = tf.keras.Sequential([\n",
        "  sentence_encoder_layer, # take in sentences and then encode them into an embedding\n",
        "  layers.Dense(64, activation=\"relu\"),\n",
        "  layers.Dense(1, activation=\"sigmoid\")\n",
        "], name=\"model_6_USE\")\n",
        "\n",
        "# Compile model\n",
        "model_6.compile(loss=\"binary_crossentropy\",\n",
        "                optimizer=tf.keras.optimizers.Adam(),\n",
        "                metrics=[\"accuracy\"])\n",
        "\n",
        "model_6.summary()"
      ],
      "execution_count": null,
      "outputs": [
        {
          "output_type": "stream",
          "text": [
            "Model: \"model_6_USE\"\n",
            "_________________________________________________________________\n",
            "Layer (type)                 Output Shape              Param #   \n",
            "=================================================================\n",
            "USE (KerasLayer)             (None, 512)               256797824 \n",
            "_________________________________________________________________\n",
            "dense_5 (Dense)              (None, 64)                32832     \n",
            "_________________________________________________________________\n",
            "dense_6 (Dense)              (None, 1)                 65        \n",
            "=================================================================\n",
            "Total params: 256,830,721\n",
            "Trainable params: 32,897\n",
            "Non-trainable params: 256,797,824\n",
            "_________________________________________________________________\n"
          ],
          "name": "stdout"
        }
      ]
    },
    {
      "cell_type": "markdown",
      "metadata": {
        "id": "IkXBSNVzm9wH"
      },
      "source": [
        "Lưu ý số lượng các tham số trong lớp USE, đây là những trọng số được đào tạo trước mà nó học được trên các nguồn văn bản khác nhau (Wikipedia, tin tức trên web, diễn đàn câu trả lời trên web, v.v.).\n",
        "\n",
        "Các tham số có thể đào tạo chỉ nằm trong các lớp đầu ra của chúng ta, nói cách khác, chúng ta đang giữ cố định các trọng số của USE và sử dụng nó như một công cụ trích xuất tính năng. Chúng ta có thể tinh chỉnh các trọng số này bằng cách đặt `trainable = True` khi tạo `hub.KerasLayer`."
      ]
    },
    {
      "cell_type": "code",
      "metadata": {
        "colab": {
          "base_uri": "https://localhost:8080/"
        },
        "id": "UXAgY8tHnl6G",
        "outputId": "b1e6de6f-cf8b-4c2d-b30e-d7aff976dfc0"
      },
      "source": [
        "# Train a classifier on top of pretrained embeddings\n",
        "model_6_history = model_6.fit(train_sentences,\n",
        "                              train_labels,\n",
        "                              epochs=5,\n",
        "                              validation_data=(val_sentences, val_labels),\n",
        "                              callbacks=[create_tensorboard_callback(SAVE_DIR, \n",
        "                                                                     \"tf_hub_sentence_encoder\")])"
      ],
      "execution_count": null,
      "outputs": [
        {
          "output_type": "stream",
          "text": [
            "Saving TensorBoard log files to: model_logs/tf_hub_sentence_encoder/20210628-160951\n",
            "Epoch 1/5\n",
            "215/215 [==============================] - 7s 23ms/step - loss: 0.5046 - accuracy: 0.7805 - val_loss: 0.4459 - val_accuracy: 0.8031\n",
            "Epoch 2/5\n",
            "215/215 [==============================] - 2s 11ms/step - loss: 0.4149 - accuracy: 0.8156 - val_loss: 0.4363 - val_accuracy: 0.8097\n",
            "Epoch 3/5\n",
            "215/215 [==============================] - 2s 11ms/step - loss: 0.4005 - accuracy: 0.8216 - val_loss: 0.4343 - val_accuracy: 0.8071\n",
            "Epoch 4/5\n",
            "215/215 [==============================] - 2s 11ms/step - loss: 0.3925 - accuracy: 0.8263 - val_loss: 0.4291 - val_accuracy: 0.8123\n",
            "Epoch 5/5\n",
            "215/215 [==============================] - 2s 11ms/step - loss: 0.3849 - accuracy: 0.8305 - val_loss: 0.4248 - val_accuracy: 0.8176\n"
          ],
          "name": "stdout"
        }
      ]
    },
    {
      "cell_type": "code",
      "metadata": {
        "colab": {
          "base_uri": "https://localhost:8080/"
        },
        "id": "d-JYZrzqnxYY",
        "outputId": "55306fe2-f561-4487-d501-cbe117870a1b"
      },
      "source": [
        "# Make predictions with USE TF Hub model\n",
        "model_6_pred_probs = model_6.predict(val_sentences)\n",
        "model_6_preds = tf.squeeze(tf.round(model_6_pred_probs))\n",
        "model_6_preds[:10]"
      ],
      "execution_count": null,
      "outputs": [
        {
          "output_type": "execute_result",
          "data": {
            "text/plain": [
              "<tf.Tensor: shape=(10,), dtype=float32, numpy=array([0., 1., 1., 0., 1., 1., 1., 1., 1., 0.], dtype=float32)>"
            ]
          },
          "metadata": {
            "tags": []
          },
          "execution_count": 79
        }
      ]
    },
    {
      "cell_type": "code",
      "metadata": {
        "colab": {
          "base_uri": "https://localhost:8080/"
        },
        "id": "oLfbQrnun2Vm",
        "outputId": "88e13c44-e66f-4287-e1b0-f60c97b0d5dc"
      },
      "source": [
        "# Calculate model 6 performance metrics\n",
        "model_6_results = calculate_results(val_labels, model_6_preds)\n",
        "model_6_results"
      ],
      "execution_count": null,
      "outputs": [
        {
          "output_type": "execute_result",
          "data": {
            "text/plain": [
              "{'accuracy': 81.75853018372703,\n",
              " 'f1': 0.816365758450113,\n",
              " 'precision': 0.8190970972170162,\n",
              " 'recall': 0.8175853018372703}"
            ]
          },
          "metadata": {
            "tags": []
          },
          "execution_count": 80
        }
      ]
    },
    {
      "cell_type": "code",
      "metadata": {
        "colab": {
          "base_uri": "https://localhost:8080/"
        },
        "id": "x1gNmb2Pn4v5",
        "outputId": "efa19db6-5b82-4b32-8fc1-6af6234854fd"
      },
      "source": [
        "# Compare TF Hub model to baseline\n",
        "compare_baseline_to_new_results(baseline_results, model_6_results)"
      ],
      "execution_count": null,
      "outputs": [
        {
          "output_type": "stream",
          "text": [
            "Baseline accuracy: 79.27, New accuracy: 81.76, Difference: 2.49\n",
            "Baseline precision: 0.81, New precision: 0.82, Difference: 0.01\n",
            "Baseline recall: 0.79, New recall: 0.82, Difference: 0.02\n",
            "Baseline f1: 0.79, New f1: 0.82, Difference: 0.03\n"
          ],
          "name": "stdout"
        }
      ]
    },
    {
      "cell_type": "markdown",
      "metadata": {
        "id": "FgjN8wykn-Wv"
      },
      "source": [
        "# **So sánh hiệu suất của từng mô hình**"
      ]
    },
    {
      "cell_type": "markdown",
      "metadata": {
        "id": "WhmhztWSoA0B"
      },
      "source": [
        "Chúng ta đã thực hiện huấn luyện một loạt các mô hình với các phương pháp khác nhau. Bây giờ là lúc để so sánh hiệu suất của các mô hình đạt được."
      ]
    },
    {
      "cell_type": "code",
      "metadata": {
        "colab": {
          "base_uri": "https://localhost:8080/",
          "height": 269
        },
        "id": "0-6CoE76oqJK",
        "outputId": "59316b7d-19e4-416a-d0b1-e710d6d7f82c"
      },
      "source": [
        "# Combine model results into a DataFrame\n",
        "all_model_results = pd.DataFrame({\"baseline\": baseline_results,\n",
        "                                  \"simple_dense\": model_1_results,\n",
        "                                  \"lstm\": model_2_results,\n",
        "                                  \"gru\": model_3_results,\n",
        "                                  \"bidirectional\": model_4_results,\n",
        "                                  \"conv1d\": model_5_results,\n",
        "                                  \"tf_hub_sentence_encoder\": model_6_results,\n",
        "                                  })\n",
        "all_model_results = all_model_results.transpose()\n",
        "all_model_results"
      ],
      "execution_count": null,
      "outputs": [
        {
          "output_type": "execute_result",
          "data": {
            "text/html": [
              "<div>\n",
              "<style scoped>\n",
              "    .dataframe tbody tr th:only-of-type {\n",
              "        vertical-align: middle;\n",
              "    }\n",
              "\n",
              "    .dataframe tbody tr th {\n",
              "        vertical-align: top;\n",
              "    }\n",
              "\n",
              "    .dataframe thead th {\n",
              "        text-align: right;\n",
              "    }\n",
              "</style>\n",
              "<table border=\"1\" class=\"dataframe\">\n",
              "  <thead>\n",
              "    <tr style=\"text-align: right;\">\n",
              "      <th></th>\n",
              "      <th>accuracy</th>\n",
              "      <th>precision</th>\n",
              "      <th>recall</th>\n",
              "      <th>f1</th>\n",
              "    </tr>\n",
              "  </thead>\n",
              "  <tbody>\n",
              "    <tr>\n",
              "      <th>baseline</th>\n",
              "      <td>79.265092</td>\n",
              "      <td>0.811139</td>\n",
              "      <td>0.792651</td>\n",
              "      <td>0.786219</td>\n",
              "    </tr>\n",
              "    <tr>\n",
              "      <th>simple_dense</th>\n",
              "      <td>79.396325</td>\n",
              "      <td>0.803127</td>\n",
              "      <td>0.793963</td>\n",
              "      <td>0.789913</td>\n",
              "    </tr>\n",
              "    <tr>\n",
              "      <th>lstm</th>\n",
              "      <td>77.952756</td>\n",
              "      <td>0.783314</td>\n",
              "      <td>0.779528</td>\n",
              "      <td>0.776722</td>\n",
              "    </tr>\n",
              "    <tr>\n",
              "      <th>gru</th>\n",
              "      <td>77.559055</td>\n",
              "      <td>0.779799</td>\n",
              "      <td>0.775591</td>\n",
              "      <td>0.772511</td>\n",
              "    </tr>\n",
              "    <tr>\n",
              "      <th>bidirectional</th>\n",
              "      <td>76.246719</td>\n",
              "      <td>0.763325</td>\n",
              "      <td>0.762467</td>\n",
              "      <td>0.760636</td>\n",
              "    </tr>\n",
              "    <tr>\n",
              "      <th>conv1d</th>\n",
              "      <td>76.115486</td>\n",
              "      <td>0.761396</td>\n",
              "      <td>0.761155</td>\n",
              "      <td>0.759732</td>\n",
              "    </tr>\n",
              "    <tr>\n",
              "      <th>tf_hub_sentence_encoder</th>\n",
              "      <td>81.758530</td>\n",
              "      <td>0.819097</td>\n",
              "      <td>0.817585</td>\n",
              "      <td>0.816366</td>\n",
              "    </tr>\n",
              "  </tbody>\n",
              "</table>\n",
              "</div>"
            ],
            "text/plain": [
              "                          accuracy  precision    recall        f1\n",
              "baseline                 79.265092   0.811139  0.792651  0.786219\n",
              "simple_dense             79.396325   0.803127  0.793963  0.789913\n",
              "lstm                     77.952756   0.783314  0.779528  0.776722\n",
              "gru                      77.559055   0.779799  0.775591  0.772511\n",
              "bidirectional            76.246719   0.763325  0.762467  0.760636\n",
              "conv1d                   76.115486   0.761396  0.761155  0.759732\n",
              "tf_hub_sentence_encoder  81.758530   0.819097  0.817585  0.816366"
            ]
          },
          "metadata": {
            "tags": []
          },
          "execution_count": 82
        }
      ]
    },
    {
      "cell_type": "code",
      "metadata": {
        "id": "MO61w8IUo12i"
      },
      "source": [
        "# Reduce the accuracy to same scale as other metrics\n",
        "all_model_results[\"accuracy\"] = all_model_results[\"accuracy\"]/100"
      ],
      "execution_count": null,
      "outputs": []
    },
    {
      "cell_type": "code",
      "metadata": {
        "colab": {
          "base_uri": "https://localhost:8080/",
          "height": 546
        },
        "id": "SDVpmkvEo3jW",
        "outputId": "ee8912b9-d059-4921-8e36-c7ffb42e1372"
      },
      "source": [
        "# Plot and compare all of the model results\n",
        "all_model_results.plot(kind=\"bar\", figsize=(10, 7)).legend(bbox_to_anchor=(1.0, 1.0));"
      ],
      "execution_count": null,
      "outputs": [
        {
          "output_type": "display_data",
          "data": {
            "image/png": "[encoded data removed]",
            "text/plain": [
              "<Figure size 720x504 with 1 Axes>"
            ]
          },
          "metadata": {
            "tags": [],
            "needs_background": "light"
          }
        }
      ]
    },
    {
      "cell_type": "markdown",
      "metadata": {
        "id": "DSXgBfcTqPO-"
      },
      "source": [
        "Chúng ta có thể thấy hiện tại có vẻ như mô hình USE đang hoạt động tốt nhất.Điều này cho thấy sức mạnh của việc học chuyển giao. "
      ]
    },
    {
      "cell_type": "code",
      "metadata": {
        "colab": {
          "base_uri": "https://localhost:8080/",
          "height": 546
        },
        "id": "Ymncw0awpRae",
        "outputId": "f7d152c6-eac7-49b3-9c05-b4a8313ee999"
      },
      "source": [
        "# Sort model results by f1-score\n",
        "all_model_results.sort_values(\"f1\", ascending=False)[\"f1\"].plot(kind=\"bar\", figsize=(10, 7));"
      ],
      "execution_count": null,
      "outputs": [
        {
          "output_type": "display_data",
          "data": {
            "image/png": "[encoded data removed]",
            "text/plain": [
              "<Figure size 720x504 with 1 Axes>"
            ]
          },
          "metadata": {
            "tags": [],
            "needs_background": "light"
          }
        }
      ]
    },
    {
      "cell_type": "markdown",
      "metadata": {
        "id": "ybB7KuGjwoL6"
      },
      "source": [
        "# **Kết hợp mô hình thành 1 quần thể.**"
      ]
    },
    {
      "cell_type": "markdown",
      "metadata": {
        "id": "xT-3D-wXwq0s"
      },
      "source": [
        "Nhiều hệ thống sản xuất sử dụng một nhóm (nhiều mô hình khác nhau kết hợp với nhau) các mô hình để đưa ra dự đoán.\n",
        "\n",
        "Ý tưởng đằng sau việc xếp chồng mô hình là nếu một số mô hình không tương quan đồng ý về một dự đoán, thì dự đoán đó phải mạnh mẽ hơn dự đoán được thực hiện bởi một mô hình đơn lẻ.\n",
        "\n",
        "Mặc dù tất cả các mô hình này đều được đào tạo trên cùng một dữ liệu, nhưng chúng đều có một cách khác nhau để tìm ra các mẫu.Nếu chúng ta sử dụng ba mô hình được đào tạo tương tự, chẳng hạn như ba mô hình LSTM, thì các dự đoán mà chúng đưa ra có thể sẽ rất giống nhau.\n",
        "\n",
        "Vì chúng ta đang giải quyết vấn đề phân loại, có một số cách chúng tôi có thể kết hợp các mô hình của mình:\n",
        "1. Trung bình: Lấy xác suất dự đoán đầu ra của từng mô hình cho mỗi mẫu, kết hợp chúng và sau đó lấy trung bình.\n",
        "2. Lấy đa số (Majority vote): Đưa ra dự đoán về lớp với từng mô hình của chúng ta trên tất cả các mẫu, lớp được dự đoán là lớp chiếm đa số.Ví dụ: nếu ba mô hình khác nhau dự đoán [1, 0, 1] tương ứng, thì lớp đa số là 1, do đó, đó sẽ là nhãn được dự đoán.\n",
        "3. Xếp chồng mô hình: Lấy kết quả đầu ra của từng mô hình đã chọn và sử dụng chúng làm đầu vào cho mô hình khác."
      ]
    },
    {
      "cell_type": "markdown",
      "metadata": {
        "id": "Mes6NQTN2TT2"
      },
      "source": [
        "Chúng ta sẽ kết hợp mô hình cơ sởi (model_0), mô hình LSTM (model_2) và mô hình USE được đào tạo trên dữ liệu đào tạo đầy đủ (model_6) bằng cách lấy trung bình các xác suất dự đoán kết hợp của từng loại."
      ]
    },
    {
      "cell_type": "code",
      "metadata": {
        "colab": {
          "base_uri": "https://localhost:8080/"
        },
        "id": "hkbzfd1E2auH",
        "outputId": "bd96494e-e516-4bfc-a102-8dd17db3ff9d"
      },
      "source": [
        "# Get mean pred probs for 3 models\n",
        "baseline_pred_probs = np.max(model_0.predict_proba(val_sentences), axis=1) # get the prediction probabilities from baseline model\n",
        "combined_pred_probs = baseline_pred_probs + tf.squeeze(model_2_pred_probs, axis=1) + tf.squeeze(model_6_pred_probs)\n",
        "combined_preds = tf.round(combined_pred_probs/3) # average and round the prediction probabilities to get prediction classes\n",
        "combined_preds[:20]"
      ],
      "execution_count": null,
      "outputs": [
        {
          "output_type": "execute_result",
          "data": {
            "text/plain": [
              "<tf.Tensor: shape=(20,), dtype=float32, numpy=\n",
              "array([0., 1., 1., 0., 0., 1., 1., 1., 1., 0., 0., 1., 0., 1., 0., 0., 0.,\n",
              "       0., 0., 1.], dtype=float32)>"
            ]
          },
          "metadata": {
            "tags": []
          },
          "execution_count": 86
        }
      ]
    },
    {
      "cell_type": "code",
      "metadata": {
        "colab": {
          "base_uri": "https://localhost:8080/"
        },
        "id": "04BS23e_2gff",
        "outputId": "3f8ff068-4135-419b-8267-ce370b0c97ff"
      },
      "source": [
        "# Calculate results from averaging the prediction probabilities\n",
        "ensemble_results = calculate_results(val_labels, combined_preds)\n",
        "ensemble_results"
      ],
      "execution_count": null,
      "outputs": [
        {
          "output_type": "execute_result",
          "data": {
            "text/plain": [
              "{'accuracy': 79.92125984251969,\n",
              " 'f1': 0.7983311621095746,\n",
              " 'precision': 0.7994896832822466,\n",
              " 'recall': 0.7992125984251969}"
            ]
          },
          "metadata": {
            "tags": []
          },
          "execution_count": 87
        }
      ]
    },
    {
      "cell_type": "code",
      "metadata": {
        "id": "ZdJjCOzz2i2O"
      },
      "source": [
        "# Add our combined model's results to the results DataFrame\n",
        "all_model_results.loc[\"ensemble_results\"] = ensemble_results"
      ],
      "execution_count": null,
      "outputs": []
    },
    {
      "cell_type": "code",
      "metadata": {
        "id": "38l1fzqw2kK2"
      },
      "source": [
        "# Convert the accuracy to the same scale as the rest of the results\n",
        "all_model_results.loc[\"ensemble_results\"][\"accuracy\"] = all_model_results.loc[\"ensemble_results\"][\"accuracy\"]/100"
      ],
      "execution_count": null,
      "outputs": []
    },
    {
      "cell_type": "code",
      "metadata": {
        "colab": {
          "base_uri": "https://localhost:8080/",
          "height": 300
        },
        "id": "3x6dSe8J2l4V",
        "outputId": "b0648bb8-3d26-44cf-80b4-433e8698f138"
      },
      "source": [
        "all_model_results"
      ],
      "execution_count": null,
      "outputs": [
        {
          "output_type": "execute_result",
          "data": {
            "text/html": [
              "<div>\n",
              "<style scoped>\n",
              "    .dataframe tbody tr th:only-of-type {\n",
              "        vertical-align: middle;\n",
              "    }\n",
              "\n",
              "    .dataframe tbody tr th {\n",
              "        vertical-align: top;\n",
              "    }\n",
              "\n",
              "    .dataframe thead th {\n",
              "        text-align: right;\n",
              "    }\n",
              "</style>\n",
              "<table border=\"1\" class=\"dataframe\">\n",
              "  <thead>\n",
              "    <tr style=\"text-align: right;\">\n",
              "      <th></th>\n",
              "      <th>accuracy</th>\n",
              "      <th>precision</th>\n",
              "      <th>recall</th>\n",
              "      <th>f1</th>\n",
              "    </tr>\n",
              "  </thead>\n",
              "  <tbody>\n",
              "    <tr>\n",
              "      <th>baseline</th>\n",
              "      <td>0.792651</td>\n",
              "      <td>0.811139</td>\n",
              "      <td>0.792651</td>\n",
              "      <td>0.786219</td>\n",
              "    </tr>\n",
              "    <tr>\n",
              "      <th>simple_dense</th>\n",
              "      <td>0.793963</td>\n",
              "      <td>0.803127</td>\n",
              "      <td>0.793963</td>\n",
              "      <td>0.789913</td>\n",
              "    </tr>\n",
              "    <tr>\n",
              "      <th>lstm</th>\n",
              "      <td>0.779528</td>\n",
              "      <td>0.783314</td>\n",
              "      <td>0.779528</td>\n",
              "      <td>0.776722</td>\n",
              "    </tr>\n",
              "    <tr>\n",
              "      <th>gru</th>\n",
              "      <td>0.775591</td>\n",
              "      <td>0.779799</td>\n",
              "      <td>0.775591</td>\n",
              "      <td>0.772511</td>\n",
              "    </tr>\n",
              "    <tr>\n",
              "      <th>bidirectional</th>\n",
              "      <td>0.762467</td>\n",
              "      <td>0.763325</td>\n",
              "      <td>0.762467</td>\n",
              "      <td>0.760636</td>\n",
              "    </tr>\n",
              "    <tr>\n",
              "      <th>conv1d</th>\n",
              "      <td>0.761155</td>\n",
              "      <td>0.761396</td>\n",
              "      <td>0.761155</td>\n",
              "      <td>0.759732</td>\n",
              "    </tr>\n",
              "    <tr>\n",
              "      <th>tf_hub_sentence_encoder</th>\n",
              "      <td>0.817585</td>\n",
              "      <td>0.819097</td>\n",
              "      <td>0.817585</td>\n",
              "      <td>0.816366</td>\n",
              "    </tr>\n",
              "    <tr>\n",
              "      <th>ensemble_results</th>\n",
              "      <td>0.799213</td>\n",
              "      <td>0.799490</td>\n",
              "      <td>0.799213</td>\n",
              "      <td>0.798331</td>\n",
              "    </tr>\n",
              "  </tbody>\n",
              "</table>\n",
              "</div>"
            ],
            "text/plain": [
              "                         accuracy  precision    recall        f1\n",
              "baseline                 0.792651   0.811139  0.792651  0.786219\n",
              "simple_dense             0.793963   0.803127  0.793963  0.789913\n",
              "lstm                     0.779528   0.783314  0.779528  0.776722\n",
              "gru                      0.775591   0.779799  0.775591  0.772511\n",
              "bidirectional            0.762467   0.763325  0.762467  0.760636\n",
              "conv1d                   0.761155   0.761396  0.761155  0.759732\n",
              "tf_hub_sentence_encoder  0.817585   0.819097  0.817585  0.816366\n",
              "ensemble_results         0.799213   0.799490  0.799213  0.798331"
            ]
          },
          "metadata": {
            "tags": []
          },
          "execution_count": 90
        }
      ]
    },
    {
      "cell_type": "markdown",
      "metadata": {
        "id": "YO5_pGO-3m_M"
      },
      "source": [
        "Có vẻ như nhiều kết quả của mô hình của chúng ta là tương tự. Điều này có thể có nghĩa là có một số hạn chế đối với những gì có thể học được từ dữ liệu của chúng ta. Khi nhiều thử nghiệm mô hình trả lại kết quả tương tự,nên truy cập lại dữ liệu của mình."
      ]
    },
    {
      "cell_type": "markdown",
      "metadata": {
        "id": "lzLckR9T3bWb"
      },
      "source": [
        "# **Tìm mẫu sai nhiều nhất.**"
      ]
    },
    {
      "cell_type": "markdown",
      "metadata": {
        "id": "n_RRg7K43ekY"
      },
      "source": [
        "Nếu nhiều thử nghiệm mô hình của chúng ta đang trả lại kết quả tương tự, mặc dù sử dụng các loại mô hình khác nhau, thì tốt hơn hết  nên quay lại dữ liệu và kiểm tra xem tại sao lại có thể như vậy.\n",
        "\n",
        "Một trong những cách tốt nhất để kiểm tra dữ liệu là sắp xếp các dự đoán của mô hình và tìm các mẫu mà nó sai nhiều nhất, nghĩa là, những dự đoán nào có xác suất dự đoán cao nhưng hóa ra lại sai.Để làm cho mọi thứ trở nên trực quan, chúng ta hãy lấy các lớp và xác suất dự đoán của mô hình hoạt động tốt nhất của chúng ta cùng với các mẫu xác thực (nhãn văn bản và nhãn đúng) và kết hợp chúng trong một pandas DataFrame."
      ]
    },
    {
      "cell_type": "code",
      "metadata": {
        "colab": {
          "base_uri": "https://localhost:8080/",
          "height": 206
        },
        "id": "bGs8STY24b4R",
        "outputId": "de41e841-ee33-4480-9330-41e3b8fa29b0"
      },
      "source": [
        "# Create dataframe with validation sentences and best performing model predictions\n",
        "val_df = pd.DataFrame({\"text\": val_sentences,\n",
        "                       \"target\": val_labels,\n",
        "                       \"pred\": model_6_preds,\n",
        "                       \"pred_prob\": tf.squeeze(model_6_pred_probs)})\n",
        "val_df.head()"
      ],
      "execution_count": null,
      "outputs": [
        {
          "output_type": "execute_result",
          "data": {
            "text/html": [
              "<div>\n",
              "<style scoped>\n",
              "    .dataframe tbody tr th:only-of-type {\n",
              "        vertical-align: middle;\n",
              "    }\n",
              "\n",
              "    .dataframe tbody tr th {\n",
              "        vertical-align: top;\n",
              "    }\n",
              "\n",
              "    .dataframe thead th {\n",
              "        text-align: right;\n",
              "    }\n",
              "</style>\n",
              "<table border=\"1\" class=\"dataframe\">\n",
              "  <thead>\n",
              "    <tr style=\"text-align: right;\">\n",
              "      <th></th>\n",
              "      <th>text</th>\n",
              "      <th>target</th>\n",
              "      <th>pred</th>\n",
              "      <th>pred_prob</th>\n",
              "    </tr>\n",
              "  </thead>\n",
              "  <tbody>\n",
              "    <tr>\n",
              "      <th>0</th>\n",
              "      <td>DFR EP016 Monthly Meltdown - On Dnbheaven 2015...</td>\n",
              "      <td>0</td>\n",
              "      <td>0.0</td>\n",
              "      <td>0.217351</td>\n",
              "    </tr>\n",
              "    <tr>\n",
              "      <th>1</th>\n",
              "      <td>FedEx no longer to transport bioterror germs i...</td>\n",
              "      <td>0</td>\n",
              "      <td>1.0</td>\n",
              "      <td>0.797780</td>\n",
              "    </tr>\n",
              "    <tr>\n",
              "      <th>2</th>\n",
              "      <td>Gunmen kill four in El Salvador bus attack: Su...</td>\n",
              "      <td>1</td>\n",
              "      <td>1.0</td>\n",
              "      <td>0.988894</td>\n",
              "    </tr>\n",
              "    <tr>\n",
              "      <th>3</th>\n",
              "      <td>@camilacabello97 Internally and externally scr...</td>\n",
              "      <td>1</td>\n",
              "      <td>0.0</td>\n",
              "      <td>0.211736</td>\n",
              "    </tr>\n",
              "    <tr>\n",
              "      <th>4</th>\n",
              "      <td>Radiation emergency #preparedness starts with ...</td>\n",
              "      <td>1</td>\n",
              "      <td>1.0</td>\n",
              "      <td>0.712665</td>\n",
              "    </tr>\n",
              "  </tbody>\n",
              "</table>\n",
              "</div>"
            ],
            "text/plain": [
              "                                                text  target  pred  pred_prob\n",
              "0  DFR EP016 Monthly Meltdown - On Dnbheaven 2015...       0   0.0   0.217351\n",
              "1  FedEx no longer to transport bioterror germs i...       0   1.0   0.797780\n",
              "2  Gunmen kill four in El Salvador bus attack: Su...       1   1.0   0.988894\n",
              "3  @camilacabello97 Internally and externally scr...       1   0.0   0.211736\n",
              "4  Radiation emergency #preparedness starts with ...       1   1.0   0.712665"
            ]
          },
          "metadata": {
            "tags": []
          },
          "execution_count": 91
        }
      ]
    },
    {
      "cell_type": "markdown",
      "metadata": {
        "id": "gS__a0IhNbaU"
      },
      "source": [
        "Bây giờ chúng ta hãy tìm các dự đoán sai của mô hình (trong đó `target! = Pred`) và sắp xếp chúng theo xác suất dự đoán của chúng (cột `pred_prob`)."
      ]
    },
    {
      "cell_type": "code",
      "metadata": {
        "colab": {
          "base_uri": "https://localhost:8080/",
          "height": 363
        },
        "id": "sF2JlxrTNUwn",
        "outputId": "faafdf73-5d9f-4e80-e47a-e3c417d94f13"
      },
      "source": [
        "# Find the wrong predictions and sort by prediction probabilities\n",
        "most_wrong = val_df[val_df[\"target\"] != val_df[\"pred\"]].sort_values(\"pred_prob\", ascending=False)\n",
        "most_wrong[:10]"
      ],
      "execution_count": null,
      "outputs": [
        {
          "output_type": "execute_result",
          "data": {
            "text/html": [
              "<div>\n",
              "<style scoped>\n",
              "    .dataframe tbody tr th:only-of-type {\n",
              "        vertical-align: middle;\n",
              "    }\n",
              "\n",
              "    .dataframe tbody tr th {\n",
              "        vertical-align: top;\n",
              "    }\n",
              "\n",
              "    .dataframe thead th {\n",
              "        text-align: right;\n",
              "    }\n",
              "</style>\n",
              "<table border=\"1\" class=\"dataframe\">\n",
              "  <thead>\n",
              "    <tr style=\"text-align: right;\">\n",
              "      <th></th>\n",
              "      <th>text</th>\n",
              "      <th>target</th>\n",
              "      <th>pred</th>\n",
              "      <th>pred_prob</th>\n",
              "    </tr>\n",
              "  </thead>\n",
              "  <tbody>\n",
              "    <tr>\n",
              "      <th>31</th>\n",
              "      <td>? High Skies - Burning Buildings ? http://t.co...</td>\n",
              "      <td>0</td>\n",
              "      <td>1.0</td>\n",
              "      <td>0.925009</td>\n",
              "    </tr>\n",
              "    <tr>\n",
              "      <th>759</th>\n",
              "      <td>FedEx will no longer transport bioterror patho...</td>\n",
              "      <td>0</td>\n",
              "      <td>1.0</td>\n",
              "      <td>0.910468</td>\n",
              "    </tr>\n",
              "    <tr>\n",
              "      <th>628</th>\n",
              "      <td>@noah_anyname That's where the concentration c...</td>\n",
              "      <td>0</td>\n",
              "      <td>1.0</td>\n",
              "      <td>0.861789</td>\n",
              "    </tr>\n",
              "    <tr>\n",
              "      <th>49</th>\n",
              "      <td>@madonnamking RSPCA site multiple 7 story high...</td>\n",
              "      <td>0</td>\n",
              "      <td>1.0</td>\n",
              "      <td>0.856335</td>\n",
              "    </tr>\n",
              "    <tr>\n",
              "      <th>109</th>\n",
              "      <td>[55436] 1950 LIONEL TRAINS SMOKE LOCOMOTIVES W...</td>\n",
              "      <td>0</td>\n",
              "      <td>1.0</td>\n",
              "      <td>0.850560</td>\n",
              "    </tr>\n",
              "    <tr>\n",
              "      <th>393</th>\n",
              "      <td>@SonofLiberty357 all illuminated by the bright...</td>\n",
              "      <td>0</td>\n",
              "      <td>1.0</td>\n",
              "      <td>0.848758</td>\n",
              "    </tr>\n",
              "    <tr>\n",
              "      <th>209</th>\n",
              "      <td>Ashes 2015: AustraliaÛªs collapse at Trent Br...</td>\n",
              "      <td>0</td>\n",
              "      <td>1.0</td>\n",
              "      <td>0.841808</td>\n",
              "    </tr>\n",
              "    <tr>\n",
              "      <th>251</th>\n",
              "      <td>@AshGhebranious civil rights continued in the ...</td>\n",
              "      <td>0</td>\n",
              "      <td>1.0</td>\n",
              "      <td>0.823690</td>\n",
              "    </tr>\n",
              "    <tr>\n",
              "      <th>144</th>\n",
              "      <td>The Sound of Arson</td>\n",
              "      <td>0</td>\n",
              "      <td>1.0</td>\n",
              "      <td>0.812016</td>\n",
              "    </tr>\n",
              "    <tr>\n",
              "      <th>698</th>\n",
              "      <td>åÈMGN-AFRICAå¨ pin:263789F4 åÈ Correction: Ten...</td>\n",
              "      <td>0</td>\n",
              "      <td>1.0</td>\n",
              "      <td>0.805860</td>\n",
              "    </tr>\n",
              "  </tbody>\n",
              "</table>\n",
              "</div>"
            ],
            "text/plain": [
              "                                                  text  target  pred  pred_prob\n",
              "31   ? High Skies - Burning Buildings ? http://t.co...       0   1.0   0.925009\n",
              "759  FedEx will no longer transport bioterror patho...       0   1.0   0.910468\n",
              "628  @noah_anyname That's where the concentration c...       0   1.0   0.861789\n",
              "49   @madonnamking RSPCA site multiple 7 story high...       0   1.0   0.856335\n",
              "109  [55436] 1950 LIONEL TRAINS SMOKE LOCOMOTIVES W...       0   1.0   0.850560\n",
              "393  @SonofLiberty357 all illuminated by the bright...       0   1.0   0.848758\n",
              "209  Ashes 2015: AustraliaÛªs collapse at Trent Br...       0   1.0   0.841808\n",
              "251  @AshGhebranious civil rights continued in the ...       0   1.0   0.823690\n",
              "144                                 The Sound of Arson       0   1.0   0.812016\n",
              "698  åÈMGN-AFRICAå¨ pin:263789F4 åÈ Correction: Ten...       0   1.0   0.805860"
            ]
          },
          "metadata": {
            "tags": []
          },
          "execution_count": 92
        }
      ]
    },
    {
      "cell_type": "code",
      "metadata": {
        "colab": {
          "base_uri": "https://localhost:8080/"
        },
        "id": "t8vYHt2FNnmr",
        "outputId": "c6817c05-f31a-4d88-f5b7-11565f51fae0"
      },
      "source": [
        "# Check the false positives (model predicted 1 when should've been 0)\n",
        "for row in most_wrong[:10].itertuples(): # loop through the top 10 rows (change the index to view different rows)\n",
        "  _, text, target, pred, prob = row\n",
        "  print(f\"Target: {target}, Pred: {int(pred)}, Prob: {prob}\")\n",
        "  print(f\"Text:\\n{text}\\n\")\n",
        "  print(\"----\\n\")"
      ],
      "execution_count": null,
      "outputs": [
        {
          "output_type": "stream",
          "text": [
            "Target: 0, Pred: 1, Prob: 0.9250094294548035\n",
            "Text:\n",
            "? High Skies - Burning Buildings ? http://t.co/uVq41i3Kx2 #nowplaying\n",
            "\n",
            "----\n",
            "\n",
            "Target: 0, Pred: 1, Prob: 0.9104680418968201\n",
            "Text:\n",
            "FedEx will no longer transport bioterror pathogens in wake of anthrax lab mishaps http://t.co/lHpgxc4b8J\n",
            "\n",
            "----\n",
            "\n",
            "Target: 0, Pred: 1, Prob: 0.8617887496948242\n",
            "Text:\n",
            "@noah_anyname That's where the concentration camps and mass murder come in. \n",
            " \n",
            "EVERY. FUCKING. TIME.\n",
            "\n",
            "----\n",
            "\n",
            "Target: 0, Pred: 1, Prob: 0.8563347458839417\n",
            "Text:\n",
            "@madonnamking RSPCA site multiple 7 story high rise buildings next to low density character residential in an area that floods\n",
            "\n",
            "----\n",
            "\n",
            "Target: 0, Pred: 1, Prob: 0.8505604267120361\n",
            "Text:\n",
            "[55436] 1950 LIONEL TRAINS SMOKE LOCOMOTIVES WITH MAGNE-TRACTION INSTRUCTIONS http://t.co/xEZBs3sq0y http://t.co/C2x0QoKGlY\n",
            "\n",
            "----\n",
            "\n",
            "Target: 0, Pred: 1, Prob: 0.8487579226493835\n",
            "Text:\n",
            "@SonofLiberty357 all illuminated by the brightly burning buildings all around the town!\n",
            "\n",
            "----\n",
            "\n",
            "Target: 0, Pred: 1, Prob: 0.8418077230453491\n",
            "Text:\n",
            "Ashes 2015: AustraliaÛªs collapse at Trent Bridge among worst in history: England bundled out Australia for 60 ... http://t.co/t5TrhjUAU0\n",
            "\n",
            "----\n",
            "\n",
            "Target: 0, Pred: 1, Prob: 0.8236899375915527\n",
            "Text:\n",
            "@AshGhebranious civil rights continued in the 60s. And what about trans-generational trauma? if anything we should listen to the Americans.\n",
            "\n",
            "----\n",
            "\n",
            "Target: 0, Pred: 1, Prob: 0.812015950679779\n",
            "Text:\n",
            "The Sound of Arson\n",
            "\n",
            "----\n",
            "\n",
            "Target: 0, Pred: 1, Prob: 0.805860161781311\n",
            "Text:\n",
            "åÈMGN-AFRICAå¨ pin:263789F4 åÈ Correction: Tent Collapse Story: Correction: Tent Collapse story åÈ http://t.co/fDJUYvZMrv @wizkidayo\n",
            "\n",
            "----\n",
            "\n"
          ],
          "name": "stdout"
        }
      ]
    },
    {
      "cell_type": "code",
      "metadata": {
        "colab": {
          "base_uri": "https://localhost:8080/"
        },
        "id": "HLHGpFv3NyjO",
        "outputId": "e0f60312-5b03-4b76-8e68-19494d481206"
      },
      "source": [
        "# Check the most wrong false negatives (model predicted 0 when should've predict 1)\n",
        "for row in most_wrong[-10:].itertuples():\n",
        "  _, text, target, pred, prob = row\n",
        "  print(f\"Target: {target}, Pred: {int(pred)}, Prob: {prob}\")\n",
        "  print(f\"Text:\\n{text}\\n\")\n",
        "  print(\"----\\n\")"
      ],
      "execution_count": null,
      "outputs": [
        {
          "output_type": "stream",
          "text": [
            "Target: 1, Pred: 0, Prob: 0.06529004126787186\n",
            "Text:\n",
            "Lucas Duda is Ghost Rider. Not the Nic Cage version but an actual 'engulfed in flames' badass. #Mets\n",
            "\n",
            "----\n",
            "\n",
            "Target: 1, Pred: 0, Prob: 0.060206759721040726\n",
            "Text:\n",
            "going to redo my nails and watch behind the scenes of desolation of smaug ayyy\n",
            "\n",
            "----\n",
            "\n",
            "Target: 1, Pred: 0, Prob: 0.06001098453998566\n",
            "Text:\n",
            "'The way you move is like a full on rainstorm and I'm a house of cards'\n",
            "\n",
            "----\n",
            "\n",
            "Target: 1, Pred: 0, Prob: 0.05927712097764015\n",
            "Text:\n",
            "@willienelson We need help! Horses will die!Please RT &amp; sign petition!Take a stand &amp; be a voice for them! #gilbert23 https://t.co/e8dl1lNCVu\n",
            "\n",
            "----\n",
            "\n",
            "Target: 1, Pred: 0, Prob: 0.05103147029876709\n",
            "Text:\n",
            "You can never escape me. Bullets don't harm me. Nothing harms me. But I know pain. I know pain. Sometimes I share it. With someone like you.\n",
            "\n",
            "----\n",
            "\n",
            "Target: 1, Pred: 0, Prob: 0.04753189906477928\n",
            "Text:\n",
            "Why are you deluged with low self-image? Take the quiz: http://t.co/XsPqdOrIqj http://t.co/CQYvFR4UCy\n",
            "\n",
            "----\n",
            "\n",
            "Target: 1, Pred: 0, Prob: 0.04540782794356346\n",
            "Text:\n",
            "I get to smoke my shit in peace\n",
            "\n",
            "----\n",
            "\n",
            "Target: 1, Pred: 0, Prob: 0.042005572468042374\n",
            "Text:\n",
            "@SoonerMagic_ I mean I'm a fan but I don't need a girl sounding off like a damn siren\n",
            "\n",
            "----\n",
            "\n",
            "Target: 1, Pred: 0, Prob: 0.0390472337603569\n",
            "Text:\n",
            "Ron &amp; Fez - Dave's High School Crush https://t.co/aN3W16c8F6 via @YouTube\n",
            "\n",
            "----\n",
            "\n",
            "Target: 1, Pred: 0, Prob: 0.03843502327799797\n",
            "Text:\n",
            "Reddit Will Now QuarantineÛ_ http://t.co/pkUAMXw6pm #onlinecommunities #reddit #amageddon #freespeech #Business http://t.co/PAWvNJ4sAP\n",
            "\n",
            "----\n",
            "\n"
          ],
          "name": "stdout"
        }
      ]
    },
    {
      "cell_type": "markdown",
      "metadata": {
        "id": "ogrQLXvLXYxl"
      },
      "source": [
        "# **Đưa ra dự báo.**"
      ]
    },
    {
      "cell_type": "markdown",
      "metadata": {
        "id": "vBQSgRwEXd8R"
      },
      "source": [
        "## **Đưa ra dự đoán trên tập dữ liệu thử nghiệm**"
      ]
    },
    {
      "cell_type": "code",
      "metadata": {
        "colab": {
          "base_uri": "https://localhost:8080/"
        },
        "id": "K3HI69XoXsb2",
        "outputId": "a279db5b-1337-4861-a2cf-402d054dc515"
      },
      "source": [
        "# Making predictions on the test dataset\n",
        "test_sentences = test_df[\"text\"].to_list()\n",
        "test_samples = random.sample(test_sentences, 10)\n",
        "for test_sample in test_samples:\n",
        "  pred_prob = tf.squeeze(model_6.predict([test_sample])) # has to be list\n",
        "  pred = tf.round(pred_prob)\n",
        "  print(f\"Pred: {int(pred)}, Prob: {pred_prob}\")\n",
        "  print(f\"Text:\\n{test_sample}\\n\")\n",
        "  print(\"----\\n\")"
      ],
      "execution_count": null,
      "outputs": [
        {
          "output_type": "stream",
          "text": [
            "Pred: 1, Prob: 0.6004689931869507\n",
            "Text:\n",
            "raleigh cyclone 15 gear mountain bike 26'': http://t.co/4LpPmad80G #sportinggoods http://t.co/lleFHhggrL\n",
            "\n",
            "----\n",
            "\n",
            "Pred: 0, Prob: 0.124332495033741\n",
            "Text:\n",
            "From the Archive: National Poetry Month: Anterior of a Razed Room http://t.co/7ARN4OBiyC\n",
            "\n",
            "----\n",
            "\n",
            "Pred: 0, Prob: 0.16306373476982117\n",
            "Text:\n",
            "I just heard a really loud bang outside my bedroom door and Im afraid\n",
            "\n",
            "----\n",
            "\n",
            "Pred: 1, Prob: 0.7208197712898254\n",
            "Text:\n",
            "Harper gets sassed by Albertans after calling NDP government a Û÷disaster' http://t.co/vsMOJyfzDg via @huffpostalberta #HarperBlamesAlbertans\n",
            "\n",
            "----\n",
            "\n",
            "Pred: 1, Prob: 0.9665955305099487\n",
            "Text:\n",
            "Storm is here! Violent winds and pounding rains in Evergreen. #yyc\n",
            "\n",
            "----\n",
            "\n",
            "Pred: 0, Prob: 0.1245657280087471\n",
            "Text:\n",
            "After a long battle @Spurs Matt Bonner took care of Brian Scalabrine in knockout this after... (Vine by @NBA) https://t.co/Q3mGYRDHSF\n",
            "\n",
            "----\n",
            "\n",
            "Pred: 0, Prob: 0.4249539375305176\n",
            "Text:\n",
            "Nuclear-Deal: Indo-Japan pact lies at the heart of two US reactor-based projects: If Japan were to go ahead an... http://t.co/mvwdm9ZbcV\n",
            "\n",
            "----\n",
            "\n",
            "Pred: 1, Prob: 0.5034571290016174\n",
            "Text:\n",
            "Evacuation drill at work. The fire doors wouldn't open so i got to smash the emergency release glass #feelingmanly\n",
            "\n",
            "----\n",
            "\n",
            "Pred: 0, Prob: 0.21976514160633087\n",
            "Text:\n",
            "Truth...\n",
            "https://t.co/GLzggDjQeH\n",
            "#News\n",
            "#BBC\n",
            "#CNN\n",
            "#Islam\n",
            "#Truth\n",
            "#god\n",
            "#ISIS\n",
            "#terrorism\n",
            "#Quran\n",
            "#Lies http://t.co/MYtCbJ6nmh\n",
            "\n",
            "----\n",
            "\n",
            "Pred: 0, Prob: 0.10480575263500214\n",
            "Text:\n",
            "*anti cigarette smoking commercial comes on*\n",
            "me *goes outside and smokes*\n",
            "thanks for reminding me to go smoke lol\n",
            "\n",
            "----\n",
            "\n"
          ],
          "name": "stdout"
        }
      ]
    },
    {
      "cell_type": "markdown",
      "metadata": {
        "id": "9Im7ck-3Y7_W"
      },
      "source": [
        "## Dự đoán trên Tweet thực tế\n"
      ]
    },
    {
      "cell_type": "code",
      "metadata": {
        "id": "KIoBXZuVZEJ4"
      },
      "source": [
        "tweet = \"Life like an ensemble: take the best choices from others and make your own\""
      ],
      "execution_count": null,
      "outputs": []
    },
    {
      "cell_type": "code",
      "metadata": {
        "id": "WpoitWajZJsj"
      },
      "source": [
        "def predict_on_sentence(model, sentence):\n",
        "  \"\"\"\n",
        "  Uses model to make a prediction on sentence.\n",
        "\n",
        "  Returns the sentence, the predicted label and the prediction probability.\n",
        "  \"\"\"\n",
        "  pred_prob = model.predict([sentence])\n",
        "  pred_label = tf.squeeze(tf.round(pred_prob)).numpy()\n",
        "  print(f\"Pred: {pred_label}\", \"(real disaster)\" if pred_label > 0 else \"(not real disaster)\", f\"Prob: {pred_prob[0][0]}\")\n",
        "  print(f\"Text:\\n{sentence}\")"
      ],
      "execution_count": null,
      "outputs": []
    },
    {
      "cell_type": "code",
      "metadata": {
        "colab": {
          "base_uri": "https://localhost:8080/"
        },
        "id": "LaTZlQ4CZLtO",
        "outputId": "262f8b8e-21c7-401c-f49e-0623710f4967"
      },
      "source": [
        "# Make a prediction on Tweet from the wild\n",
        "predict_on_sentence(model=model_6, # use the USE model\n",
        "                    sentence=tweet)"
      ],
      "execution_count": null,
      "outputs": [
        {
          "output_type": "stream",
          "text": [
            "Pred: 0.0 (not real disaster) Prob: 0.05542650818824768\n",
            "Text:\n",
            "Life like an ensemble: take the best choices from others and make your own\n"
          ],
          "name": "stdout"
        }
      ]
    },
    {
      "cell_type": "code",
      "metadata": {
        "id": "9vKyzc0-ZikC"
      },
      "source": [
        "# Source - https://twitter.com/BeirutCityGuide/status/1290696551376007168\n",
        "beirut_tweet_1 = \"Reports that the smoke in Beirut sky contains nitric acid, which is toxic. Please share and refrain from stepping outside unless urgent. #Lebanon\"\n",
        "\n",
        "# Source - https://twitter.com/BeirutCityGuide/status/1290773498743476224\n",
        "beirut_tweet_2 = \"#Beirut declared a “devastated city”, two-week state of emergency officially declared. #Lebanon\""
      ],
      "execution_count": null,
      "outputs": []
    },
    {
      "cell_type": "code",
      "metadata": {
        "colab": {
          "base_uri": "https://localhost:8080/"
        },
        "id": "m_roJadOZkS3",
        "outputId": "b7369139-3c75-48c7-f249-8b1ccd268163"
      },
      "source": [
        "# Predict on diaster Tweet 1\n",
        "predict_on_sentence(model=model_6, \n",
        "                    sentence=beirut_tweet_1)"
      ],
      "execution_count": null,
      "outputs": [
        {
          "output_type": "stream",
          "text": [
            "Pred: 1.0 (real disaster) Prob: 0.9705262780189514\n",
            "Text:\n",
            "Reports that the smoke in Beirut sky contains nitric acid, which is toxic. Please share and refrain from stepping outside unless urgent. #Lebanon\n"
          ],
          "name": "stdout"
        }
      ]
    },
    {
      "cell_type": "code",
      "metadata": {
        "id": "aFaHTksMZqAz",
        "colab": {
          "base_uri": "https://localhost:8080/"
        },
        "outputId": "c3e1c757-5945-4ba7-ee59-3944fdfbca57"
      },
      "source": [
        "# Predict on diaster Tweet 2\n",
        "predict_on_sentence(model=model_6, \n",
        "                    sentence=beirut_tweet_2)"
      ],
      "execution_count": null,
      "outputs": [
        {
          "output_type": "stream",
          "text": [
            "Pred: 1.0 (real disaster) Prob: 0.9781783223152161\n",
            "Text:\n",
            "#Beirut declared a “devastated city”, two-week state of emergency officially declared. #Lebanon\n"
          ],
          "name": "stdout"
        }
      ]
    }
  ]
}