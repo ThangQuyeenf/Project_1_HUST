{
  "nbformat": 4,
  "nbformat_minor": 0,
  "metadata": {
    "colab": {
      "name": "Numpy.ipynb",
      "provenance": [],
      "toc_visible": true
    },
    "kernelspec": {
      "name": "python3",
      "display_name": "Python 3"
    },
    "language_info": {
      "name": "python"
    }
  },
  "cells": [
    {
      "cell_type": "markdown",
      "metadata": {
        "id": "FazJV3FN-VX5"
      },
      "source": [
        "# **1. Giới thiệu chung**"
      ]
    },
    {
      "cell_type": "markdown",
      "metadata": {
        "id": "D43VCsp2-aMI"
      },
      "source": [
        "- Numpy là viết tắt của \"**Numerical Python**\", là một thư viện chuẩn để xử lý, tính toán vector, ma trận.\n",
        "- Numpy thường được sử dụng cùng **SciPy** và **Matplotlib** thay thế cho **Matlab**\n",
        "- Được viết bằng Python và C nên tốc độ thực thi tốt"
      ]
    },
    {
      "cell_type": "markdown",
      "metadata": {
        "id": "lXZyF5qj_ANP"
      },
      "source": [
        "# **2. Numpy array**"
      ]
    },
    {
      "cell_type": "markdown",
      "metadata": {
        "id": "vRxGV_cOAiji"
      },
      "source": [
        "\n",
        "Điểm ưu thế của NumPy so với Python thuần là có thể mô phỏng được mảng nhiều chiều\n",
        "\n",
        "![image.png](data:image/png;base64,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)"
      ]
    },
    {
      "cell_type": "markdown",
      "metadata": {
        "id": "-QxPJeE7App2"
      },
      "source": [
        "## **2.1. Import thư viện Numpy**"
      ]
    },
    {
      "cell_type": "code",
      "metadata": {
        "id": "wJg5-Q6B-RaR"
      },
      "source": [
        "import numpy as np"
      ],
      "execution_count": null,
      "outputs": []
    },
    {
      "cell_type": "markdown",
      "metadata": {
        "id": "VXMeula9A8Km"
      },
      "source": [
        "## **2.2. Khởi tạo một Array**"
      ]
    },
    {
      "cell_type": "markdown",
      "metadata": {
        "id": "5ejoYSlwBTb-"
      },
      "source": [
        "**2.2.1 np.array()**\n",
        "\n",
        "**Mảng 1 chiều** "
      ]
    },
    {
      "cell_type": "code",
      "metadata": {
        "colab": {
          "base_uri": "https://localhost:8080/"
        },
        "id": "wnAyPMGSBCMD",
        "outputId": "50feca0d-4ce1-480c-9ec5-ba5ebf3df047"
      },
      "source": [
        "number_vector = np.array([1, 2, 3, 4])\n",
        "number_vector"
      ],
      "execution_count": null,
      "outputs": [
        {
          "output_type": "execute_result",
          "data": {
            "text/plain": [
              "array([1, 2, 3, 4])"
            ]
          },
          "metadata": {
            "tags": []
          },
          "execution_count": 2
        }
      ]
    },
    {
      "cell_type": "code",
      "metadata": {
        "colab": {
          "base_uri": "https://localhost:8080/"
        },
        "id": "UsM4BzEgBqXf",
        "outputId": "06bd9914-5e5b-4f48-cd1b-b390eaca4ea5"
      },
      "source": [
        "number_vector.shape"
      ],
      "execution_count": null,
      "outputs": [
        {
          "output_type": "execute_result",
          "data": {
            "text/plain": [
              "(4,)"
            ]
          },
          "metadata": {
            "tags": []
          },
          "execution_count": 3
        }
      ]
    },
    {
      "cell_type": "markdown",
      "metadata": {
        "id": "SfeCL05LCUHG"
      },
      "source": [
        "**Mảng 2 chiều**\n"
      ]
    },
    {
      "cell_type": "code",
      "metadata": {
        "colab": {
          "base_uri": "https://localhost:8080/"
        },
        "id": "20F2jEWACXv2",
        "outputId": "3ac50cdf-80b8-4a06-d6dc-d01854c6ce8c"
      },
      "source": [
        "numbers_matrix = np.array([[1, 2, 3],[1, 4, 9]])\n",
        "numbers_matrix"
      ],
      "execution_count": null,
      "outputs": [
        {
          "output_type": "execute_result",
          "data": {
            "text/plain": [
              "array([[1, 2, 3],\n",
              "       [1, 4, 9]])"
            ]
          },
          "metadata": {
            "tags": []
          },
          "execution_count": 5
        }
      ]
    },
    {
      "cell_type": "code",
      "metadata": {
        "colab": {
          "base_uri": "https://localhost:8080/"
        },
        "id": "hi4wErxtCzjO",
        "outputId": "cf30b5e3-66fc-4252-9c7c-e57c51284593"
      },
      "source": [
        "numbers_matrix.shape"
      ],
      "execution_count": null,
      "outputs": [
        {
          "output_type": "execute_result",
          "data": {
            "text/plain": [
              "(2, 3)"
            ]
          },
          "metadata": {
            "tags": []
          },
          "execution_count": 6
        }
      ]
    },
    {
      "cell_type": "markdown",
      "metadata": {
        "id": "7hFh_mXVC6qd"
      },
      "source": [
        "**Mảng 3 chiều**"
      ]
    },
    {
      "cell_type": "code",
      "metadata": {
        "id": "kcXH2WfBC9_N"
      },
      "source": [
        "number_3D_matrix = np.array([\n",
        "    [[1, 2, 3], [4, 5, 6]],\n",
        "    [[1, 2, 3], [4, 5, 6]]\n",
        "])"
      ],
      "execution_count": null,
      "outputs": []
    },
    {
      "cell_type": "code",
      "metadata": {
        "colab": {
          "base_uri": "https://localhost:8080/"
        },
        "id": "QtJnWFzJDAP7",
        "outputId": "df418faf-2e9b-4f34-afc3-d47e7dd9fb7e"
      },
      "source": [
        "number_3D_matrix"
      ],
      "execution_count": null,
      "outputs": [
        {
          "output_type": "execute_result",
          "data": {
            "text/plain": [
              "array([[[1, 2, 3],\n",
              "        [4, 5, 6]],\n",
              "\n",
              "       [[1, 2, 3],\n",
              "        [4, 5, 6]]])"
            ]
          },
          "metadata": {
            "tags": []
          },
          "execution_count": 9
        }
      ]
    },
    {
      "cell_type": "code",
      "metadata": {
        "colab": {
          "base_uri": "https://localhost:8080/"
        },
        "id": "BFX2aU4BDCMo",
        "outputId": "97a96e3a-6aa6-4639-c0ea-2a28667256a8"
      },
      "source": [
        "number_3D_matrix.shape"
      ],
      "execution_count": null,
      "outputs": [
        {
          "output_type": "execute_result",
          "data": {
            "text/plain": [
              "(2, 2, 3)"
            ]
          },
          "metadata": {
            "tags": []
          },
          "execution_count": 10
        }
      ]
    },
    {
      "cell_type": "markdown",
      "metadata": {
        "id": "zlGo3QCOEfcd"
      },
      "source": [
        "**2.2.2. zeros() - ones() - full()**\n",
        "\n",
        "Tạo ra mảng có giá trị bằng nhau\n",
        "\n",
        "- zeros() tạo ra mảng các giá trị đều bằng 0, đầu vào là shape của array dưới dạng tuple\n",
        "- ones() tạo ra mảng các giá trị đều bằng 1, đầu vào là shape của array dưới dạng tuple\n",
        "- full() tạo ra mảng các giá trị bằng nhau và bằng một số cho trước, đầu vào là shape của array dưới dạng tuple và giá trị cho trước"
      ]
    },
    {
      "cell_type": "markdown",
      "metadata": {
        "id": "nxzYxGLzGdeA"
      },
      "source": [
        "**Mảng 1 chiều**\n",
        "\n",
        "np.zeros()"
      ]
    },
    {
      "cell_type": "code",
      "metadata": {
        "colab": {
          "base_uri": "https://localhost:8080/"
        },
        "id": "DyIXrv_6Gvgg",
        "outputId": "6daf099c-955b-4493-c8df-e95dfb9d662e"
      },
      "source": [
        "number_1D_zeros = np.zeros((7, ))\n",
        "number_1D_zeros"
      ],
      "execution_count": null,
      "outputs": [
        {
          "output_type": "execute_result",
          "data": {
            "text/plain": [
              "array([0., 0., 0., 0., 0., 0., 0.])"
            ]
          },
          "metadata": {
            "tags": []
          },
          "execution_count": 11
        }
      ]
    },
    {
      "cell_type": "markdown",
      "metadata": {
        "id": "daByBtYwG1Sc"
      },
      "source": [
        "np.ones()"
      ]
    },
    {
      "cell_type": "code",
      "metadata": {
        "colab": {
          "base_uri": "https://localhost:8080/"
        },
        "id": "bbQyWENyG3HM",
        "outputId": "c2eb0369-8511-45b0-b301-19f98530b758"
      },
      "source": [
        "number_1D_ones = np.ones((4,))\n",
        "number_1D_ones"
      ],
      "execution_count": null,
      "outputs": [
        {
          "output_type": "execute_result",
          "data": {
            "text/plain": [
              "array([1., 1., 1., 1.])"
            ]
          },
          "metadata": {
            "tags": []
          },
          "execution_count": 12
        }
      ]
    },
    {
      "cell_type": "markdown",
      "metadata": {
        "id": "BVZ1LJ4EG_te"
      },
      "source": [
        "np.full()"
      ]
    },
    {
      "cell_type": "code",
      "metadata": {
        "colab": {
          "base_uri": "https://localhost:8080/"
        },
        "id": "xFeLKjHeHCJ9",
        "outputId": "23e4a904-8aab-4450-bd0f-5701fa4be84a"
      },
      "source": [
        "number_1D_full = np.full((5,), 2)\n",
        "number_1D_full"
      ],
      "execution_count": null,
      "outputs": [
        {
          "output_type": "execute_result",
          "data": {
            "text/plain": [
              "array([2, 2, 2, 2, 2])"
            ]
          },
          "metadata": {
            "tags": []
          },
          "execution_count": 14
        }
      ]
    },
    {
      "cell_type": "markdown",
      "metadata": {
        "id": "PSN3z1pSHOJ8"
      },
      "source": [
        "**Mảng hai chiều**\n",
        "\n",
        "np.zeros()"
      ]
    },
    {
      "cell_type": "code",
      "metadata": {
        "colab": {
          "base_uri": "https://localhost:8080/"
        },
        "id": "N8hADt6iHR8N",
        "outputId": "da8d87c2-6860-4df4-ba66-dda4a063a535"
      },
      "source": [
        "number_2D_zeros = np.zeros((7,3))\n",
        "number_2D_zeros"
      ],
      "execution_count": null,
      "outputs": [
        {
          "output_type": "execute_result",
          "data": {
            "text/plain": [
              "array([[0., 0., 0.],\n",
              "       [0., 0., 0.],\n",
              "       [0., 0., 0.],\n",
              "       [0., 0., 0.],\n",
              "       [0., 0., 0.],\n",
              "       [0., 0., 0.],\n",
              "       [0., 0., 0.]])"
            ]
          },
          "metadata": {
            "tags": []
          },
          "execution_count": 15
        }
      ]
    },
    {
      "cell_type": "markdown",
      "metadata": {
        "id": "axGxL15sHa-U"
      },
      "source": [
        "np.ones()"
      ]
    },
    {
      "cell_type": "code",
      "metadata": {
        "colab": {
          "base_uri": "https://localhost:8080/"
        },
        "id": "UPQtQTsBHdM4",
        "outputId": "7a181ae1-4ffc-4e63-be8a-43cc915bb5f8"
      },
      "source": [
        "number_2D_ones = np.ones((3,3))\n",
        "number_2D_ones"
      ],
      "execution_count": null,
      "outputs": [
        {
          "output_type": "execute_result",
          "data": {
            "text/plain": [
              "array([[1., 1., 1.],\n",
              "       [1., 1., 1.],\n",
              "       [1., 1., 1.]])"
            ]
          },
          "metadata": {
            "tags": []
          },
          "execution_count": 17
        }
      ]
    },
    {
      "cell_type": "markdown",
      "metadata": {
        "id": "5gqzjIb5HnYU"
      },
      "source": [
        "np.full()"
      ]
    },
    {
      "cell_type": "code",
      "metadata": {
        "colab": {
          "base_uri": "https://localhost:8080/"
        },
        "id": "6eERSwIUHpFO",
        "outputId": "a942d706-7db6-4ac8-90c3-d9fe006721b6"
      },
      "source": [
        "number_2D_full = np.full((2, 3), 4)\n",
        "number_2D_full"
      ],
      "execution_count": null,
      "outputs": [
        {
          "output_type": "execute_result",
          "data": {
            "text/plain": [
              "array([[4, 4, 4],\n",
              "       [4, 4, 4]])"
            ]
          },
          "metadata": {
            "tags": []
          },
          "execution_count": 18
        }
      ]
    },
    {
      "cell_type": "markdown",
      "metadata": {
        "id": "31JY2LX6H2H0"
      },
      "source": [
        "**Mảng ba chiều**\n",
        "\n",
        "np.zeros()"
      ]
    },
    {
      "cell_type": "code",
      "metadata": {
        "colab": {
          "base_uri": "https://localhost:8080/"
        },
        "id": "AYgnUYyWH6T8",
        "outputId": "3f0a666d-8fae-45f1-d0e7-6f5f30a8fa5a"
      },
      "source": [
        "number_3D_zeros = np.zeros((4, 2, 3))\n",
        "number_3D_zeros"
      ],
      "execution_count": null,
      "outputs": [
        {
          "output_type": "execute_result",
          "data": {
            "text/plain": [
              "array([[[0., 0., 0.],\n",
              "        [0., 0., 0.]],\n",
              "\n",
              "       [[0., 0., 0.],\n",
              "        [0., 0., 0.]],\n",
              "\n",
              "       [[0., 0., 0.],\n",
              "        [0., 0., 0.]],\n",
              "\n",
              "       [[0., 0., 0.],\n",
              "        [0., 0., 0.]]])"
            ]
          },
          "metadata": {
            "tags": []
          },
          "execution_count": 19
        }
      ]
    },
    {
      "cell_type": "markdown",
      "metadata": {
        "id": "VDuQNoTjIBBE"
      },
      "source": [
        "np.ones()"
      ]
    },
    {
      "cell_type": "code",
      "metadata": {
        "colab": {
          "base_uri": "https://localhost:8080/"
        },
        "id": "WCWiwqYKIFWN",
        "outputId": "f8cfb626-1c8d-4798-e6f3-04d1a570255f"
      },
      "source": [
        "number_3D_ones = np.ones((2, 3, 4))\n",
        "number_3D_ones"
      ],
      "execution_count": null,
      "outputs": [
        {
          "output_type": "execute_result",
          "data": {
            "text/plain": [
              "array([[[1., 1., 1., 1.],\n",
              "        [1., 1., 1., 1.],\n",
              "        [1., 1., 1., 1.]],\n",
              "\n",
              "       [[1., 1., 1., 1.],\n",
              "        [1., 1., 1., 1.],\n",
              "        [1., 1., 1., 1.]]])"
            ]
          },
          "metadata": {
            "tags": []
          },
          "execution_count": 20
        }
      ]
    },
    {
      "cell_type": "markdown",
      "metadata": {
        "id": "M9U-3g10IQek"
      },
      "source": [
        "np.full()"
      ]
    },
    {
      "cell_type": "code",
      "metadata": {
        "colab": {
          "base_uri": "https://localhost:8080/"
        },
        "id": "U1bUGzLIISJ2",
        "outputId": "f8a793f0-793d-4a52-a0dd-d0742b459710"
      },
      "source": [
        "number_3D_full = np.full((3, 3, 3), 9)\n",
        "number_3D_full"
      ],
      "execution_count": null,
      "outputs": [
        {
          "output_type": "execute_result",
          "data": {
            "text/plain": [
              "array([[[9, 9, 9],\n",
              "        [9, 9, 9],\n",
              "        [9, 9, 9]],\n",
              "\n",
              "       [[9, 9, 9],\n",
              "        [9, 9, 9],\n",
              "        [9, 9, 9]],\n",
              "\n",
              "       [[9, 9, 9],\n",
              "        [9, 9, 9],\n",
              "        [9, 9, 9]]])"
            ]
          },
          "metadata": {
            "tags": []
          },
          "execution_count": 21
        }
      ]
    },
    {
      "cell_type": "markdown",
      "metadata": {
        "id": "9lm6P0noIbku"
      },
      "source": [
        "**2.2.3. np.eye()**\n",
        "\n",
        "Tạo ra một ma trận đơn vị"
      ]
    },
    {
      "cell_type": "code",
      "metadata": {
        "colab": {
          "base_uri": "https://localhost:8080/"
        },
        "id": "5IgPTlk-Il38",
        "outputId": "4508a153-80bf-4953-b2a0-4278abea612f"
      },
      "source": [
        "np.eye((5))"
      ],
      "execution_count": null,
      "outputs": [
        {
          "output_type": "execute_result",
          "data": {
            "text/plain": [
              "array([[1., 0., 0., 0., 0.],\n",
              "       [0., 1., 0., 0., 0.],\n",
              "       [0., 0., 1., 0., 0.],\n",
              "       [0., 0., 0., 1., 0.],\n",
              "       [0., 0., 0., 0., 1.]])"
            ]
          },
          "metadata": {
            "tags": []
          },
          "execution_count": 22
        }
      ]
    },
    {
      "cell_type": "markdown",
      "metadata": {
        "id": "3gVP_kDwIosP"
      },
      "source": [
        "**2.2.4. np.arange()**\n",
        "\n",
        "Tạo ra một Array có giá trị chạy trong khoảng cho trước"
      ]
    },
    {
      "cell_type": "code",
      "metadata": {
        "colab": {
          "base_uri": "https://localhost:8080/"
        },
        "id": "rU-YlU12JAEv",
        "outputId": "2b7b8432-c288-4cfa-8680-3d9d27952640"
      },
      "source": [
        "# Tạo ra 1 Array chạy từ 1 - 10\n",
        "number_1D_range_10 = np.arange(10)\n",
        "number_1D_range_10"
      ],
      "execution_count": null,
      "outputs": [
        {
          "output_type": "execute_result",
          "data": {
            "text/plain": [
              "array([0, 1, 2, 3, 4, 5, 6, 7, 8, 9])"
            ]
          },
          "metadata": {
            "tags": []
          },
          "execution_count": 23
        }
      ]
    },
    {
      "cell_type": "code",
      "metadata": {
        "colab": {
          "base_uri": "https://localhost:8080/"
        },
        "id": "Gv_JIppIJNbs",
        "outputId": "a04e51ef-a334-4bea-fb61-ae162f3e13c1"
      },
      "source": [
        "# Tạo ra 1 Array chạy từ 2 - 20\n",
        "number_1D_range_20 = np.arange(2, 20)\n",
        "number_1D_range_20"
      ],
      "execution_count": null,
      "outputs": [
        {
          "output_type": "execute_result",
          "data": {
            "text/plain": [
              "array([ 2,  3,  4,  5,  6,  7,  8,  9, 10, 11, 12, 13, 14, 15, 16, 17, 18,\n",
              "       19])"
            ]
          },
          "metadata": {
            "tags": []
          },
          "execution_count": 24
        }
      ]
    },
    {
      "cell_type": "code",
      "metadata": {
        "colab": {
          "base_uri": "https://localhost:8080/"
        },
        "id": "W7oPn8kPJWu3",
        "outputId": "a54a9439-1102-4a45-b399-ea38ba3823f9"
      },
      "source": [
        "# Tạo ra 1 Array chạy từ 0 - 30 với bước nhảy là 2\n",
        "number_1D_range_30 = np.arange(0, 30, 2)\n",
        "number_1D_range_30"
      ],
      "execution_count": null,
      "outputs": [
        {
          "output_type": "execute_result",
          "data": {
            "text/plain": [
              "array([ 0,  2,  4,  6,  8, 10, 12, 14, 16, 18, 20, 22, 24, 26, 28])"
            ]
          },
          "metadata": {
            "tags": []
          },
          "execution_count": 25
        }
      ]
    },
    {
      "cell_type": "markdown",
      "metadata": {
        "id": "m9oa1yEAJhu-"
      },
      "source": [
        "**2.2.5 np.random.random()**\n",
        "\n",
        "Tạo ra một ma trận với các giá trị ngẫu nhiên"
      ]
    },
    {
      "cell_type": "code",
      "metadata": {
        "colab": {
          "base_uri": "https://localhost:8080/"
        },
        "id": "aEYo3TNcJsVs",
        "outputId": "42dc8abd-0d9e-4db9-b462-bbf3203a9da1"
      },
      "source": [
        "np.random.random((6, 5))"
      ],
      "execution_count": null,
      "outputs": [
        {
          "output_type": "execute_result",
          "data": {
            "text/plain": [
              "array([[0.21521005, 0.76746126, 0.10349262, 0.05770228, 0.21312438],\n",
              "       [0.35356567, 0.01314579, 0.67010813, 0.99920084, 0.78044149],\n",
              "       [0.51599296, 0.27834265, 0.08512624, 0.7321922 , 0.95728251],\n",
              "       [0.41510188, 0.59498154, 0.36366917, 0.00263993, 0.93822811],\n",
              "       [0.72030112, 0.26445989, 0.80434863, 0.70913646, 0.63785936],\n",
              "       [0.45449021, 0.03050212, 0.09428905, 0.64833109, 0.20916284]])"
            ]
          },
          "metadata": {
            "tags": []
          },
          "execution_count": 26
        }
      ]
    },
    {
      "cell_type": "markdown",
      "metadata": {
        "id": "2eg2YMWDMCqu"
      },
      "source": [
        "# **3. Indexing và Slicing**"
      ]
    },
    {
      "cell_type": "code",
      "metadata": {
        "id": "k07cEqzqMh4r"
      },
      "source": [
        "import numpy as np"
      ],
      "execution_count": null,
      "outputs": []
    },
    {
      "cell_type": "markdown",
      "metadata": {
        "id": "jAqIh9n2M1im"
      },
      "source": [
        "![image.png](data:image/png;base64,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)"
      ]
    },
    {
      "cell_type": "markdown",
      "metadata": {
        "id": "3XuBQDVzM2Ul"
      },
      "source": [
        "Mảng 2 chiều. Chúng ta có thể liên tưởng đến ma trận 2 chiều.\n",
        "\n",
        "Việc mô phỏng ma trận nhiều chiều của NumPy dựa trên việc sử dụng **list bên trong list (nested list)** cho nên việc truy cập các phần tử trong mảng này hoàn toàn tương tự như chúng ta đã thực hiện trong Python."
      ]
    },
    {
      "cell_type": "code",
      "metadata": {
        "colab": {
          "base_uri": "https://localhost:8080/"
        },
        "id": "1MoHyqJjM8HD",
        "outputId": "764890c2-e404-41e0-b33e-ca19a54c21b2"
      },
      "source": [
        "number_2D = np.array([[4,5,6], [7, 8, 9]])\n",
        "number_2D"
      ],
      "execution_count": null,
      "outputs": [
        {
          "output_type": "execute_result",
          "data": {
            "text/plain": [
              "array([[4, 5, 6],\n",
              "       [7, 8, 9]])"
            ]
          },
          "metadata": {
            "tags": []
          },
          "execution_count": 29
        }
      ]
    },
    {
      "cell_type": "code",
      "metadata": {
        "colab": {
          "base_uri": "https://localhost:8080/"
        },
        "id": "4bHmr5DlNFys",
        "outputId": "424c44a8-6dfe-4324-b2d6-e36d4283b326"
      },
      "source": [
        "number_2D.shape"
      ],
      "execution_count": null,
      "outputs": [
        {
          "output_type": "execute_result",
          "data": {
            "text/plain": [
              "(2, 3)"
            ]
          },
          "metadata": {
            "tags": []
          },
          "execution_count": 30
        }
      ]
    },
    {
      "cell_type": "markdown",
      "metadata": {
        "id": "MXDrOZOJNJ0r"
      },
      "source": [
        "**Truy cập hàng của ma trận**\n",
        "\n",
        "Truy cập hàng đầu tiên của ma trận"
      ]
    },
    {
      "cell_type": "code",
      "metadata": {
        "colab": {
          "base_uri": "https://localhost:8080/"
        },
        "id": "wxc6ZiDfNSc8",
        "outputId": "2be82c23-a79c-4954-821d-a4a9ca325994"
      },
      "source": [
        "number_2D[0]"
      ],
      "execution_count": null,
      "outputs": [
        {
          "output_type": "execute_result",
          "data": {
            "text/plain": [
              "array([4, 5, 6])"
            ]
          },
          "metadata": {
            "tags": []
          },
          "execution_count": 31
        }
      ]
    },
    {
      "cell_type": "markdown",
      "metadata": {
        "id": "Jj2L3LnUNW_8"
      },
      "source": [
        "Truy cập hàng cuối cùng của ma trận"
      ]
    },
    {
      "cell_type": "code",
      "metadata": {
        "colab": {
          "base_uri": "https://localhost:8080/"
        },
        "id": "8e3_zbauNaHD",
        "outputId": "803592a3-4d35-4756-fe41-08dd0a571c40"
      },
      "source": [
        "number_2D[-1]"
      ],
      "execution_count": null,
      "outputs": [
        {
          "output_type": "execute_result",
          "data": {
            "text/plain": [
              "array([7, 8, 9])"
            ]
          },
          "metadata": {
            "tags": []
          },
          "execution_count": 32
        }
      ]
    },
    {
      "cell_type": "markdown",
      "metadata": {
        "id": "Ir_gcrOlNf4N"
      },
      "source": [
        "**Truy cập cột**\n",
        "\n",
        "Truy cập cột đầu tiên của ma trận"
      ]
    },
    {
      "cell_type": "code",
      "metadata": {
        "colab": {
          "base_uri": "https://localhost:8080/"
        },
        "id": "EsolqqXlNpir",
        "outputId": "264ae054-ca36-4210-db6b-c55fddf90809"
      },
      "source": [
        "number_2D[:,0]"
      ],
      "execution_count": null,
      "outputs": [
        {
          "output_type": "execute_result",
          "data": {
            "text/plain": [
              "array([4, 7])"
            ]
          },
          "metadata": {
            "tags": []
          },
          "execution_count": 33
        }
      ]
    },
    {
      "cell_type": "code",
      "metadata": {
        "id": "QI0RdFN-Nv6N"
      },
      "source": [
        "Truy cập cột cuối cùng của ma trận"
      ],
      "execution_count": null,
      "outputs": []
    },
    {
      "cell_type": "code",
      "metadata": {
        "colab": {
          "base_uri": "https://localhost:8080/"
        },
        "id": "5Jgz5SfuNztT",
        "outputId": "02e0233f-b402-4545-96ad-14f355e695f2"
      },
      "source": [
        "number_2D[:, -1]"
      ],
      "execution_count": null,
      "outputs": [
        {
          "output_type": "execute_result",
          "data": {
            "text/plain": [
              "array([6, 9])"
            ]
          },
          "metadata": {
            "tags": []
          },
          "execution_count": 34
        }
      ]
    },
    {
      "cell_type": "markdown",
      "metadata": {
        "id": "o8hjYdxrN6nb"
      },
      "source": [
        "**Truy cập mảng trong ma trận**\n",
        "\n",
        "![image.png](data:image/png;base64,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)"
      ]
    },
    {
      "cell_type": "markdown",
      "metadata": {
        "id": "IiZDKOU-N-zF"
      },
      "source": [
        ""
      ]
    },
    {
      "cell_type": "code",
      "metadata": {
        "colab": {
          "base_uri": "https://localhost:8080/"
        },
        "id": "Ded76GixN_4j",
        "outputId": "ac989fb6-5717-4475-dd68-27fa6a445edb"
      },
      "source": [
        "awesome = np.array([\n",
        "    [1, 2, 3, 4, 5, 6, 7],\n",
        "    [8, 9, 4, 5, 8, 9, 0],\n",
        "    [2, 9, 7, 8, 0, 4, 5],\n",
        "    [9, 6, 4, 9, 3, 7, 2],\n",
        "])\n",
        "awesome"
      ],
      "execution_count": null,
      "outputs": [
        {
          "output_type": "execute_result",
          "data": {
            "text/plain": [
              "array([[1, 2, 3, 4, 5, 6, 7],\n",
              "       [8, 9, 4, 5, 8, 9, 0],\n",
              "       [2, 9, 7, 8, 0, 4, 5],\n",
              "       [9, 6, 4, 9, 3, 7, 2]])"
            ]
          },
          "metadata": {
            "tags": []
          },
          "execution_count": 35
        }
      ]
    },
    {
      "cell_type": "code",
      "metadata": {
        "colab": {
          "base_uri": "https://localhost:8080/"
        },
        "id": "nelWEDj9OE06",
        "outputId": "8293a060-45dd-4536-dada-84bb4f7819e9"
      },
      "source": [
        "awesome.shape"
      ],
      "execution_count": null,
      "outputs": [
        {
          "output_type": "execute_result",
          "data": {
            "text/plain": [
              "(4, 7)"
            ]
          },
          "metadata": {
            "tags": []
          },
          "execution_count": 36
        }
      ]
    },
    {
      "cell_type": "code",
      "metadata": {
        "colab": {
          "base_uri": "https://localhost:8080/"
        },
        "id": "4KYSMgmqOMaX",
        "outputId": "b342dbaa-a2d8-427a-99f1-70c943599079"
      },
      "source": [
        "awesome[1:3, 2:4]"
      ],
      "execution_count": null,
      "outputs": [
        {
          "output_type": "execute_result",
          "data": {
            "text/plain": [
              "array([[4, 5],\n",
              "       [7, 8]])"
            ]
          },
          "metadata": {
            "tags": []
          },
          "execution_count": 38
        }
      ]
    },
    {
      "cell_type": "markdown",
      "metadata": {
        "id": "dOvOr7XzOkXv"
      },
      "source": [
        "**Truy cập phần tử**\n",
        "\n",
        "![image.png](data:image/png;base64,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)"
      ]
    },
    {
      "cell_type": "code",
      "metadata": {
        "colab": {
          "base_uri": "https://localhost:8080/"
        },
        "id": "pmZg5xOhOsIW",
        "outputId": "d956045a-6050-4709-d864-ce5a8e13d47e"
      },
      "source": [
        "awesome[0,1]"
      ],
      "execution_count": null,
      "outputs": [
        {
          "output_type": "execute_result",
          "data": {
            "text/plain": [
              "2"
            ]
          },
          "metadata": {
            "tags": []
          },
          "execution_count": 39
        }
      ]
    },
    {
      "cell_type": "markdown",
      "metadata": {
        "id": "q0-WRN9VO127"
      },
      "source": [
        "![image.png](data:image/png;base64,iVBORw0KGgoAAAANSUhEUgAAAb0AAADeCAYAAACpOd4EAAAgAElEQVR4Ae19C+weRdU+lEuBAgpGghADKEZDAClUuVYMIEK4SoACEi4qggghaBBvoPIpEDGIokb+JtwEW6kUw19ULFisSoACplwtVFAQCCIgFKQtlP3yvB9nebq/3XdnZmdmZ3fPJG92393ZmXOec+Y8c2b3fXeVTIsioAgoAoqAIjAQBFYZiJ6qpiKgCCgCioAikCnpqRMoAoqAIqAIDAYBJb3BmFoVVQQUAUVAEVDSUx9QBBQBRUARGAwCSnqDMbUqqggoAoqAIqCkpz6gCCgCioAiMBgElPQGY2pVVBFQBBQBRUBJT31AEVAEFAFFYDAIKOkNxtSqqCKgCCgCioCSnvqAIqAIKAKKwGAQUNIbjKlVUUVAEVAEFAElPfUBRUARUAQUgcEgoKQ3GFOrooqAIqAIKAJKeuoDioAioAgoAoNBQEmvI6Z+ZeEfM3xevv3G7Nnvn5wtf+KRViRf+tc7R3JAhuIHsuF8zLLskfsr5Xlp/nWjczHlMelrydyrc+wgY6hStI/t91BycbvwY/j1cz85M8dE5AROOPfqv5/kS5z30Ze07XPb1lh0BmLgFyrpJeYAGOBCcC/M/m7lII090EAuz//0fyrl4SCCAIb6IQv0N5UHssUm4yrdIQdjFYr0Xl/2ykr9cJ+m+1U6+DgOP3/x//8/YxlBgE2Lkl5TBPtxvZJeQna0CQIxSQ8kLIEShIbvK158fiXk8J3roT6+hyjFfpBhFvFA0Ec9Jkbg22YBRsWMJhTpgVTEZqEnILaYQh6RDdsy+6FN2A/4oE4qkxbIBTuKX2FiqqVbCCjpJWQvIT0MdAx4+UhAx3cJFnIstPjcp8lsG2TDGarvgMvyoJ8i+ZbhwcuJCLBtFZFDAiZsGYr04B/iK76WB33gxpku/N3EfqgDv0qliH/DjinJlQo+qcuhpFdhod/+9rfZpZdeWnG2ncMc8GOQHmcLJoQnqCAQSEaDra/AgOAngRyBx6ZdmVDg+hjYCRay5WDP+6FIj/swIRaRM+SW/antrNtVT0yaxAdTmkxAn0WLFmUXXnhhtnTpUlf1BnGdkl6JmW+++eZslVVWyY444oiSs+0dik16QhQuxMWyIgD7KLLU5UJcHHBDEU2VjiAdmQRIdiOBM5QsjH+VXLGPS4bb1QyJs2fgm1q57777RnFrr732Sk20pORR0iuY46mnnsrWWWedbPPNN89WrFhRONvuVw5kobMVZFESmF2WBPl6myxxHMJCHMjyXIosS6GdmEWWNYEnyJcz1lCkJxlJbF2rcOXMM7TvVsnQ5Dj8WUjb1f+a9G967RVXXDEivrPOOsv0ksHVU9IrmHy33XYbOc3dd99dONP+15ikxw8buN6X8xkkmChcSBjW40zRZmm0ieU52IvcrEso0hOiTSVAy6oBfKKLRSYRmLjAfimXffbZZxTDsGKlZSICSnqEyTe/+c2Rs3z5y1+mo+nsxiQ97st1kPsMdEwUrsulTHquOtl4A/qQ7JSDPesSivQEe2zbLpz1C/G3LZNN/7w0jnGRenn++eez1VZbLZsyZUr2wgsvpC5udPmU9N6A/N577x0R3sYbb5zsjWAmotBLRNyXq1fKciIHfNe2fFzHpBcj05NsS5Y1RYcYpCdZdihSFV1Mtj5WDUz6CVVHJhCp+LGJnhdddNEonqX2XIKJ7KHrKOm9gfC0adNGTjJnzpzQmDu3z0QUmvSchaQLJctJZYlNSDjGfS5e1ixmBzFIT+7HFvsm80TbZb9N7YnHOhDYjl0Yc6zP1ltvPYppeBJdy5sIKOll2egxXzytOX369DeRSXCPg0fqA5Bn9yksaTHRhJYHfY0jfJYlRCbGy4mpkR505wJS4ftlQtbIriB7jIyc5SnuS8acwjJxUba67/Pnzx+R3kYbbZQtWbKkrvpgzg+e9J577rls3XXXHTkHnCTl0iXSq1raawtfzvJCB9I63UOTHt+DkoeQcAz+IzgIuWALeUOSIy8rC+lBLpkYsCxl+yFlG+ePXc7yRK8Pf/jDo9h25plxn1iW/lPcDp70TjnllJFT7LfffinaZyWZukJ6HHRTmCHLPRkEVCGBlYD1+IUDZVWwDk16WAUQ8sA+k44cL9uChEKsIHD/0J2/I8sr9ok67OuQFdfELl3O8gSrO++8cxTfsJL12GOPyeFBbwdNenh4ZdKkSSOnuOuuu5J3BA4ExUCRkvCcTcjMPrZ8ktlINhEqoLNe0FX6AwZVBfWEdEIEcyZeDtxlJAycisuLuN5nYZKTLBgTkbqMG+d5whJ6WZp15uX5lMcay1y1jwk9SG/GjBlVVQZ1fNCkd9BBB42cYZdddumE0btAeixjWZANAbQQSNUWwbIuwPqQSwI65BhH9qFJj20AWUyyW5CfECSuwXdfhUkPbQMn0wK7hZJrnAxCtui762Xu3Ll5tpfi749j4ztY0pO/7MEMqCtPN3EwS3H2CZkQ1PAZl+n4dnLps2oLWXxnL0UdOLuqI/vQpMeZW50srAeITjD0GeyZ9FzaZb+yIUzWzWaf7WODn00fsevuuOOOI+I76qijYnedXH+DJb2jjz565ATvf//7kzNKlUApkx4ChSztIbDhe5sFGQLwkhk7grnJkpqLzKy7CdlzUA2xvCkZpwvBsI/5migw6bm2yXYMnbUzBm37sYs/ll0za9asUbxbc801s4cffrisymCODZL0Fi9enK2++uojJzj//PM7Y2wejClleghCCPaSJfhcGvNhHH5SEETgO2gKyYD0TYJkaNITwnfxEVwrdvSVVTHpmeBTZnP2fZPl2rI2TI/BR2SSZHpN6vVeeuml7G1ve9so5p122mmpixtUvkGS3hlnnDEyPv5Y+skn/d27CGqpN16qKQHJJaCFko9n4a4z+VCySbu8dOczu+IHHhCYTUpo0jORYVwdmcCAxH0UH6TH9gv5QAv3Y2pPHxjFaOPUU08dxT38Pdmzzz4bo8sk+xgc6eFdU5tuuunI+F37ix6e7aZCehzQUg8SLKtrxsGjGFmRLOmC+E1L6qTHOPnIirk9V9w5A0V7oQqPsdRWLJrqzD9fwHv3hloGR3ozZ84cER4eYLnuunCDJ4RD8YBMgfRYnpCByBeWvmfxtsuaokfqpMd2dSUp0RVbfrCmSXuyymEzwWA5TPZ9Z7kmfcasM3Xq1FH822qrrWJ2m1RfgyO9PfbYY2T0DTfcMHvxxReTMkadMByM2iY9floxZBCqw8TmvM9sgZc1JRj72raNJ/uZj2zHV3uCr697jUXfYf8I1Uexz9jfzz777HzS/4c//CF290n0NyjSwz8SrLXWWiOjH3744UkYwEYIDh5tkh76lgCEmbGPJbA6HEAy0B+fJkXkbkosbAtp09e2qWxN8MG1vjIzkYMnSK4PoTAhhVpVYL9u6meie2rbO+64Iye9008/PTXxosgzKNL70Y9+lBv8qquuigKwz0440LZFepj5y32smD9NkPtCTR+uEGJqk1hCLm9y264PFcmyLbDyMaHhZWXXh1BiEBKPLx8Zrs+x77MtLG3i9s7mm2+eLVu2zGfTnWhrUKQnS5trr7129s9//rMTBmIheVC2QXoIgPI4NwJizMDA2YdrII6RLbC9qvaZmHxnLayja7Yi97Vga19FJkpo26Ww77tmi3X9MtnX1e3y+c997nP55L8rf8zhE+/BkN7jjz+eTZ48eWTsPffc0yeG0drigd8G6UkwBOGFCjxVYKI/ydJcMxhuw5UQquSzOR6S9CCHEIzLfalQsvGkxcV3ZbLVNNMfZyfxb1diHtd2Sueuv/76nPROOOGElESLIstgSO+SSy7JDX3OOedEAdd3J22SHs+C2yAMZDASzF0zEFki9bVs52rfUMQi8rCtbLPiUD7GOtsuLfM9wZC+J5Mql8mCYN+F7TPPPJOtv/76o3i45ZZbZq+//noXxPYm42BID7/Jwzo2PpjpdLGECkh1WPAs3fWeTF0fJudZf9tlQc7y2tQBejIB2OphghPf/7IJ4CyXLTGZyMV+ZEpekIknO7YkbiIX6vi472jaVwr18Cf7iIWrrrpqtnDhwhREiibDIEjvlVdeyTbbbLORkTHDefrpp6MB7LMjDvouS0QusnCfNgHUpS+Ta2QJCrNyyGMSBJnwkCWaXGMii2sdJpcQpAe5gI1kLiZ9IOjLEiKuC3W/lu1XN/kATixTSJ9nH3FdPnf1hzauk39nAfH94Ac/aEOE1vocBOnxPxF05TVCZR7BBBQyAEjfHAhSuc8BwkIWIgEdW+BSFqRxnOtCBwTStksM0oOOrDvIA3gUCR9+xBkY8AwZ9NE/Ex/2IRcX4BNTJvTNS6jw+76XX/ziF/nK16GHHtp3dVfSbxCkh5mMLG2edNJJKwHQpS8IDhLsY5Aez7Kl3yZbn8EUbcmyl4lMdVlFTD+IRXrQiX2mDifYO4ZfQa4iqVXJFksmxikWBjF9rtjXokWLRkubiItYBcPfMw6lDIL0DjnkkJz08Fu9rpbYAzNl0hMbgvwYFw6eWNbDudRKTNIT3YEDL3kKTpg44Fwb2Q2yPvTNmZ/IBVL0OUkSHKq2TMKwT98L3rogt3xAfAsWLOi7yrl+vSe9FStWZHhCSTK9efPm5crrjiKgCCgCQ0Vg3333zePiD3/4w8HA0HvSwwsT5a/H8ALFRx99dDDGVUUVAUVAEahCgB9mOeWUU6qq9e5470lvzpw5+WwGf7/z2muv9c6IqpAioAgoArYI8LMOXf3DDludUb/3pHfuuefmpHfAAQe4YKTXKAKKgCLQOwTwF2Ry22eTTTbJ/vOf//ROxzKFek96n/jEJ3LDDvVfxcsMr8cUAUVg2Ag88sgj2brrrpvHx/vv7/9PNWDxXpMe/l5n+vTpuVEvuuiiYXu5aq8IKAKKwBsI4CG/LbbYIo+PN9xwwyCw6TXpIV3feOONc6POmjVrEEZVJRUBRUARMEFg2rRpeXwcSlLQa9JDuo7/lpN16z/+Mb3fbJk4ptZRBBQBRSAEAgcddFAeH08++eQQXSTXZq9JD+m6EB5eK6Q/V0jO/1QgRUARaBGBz372s3mM3GuvvVqUJF7XvSa9n/zkJ7lBscw5lKeT4rlP854+ctq3sy59mmusLSgC6SDwrW99K4+R22yzTTqCBZSk16R31lln5QbdYYcdsldffTUglNq0CwIgvK6ULsnaFUxVznYRuOKKK/IY+c53vjPD35P1vfSa9I477rjcoPobvTRduUtE0iVZ07S2SpUaAnPnzs1jJH6+sHjx4tRE9C5Pr0nvwAMPzA0KAtSSHgJdIpIuyZqepVWiFBG466678hiJ5x9uvfXWFMX0KlOvSW/33XfPDTqk/5bz6iGBG+sSkXRJ1sBm0+Z7gsCDDz640hPu+NvGvpdek952222Xk96XvvSlvtuyk/p1iUi6JGsnnUGFjo7A3//+92zKlCl5nLzsssuiyxC7w96SHm7Ibr755rkxzzvvvNjYeukP7znDO8fKXpiK96PhXMyCd5zhPXXy3jPZ4i3dkKX4Zu462WIQCb9HDrK7ljpZBQvXratcJtf13Y9MMDCpA//md+uJLeW9g317wezTTz+dbbTRRnmcvPjii01g6nSd3pLeE088kW2wwQa5MfGP4l0qGFxlL9eUQVjcYqCGLJDH9KWyNsRSRyRNdUIQY6xsZCv2PU5WkD3347Jf7M/H96H4UVOsbPwbE7xX//1k0y6TuH7JkiUr/RUZfsLQ99Jb0sN79PD+PPlxepfS9rJAXXyzNd7uXMwAQZK2mZaJgxflQb/Ft0vjGIKBBHsQZLFOWV/jiKSsvs0x9F/MkEORHoKg6F60lY3MPusW7Qbdi7L1xY+a4MY4SUZX9F2QYjEDxLGuF7xqbeutt87j5Be+8IWuq1Qrf29J75577skNCeKbPXt2LRgpVEBQkuCJAVg3sEByTDYgPp+FA4IJkYH8RH7UryPhkKQny5qcoYYiPdhJ9E4hCxiaH7n6POOEcVTnr7Ct+BPGZwq2dtVdrttxxx3zWHniiSfK4d5ue0t6t99+e25IkN5vfvObThhRBhQCqM2AYuID8fgonClBruLst6oPJso6kglFeiwD79fJU6UTjo+TlfswxWlcX03PDc2PXPACwclKgM1kkceFzXUuMsa4Zo899shj5YwZM2J02WofvSW9W265JTckSO/mm29uFWiTznnWaUtcPBAR8HwUyZRAwJDNpvC148h7HJHY9Md1GQtMBvBdsrBQpMcZLsvSxv4Q/cgFZ16uHOejZW3zJAf7XS777LNPHisPPvjgLqtiJHtvSY/fCgzSmzdvnhEgbVbiQYhAbVtMicakXSYKEIdtQRARohn3kE0I0iviwLqEIj2xHTKHtovIAvyH4ke2mHOWB39xKZJNu4wPl/5CXbPffvvlpIf9vpfekt6vfvWr3JAgvS68VkiWKF0DJ2cbtplZ0dG5LdeZrASFcfr4Jj2egQvZxiA9IdoUlruG6EdF/637ztmw61jhyUXdvcA6edo8z/9c9dGPfrRNUaL03VvS++Uvf7kS6XXh73WEJFyXJznguxKVeJ0EcWQLrgOa26jKOHySHvqQezSMYQzSE6JJYdY/RD8SvzXd+iAsH8RpKm/Ieh/72MfyWIn7e30vvSU9PK2JDE8+CxYsSN6WEjg5YNsIzaTnOnuV/poGTrTD2WLVU6g+SY9Jlu/RxCA9wavJ8qlg33Q7RD+yxUwwGrcKUdcm+5WsKtRdk+L5ww47LI+T06dPz15//fUUxfQmU29J72c/+1luSLw9/e677/YGWqiGms4++XoO+i7yyv24Jst1TMJVmacv0uO+QLZcODg1IaVxsgpexb5Zjlj77AcuWTpf3xU/ssVWJilN/Bt9it2b+JWt7L7rH3HEEXms3GmnnXr/Crbekt7ll1+eG3KNNdbI8Lu91Asvl9gGT74x33QgAycZzE2W65iIQpIeSE2WNct0D016wF7wsrVbCJ8coh/Z4ij+0sS/0aeQZ9N2bOX3Wf+oo47KY+X222+fLVu2zGfzybXVW9K7+uqrc0OuvfbaGf5NvAsFQRsBFIMSwdq08Oy86dIm+pSggEHtWmKRXtWypsgdmvT4SVXBHsdAgGJPIUVsIW9ocpR+h+JHYmvTrdijKVn1gfQ+9alP5bFy6tSpSnqmTpRavZkzZ+aGxL+IP/TQQ6mJWCoPZy0YUCbLS0x42PdROGi6theD9LiPKiIJTXr8byzYx1KXBNVxWxBS1b1OV8zluqH5kehtuhW7KOll2ac//ek8Vk6bNi1bvny5KYydrNfbTI+XN9daa63sgQce6IyBELCEdDA4EUQlgxAlsKSGIC8zTdTzRXjooy57EjnGbZmQsF9Wxt0nK6vPxziwA6+qEpr0WE+xB4JpGQljEsOTFNitCpsqfUyPD8mPTDGRekp6gkSW4QXb8sCfLm++iUvn9q644orckF0jPQEbQVOWGWWQlm1BUCYZobRrsuX7Qq5kyhlPVWBvQnpMzAjwVSU06cFObJfiBKVMLthLCBLX+rYf9zkEP2J9TfbFXprpZdnxxx+fx0olPRPvSbRO10lPMjkZnOO2CP4hlsmEcG3vC8EleMkPsvsmPc6uyjIqdsvQpMeZW50sLBeITuwKAgxRhuJHttgJ7kp6Snq2vpNs/S6THmdZGJwIpGWkhuMYtDKAQX4Icr4KEwvaNi0gGc5iIJ9P0kP7QsjjljVF3tCkJxmnC3HBhmK/KoxED9vtkPzIFhvBXElPSc/Wd5Kt31XS4yBoSmIIbkICCLwI8r6KBHQECRPiAzlDFnxYl6qA7rK8KTKhDxNdQ5OeZFNlE5M6O+BaCcAm+Na1J+cZe7RrMhnqsh+J3qZbwVxJT0nP1GeSr9dF0uOZue2PXbFUJsRnkv3YGJCzSZAqAmqx4JiQEQIKCIAzRV+kxxiVyVGUC99Dk15ZnzbH5KEl2M9HYYyG4ke2uCnpvYmY3tN7E4tO73WN9DATF9JyWSaDsZhkTAnB1MhoTwLFuC0CuDyUwfL4ID3GyGaGnjrp8QM/JhnZOJsxRkPyo3GYlJ0TH7bxo7J2gDHaatpOWduxjinpxUI6cD9dIz0TgjCBTAahr6yB+0RABflx5ifBAw9zIMPgYqKTzfKmZJLQzWRZU2RJnfR4QmGjl+jHWxPMuX7Vftf8qEqPquMywWxKVoJT03aq5IxxXEkvBsoR+uga6fma7fOThJJxRYC7tAsO5k0zPV6yE6L1tTUNWDYEXQpIxUHGqanNhupHFdBWHhayanorQHzQ5/3YSqEDnVDSCwRs7Ga7RnqSPTXN0DiAujxY4dNOTMBVspgSCeslgcbXtm3SY5yaZnpD9SNbv+VVA9trpT6vIMCGXS1Kel21XEHuoZIeL29VEU0BqmBfJQCDnKruVZmSXhMhOTjZPtjB/ZbJym1XZbPcRtm+BOBxOJVdV3ZMMG86eeqaH5VhMe6Yj4kGrz642n6cjLHOKenFQjpwP10jvb4tS4HkJBMbt4RURiS+XYOJyTfpsZ7IRl2KPL2JJbemZah+ZIubD8LyQZy2coeor6QXAtUW2uwa6fHyXfGBEBv4JID6yBps+i3W5Uxh3NJP10kPestDES73dXwRsuA/VD8S/W22YjfT5e1i277uCxbbjf1dSS824oH66xrpcfBzHYRYzpTsyiUA+zIFsh8JCJAHulWVPpBek+VJJikfy9FD9aMq/xp3vAn2PKnr8tIm8FHSG+clHTrXNdIDtBw8MSBtSpFofARQm/65LusxLsvDNX0gPdfJhg+CYtxln/Efih+J7jZbjBnJ9jBJw3eTArvxdSbXpFxHSS9l61jI1kXSw2DiDKmOMAQOBF2X6+T6uq1pMEA9eZACGZ5JxtoH0gN+TDQm9w3x0wS2WdOfKrANh+hHrL/NPt/bw60BYDeuhLTbuH5DnlPSC4luxLYvu+yy/HUZkydPzu6/f+UfTkcUxaqr4qDCjBKz9bKgiOMcbEE0pkRpKhSITAisSg7IhnOoJx8TwoMMfSE96MKED0IDJsUJAyYosJHghG2I5bGh+ZGpP5fV46VK2KPMz8vshmN9KMcee2weK7fbbrts6dKlfVCrUofevkR2zpw5uSHXX3/97G9/+1slCCmeKAZGDpJl+5ilhhiEPBMu67fsmE0Q7xPpwY+K5F+GjxwDMYawGfvzUPyIdXbZhx048xYblW0x1somoS79pnDNySefnMfKnXfeOXvttddSECuYDL0lvdmzZ+eGXG+99bLFixcHAzFkwwiiVYELgw/nQwdO6Id+8KkKDJAR521L30hP9AcWxSwcAVQy9yZP6EofNlvI02c/ssFiXF3YBVgVyU7sFmOsjZMvxLnPfOYzeawE6a1YsSJEN8m02VvS6+ryZjKeEUmQGKTnS5UuyepLZ22n/wjw8ubUqVN1ebOrJu/igyxdxbqJ3F0iki7J2sQmeu2wENAHWXpibyW9bhiyS0TSJVm7YX2VMgUElPRSsIIHGZT0PIAYoYkuEUmXZI1gOu2iJwgo6fXEkEp63TAkiKRLn26gqlIqAuYIKOmZY5V0TSW9pM2jwikCikAiCCjpJWKIpmIo6TVFUK9XBBSBISCgpNcTKyvp9cSQqoYioAgERUBJLyi88RpX0ouHtfakCCgC3UVASa+7tltJciW9leDQL4qAIqAIlCKgpFcKS/cOKul1z2YqsSKgCMRHQEkvPuZBelTSCwKrNqoIKAI9Q0BJrycGVdLriSFVDUVAEQiKgJJeUHjjNa6kFw9r7UkRUAS6i4CSXndtt5LkSnorwaFfFAFFQBEoRUBJrxSW7h0skt6DDz7YOSXwMtayd3vhXV94N5rNy1p9KI/+Xpp/3YR3jeGN4ZCz+JZwH32iDbzDrPh+Mx/fQ70bTd7JhnewFeXEO/aAVewC25W9Ty/l98Tx+wjhdyFL0U6230PKFrptJr0ddtghW7ZsWeguW22/t+/TK5LeAw880CrQNp0jaFa9rLU4GBG0Qr+QFORgKk+I4NQV0oOceLFv0UZV30FCoYuN7TB5SeWN4CBpxi2EXwn2mKxxXy770lYXt0x622+/vZJeF40Ima+88sr8bcCTJk3KFixY0AlVOLOTWfiKF59fSXZ853oYpKGyh2LwQT9FeXAMAVOCBQiyWGclBVr6ApmEvEFOPksRJwTp4mRE7MYZIOQIlSGzTFW+BFIsZoA41mYBTowR/Cok6YHoxXeLNmsTh1h9H3PMMXmsfM973pMtWbIkVtet9NPbTI9Jb80118zuvffeVgC26ZSJDEs7dQXBkjML3wOWg6YJkbH8qB8qmNfhUnVesPItG3CXoIlgXUcawIUnCb4JGPqzTOirzhYI/DIhgA5tZnyyrCnyhCY92Evs16beVX4b+vhxxx2Xk962226bvfLKK6G7bLX93pIeL2+uvfbaWer39Hi2aUJ44jUIZjIrxrYuuMl1dVuebSP44LtJYaIMOTs3kYXrcDbjO7BxcLZpm4kPEwZfhX3ChlDZ5jbX+ZIb7bD/8H5IX+J+TP3cp85tt8XLm7int3z58rZFCtr/IEhvrbXWylK/pycB0IW4OMPCAPZRZLaNGbBtBsnX2pCAD7nL2uCZvE9yQV+cUdm2zSQD4vRVmhA8E4AvXzLVi/HAeMB3ycBCkh6PH1NZ+1SPSU/v6XXYspzppU56mJnL4HZ5uIGvt8kSq8zLwQbBx7Zw1uqij21/4+oDG8nEQmQvTDDAzbb4niBwlufqC4KXi+1t9ef6RSzYD0OSntgQE84hFiW9nli9S6TH2YJtViXmkkDlI7DzzNd1ti/ytB1IJKBhUuFCSoJv1ZYz9Ko6444z1q625/Z9+BJjBhKNUTjDRP8osUhPyNbH2ImBle8+lPR8I9pSe10iPQ58roFZgi/IpmmRIACicA163IarTk314IwTGIcoQu6uuHOwd51gsF4+CMsHcbJMdfvwD0yO4NUJgWYAABl0SURBVG+MYyzSk7ETO7OtwyXWeSW9WEgH7qerpOcKC2apxaDh2lbTQI5+mcjrnmZ0lbPuOglmHEjrrrE937QPJj0fmZ7I0yTDZrKRrMsWF5v6PEHie8AsR8jlTfH3kH3Y4BG7rpJebMQD9dcl0vMBgcyUfSzRgDzxadIWB3MfGYwtRtx/SNJtmlnx9RzwbfWV+hLAm9gObYkPhCYCtlMxG49FeqJrsX/BtO9bJb2eWHhIpMfLUT5m5hIEmiz3cDBrg/Qk+DfRwWQoMPa2QZMfOmlKUiKrTH6a6h0DP5CayFumfwzSgw3E323tJ5h3fauk13ULviH/kEivannI1ZQSiBD4XEubpMd9h8zyBBsEbARO4IZAbVo4y/OxtIl+JYB3gfTq/DYG6fF9X7EBjoEAxa6CKbaQuW/kqKRnOmITrzcU0uNB2zTQiUllsCOIuxYmntiZXowshXHhjAV9myxTMuH5yM5FHgnQTX0hNIbsH1UkEoP0+Dec2MdyrmA4bouxEWNCJXYNuVXSC4luxLaHQnpCUBigNlnGOFPUzcDHXSvnOKjFJD1ebowZlIA92wLBUzIHwQRLaQjwQiiwmU/CQz8SqFMmPZ4kALOqEoP02E/FLsCujIgxmeHJCrCO6dtVODU9rqTXFMFErh8C6WFgSpArG6SupmDicA3KPGOOGRgQsIAJAlgbBXaQ5WGxTdkWEwuTjNBWB+krZdLjSdW4iVoM0uMxBOyKE5Uy/GE3IUhcE8KOZf2GOqakFwrZyO32nfR4WWbcbNkVdgnc2I4LTGXts2wICrFIj4Okz0lAmY5lxySTE+IZt0XgD5GJSp+pkh5nVnU2YnuGeoqUM7c6edjmIDrBuq0JFsvTZF9Jrwl6CV3bZ9JDMBBSwoCzJSUTM3FwQoA2LZCFZ8EIDLFIj2ftITAZhwFnx9AZspSRGo5LNop6wBZk6atIIE6R9NhvTSZqqC/6hCI9yTpdiIv9LZaP+/ITbkdJj9Ho8H5fSQ8Bku8dhVxakYAgwbnOHRDkQcb4tBEQhGybBvw6PYvnWVdTEgNJhpi4CEk0xSAEluJP0NtkUhKD9CQ7L5ugFO1c/I5rBW/o1tWipNdVyxXkvuyyy/J3RE2ePDm7//77CzW6+ZWzhBizS+4PgRABvlhwTAIaggACCGeKMeTk5aYyGYsy+/rOGZ5tNgKZhfhMMh8TmSUIp0Z6jJOpfWKQngmm4+rIBBR27Grh9+lNnTpV35zeVUPOnDkzJ70pU6ZkixYt6qoqudz8cIhp4MgvbrCDviSYjtsiAEjmGZv0WEaRoYHKRpdipi+k5bI8hk4YJx82FfukRHqMk41cXSA9HpPQs4vlhBNOyGPltGnT9H16XTQiZP75z3+eG3LdddfNHnrooa6qMpKbg7ptRuFDcQxoyMCZnwRYPAyAmTwXDuYxMr02Zty+dJSlRB/ZgpCwDbmw3WRfZGraDtqTVQDIZrKsKTJ0gfR4XNroJjqmsD3xxBPzWPmBD3xASS8Fo7jIcOmll+aGXGONNbJ77rnHpZkkruHg6iMIxVCKg0Fo0gMhCwHHvLfia5bPTxA2zVKFrJoul/rCk5c1pU1f2xTGAvt5U9vFGJdlfRx99NF5rNTlzTKEOnLs6quvzg05adKk7C9/+UtHJF9ZTNwfkyCBQNaVJRQO5C4PCayMwvhvjBGCUKyCoAvbNM3QOHA2xYqzKlccOMOCHZsU1k382Nc2BdJjP+9qpnfkkUfmsRKZ3quvvtrE5Mlfu0ryEjoKeM011+SGXGWVVbIFCxY4ttTeZZg5ynIVZvBdGlRCCAhwoYmaA2vM2bbo2JT0OJNvSno+gjBnZ6Gz9HGji8k3xJI+t++qp0wyYvj5OKyanJsxY0YeK3fZZZdsxYoVTZpL/trekt51112XGxKkd9tttyVvDBYQRCFLVRhQMYM5y+Gyz8uNTZfZTPrnwGNS31edFJc3fRCWD+L0gTGTUgjSYz91XSGQe8kYq10thx56aB4rP/ShD3VVDWO5e0t6N9xwQ25IkN6f/vQnY1BSqCiDCYRXfEgkBfnGycCZS9PlsXH9yDnBKgbBSp/YcobZxEYiv69sQVYHXJf/ZLIVG0/GFvuhSQ99CFYu94JjyFfEJMT3gw8+OI+Ve+65Z4gukmqzt6T3u9/9LjckSO+WW25JCvhxwnDm4joDHdd+yHPFDBWBIXQBWeDjEriayMZBz5Vg+H6kL/mZjG2XS3nC4rrk1wRTvpbxDZHpoS8ea/Bdm9IEZ5t+Qtc98MAD81i59957h+6u9fZ7S3o333xzbkiQ3k033dQ62CYC8NJSjCzJRCabOhxEYsiPZV8hvRj9FbFgfW0nKMUJgi1BFWWR72hXMhhkbabBHCTD10l7bW1jkJ7rpINlc53wtIVrsd/9998/j5UgwL6X3pLe/Pnzc0OC9G68sdlTaDEcgWeOvmb9TeU2DZioJw92gIRiBQIf97CaYITgJ8uB0NuUeBFsXa4zlZVxwTIl5BxXMHlgeVK4h8zEEirTAyY8cTHpJ0Wsxtm27hyyO8RIfI466qi66p0/31vSu/POO3NDwpjXX3990sYqBqkUhAWRCYGBkMsCIY4xWUv9WPLzclyT+2pN5C0GQWRLVXjhOAdZG6K0lZGxQT9lMoF8QdQ4Lx9fGaetvMX6sUgP/fKEDeQPrIoTvjKs2l4CLmLm8n369Ol5rMS/s/S99Jb0/vrXv2arrbZabkz8bi/lwrNsCT5Ntj4GIxOxqSw++rWxE4KTyNZ2sC6Sh8hVtUUGFlpmtG/qW5CnbGJjYw+fdWOSHuRmX6qymRwHpqFt5xPLcW3tsMMOeZw8/fTTx1Xtxbnekt7jjz+eveUtb8mNeckllyRtMNPAJIOubuuTfBAM8KmSEcEe59soTDR1S3ix5AMWLBfbCsSC87EDJiYw6Jdlwb5kpbHlMbFFbNITmYBTMRtnrNpaURD5fG7xQ/Stttoqj5Nnn322z+aTbKu3pPfcc89lm266aW7MCy64IEkDqFCKgCKgCLSFwJIlS7Itttgij5MXXnhhW6JE67e3pLd8+fLsfe97X27Mr371q9FA1Y4UAUVAEegCAk8//XS20UYb5XHy8ssv74LYjWTsLekBFbwmQ55KOu200xoBpRcrAoqAItA3BBYvXpzhD/klTuKfrPpeek16/CguXpSoRRFQBBQBReBNBO6+++6c8EB8XfoTjze1sNvrNekdc8wxuUEPOeQQO2S0tiKgCCgCPUdg3rx5eYxcffXVs4ULF/Zc4yzrNemdeeaZuUF333333htTFVQEFAFFwAaBa6+9No+RuLf3r3/9y+byTtbtNel973vfyw36rne9K3v55Zc7aSQVWhFQBBSBEAj8+Mc/zmMkHvwbQuk16c2ePTs36JQpU7Inn3xyCDZVHRUBRUARMELga1/7Wh4jh/BaIYDSa9K76667coOuuuqqGf6aTIsioAgoAorA/yFw7LHH5jHy4x//+CBg6TXpPfvss9kGG2yQG3XOnDmDMKoqqQgoAoqACQK77bZbHh/POecck0s6X6fXpPfaa69l/L9yF198cecNpgooAoqAIuADgRUrVmR41kF+o3fNNdf4aDb5NnpNekD/8MMPz42Kpzm1KAKKgCKgCGTZE088sdJKGG4HDaH0nvTw92MykxnCu6KG4LSqoyKgCDRH4LbbbsvwrAPi41vf+tYMf0k2hNJ70vvpT3+ak96uu+46BJuqjoqAIqAI1CIwa9asPDbuuOOOtfX7UqH3pIcnNmU2s+GGG2b//ve/+2I71UMRUAQUAWcE+OcKQ/qbxt6T3ksvvZRtsskm+Yzm9ttvd3aSNi7Ee/Femn/dhPeg4U3PeO9X8e3OMWXEO9ggA97JVnxPG95HhnMpvJSU340GLGOU1OxW9T492A2YwFYhCnyk6Bs+vod4/x9sBhzK5MP7EX2+ozIE1rZtHnnkkXlc/M53vmN7eWfr9570YBn86FLu61155ZWdMBYGddVLW4uDMlYgF+BAZCDdohxV30E6bRUEKpYrNFap2c1GHuDkO7Cjf8bf1z7a9VUwITAda5jg9eElsnh57NSpU/O4OHfuXF9wJt/OIEjvrLPOyo17+umnJ2+UYqDG7LP4VnAcY+LBoC3WCaEoBjwHLsyAywIQ5APBhAikpnoBj2IWGpL0UrNbMWspsxVWClCPgz78KrUCW4qMePu8r8IYyVvki+MI37kefBrfu1zw5ObkyZNHcfHtb3979sILL3RZHSvZB0F6v/71r3PS22OPPawAil2ZA6cJkfFgRP2Qy50sGwJjMTiUYYU6IWUq61OOybKmBEsEq1Ckx9ikYDf2C5CEia0EL+AEgkypQAfI5dPHGSOT1Qj4scgBWbqc8SGzk9Wv/fffPyVTB5dlEKSHR3Hx35swMu7vLV26NDiwLh0gMElmYhI4pQ8OuKGCOpY0MdDxSTETECxky5jwfgh8UrMb5BFbIUjbTDp49aAsgxd8Y25BwKKPr3vE7M8mhCf6AksZo9jaYCttpLDl1a/zzjsvBZGiyTAI0gOaH/nIR0akhyc5//znP0cD2KYjnmnbziL5Wl+BgWWXbMnnTJvb97nPJCQZqQTNEKTH2KdgN+go+toSF5NBCKxs7Qz5RRefS4pC7i7ExRkiJlRdLHvttVee6c2fP7+LKjjLPBjS+/rXv54b+aKLLnIGLNSFPDt3yaQ4WPlemuJMyTaIhsJrXLtMQsCFsfUdyLntVOwmmQiyPJciS3hop82CLEomW666lMmPdoVIXcYKXw9f61p58cUXM7w7T1a+/vvf/3ZNhUbyDob0br311pz08KhuasXH7FEChO9gJbNitJ96YYKWgMbE5Jv0UrMb6yr629qMM8U2l+8gv5AT9PJV+GEs28xcZJCx5pOMpe3QW6x0yf28If5L1WBID38+jZckwtjveMc7siVLloT2Lav2OTtxDTTchq8gwbNa1yBqBUSDytBZshwmaCYC36THmKdgN9bVdemNSc+XH9malVcufC5rQg6eqLjq16WJYBH7b3/72znpzZw5s3i6998HQ3qw5Fe+8pXc2Kn9LkVmjhysbb2PB7OvZUgfs2JbPVzrMwEhaEphIvBNeqnaTXR32TLpuRK5S798TUhS4XHCfdrsyxJwk/Fq05/PuvI6ofXXX3+Q/1A1KNJbuHBhTnqnnHKKTz9q3JYs4zRZLuGlPddZflERDhBMJMV6bX9n3SEzl5Ckl6rdWH/bfQnovpfJTeVgW/qavJn2bVpPVhSajFfTvnzWe/jhh7PVVlttFAeH8tLYIn6DIj0ov80224wM/t73vjfD+6RSKRI8XR6GEB04WIQgveJSEPrg+y6sA4gnVpYAucYFoRikl5rdxCdst4xVW8vZkj03wdRWb5v6vPrRFkY28nLd73//+/nEf/bs2XxqMPuDI71vfOMbudFT+h9OCdpNlktCkB4vdQnpYdCLvEJ0Vdti1hViZFUta0pfHMh9L28KDqnZTXS33XKWF2vSwjKyD6ea5dX5G+uT2v4BBxwwin8bb7xx9vLLL6cmXhR5Bkd6jz76aLbGGmuMDP/5z3/eCORly5YZ1WtSiYONazscMLDvoxRJj79jllsMTCAYXhIFGfomGtaLda4i2JCkl6rdGCPTfbmPBpu5PtVo2ldVvdSzPH7AJtVMtArbf/zjH9maa645in14z+hQy+BID4Y+7LDDRobfbLPNsuXLl9faPsbLFX3MHpkAQpCeyIjBXpcF4DwH0RDLQCAzybTG3VsJSXqCCYjC9Z5nCLvVOvUbFSAzJguCI7bFiYxpW03r8bJhWzLU6SCTHNgbftWlcv7554/iHv6gY9GiRV0S3ausgyQ9vDFYfqdyzTXX1AL6zDPP1NZpWoEHvCtBcBYWgvQw0BHkTQuIT2buTUihqj8mnHEBKCTppWq3Msxgg3Ef+F3dZKasXV/HZJLUZKnYlyxl7fAKRtWqQtl1qRx797vfPYp7+HeqIZdBkh4Mvueee44cYO+99661f6wHXni2PS6IlwmMmTEHtBCk5xKMWC4bwizTkY9xdlQXgEKSHmRK0W6Mleyzf5TtI4vx5TfSp+mWbVRnT9M2fdZjPx63quCzT59tzZs3L5/o33TTTT6b7lxbgyW9G264YeQEkyZNSibV50BuQxAIGJxRIaD5Cl4+skeZwUMuH5kE9BWiMQlAHFBD3F9M0W6mkQj2AMmwjbDvw06mMqAeZBAihr1SKuxvGGepyWeC1dFHHz2Kdx/84AdNqve6zmBJD1bFzxawzHn88ccnY2ResjMhPsxAQQD4cOAIQXqug53l8vGAhGAEnU1kQh0JqCFID84jMqGfFOzm4tCwjUwmENxjEp9M2kC4KRVgwPfxXO/btqnTAw88kGd5119/fZuiJNH3oEnv2muvHTkDnmh68sk3/8GjbcvwrBvBAKRRLDjGgRbkxxlHSqTHT7y53q8U/fkeWhkuUo+3MUgP/aVkN9bfZp9tFWqCUJSH+zS1abGNUN/Zpr7GVChZq9rFpB6T+5133rmqyqCOD5r0YOmddtpp5BBf/OIXkzI8Br9kJ+O2mIXK7DNV0sNsWXRoEkjRjmQiNhlBLNKDA6VitybODBuJvUwy6SZ9FTETX27apo/rGYfUyNhUv6eeeip/Q/odd9xhelmv6w2e9OTtC/jt3mOPPZaUsRHkMdh4tinBCBlTcakwBOmhH+mzSQCUNmzIqmgMyWxNlzXl+pikhz5TsJvo7rKNnXnJ8iHsmkrhyUuTiVrb+px00kmjSf2MGTPaFiWZ/gdPerDEscceO3KMT37yk8kYxkUQHqi+lmK4zSazcCE9k/tdZbrzsqa05WvbhIjLZLU9xhj7sputDFzfV2bObVbtc1+uvlHVtutxnjy27RuuOuC6hx56KMNv8vBfm/jPTS3/h4CSXpZlzz//fLbOOuuMiK/LP9rkrAz3+HwUDgDFzNK0fQ5srrNmJgZfZCfttB3YfNoNNgJW+DQpsbDhnwI0lbmJvnIty4MMFL7b1bLPPvuMYtq5557bVRWCyK2k9wasV1111chBdt111yBAx2gUwVuCla/ByktdCM4uhQNJG4Et9vKmLUY+7Sb3oZouFYofhZ4QwB+kryYrCbaYl9VH/3LPuKs/TRC9brzxxlE823bbbeWQbt9AQEmPXOGggw4aOcqsWbPoaDd2OZvCDNVnkUDg2i4HNtdssYk+KZOeb7tx1ug68WGZXDNzU3vJfVoQX5sFOsvPJiBL2wTcFIstt9xyFMsefPDBpk317nolPTIp3qaOFyvioZbnnnuOzqS/y8uQrhlZlZYcSF2WTSWYNM0+quSrO54y6fm2G9/7RNsuhdsInZnLQyyuEyoX/cquETlAeG1MzMpkcj12xhlnjAjvggsucG2i19cp6RXM+/vf/37kMMj6ulKKs1QEeZ+FScN2uYuDeugAWqUzyx86c6mSoex4CLuhTcnMMdlwKbJECgJAeyEL+sCnzYdYONtsy0d9YYyfJeA3efvuu6+vJnvXjpJeiUnlnXvf/a7fZcKSrrwc4kHrO8sTATnbMw0MIBsOwKEDqMha3KZKeqHsBvsImdiSPGd5oXxJ7OPjfrG05bplvw6tr6uMptfhj/HXW2+90QerVlrKEVDSK8clO/PMM7NTTz214mzYw6bkgHr8EIRtFmarBS8B1QUIEI0sayIAuyyL2spXVT8W6aVkN7YVyNVENiY82M7kmirMTY5zf65LsSb9VNXhyQEw6npZsGBBtt9++2X33Xdf11UJKr+SXlB47RtHoAFJgMAwKMtuqOMYD1ipb9+b3RWQjYMp9iEHFxAMz54hWxsBrSgT5MDHNvPhdsbtp2Y3yMMTIuhe5U84znVhV9gxdOGl79j30Zhwoa+W4SCgpJeYrXkwSqCu28YmlSKpVcmHbKHNDE9MGyPTS9Vu8A1ZYq6yEx+vy+AFUx9bnrjF9hNehWD9Xfdjj0Ef+A+1DSW9RC2PgIBP1eBEcML5tgoyCfTPmZ8EDMiWUhCIQXpih1TtBntANrERb5H9tuFLPHmKkVmKjbCtGleMi81+Sv7Oeur+RASU9CZiokcUAUVAEVAEeoqAkl5PDatqKQKKgCKgCExEQElvIiZ6RBFQBBQBRaCnCCjp9dSwqpYioAgoAorARASU9CZiokcUAUVAEVAEeoqAkl5PDatqKQKKgCKgCExEQElvIiZ6RBFQBBQBRaCnCCjp9dSwqpYioAgoAorARASU9CZiokcUAUVAEVAEeoqAkl5PDatqKQKKgCKgCExEQElvIiZ6RBFQBBQBRaCnCCjp9dSwqpYioAgoAorARASU9CZiokcUAUVAEVAEeoqAkl5PDatqKQKKgCKgCExEQElvIiZ6RBFQBBQBRaCnCCjp9dSwqpYioAgoAorARASU9CZiokcUAUVAEVAEeoqAkl5PDatqKQKKgCKgCExEQElvIiZ6RBFQBBQBRaCnCCjp9dSwqpYioAgoAorARASU9CZiokcUAUVAEVAEeoqAkl5PDatqKQKKgCKgCExEQElvIiZ6RBFQBBQBRaCnCCjp9dSwqpYioAgoAorARASU9CZiokcUAUVAEVAEeoqAkl5PDatqKQKKgCKgCExEQElvIiZ6RBFQBBQBRaCnCCjp9dSwqpYioAgoAorARASU9CZiokcUAUVAEVAEeoqAkl5PDatqKQKKgCKgCExE4H8BVg0qvll0PCIAAAAASUVORK5CYII=)"
      ]
    },
    {
      "cell_type": "code",
      "metadata": {
        "colab": {
          "base_uri": "https://localhost:8080/"
        },
        "id": "j3gwYTAFO3kV",
        "outputId": "5c33af67-76c8-42f7-acf1-23a300a7e937"
      },
      "source": [
        "awesome[1,2]"
      ],
      "execution_count": null,
      "outputs": [
        {
          "output_type": "execute_result",
          "data": {
            "text/plain": [
              "4"
            ]
          },
          "metadata": {
            "tags": []
          },
          "execution_count": 40
        }
      ]
    },
    {
      "cell_type": "markdown",
      "metadata": {
        "id": "GjSmZavbO-ks"
      },
      "source": [
        "# **4. Broadcasting - Phép lan truyền**"
      ]
    },
    {
      "cell_type": "markdown",
      "metadata": {
        "id": "I-_zOdNrPEK-"
      },
      "source": [
        "![image.png](data:image/png;base64,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)"
      ]
    },
    {
      "cell_type": "markdown",
      "metadata": {
        "id": "xhqeEEsjPLPz"
      },
      "source": [
        "Broadcasting chúng ta có thể dịch là **lan truyền** hay **quảng bá**, cách mà chúng ta thay đổi đồng loạt giá trị nhiều phần tử của mảng.\n",
        "\n",
        "Cụ thể hơn Numpy cho phép thực hiện tính toán giữa các mảng với số và các mảng khác chiều với nhau\n",
        "\n",
        "![image.png](data:image/png;base64,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)"
      ]
    },
    {
      "cell_type": "markdown",
      "metadata": {
        "id": "D6jXvGbwPwrk"
      },
      "source": [
        "## **4.1. Lan truyền mảng với số**"
      ]
    },
    {
      "cell_type": "markdown",
      "metadata": {
        "id": "1HNO9BSQP4d8"
      },
      "source": [
        "**4.1.1. Phép cộng với mảng số**\n",
        "\n",
        "**mảng một chiều**"
      ]
    },
    {
      "cell_type": "markdown",
      "metadata": {
        "id": "lJ8WoGewQBir"
      },
      "source": [
        "![image.png](data:image/png;base64,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)"
      ]
    },
    {
      "cell_type": "code",
      "metadata": {
        "id": "AVbd_kg2QCCI"
      },
      "source": [
        "import numpy as np"
      ],
      "execution_count": null,
      "outputs": []
    },
    {
      "cell_type": "code",
      "metadata": {
        "colab": {
          "base_uri": "https://localhost:8080/"
        },
        "id": "IsH7UHj2QIGW",
        "outputId": "f7f922ee-229b-49bb-ade2-0ae51f597c15"
      },
      "source": [
        "number_1D = np.array([1, 2, 3])\n",
        "number_1D"
      ],
      "execution_count": null,
      "outputs": [
        {
          "output_type": "execute_result",
          "data": {
            "text/plain": [
              "array([1, 2, 3])"
            ]
          },
          "metadata": {
            "tags": []
          },
          "execution_count": 42
        }
      ]
    },
    {
      "cell_type": "code",
      "metadata": {
        "colab": {
          "base_uri": "https://localhost:8080/"
        },
        "id": "7dgRuBHQQRXF",
        "outputId": "859e4688-6bab-46f9-cb28-03045c4cc943"
      },
      "source": [
        "number_1D + 3"
      ],
      "execution_count": null,
      "outputs": [
        {
          "output_type": "execute_result",
          "data": {
            "text/plain": [
              "array([4, 5, 6])"
            ]
          },
          "metadata": {
            "tags": []
          },
          "execution_count": 43
        }
      ]
    },
    {
      "cell_type": "markdown",
      "metadata": {
        "id": "x0emzmiVQXuW"
      },
      "source": [
        "Như chúng ta thấy ở trên, 3 được **cộng với tất cả(broadcasting)** phần tử của number_1D\n",
        "\n",
        "Một cách liên tưởng đơn giản giống dòng đầu tiên hình 2, Numpy đã chuyển số 3 thành một array một chiều là [3, 3, 3] để thực hiện phép cộng này."
      ]
    },
    {
      "cell_type": "code",
      "metadata": {
        "colab": {
          "base_uri": "https://localhost:8080/"
        },
        "id": "5dkkgCtLQoHC",
        "outputId": "ebfe9a0c-477e-49a8-9f76-c282bd18412f"
      },
      "source": [
        "# Tương đương với\n",
        "number_1D + np.array([3, 3, 3])"
      ],
      "execution_count": null,
      "outputs": [
        {
          "output_type": "execute_result",
          "data": {
            "text/plain": [
              "array([4, 5, 6])"
            ]
          },
          "metadata": {
            "tags": []
          },
          "execution_count": 44
        }
      ]
    },
    {
      "cell_type": "code",
      "metadata": {
        "colab": {
          "base_uri": "https://localhost:8080/"
        },
        "id": "TH54xR0pQw90",
        "outputId": "fe4fe6d9-feb8-4382-887b-0e36410cac0f"
      },
      "source": [
        "# Tương tự với phép trừ\n",
        "number_1D + 3 - 10"
      ],
      "execution_count": null,
      "outputs": [
        {
          "output_type": "execute_result",
          "data": {
            "text/plain": [
              "array([-6, -5, -4])"
            ]
          },
          "metadata": {
            "tags": []
          },
          "execution_count": 46
        }
      ]
    },
    {
      "cell_type": "markdown",
      "metadata": {
        "id": "UTNKGjSoQ1Hc"
      },
      "source": [
        "**mảng hai chiều**"
      ]
    },
    {
      "cell_type": "code",
      "metadata": {
        "colab": {
          "base_uri": "https://localhost:8080/"
        },
        "id": "GAw80JRYQ3xr",
        "outputId": "f4274ac6-ed89-483b-b790-277d8c3eafb7"
      },
      "source": [
        "numbers_2D = np.asarray([\n",
        "    [4, 5, 6], \n",
        "    [7, 8, 9]\n",
        "])\n",
        "numbers_2D"
      ],
      "execution_count": null,
      "outputs": [
        {
          "output_type": "execute_result",
          "data": {
            "text/plain": [
              "array([[4, 5, 6],\n",
              "       [7, 8, 9]])"
            ]
          },
          "metadata": {
            "tags": []
          },
          "execution_count": 47
        }
      ]
    },
    {
      "cell_type": "code",
      "metadata": {
        "colab": {
          "base_uri": "https://localhost:8080/"
        },
        "id": "hX_oEXVxQ9MD",
        "outputId": "4417c6cb-2ff7-4942-9f2a-94e395966582"
      },
      "source": [
        "numbers_2D + 190"
      ],
      "execution_count": null,
      "outputs": [
        {
          "output_type": "execute_result",
          "data": {
            "text/plain": [
              "array([[194, 195, 196],\n",
              "       [197, 198, 199]])"
            ]
          },
          "metadata": {
            "tags": []
          },
          "execution_count": 48
        }
      ]
    },
    {
      "cell_type": "markdown",
      "metadata": {
        "id": "Lqm48KrWRccs"
      },
      "source": [
        "**4.1.2. Phép nhân mảng với số**\n",
        "\n",
        ">**Mảng một chiều**"
      ]
    },
    {
      "cell_type": "markdown",
      "metadata": {
        "id": "GxQ9oBpkRsG0"
      },
      "source": [
        "![image.png](data:image/png;base64,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)"
      ]
    },
    {
      "cell_type": "code",
      "metadata": {
        "colab": {
          "base_uri": "https://localhost:8080/"
        },
        "id": "zcwGqTZ0RtrX",
        "outputId": "4826c744-b3d8-4cd4-b67b-d1a9acb31dfb"
      },
      "source": [
        "numbers_1D_range = np.arange(10)\n",
        "numbers_1D_range"
      ],
      "execution_count": null,
      "outputs": [
        {
          "output_type": "execute_result",
          "data": {
            "text/plain": [
              "array([0, 1, 2, 3, 4, 5, 6, 7, 8, 9])"
            ]
          },
          "metadata": {
            "tags": []
          },
          "execution_count": 49
        }
      ]
    },
    {
      "cell_type": "code",
      "metadata": {
        "colab": {
          "base_uri": "https://localhost:8080/"
        },
        "id": "DR682qY3R19k",
        "outputId": "a5515a54-1912-49eb-de2b-d782dad03be0"
      },
      "source": [
        "numbers_1D_range*20"
      ],
      "execution_count": null,
      "outputs": [
        {
          "output_type": "execute_result",
          "data": {
            "text/plain": [
              "array([  0,  20,  40,  60,  80, 100, 120, 140, 160, 180])"
            ]
          },
          "metadata": {
            "tags": []
          },
          "execution_count": 50
        }
      ]
    },
    {
      "cell_type": "markdown",
      "metadata": {
        "id": "hDmjDxsxR92a"
      },
      "source": [
        ">**mảng hai chiều**"
      ]
    },
    {
      "cell_type": "code",
      "metadata": {
        "colab": {
          "base_uri": "https://localhost:8080/"
        },
        "id": "tOSmnO8cSBBt",
        "outputId": "6ebc43ba-f989-49ec-c4e2-3ad8a63d1800"
      },
      "source": [
        "numbers_2D_ones = np.ones((10, 10))\n",
        "numbers_2D_ones"
      ],
      "execution_count": null,
      "outputs": [
        {
          "output_type": "execute_result",
          "data": {
            "text/plain": [
              "array([[1., 1., 1., 1., 1., 1., 1., 1., 1., 1.],\n",
              "       [1., 1., 1., 1., 1., 1., 1., 1., 1., 1.],\n",
              "       [1., 1., 1., 1., 1., 1., 1., 1., 1., 1.],\n",
              "       [1., 1., 1., 1., 1., 1., 1., 1., 1., 1.],\n",
              "       [1., 1., 1., 1., 1., 1., 1., 1., 1., 1.],\n",
              "       [1., 1., 1., 1., 1., 1., 1., 1., 1., 1.],\n",
              "       [1., 1., 1., 1., 1., 1., 1., 1., 1., 1.],\n",
              "       [1., 1., 1., 1., 1., 1., 1., 1., 1., 1.],\n",
              "       [1., 1., 1., 1., 1., 1., 1., 1., 1., 1.],\n",
              "       [1., 1., 1., 1., 1., 1., 1., 1., 1., 1.]])"
            ]
          },
          "metadata": {
            "tags": []
          },
          "execution_count": 51
        }
      ]
    },
    {
      "cell_type": "code",
      "metadata": {
        "colab": {
          "base_uri": "https://localhost:8080/"
        },
        "id": "NVjeyMGsSIbL",
        "outputId": "60a17286-a32b-4256-e50f-a785be2706d4"
      },
      "source": [
        "numbers_2D_ones * 2"
      ],
      "execution_count": null,
      "outputs": [
        {
          "output_type": "execute_result",
          "data": {
            "text/plain": [
              "array([[2., 2., 2., 2., 2., 2., 2., 2., 2., 2.],\n",
              "       [2., 2., 2., 2., 2., 2., 2., 2., 2., 2.],\n",
              "       [2., 2., 2., 2., 2., 2., 2., 2., 2., 2.],\n",
              "       [2., 2., 2., 2., 2., 2., 2., 2., 2., 2.],\n",
              "       [2., 2., 2., 2., 2., 2., 2., 2., 2., 2.],\n",
              "       [2., 2., 2., 2., 2., 2., 2., 2., 2., 2.],\n",
              "       [2., 2., 2., 2., 2., 2., 2., 2., 2., 2.],\n",
              "       [2., 2., 2., 2., 2., 2., 2., 2., 2., 2.],\n",
              "       [2., 2., 2., 2., 2., 2., 2., 2., 2., 2.],\n",
              "       [2., 2., 2., 2., 2., 2., 2., 2., 2., 2.]])"
            ]
          },
          "metadata": {
            "tags": []
          },
          "execution_count": 52
        }
      ]
    },
    {
      "cell_type": "markdown",
      "metadata": {
        "id": "_o9NqGWESTDy"
      },
      "source": [
        "## **4.2. Lan truyền với mảng**"
      ]
    },
    {
      "cell_type": "markdown",
      "metadata": {
        "id": "wAkIJZBgSY6f"
      },
      "source": [
        "**4.2.1. Phép cộng hai mảng khác chiều**\n",
        "\n",
        ">**mảng 2 chiều với mảng 1 chiều**"
      ]
    },
    {
      "cell_type": "markdown",
      "metadata": {
        "id": "YaUXHduvSmbs"
      },
      "source": [
        "![image.png](data:image/png;base64,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)"
      ]
    },
    {
      "cell_type": "code",
      "metadata": {
        "colab": {
          "base_uri": "https://localhost:8080/"
        },
        "id": "Q-3xxE4XSnj8",
        "outputId": "bafcb489-25e9-40ba-a1d7-446e16b62157"
      },
      "source": [
        "x = np.array([\n",
        "    [6, 9, 10],\n",
        "    [15, 18, 20],\n",
        "])\n",
        "x"
      ],
      "execution_count": null,
      "outputs": [
        {
          "output_type": "execute_result",
          "data": {
            "text/plain": [
              "array([[ 6,  9, 10],\n",
              "       [15, 18, 20]])"
            ]
          },
          "metadata": {
            "tags": []
          },
          "execution_count": 53
        }
      ]
    },
    {
      "cell_type": "code",
      "metadata": {
        "colab": {
          "base_uri": "https://localhost:8080/"
        },
        "id": "RJPWPiSkSsZb",
        "outputId": "6d8cc600-d96f-4f5c-83aa-5a1ee4af53df"
      },
      "source": [
        "y = np.array([\n",
        "    [2],\n",
        "    [4],\n",
        "])\n",
        "y"
      ],
      "execution_count": null,
      "outputs": [
        {
          "output_type": "execute_result",
          "data": {
            "text/plain": [
              "array([[2],\n",
              "       [4]])"
            ]
          },
          "metadata": {
            "tags": []
          },
          "execution_count": 54
        }
      ]
    },
    {
      "cell_type": "code",
      "metadata": {
        "colab": {
          "base_uri": "https://localhost:8080/"
        },
        "id": "xxWl1uPVSuix",
        "outputId": "9a583ec0-776e-4f36-95fb-236d54fb91b8"
      },
      "source": [
        "x + y"
      ],
      "execution_count": null,
      "outputs": [
        {
          "output_type": "execute_result",
          "data": {
            "text/plain": [
              "array([[ 8, 11, 12],\n",
              "       [19, 22, 24]])"
            ]
          },
          "metadata": {
            "tags": []
          },
          "execution_count": 55
        }
      ]
    },
    {
      "cell_type": "markdown",
      "metadata": {
        "id": "UeSHfRV-S_BP"
      },
      "source": [
        "# **5. Iterating - Phép lặp**"
      ]
    },
    {
      "cell_type": "markdown",
      "metadata": {
        "id": "YOpwnEw5TF6g"
      },
      "source": [
        "## **5.1. Lặp qua các phần tử**"
      ]
    },
    {
      "cell_type": "markdown",
      "metadata": {
        "id": "6VP57jd9TMhW"
      },
      "source": [
        ">**Mảng một chiều**"
      ]
    },
    {
      "cell_type": "code",
      "metadata": {
        "colab": {
          "base_uri": "https://localhost:8080/"
        },
        "id": "NGKcelbETT-1",
        "outputId": "ee9d67df-3c65-4f7a-e2c6-630ec2f3f6bf"
      },
      "source": [
        "numbers_1D_range"
      ],
      "execution_count": null,
      "outputs": [
        {
          "output_type": "execute_result",
          "data": {
            "text/plain": [
              "array([0, 1, 2, 3, 4, 5, 6, 7, 8, 9])"
            ]
          },
          "metadata": {
            "tags": []
          },
          "execution_count": 56
        }
      ]
    },
    {
      "cell_type": "code",
      "metadata": {
        "colab": {
          "base_uri": "https://localhost:8080/"
        },
        "id": "wUoOV4IVTacL",
        "outputId": "d32cd7e6-c897-4084-bb24-d70a3ef1d4a8"
      },
      "source": [
        "for item in np.nditer(numbers_1D_range):\n",
        "    print(item)"
      ],
      "execution_count": null,
      "outputs": [
        {
          "output_type": "stream",
          "text": [
            "0\n",
            "1\n",
            "2\n",
            "3\n",
            "4\n",
            "5\n",
            "6\n",
            "7\n",
            "8\n",
            "9\n"
          ],
          "name": "stdout"
        }
      ]
    },
    {
      "cell_type": "markdown",
      "metadata": {
        "id": "stNwtaAXTirf"
      },
      "source": [
        ">**Mảng hai chiều**"
      ]
    },
    {
      "cell_type": "code",
      "metadata": {
        "colab": {
          "base_uri": "https://localhost:8080/"
        },
        "id": "E0zqMEzeTlU1",
        "outputId": "6172bc0b-d909-49f6-e909-da4bb7b4ce15"
      },
      "source": [
        "numbers_2D"
      ],
      "execution_count": null,
      "outputs": [
        {
          "output_type": "execute_result",
          "data": {
            "text/plain": [
              "array([[4, 5, 6],\n",
              "       [7, 8, 9]])"
            ]
          },
          "metadata": {
            "tags": []
          },
          "execution_count": 60
        }
      ]
    },
    {
      "cell_type": "code",
      "metadata": {
        "colab": {
          "base_uri": "https://localhost:8080/"
        },
        "id": "Bcub9M8gTpBz",
        "outputId": "facf1e2d-3cd0-4bb4-8ca8-5a4e97f213dd"
      },
      "source": [
        "for item in np.nditer(numbers_2D):\n",
        "    print(item)"
      ],
      "execution_count": null,
      "outputs": [
        {
          "output_type": "stream",
          "text": [
            "4\n",
            "5\n",
            "6\n",
            "7\n",
            "8\n",
            "9\n"
          ],
          "name": "stdout"
        }
      ]
    },
    {
      "cell_type": "markdown",
      "metadata": {
        "id": "O9JH-39CTwly"
      },
      "source": [
        ">**Mảng 3 chiều**\n"
      ]
    },
    {
      "cell_type": "code",
      "metadata": {
        "colab": {
          "base_uri": "https://localhost:8080/"
        },
        "id": "PSPNSmgwTz8j",
        "outputId": "8815653a-6473-4f25-a361-7f64bf883464"
      },
      "source": [
        "numbers_3D = np.random.random((2, 3, 2))\n",
        "numbers_3D"
      ],
      "execution_count": null,
      "outputs": [
        {
          "output_type": "execute_result",
          "data": {
            "text/plain": [
              "array([[[0.07727816, 0.95349646],\n",
              "        [0.75622776, 0.70853103],\n",
              "        [0.98806611, 0.96675115]],\n",
              "\n",
              "       [[0.57382946, 0.25200378],\n",
              "        [0.80328084, 0.77545942],\n",
              "        [0.03196795, 0.17949388]]])"
            ]
          },
          "metadata": {
            "tags": []
          },
          "execution_count": 62
        }
      ]
    },
    {
      "cell_type": "code",
      "metadata": {
        "colab": {
          "base_uri": "https://localhost:8080/"
        },
        "id": "4Qn8oj64T9la",
        "outputId": "ed108150-886a-4f01-f582-03b7de34d117"
      },
      "source": [
        "for item in np.nditer(numbers_3D):\n",
        "    print(item)"
      ],
      "execution_count": null,
      "outputs": [
        {
          "output_type": "stream",
          "text": [
            "0.07727816491283757\n",
            "0.9534964649660573\n",
            "0.7562277602282028\n",
            "0.7085310268425995\n",
            "0.9880661130513142\n",
            "0.9667511460098489\n",
            "0.5738294639695547\n",
            "0.25200378454849226\n",
            "0.803280838566765\n",
            "0.7754594238166027\n",
            "0.031967953380203196\n",
            "0.1794938771469876\n"
          ],
          "name": "stdout"
        }
      ]
    },
    {
      "cell_type": "markdown",
      "metadata": {
        "id": "DFygLpGAUHIl"
      },
      "source": [
        ">**Thay đổi giá trị trong quá trình lặp**"
      ]
    },
    {
      "cell_type": "code",
      "metadata": {
        "colab": {
          "base_uri": "https://localhost:8080/"
        },
        "id": "9Xa0EbXRUK-Y",
        "outputId": "3ec80972-158c-469b-9350-c4a38508354b"
      },
      "source": [
        "numbers = np.arange(7)\n",
        "numbers"
      ],
      "execution_count": null,
      "outputs": [
        {
          "output_type": "execute_result",
          "data": {
            "text/plain": [
              "array([0, 1, 2, 3, 4, 5, 6])"
            ]
          },
          "metadata": {
            "tags": []
          },
          "execution_count": 64
        }
      ]
    },
    {
      "cell_type": "code",
      "metadata": {
        "colab": {
          "base_uri": "https://localhost:8080/"
        },
        "id": "eQNPjws-UQ9E",
        "outputId": "93f09b81-6f78-4f2d-df27-0e914a311ccb"
      },
      "source": [
        "# Bình phương mỗi phần tử\n",
        "# Chú ý: Thêm cờ op_flags = ['readwrite'] để bật chế độ có thể thay đổi các phần tử trong mảng\n",
        "for item in np.nditer(numbers, op_flags = ['readwrite']):\n",
        "    item[...] = item ** 2\n",
        "numbers"
      ],
      "execution_count": null,
      "outputs": [
        {
          "output_type": "execute_result",
          "data": {
            "text/plain": [
              "array([ 0,  1,  4,  9, 16, 25, 36])"
            ]
          },
          "metadata": {
            "tags": []
          },
          "execution_count": 65
        }
      ]
    },
    {
      "cell_type": "markdown",
      "metadata": {
        "id": "yCWHdFhuUWdw"
      },
      "source": [
        "## **5.2. Lặp qua dòng**"
      ]
    },
    {
      "cell_type": "code",
      "metadata": {
        "colab": {
          "base_uri": "https://localhost:8080/"
        },
        "id": "tL9MIgXuUZ5k",
        "outputId": "68ea4d33-a652-4ce8-ecf2-3eedcf5bdc1d"
      },
      "source": [
        "float_2D = np.random.random((2, 2))\n",
        "float_2D"
      ],
      "execution_count": null,
      "outputs": [
        {
          "output_type": "execute_result",
          "data": {
            "text/plain": [
              "array([[0.07916729, 0.31703466],\n",
              "       [0.26376337, 0.87953877]])"
            ]
          },
          "metadata": {
            "tags": []
          },
          "execution_count": 66
        }
      ]
    },
    {
      "cell_type": "code",
      "metadata": {
        "colab": {
          "base_uri": "https://localhost:8080/"
        },
        "id": "FwmadfRxUe_D",
        "outputId": "ebeb9289-9791-4ced-aff6-ee9af91d7b0a"
      },
      "source": [
        "for x in np.nditer(float_2D, flags = ['external_loop'], order = 'F'):\n",
        "   print (x)"
      ],
      "execution_count": null,
      "outputs": [
        {
          "output_type": "stream",
          "text": [
            "[0.07916729 0.26376337]\n",
            "[0.31703466 0.87953877]\n"
          ],
          "name": "stdout"
        }
      ]
    },
    {
      "cell_type": "code",
      "metadata": {
        "colab": {
          "base_uri": "https://localhost:8080/"
        },
        "id": "x9kh10pMUjfz",
        "outputId": "b66b9ce1-8e70-4d3a-fdc4-ec03e5f95afa"
      },
      "source": [
        "for x in np.nditer(float_2D, flags = ['external_loop'], order = 'C'):\n",
        "   print(x)"
      ],
      "execution_count": null,
      "outputs": [
        {
          "output_type": "stream",
          "text": [
            "[0.07916729 0.31703466 0.26376337 0.87953877]\n"
          ],
          "name": "stdout"
        }
      ]
    },
    {
      "cell_type": "markdown",
      "metadata": {
        "id": "MgkUv2BOWalk"
      },
      "source": [
        "# **6. Thay đổi - Manipulation**"
      ]
    },
    {
      "cell_type": "markdown",
      "metadata": {
        "id": "I_32e5RbWd-Q"
      },
      "source": [
        "## **6.1. Thay đổi kích thước mảng**"
      ]
    },
    {
      "cell_type": "markdown",
      "metadata": {
        "id": "_4QRmHMrWlHk"
      },
      "source": [
        "**6.1.1. reshape()**\n",
        "\n",
        "Trả về mảng mới với kích thước được thay đổi"
      ]
    },
    {
      "cell_type": "code",
      "metadata": {
        "id": "6PPiY4HFWxxG"
      },
      "source": [
        "import numpy as np"
      ],
      "execution_count": null,
      "outputs": []
    },
    {
      "cell_type": "code",
      "metadata": {
        "colab": {
          "base_uri": "https://localhost:8080/"
        },
        "id": "LE0SYiaPW1Cq",
        "outputId": "cac8845c-0c4a-47d7-a9f7-86c15755ee96"
      },
      "source": [
        "numbers_2D = np.array([\n",
        "    [1, 2, 3, 4],\n",
        "    [5, 6, 7, 8]\n",
        "])\n",
        "numbers_2D"
      ],
      "execution_count": null,
      "outputs": [
        {
          "output_type": "execute_result",
          "data": {
            "text/plain": [
              "array([[1, 2, 3, 4],\n",
              "       [5, 6, 7, 8]])"
            ]
          },
          "metadata": {
            "tags": []
          },
          "execution_count": 73
        }
      ]
    },
    {
      "cell_type": "code",
      "metadata": {
        "colab": {
          "base_uri": "https://localhost:8080/"
        },
        "id": "Z4m21EOZW7iu",
        "outputId": "c8ce9fc5-a9d0-44e0-bde9-776ac643bbb6"
      },
      "source": [
        "numbers_2D.shape"
      ],
      "execution_count": null,
      "outputs": [
        {
          "output_type": "execute_result",
          "data": {
            "text/plain": [
              "(2, 4)"
            ]
          },
          "metadata": {
            "tags": []
          },
          "execution_count": 74
        }
      ]
    },
    {
      "cell_type": "code",
      "metadata": {
        "colab": {
          "base_uri": "https://localhost:8080/"
        },
        "id": "Qt2aI6oCW996",
        "outputId": "1566cfdd-f47a-4be0-b0fd-f7ace4e16271"
      },
      "source": [
        "# Trả về mảng 3 chiều (2,2,2) từ mảng 2 chiều (2,4)\n",
        "numbers_3D = numbers_2D.reshape(2, 2, 2)\n",
        "numbers_3D"
      ],
      "execution_count": null,
      "outputs": [
        {
          "output_type": "execute_result",
          "data": {
            "text/plain": [
              "array([[[1, 2],\n",
              "        [3, 4]],\n",
              "\n",
              "       [[5, 6],\n",
              "        [7, 8]]])"
            ]
          },
          "metadata": {
            "tags": []
          },
          "execution_count": 75
        }
      ]
    },
    {
      "cell_type": "code",
      "metadata": {
        "colab": {
          "base_uri": "https://localhost:8080/"
        },
        "id": "6JKTiwBoXXfh",
        "outputId": "277e54dc-b867-41d2-ac08-f6533698209e"
      },
      "source": [
        "numbers_3D.shape"
      ],
      "execution_count": null,
      "outputs": [
        {
          "output_type": "execute_result",
          "data": {
            "text/plain": [
              "(2, 2, 2)"
            ]
          },
          "metadata": {
            "tags": []
          },
          "execution_count": 76
        }
      ]
    },
    {
      "cell_type": "markdown",
      "metadata": {
        "id": "QU0At5xzXnHq"
      },
      "source": [
        "**6.1.2. flatten()**\n",
        "\n",
        "Trả về mảng được duỗi còn 1 chiều"
      ]
    },
    {
      "cell_type": "code",
      "metadata": {
        "colab": {
          "base_uri": "https://localhost:8080/"
        },
        "id": "kLwvJ4sfXxPC",
        "outputId": "3cc1ec1c-665c-4ea5-c090-6174a6ca1a69"
      },
      "source": [
        "numbers = np.random.random((3, 3, 3))\n",
        "numbers"
      ],
      "execution_count": null,
      "outputs": [
        {
          "output_type": "execute_result",
          "data": {
            "text/plain": [
              "array([[[0.99745889, 0.20493987, 0.80529974],\n",
              "        [0.64371857, 0.45588444, 0.25700945],\n",
              "        [0.11305139, 0.76350707, 0.67619399]],\n",
              "\n",
              "       [[0.26773258, 0.08799331, 0.96612048],\n",
              "        [0.12421933, 0.60231172, 0.0057186 ],\n",
              "        [0.32808563, 0.628442  , 0.9242642 ]],\n",
              "\n",
              "       [[0.45629324, 0.56098278, 0.82685561],\n",
              "        [0.09989946, 0.2914531 , 0.12349886],\n",
              "        [0.37723811, 0.72345535, 0.946136  ]]])"
            ]
          },
          "metadata": {
            "tags": []
          },
          "execution_count": 78
        }
      ]
    },
    {
      "cell_type": "code",
      "metadata": {
        "colab": {
          "base_uri": "https://localhost:8080/"
        },
        "id": "hZ4cj1O0Xzjl",
        "outputId": "f25a783b-787d-49f0-fd21-73e0f7f4ccf9"
      },
      "source": [
        "flattened_numbers = numbers.flatten()\n",
        "flattened_numbers"
      ],
      "execution_count": null,
      "outputs": [
        {
          "output_type": "execute_result",
          "data": {
            "text/plain": [
              "array([0.99745889, 0.20493987, 0.80529974, 0.64371857, 0.45588444,\n",
              "       0.25700945, 0.11305139, 0.76350707, 0.67619399, 0.26773258,\n",
              "       0.08799331, 0.96612048, 0.12421933, 0.60231172, 0.0057186 ,\n",
              "       0.32808563, 0.628442  , 0.9242642 , 0.45629324, 0.56098278,\n",
              "       0.82685561, 0.09989946, 0.2914531 , 0.12349886, 0.37723811,\n",
              "       0.72345535, 0.946136  ])"
            ]
          },
          "metadata": {
            "tags": []
          },
          "execution_count": 79
        }
      ]
    },
    {
      "cell_type": "markdown",
      "metadata": {
        "id": "h4LLd6BHX6SL"
      },
      "source": [
        "**6.1.3. expand_dims()**\n",
        "\n",
        "Trả về mảng mới được thêm chiều"
      ]
    },
    {
      "cell_type": "code",
      "metadata": {
        "colab": {
          "base_uri": "https://localhost:8080/"
        },
        "id": "BVYwX909YCBe",
        "outputId": "f6f20891-6c58-433c-e359-c8212c8aa699"
      },
      "source": [
        "numbers_2D = np.array(([1,2],[3,4]))\n",
        "numbers_2D.shape"
      ],
      "execution_count": null,
      "outputs": [
        {
          "output_type": "execute_result",
          "data": {
            "text/plain": [
              "(2, 2)"
            ]
          },
          "metadata": {
            "tags": []
          },
          "execution_count": 80
        }
      ]
    },
    {
      "cell_type": "markdown",
      "metadata": {
        "id": "3RgEwPQmYJdC"
      },
      "source": [
        "Mở rộng theo dòng axis = 0"
      ]
    },
    {
      "cell_type": "code",
      "metadata": {
        "colab": {
          "base_uri": "https://localhost:8080/"
        },
        "id": "WOKivtKFYHXt",
        "outputId": "f98e6f70-edc9-4540-edb5-78385b349111"
      },
      "source": [
        "numbers_3D_axis_0 = np.expand_dims(numbers_2D, axis=0)\n",
        "numbers_3D_axis_0.shape"
      ],
      "execution_count": null,
      "outputs": [
        {
          "output_type": "execute_result",
          "data": {
            "text/plain": [
              "(1, 2, 2)"
            ]
          },
          "metadata": {
            "tags": []
          },
          "execution_count": 81
        }
      ]
    },
    {
      "cell_type": "markdown",
      "metadata": {
        "id": "mqdrKEPDZCtC"
      },
      "source": [
        "Mở rộng theo cột axis = 1"
      ]
    },
    {
      "cell_type": "code",
      "metadata": {
        "colab": {
          "base_uri": "https://localhost:8080/"
        },
        "id": "wJqj1pX1ZG7l",
        "outputId": "68df5ef6-4866-46de-d42c-ee1ab02cab6b"
      },
      "source": [
        "numbers_3D_axis_1 = np.expand_dims(numbers_2D, axis=1)\n",
        "numbers_3D_axis_1.shape"
      ],
      "execution_count": null,
      "outputs": [
        {
          "output_type": "execute_result",
          "data": {
            "text/plain": [
              "(2, 1, 2)"
            ]
          },
          "metadata": {
            "tags": []
          },
          "execution_count": 83
        }
      ]
    },
    {
      "cell_type": "markdown",
      "metadata": {
        "id": "4UHzIz4KZPTE"
      },
      "source": [
        "**6.1.4. squeeze()**\n",
        "\n",
        "Trả về mảng được giảm số chiều"
      ]
    },
    {
      "cell_type": "code",
      "metadata": {
        "colab": {
          "base_uri": "https://localhost:8080/"
        },
        "id": "hWtBU-JYZXig",
        "outputId": "7929a8d3-1bf9-4652-8421-6ec1f68f3f72"
      },
      "source": [
        "numbers_3D = np.random.random((1, 20, 20))\n",
        "numbers_2D_axis_0 = np.squeeze(numbers_3D, axis=0)\n",
        "numbers_2D_axis_0.shape"
      ],
      "execution_count": null,
      "outputs": [
        {
          "output_type": "execute_result",
          "data": {
            "text/plain": [
              "(20, 20)"
            ]
          },
          "metadata": {
            "tags": []
          },
          "execution_count": 84
        }
      ]
    },
    {
      "cell_type": "markdown",
      "metadata": {
        "id": "bbHWAGn5ZyVE"
      },
      "source": [
        "## **6.2. Chuyển vị**"
      ]
    },
    {
      "cell_type": "markdown",
      "metadata": {
        "id": "iJgwdif8Z3Ak"
      },
      "source": [
        "![image.png](data:image/png;base64,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)"
      ]
    },
    {
      "cell_type": "code",
      "metadata": {
        "colab": {
          "base_uri": "https://localhost:8080/"
        },
        "id": "ZASzvtl_Z31b",
        "outputId": "e0804613-bcd2-483f-d5f9-e21556300516"
      },
      "source": [
        "numbers_2D = np.array([\n",
        "    [1, 2, 3, 4],\n",
        "    [5, 6, 7, 8]\n",
        "])\n",
        "numbers_2D"
      ],
      "execution_count": null,
      "outputs": [
        {
          "output_type": "execute_result",
          "data": {
            "text/plain": [
              "array([[1, 2, 3, 4],\n",
              "       [5, 6, 7, 8]])"
            ]
          },
          "metadata": {
            "tags": []
          },
          "execution_count": 86
        }
      ]
    },
    {
      "cell_type": "code",
      "metadata": {
        "colab": {
          "base_uri": "https://localhost:8080/"
        },
        "id": "LCEBGjpqZ9mG",
        "outputId": "50bc8d10-6b18-4123-fe42-d9e4a55dcec6"
      },
      "source": [
        "numbers_2D.shape"
      ],
      "execution_count": null,
      "outputs": [
        {
          "output_type": "execute_result",
          "data": {
            "text/plain": [
              "(2, 4)"
            ]
          },
          "metadata": {
            "tags": []
          },
          "execution_count": 87
        }
      ]
    },
    {
      "cell_type": "code",
      "metadata": {
        "colab": {
          "base_uri": "https://localhost:8080/"
        },
        "id": "YBnVyAT2aCU6",
        "outputId": "1d27f080-7daa-4114-e6d3-c2b412cbdebd"
      },
      "source": [
        "transposed_numbers_1 = numbers_2D.T\n",
        "transposed_numbers_1"
      ],
      "execution_count": null,
      "outputs": [
        {
          "output_type": "execute_result",
          "data": {
            "text/plain": [
              "array([[1, 5],\n",
              "       [2, 6],\n",
              "       [3, 7],\n",
              "       [4, 8]])"
            ]
          },
          "metadata": {
            "tags": []
          },
          "execution_count": 88
        }
      ]
    },
    {
      "cell_type": "code",
      "metadata": {
        "colab": {
          "base_uri": "https://localhost:8080/"
        },
        "id": "beEMEdGjaFcK",
        "outputId": "c930c4f3-c1a2-44a1-b8ac-1c0fc257c3df"
      },
      "source": [
        "transposed_numbers_1.shape"
      ],
      "execution_count": null,
      "outputs": [
        {
          "output_type": "execute_result",
          "data": {
            "text/plain": [
              "(4, 2)"
            ]
          },
          "metadata": {
            "tags": []
          },
          "execution_count": 89
        }
      ]
    },
    {
      "cell_type": "code",
      "metadata": {
        "colab": {
          "base_uri": "https://localhost:8080/"
        },
        "id": "zbp6wKUOaKLy",
        "outputId": "6106508b-3a40-4dd5-fc80-f54ac9007c55"
      },
      "source": [
        "# Tương đương với\n",
        "transposed_numbers_2 = np.transpose(numbers_2D)\n",
        "transposed_numbers_2.shape"
      ],
      "execution_count": null,
      "outputs": [
        {
          "output_type": "execute_result",
          "data": {
            "text/plain": [
              "(4, 2)"
            ]
          },
          "metadata": {
            "tags": []
          },
          "execution_count": 91
        }
      ]
    },
    {
      "cell_type": "markdown",
      "metadata": {
        "id": "BeXkbx5oacxz"
      },
      "source": [
        "# **7. Linear Algebra - Đại số tuyến tính**"
      ]
    },
    {
      "cell_type": "markdown",
      "metadata": {
        "id": "oc25goMmakDv"
      },
      "source": [
        "## **7.1. Phép cộng ma trận và vector**"
      ]
    },
    {
      "cell_type": "markdown",
      "metadata": {
        "id": "qjppYLCharrN"
      },
      "source": [
        "\n",
        "\n",
        "**Công thức**"
      ]
    },
    {
      "cell_type": "markdown",
      "metadata": {
        "id": "Db0B3crXa157"
      },
      "source": [
        "![image.png](data:image/png;base64,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)"
      ]
    },
    {
      "cell_type": "markdown",
      "metadata": {
        "id": "g4liOVqla2zt"
      },
      "source": [
        "**Ví dụ**\n",
        "\n",
        "![image.png](data:image/png;base64,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)"
      ]
    },
    {
      "cell_type": "markdown",
      "metadata": {
        "id": "jIfc4IW7a-sU"
      },
      "source": [
        "**Thực hành**"
      ]
    },
    {
      "cell_type": "code",
      "metadata": {
        "id": "eBrf19NobBQJ"
      },
      "source": [
        "import numpy as np"
      ],
      "execution_count": null,
      "outputs": []
    },
    {
      "cell_type": "code",
      "metadata": {
        "id": "D499TvdkbD-I"
      },
      "source": [
        "A = np.array([\n",
        "    [1, 3],\n",
        "    [1, 0],\n",
        "    [1, 2]\n",
        "])\n",
        "\n",
        "B = np.array([\n",
        "    [0, 0],\n",
        "    [7, 5],\n",
        "    [2, 1]\n",
        "])"
      ],
      "execution_count": null,
      "outputs": []
    },
    {
      "cell_type": "code",
      "metadata": {
        "colab": {
          "base_uri": "https://localhost:8080/"
        },
        "id": "C_8M_Gd7bIJL",
        "outputId": "99cecb25-8217-4e21-b27c-6c4c320480bd"
      },
      "source": [
        "np.add(A,B)"
      ],
      "execution_count": null,
      "outputs": [
        {
          "output_type": "execute_result",
          "data": {
            "text/plain": [
              "array([[1, 3],\n",
              "       [8, 5],\n",
              "       [3, 3]])"
            ]
          },
          "metadata": {
            "tags": []
          },
          "execution_count": 95
        }
      ]
    },
    {
      "cell_type": "code",
      "metadata": {
        "colab": {
          "base_uri": "https://localhost:8080/"
        },
        "id": "c1ys4N8GbNeD",
        "outputId": "fef83abb-e68c-4968-fc8f-3e72e4b1fdbe"
      },
      "source": [
        "# tương đương với\n",
        "A + B"
      ],
      "execution_count": null,
      "outputs": [
        {
          "output_type": "execute_result",
          "data": {
            "text/plain": [
              "array([[1, 3],\n",
              "       [8, 5],\n",
              "       [3, 3]])"
            ]
          },
          "metadata": {
            "tags": []
          },
          "execution_count": 96
        }
      ]
    },
    {
      "cell_type": "markdown",
      "metadata": {
        "id": "6kj7r7robYm7"
      },
      "source": [
        "## **7.2. Phép nhân ma trận và vector**"
      ]
    },
    {
      "cell_type": "markdown",
      "metadata": {
        "id": "6mBsPD-5b8NW"
      },
      "source": [
        "**7.2.1 Inner() - Tích vô hướng hai vector**"
      ]
    },
    {
      "cell_type": "markdown",
      "metadata": {
        "id": "7Jeih8I6cHC3"
      },
      "source": [
        "**Công thức**\n",
        "\n",
        ">**Điều kiện nhân**: 2 vector phải cùng chiều với nhau\n",
        "\n",
        ">**Công thức tổng quát**\n",
        "\n",
        "![image.png](data:image/png;base64,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)\n",
        "\n",
        "ảnh: [wiki](https://en.wikipedia.org/wiki/Inner_product_space)"
      ]
    },
    {
      "cell_type": "markdown",
      "metadata": {
        "id": "FhKz6UuLczNv"
      },
      "source": [
        "**Thực hành**"
      ]
    },
    {
      "cell_type": "code",
      "metadata": {
        "id": "rWmVJAiYcuqG"
      },
      "source": [
        "import numpy as np"
      ],
      "execution_count": null,
      "outputs": []
    },
    {
      "cell_type": "code",
      "metadata": {
        "id": "CCmaFx8mc3ue"
      },
      "source": [
        "A = np.array([1, 2, 3])\n",
        "B = np.array([4, 5, 6])"
      ],
      "execution_count": null,
      "outputs": []
    },
    {
      "cell_type": "code",
      "metadata": {
        "colab": {
          "base_uri": "https://localhost:8080/"
        },
        "id": "jxJ0HL3rc9rO",
        "outputId": "f81a556a-b076-4bc1-973d-fe5b0a87f343"
      },
      "source": [
        "np.inner(A,B)"
      ],
      "execution_count": null,
      "outputs": [
        {
          "output_type": "execute_result",
          "data": {
            "text/plain": [
              "32"
            ]
          },
          "metadata": {
            "tags": []
          },
          "execution_count": 99
        }
      ]
    },
    {
      "cell_type": "markdown",
      "metadata": {
        "id": "p63vqOUbdF3i"
      },
      "source": [
        "**7.2.2 dot() - Tích vô hướng hai ma trận**\n",
        "\n",
        "**Công thức**\n",
        "\n",
        "> **điều kiện nhân** : ![image.png](data:image/png;base64,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)"
      ]
    },
    {
      "cell_type": "markdown",
      "metadata": {
        "id": "3RLFyd8FdjKN"
      },
      "source": [
        "> **Dạng tổng quát**\n",
        "\n",
        "![image.png](data:image/png;base64,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)\n",
        "\n",
        "ảnh: [wiki](https://en.wikipedia.org/wiki/Inner_product_space)"
      ]
    },
    {
      "cell_type": "markdown",
      "metadata": {
        "id": "MUixGVoDd5Pe"
      },
      "source": [
        "Diễn giải ma trận kết quả **c**\n",
        "\n",
        "![image.png](data:image/png;base64,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)"
      ]
    },
    {
      "cell_type": "markdown",
      "metadata": {
        "id": "LdpNoxjqeGt3"
      },
      "source": [
        "![image.png](data:image/png;base64,iVBORw0KGgoAAAANSUhEUgAABCcAAAGyCAYAAADXpq7zAAAgAElEQVR4Aezdz2sk973/+/ovvr2KLePFEXiR2Y0wOGdEvLCMyY1gFkeciTMRuTAIL4IwxlczThiEDwwiC6NkMVYmxKCB5CAvDPLCscYBg7wwyPcS8FmMozHMYuBkoUUWWoyT9+VV3e/uT1VXV1e3qqqru58F7a6uH58fj0/VWO93V1VHxoQAAggggAACCCCAAAIIIIAAAghMUCCaYN1UjQACCCCAAAIIIIAAAggggAACCBjJCQ4CBBBAAAEEEEAAAQQQQAABBBCYqADJiYnyUzkCCCCAAAIIIIAAAggggAACCJCc4BhAAAEEEEAAAQQQQAABBBBAAIGJCpCcmCg/lSOAAAIIIIAAAggggAACCCCAAMkJjgEEEEAAAQQQQAABBBBAAAEEEJioAMmJifJTOQIIIIAAAggggAACCCCAAAIIkJzgGEAAAQQQQAABBBBAAAEEEEAAgYkKkJyYKD+VI4AAAggggAACCCCAAAIIIIAAyQmOAQQQQAABBBBAAAEEEEAAAQQQmKgAyYmJ8lM5AggggAACCCCAAAIIIIAAAgiQnOAYQAABBBBAAAEEEEAAAQQQQACBiQqQnJgoP5UjgAACCCCAAAIIIIAAAggggADJCY4BBBBAAAEEEEAAAQQQQAABBBCYqADJiYnyUzkCCCCAAAIIIIAAAggggAACCJCc4BhAAAEEEEAAAQQQQAABBBBAAIGJCpCcmCg/lSOAAAIIIIAAAggggAACCCCAAMkJjgEEEEAAAQQQQAABBBBAAAEEEJioAMmJifJTOQIIIIAAAggggAACCCCAAAIIkJzgGEAAAQQQQAABBBBAAAEEEEAAgYkKkJyYKD+VI4AAAggggAACCCCAAAIIIIAAyQmOAQQQQAABBBBAAAEEEEAAAQQQmKgAyYmJ8lM5AggggAACCCCAAAIIIIAAAgiQnOAYQAABBBBAAAEEEEAAAQQQQACBiQqQnJgoP5UjgAACCCCAAAIIIIAAAggggADJCY4BBBBAAAEEEEAAAQQQQAABBBCYqADJiYnyUzkCCCCAAAIIIIAAAggggAACCJCc4BhAAAEEEEAAAQQQQAABBBBAAIGJCpCcmCg/lSOAAAIIIIAAAggggAACCCCAAMkJjgEEEEAAAQQQQAABBBBAAAEEEJioAMmJifJTOQIIIIDA/Ah8bXvX9+zrhnb467vrtvfXhjaOZiGAAAIIIIDAzAuQnJj5IaaDCCCAAALNEDi27WjLjpvRmL5WHN+ObOvzvsUsQAABBBBAAAEEahEgOVELM5UggAACCCBQIDnxeN/WXli0hSiyKIps9YPT2thITtRGTUUIIIAAAgggkCFAciIDhUUIIIAAAgiUL1AgORFXemxbJCfK56dEBBBAAAEEEGi0AMmJRg8PjUMAAQQQmB2B4smJbZITszPs9AQBBBBAAAEECgmQnCjExEYIIIAAAghcVIDkxEUF2R8BBBBAAAEEZleA5MTsji09QwABBBBolMDoyYnFq+u2/tqKrVxZtFa0YCs3du3479V0imdOVONKqQgggAACCCBQTIDkRDEntkIAAQQQQOCCAqMnJ1rX9u30vF3t+edbdim+3WPdDipIUJCcuODwsjsCCCCAAAIIXEiA5MSF+NgZAQQQQACBogKjJyeSv9bRe1Dm0m+/Llpp4e1IThSmYkMEEEAAAQQQqECA5EQFqBSJAAIIIIBAv8DFkxP+oMzo6r498QrOz+zk3oZtfnTmS8Z6JzkxFhs7IYAAAggggEBJAiQnSoKkGAQQQAABBPIFSkxOXD8wpSLOvtiznfc2bTWKbO1P3XRFfjMGrCU5MQCGxQgggAACCCBQiwDJiVqYqQQBBBBAAIELJifOj2yz8xOjK3dPA06VGyYnzuzwF8u2+PyCrd7YtI1bW7ZxZdX2/hrskjFLciIDhUUIIIAAAgggUJsAyYnaqKkIAQQQQGC+BUZPTkSv7NhJ526N0w/WrKXkxOVtO07cwZFKTjzet7Ubu7ZzLbLWm0em52kq8RC9cRjPDxoDkhODZFiOAAIIIIAAAnUIkJyoQ5k6EEAAAQQQsKLJiRPbfXnZVm8f2NGH27Z+ecmWLi9Y9PySrd8+sJO+X+pIJSeentvZ2ZFtRS1b/1C3epzZ4Y3IWtcPes+pyBgNkhMZKCxCAAEEEEAAgdoESE7URk1FCCCAAALzLXDffhy9avdLR0glJ1T+wz1bjpZsN76V49i2W5EtvZf/Cx/3fxTZq38ovXEUiAACCCCAAAIIFBIgOVGIiY0QQAABBBC4qMBd+2H0ot29aDF9+/cnJ84+2rAo2rDDM7PzL7bt0vPrdvC4b8fEgrvLkb34m8QiPiCAAAIIIIAAArUJkJyojZqKEEAAAQTmW6D85ET8ax13Nmwliqz12qbt/PrQ9KjM49sta72wZGtv79jm1XXb/UpPnsifSE7k+7AWAQQQQAABBKoVIDlRrS+lI4AAAggg0BE4tl9Fb9lx5R6ntvfy8Ns40s04vhnZW39JL+UzAggggAACCCBQjwDJiXqcqQUBBBBAYO4Fij4Q84JQZ4e2EbVs68HwqyXCmnggZqjBPAIIIIAAAgjULUByom5x6kMAAQQQmFOBOpITp3Z4Z8d24tde6idH89lJTuT7sBYBBBBAAAEEqhUgOVGtL6UjgAACCCDQEagjOTE+NsmJ8e3YEwEEEEAAAQQuLkBy4uKGlIAAAggggEABAZITBZDYBAEEEEAAAQTmVIDkxJwOPN1GAAEEEKhbgORE3eLUhwACCCCAAALTI0ByYnrGipYigAACCEy1AMmJqR4+Go8AAggggAAClQqQnKiUl8IRQAABBBBwAZITLsE7AggggAACCCCQFiA5kRbhMwIIIIAAApUIkJyohJVCEUAAAQQQQGAmBEhOzMQw0gkEEEAAgeYLkJxo/hjRQgQQQAABBBCYlADJiUnJUy8CCCCAwJwJFEhOPN63tRcWbSGKLIoiW/3gtDYjfkq0NmoqQgABBBBAAIEMAZITGSgsQgABBBBAoHyB+/bj6FW7P7TgY9uaQHLi/o8ie/UPQxvHBggggAACCCCAQCUCJCcqYaVQBBBAAAEE0gJ37YfRi3Y3vbjvs66wqP/KibvLkb34m77GsAABBBBAAAEEEKhFgORELcxUggACCCCAAMkJjgEEEEAAAQQQQGCQAMmJQTIsRwABBBBAoFSBY/tV9JYdDy2zd+XE4tV1W39txVauLForWrCVG7t2/PehBYy1wfHNyN76y1i7shMCCCCAAAIIIHBhAZITFyakAAQQQAABBIoIFHggZlxMLznRurZvp+ftss8/37JL8e0e63ZQQYKCB2IWGUO2QQABBBBAAIGqBEhOVCVLuQgggAACCCQERk9OJH+to/egzKXffp0ouYwPJCfKUKQMBBBAAAEEEBhXgOTEuHLshwACCCCAwEgCF09O+IMyo6v79kR1Pzq0rZ9v2ObPl23x8rrtftW5zGKkdrU3JjkxBhq7IIAAAggggEBpAiQnSqOkIAQQQAABBPIESkxOXD+wM3ti+1cXbfOTMzM7t6M3Wxa1tuz4aV4bBq8jOTHYhjUIIIAAAgggUL0AyYnqjakBAQQQQAABM7tgcuL8yDY7PzG6cvfUzL623cuRLfzi0JSeeHJ/1aKoZdtfntnhL5Zt8fkFW72xaRu3tmzjyqrt/TV/EEhO5PuwFgEEEEAAAQSqFSA5Ua0vpSOAAAIIINARGD05Eb2yYyfKPJjZ6Qdr1lJy4vK2HXeWdQpuXznxdstaV3bs5Jt9W7uxazvXImu9eWS60UOJh+iNw3i+t09yjuRE0oNPCCCAAAIIIFCvAMmJer2pDQEEEEBgbgWKJidObPflZVu9fWBHH27b+uUlW7q8YNHzS7Z++8BOMn6p4/yLbVt+Yd0OHpnZ03M7Ozuyrahl6x/qyRRndngjstb1g/ZzKgb4k5wYAMNiBBBAAAEEEKhFgORELcxUggACCCCAQNHkxIhSj/Zt/bWd+GqK87POAzEf7tlytGS78a0cx7bdimzpvfxf+CA5MaI7myOAAAIIIIBAqQIkJ0rlpDAEEEAAAQQGCVSQnHi0b2tXtuzw0ZmdnR3btm750LUSH21YFG3Y4ZmZrqq49Py6HTwe1K72cpIT+T6sRQABBBBAAIFqBUhOVOtL6QgggAACCHQEyk5OtB+IGXUekhm/t7btJH7GRMtaLyzZ2ts7tnm12E+MkpzgQEUAAQQQQACBSQqQnJikPnUjgAACCMyRwH37cfSq3a+8x6e29/Lw2zjSzbj/o8he/UN6KZ8RQAABBBBAAIF6BEhO1ONMLQgggAACcy9w134YvWh3q3Y4O7SNqGVbDzrPnyhY393lyF78TcGN2QwBBBBAAAEEEChZgOREyaAUhwACCCCAQLZAHcmJUzu8s2M78Wsv4ydHs1umpSQnBtuwBgEEEEAAAQSqFyA5Ub0xNSCAAAIIIKAnQdivorfiB1Y2keP4ZmRv/aWJLaNNCCCAAAIIIDAPAiQn5mGU6SMCCCCAQAMEyn4gZrld4oGY5XpSGgIIIIAAAgiMJkByYjQvtkYAAQQQQGBMAZITY8KxGwIIIIAAAgjMgQDJiTkYZLqIAAIIINAEAZITTRgF2oAAAggggMB8CZzZ8Z012y74oOzzL3Zs7c6xnU0AieTEBNCpEgEEEEgLnH28ZVsfT+J/A+mW8PkiAl/fXbe9vw4qgeTEIBmWI4AAAggggEAVAud2fHvJlu6cWO83vM7s5N6GrV7dsM2fL9vCC2u2/clpUHl7n0u3joN9gtUVzpKcqBCXohFAAIGiAk/ur9rqB+H/GIruyXZNEsh/bgPJiXrG6ti2n1+0xVZkURRZdOu4nmobXsvx7QVbfKHVNom2Gvtg1oYzjtg8jsURwdgcAQRKFjj/ctuWvr9tJ097BZ/eW7HoP/bsNF52bkdv6/8Ni7b1eS99YXZiO99PL+uVUdUcyYmqZCkXAQQQGEGA5MQIWA3elOREUwbn1PZ/THIiPRqnH6ySnEijVP6ZY7FyYipAAIEBAk9s/2pkK3fDL7/ay5S8X/+wfcWu/gaNk/m3k8n8OInx8p6Few+oqLTFJCdKo6QgBBBAYHwBkhPj2zVpT5ITTRmN3h9fE7ty4smBrV/btydNITGz7h+gtV058cQOrq/Z/uMaEb7csYXUH9g11p5RVQOOxYxWsQgBBOZA4OGerUSrtv8o2deTXy9Z1Fq2na/ayz1xfenOSXLDx/u2Gi3Z7v8kF1f5ieRElbqUjQACCBQUIDlREKrhm5GcaMoANSAg1B91P96v9RunYfqTSE7sX+3/w3hYOy+0/ovtht3K04Bj8UKg7IwAAtMq8ORPaxZ9f8dSKYdUd87s8IauNFzqJit6G+jWjshW79eXZic50dNnDgEEZkjgyYNd27i6ahu3tmz9tRXbftDsh02SnJiNg4/kRNFxPG8/jOvyoi1eWbal5yNbuLxqG+8d2ZPgvtiipfVvFwSEV9Zs/eqKrby2ZAtRyxb/Y9sO/ie8r7Z/71KWjJGcOP9qzzauLtniC8u2fHnBoueXbPXGrh2V9HdhLzmxbGs/X7WV11Zi+5Yehvbh1xU8+Ezj0LTkRNXHXvroacCxmG4SnxFAYC4E9DdJdDX/Cr6zB9u2FLVs5dcnGb/O8cQOrtX77CaSE3NxaNJJBOZJoP2E4ejyth393cweH9iaHozXsG8w0yOSl5yoOmBJt8UeHdn29WVbfGHJlq8sWqu1aMvXt+3gr81O8LT7UXfgkdQjOZH0GPjpy21r6WGVUWTbX2grXf7feUbEm0clBMlBQOj/FqiaR7pEVfVcyviGaGBrx1sxcnLixLb9IZ6d2xKe/Gm984yITTsqIZ/SS04sBQnb0/ieZI1F3yW94/U82KuByYnKj72g+/FsA47FdJP4jAACcyAwJLFwdmx7d3Zs581VW3ply/YH/I1XJMFRJibJiTI1KQsBBCYucPbRRhz0bHzUCaQfH9rm1XXb+bz8wPrsiz3b0T/shV77dpITXAxOTlQfsCQHrfM/MwVwnm3/ctsuxQHdsu09TG7duE+1Bx5JgfzkxH37cfSq3U/u0phP938U2at/yG/O6UdFj/cd29FVEIOK+/uhbTwfWfT8hh12NuoFzmX8kkQQECZ+rSN4OOEbhyUkQQZ1UInRUW/rOLPDNxYsihZs46MOisroJHG2Ps+pq+CqQcZ+v3EUbdjhPwoWVmizBiYnKj/20jANOBbTTeIzAgjMgUDn357E/wOzu332YTsRrqsn0n+qxsmJGr/gIzmRPUYsRQCBqRQ4tb1X9K1o2X9gV48xODlRfcCS7t3Je8vWilq2/Gu/S1E/gdn+VrvxP3dae+CR1MtPTty1H0Yv2t3kLo35dHc5shd/U2Nznp7Z1w/2bffOlm1cXbblMX7m8vzRoW3/x27G/bSDAsJgebTd+znNp+d2+vG2rf3Wj/kRHf560J+kfHvNLv3bqm32JS8P7OucW1fO/ufI9t/bsa0bq+0rl0ZITpx+tGXrb2za+pVFW7q+25cQHZSc6C33K1nO7eS9dVt/e9NWX1i0lTcPByeanOrp13bQ19ctW/v+oq2+2Z/UOvir7zj+u27f60sO31ix6Mq6bafb8tsgWVbCsVe81cExlwgSguXhsVi8YLZEAAEEcgQ6/8Yk/t1pb372P8d28jhIQ3QT4et2oKuOg4nkRIDBLAIIIDCSwJMDW9Mf8v6N/0g7T3bjwcmJdrsuErCohPO/n9jejU07TP1PZ1Cvzx+f2ME9Xe63bssv6179EZITjw5t6+cbtvnzZVu8vG67XwX/AxxUYZnLaw08kg0nOZH0GPTp/IttW45vYWjZyruH9vWTM+t9e1/kyolTO7yzY9s3li1qbY+XnPCHhD08tJ0727bxcmStd8dMTmR1dNQrJ/5xbNtX9FvzkbVe27bD/3liZw9HuHJC9f3bph3pIrF/HNlmK7JW6o/SXhIiadxb3rnd5Ytta73W+fm4+GnvkY2XmNQfx8165sTFj72swc5bFiQhEuMRLPdjMa8Y1iGAAAIjChzfiixKXyXYvcJ0tfdLSgOTE+d29GZGGSO2Y5TNuXJiFC22RQCBZgt4ciLxB6CafG6nD/9fO7ixYsuXF23txqZt3NqxzdcWbf3D9uXTJ++t2NILC7b88w3buLFtm9eWbfPjgRelxw613NZx0YDFzuz43o7tvqnfsF6zg/wumdmpHVzXpeWRRZc3bO+LUzv7x9EIV07oD+5F2/xEEZL+p9ayqLVlxznfFJd5UNUfeCRbn5+cOLZfRW/1vq1P7jrxT8c3I3vrL/nNKOe2jvbTv3WMLQY/+dgLkBU4n9vxnXVbubxgKzfa56QSEelLTuN9RkpOnNrey+1EWyvxbIt2oBgmJ8b5NyGhN2Jy4uTXl9rn3b9t986X7h+Mkem2jvMvdmz9lSVbeEUmG7b97oYtv7LTvkLir7u2FC3Y5sc69zqBb8omadxr7end5XbdrU07+ofZ2ccb1mot2258dUPnyqlrB/bkq11bubxoC1fW2/W/uWbLuVdVqB1NSk5c9Ng7s8Nf6P8jflwqgbtky7/Yse03NmwnHI8ub2cs9G9q4v9N6WNxhLL/fmibVxZt4flV23hzw7be3rDlq3u5V+R0m8MMAgjMjUD8/xVPNHuvz49sqxXZyp3j7gMw/cuBpfRPiVr7Vsjyn0fkjel/JznRb8ISBBCYWoEzO7zRskh/RHsfnj6xw7eXbfnG/23/9u6e7b4c2cIbh/E/yPGlavG2+sZyx3Zvtyx6pf1tYfxH/OVd+9rLqfhd9WV9M3nhgMXbrZ/XK5Cc0DM74sREtNbLqFvqto5HB7bx2rItvbDW/sP4zqatvLBuB49V2de2ezmyhV+0jdvBUMu2v/SGZL2f2uGbq7b88pCrLB7p+SHLtqzL1TPvi59E4JHsz7DkxHaU/MY6ufdkP+W3vcy2+e1XelBt59v5p6e2f6191UAUbdrRN/u2dm3P9t6MrHWlfdtGfCxlBdupZe2WBgHh9zfsoPMb72ef66nkkUWttdTvvre37yUnSvg3YcTkxOm9lc65t2p7nfaefrDWfXDo5iff2v61Ndu7uxn/Pv2ufp8+Tl5knF/xH58tW76TvH+4fT4qOXPJNv502qY6O7bty1rWsrUPOsvC4Y6vnFiIE7nHt5dt5z09zHSl/fyZuP6lThIj3Mnnhycn9FN3ejhq5k/VnZ+02/b9bTsuegFW7k+JXvDYezzouFwNPNLjUfBYHKHsJ/fXbOO9HVuLWrb5iWDa/0ZvfFwUyceHdwQQmGWB8wdb1sq61fnJke1c7/wy1JXF+CpX/WJT39PZzo9ss/vvTD1SJCfqcaYWBBCoS+BMty+s2PK1Ldt5e8NWb2za3oMndn5+ZmePD2wjatnWA/0B1wlG3tYvA5zb2dnXtvfjyBY6WeM4KfD8sN+GLq9Tg5ITpQUsBZMT7f+RKVBZ7DiZdQO6KLKVu6d2fHvRtu/t2rIe3Bd/S9v+w3jtT92UUAfm3I7eblnrSueb3UFc3UsM82/JOXnXg9cBgYxNIvBIdio/wJcTyYlY7O/HtntjxRZ1a8fzS3Fiavv+vu1cX+7cRvR/7OaDdrJp5V47YD4OkoeunpWwaK97Yoe/UFJyz44+3rWN15Zs6XL7l2dW9NOc4b228Q7p5EQJ/yaMmJwwXeX03oatxM/eWLCll5dt/fa+7d/RrVXtn1v9P//PXyz+t6mTRDXdfuGJAkfRVSe3l23x5weWTjU8+WjTll/esL0Hh7H/0uUlW2y1bPG1DdvVv5PdMnxGSaPF+Bs2rTs/O7Ov761a5P82frVjl6IF2xmYfCyQnPhw3RaiBVv3ZIlXrffzE9u5on9Dtu04MyEZbtyZz01OmNmFjr1zO/tH8riMx8NvJfx8y6K+8Sh6LI5Q9j/O7OyTLYta6+2r4c4O4/+3+ZWAGSosQgCBeRToXCUx9gOV9f+YzhV1dfGRnKhLmnoQQGDyAvEfjp177Dp/zOmp+Gf6o7eTHW4H251ApXOFRR0NH5ScKC1gKZic0K0YX3+4beuXdWtHyxavLNvqjV3bv7dpqy93Hlr4f71v/9+HG/HtGvHPG3a+vW0nfXpa8S0WuqKi8y1wb01q7vzEdq8uxN8Gb36UDqd6255/tWurz+ub9E07HFRm7YFHr32aqzU54T+T64FRsikjf8pv+8jFXXyH+Gc/W52fGm0HhEvvndj5WS+EHpycGLX6dHKihH8TRk5OFGlz+xLbVud2mDgwvqwric66iYXT++vty3WfKtgtUuagbc7t+N0VW79/aqayYvb2/cetzr+Nbf8NO+z7us3LHJ6c8C1Lex+WnChSUd6xl1jXHo9uUvvOJYtS41Gkuu42I5Qd34rjV/fFSaq8K1i6NTCDAAJzJnDy66X+504UMmjfmtt/q0ehncfeiOTE2HTsiAAC0yYQ/zHX+cbv/BNdGr1hB3/askU9BC/+BvBS+/JkBRWtZdv5shcEVd3XwcmJIjUPD1j0DWuR2zqK1KZt4ocsdYLi+FaQ1oYdPj6zc3+2xKN9W39tx47P9G1rfY6F2p8IAFJBb2Ld6IFHfoBf8pUTjw9s/fnIFq73f0NeyCG1UX7bUxvX8LF9jna+GX64Z8vRku1+uGerwW1blSYnLvxvgq6+KPnY7yRR29+Qt59ZsPTege39eC2+rer0/potv31op2dn7Suegmd6jDZkuvpixdbuntjZ2Zkp4dG+7aJ9vlx6Tze8KfHQf+tIuh5dbdH9dyG9sorPSqRc0D3v2Pu28/+OOCGTSGp3/i359WF8+037NrfROuj/Xxpetm5hjCy6odvnNFaX4n8H0teujVY7WyOAwEwK6NlllzsPOx6lg1/t2NLl7fjvuFF2u+i2JCcuKsj+CCAwJQLndvhGZAu39Kg9M/tq15ZbS7ZyfdMOH5vFQc7zi7aiB5tdX7W8b/Cr6PCFkhNDApa4vaUmJ9pBUfvbQv8m9cAO3l5sP1vi0b6tXdmyw0dndhbfzx78ZGMVeCOWWWXgkR/gl5ycGLHfwzbPb/uwvctf//V7S9by31aPfyL2ki2/5s8laf9ax9Y1PURyydZv7dj+uMnE+Nc69JOXegjsum3d2Y+faTLpfxMyRfXQy9aq7T/U2vbPDF+6smLrvz2x8/iBmLolq/fqPUMjs7SBC+MHYgblqMz4tq34KqkFW3xt03Zur9vqm4d9t44MLHSKVuQde4l1eeMxRn+Ll31s27od5/Kabd3ZtNWBz+EZoxHsggACsyegv8subxW/PS5+GHv62Uz1sJCcqMeZWhBAoNECHmC3H+I4iaZeKDmR+wdy+9c6dm7oYXutOPmy8/HgWycK9f0fur95wbY+b38rfPLesrUur9h6/NT+9gMxwwAp+6ceC9VUyUaJACAV9CbW5bpmNy0/wCc5ka3WxKWT/zehkSrhVQNNbOC8tMmvJIp/TWVeOk0/EUDgQgJ69lrRW/1G2fZCjerfmeREvwlLEEBg7gTal+P6g/cm0n39j6DkK8An0o95r1T3/vutLX0WJCf6SBq7oAH/JjTQJvEwzga2b16a1L6VbsviZ/7MS6fpJwIIzIUAyYm5GGY6iQACgwU6Vxbc2bGdOzt2GF8uPXhr1iAwvgDJifHt6tyTfxOytM++2Iv/jdS/kzs5D67N2pdlJQrEtyG1/3+1c++4/6f/SqyKohBAAIG6BUhO1C1OfQgggAACcypAcmJOB55uI4AAAggggEABAZITBZDYBAEEEEAAgYsLkJy4uCElIIAAAggggMCsCpCcmNWRpV8IIIAAAg0TuG8/jl61+w1rlTfn/o8ie/UP/ol3BBBAAAEEEECgXgGSE/V6UxsCCCCAwNwK3LUfRi/a3Yb2/+5yZC/+pqGNo1kIIIAAAgggMPMCJCdmfojpIAIIIIBAMwRITjRjHGgFArRb9PoAACAASURBVAgggAACCDRRgOREE0eFNiGAAAIIzKDAsf0qesuOG9qz45uRvfWXhjaOZiGAAAIIIIDAzAuQnJj5IaaDCCCAAALNEOCBmM0YB1qBAAIIIIAAAk0UIDnRxFGhTQgggAACMyhAcmIGB5UuIYAAAggggEBJAiQnSoKkGAQQQAABBPIFSE7k+7AWAQQQQAABBOZZgOTEPI8+fUcAAQQQqFGA5ESN2FSFAAIIIIAAAlMmQHJiygaM5iKAAAIITKsAyYlpHTnajQACCCCAAALVC5CcqN6YGhBAAAEEEDAzkhMcBggggAACCCCAwCABkhODZFiOAAIIIIBAqQIkJ0rlpDAEEEAAAQQQmCkBkhMzNZx0BgEEEECguQIkJ5o7NrQMAQQQQAABBCYtQHJi0iNA/QgggAACcyJAcmJOBppuIoAAAggggMAYAiQnxkBjFwQQQAABBEYXIDkxuhl7IIAAAggggMC8CJCcmJeRpp8IIIAAAhMWuG8/jl61+xNuxaDq7/8oslf/MGgtyxFAAAEEEEAAgWoFSE5U60vpCCCAAAIIdATu2g+jF+1uWR6PD2ytFVl0dd+elFDm3eXIXvxNCQVRBAIIIIAAAgggMIYAyYkx0NgFAQQQQACB0QXKT06sPx/ZwvUDOx29MX17kJzoI2EBAggggAACCNQoQHKiRmyqQgABBBCYZ4Fj+1X0lh03lOD4ZmRv/aWhjaNZCCCAAAIIIDDzAiQnZn6I6SACCCCAQDMEeCBmM8aBViCAAAIIIIBAEwVITjRxVGgTAggggMAMCpCcmMFBpUsIIIAAAgggUJIAyYmSICkGAQQQQACBfAGSE/k+rEUAAQQQQACBeRYgOTHPo0/fEUAAAQRqFCA5USM2VSGAAAIIIIDAlAmQnJiyAaO5CCCAAALTKkByYlpHjnYjgAACCCCAQPUCJCeqN6YGBBBAAAEEzIzkBIcBAggggAACCCAwSIDkxCAZliOAAAIIIFCqAMmJUjkpDAEEEEAAAQRmSoDkxEwNJ51BAAEEEGiuAMmJ5o4NLUMAAQQQQACBSQuQnJj0CFA/AggggMCcCJCcmJOBppsIIIAAAgggMIYAyYkx0NgFAQQQQACB0QVIToxuxh4IIIAAAgggMC8CJCfmZaTpJwIIIIDAhAXu24+jV+3+hFsxqPr7P4rs1T8MWstyBBBAAAEEEECgWgGSE9X6UjoCCCCAAAIdgbv2w+hFu5vl8Xjf1l5YtIUosiiKbPWD06ytKl12dzmyF39TaRUUjgACCCCAAAIIDBQgOTGQhhUIIIAAAgiUKZCTnIirObYtkhNlglMWAggggAACCEyRAMmJKRosmooAAgggMM0Cx/ar6C07HtgFPZNicldOHN+M7K2/DGwcKxBAAAEEEEAAgUoFSE5UykvhCCCAAAIIuMCwB2JOODlxO7Ktz72tvCOAAAIIIIAAAvUKkJyo15vaEEAAAQTmVqB4cmLx6rqtv7ZiK1cWrRUt2MqNXTv+e7VwxyQnqgWmdAQQQAABBBDIFSA5kcvDSgQQQAABBMoSKJ6caF3bt9Pzdr3nn2/Zpfh2j3U7qDBBQXKirHGmHAQQQAABBBAYR4DkxDhq7IMAAggggMDIAsWTE8lf6+g9KHPpt1+PXGvRHUhOFJViOwQQQAABBBCoQoDkRBWqlIkAAggggECfwPjJCX9QZnR13570lVvOApIT5ThSCgIIIIAAAgiMJ0ByYjw39kIAAQQQQGBEgRKSE9cP7GzEWotuTnKiqBTbIYAAAggggEAVAiQnqlClTAQQQAABBPoExkxOnB/ZZucnRlfunprZie2+tmLLlxdt7cambdzate2rC7Z6e8e23ti2nTdXbPHnB+0rLL7atZXLi7ZwZd02bmzY9ptrtvzmYebVFyQn+gaMBQgggAACCCBQowDJiRqxqQoBBBBAYJ4Fiicnold27KRzicTpB2vWUnLi8rYda9kX27b47p7tvhzZwhuH8ZUUSixEz2/Z0T/a66NozQ6emB3fXrad97atFa3Y3kMze7xvq9GS7f61fxxITvSbsAQBBBBAAAEE6hMgOVGfNTUhgAACCMy1wLDkxIntvrxsq7cP7OjDbVu/vGRLlxcsen7J1m8f2In/UsfTczt7fGAbUcu2HugnPc7s8EZkrdvHse7pB6sWtbbs6Nzs/OzMvr63atHzO3aitV/t2KVowXa+7B8IkhP9JixBAAEEEEAAgfoESE7UZ01NCCCAAAJzLTAsOTECzudbFkWrtv9Y++jXPFq2/qEelXlmB9cja71xaE/OlLg4t6M325910cWT+0pcbNhhxoMrSE6M4M+mCCCAAAIIIFC6AMmJ0kkpEAEEEEAAgSyB8pITp3eXLbq8a/EPiz7cs2W/VePsML6iYuPDA9t+YdtO7MR2vh/Zpfe05RPbv9qy5TsnprRFeiI5kRbhMwIIIIAAAgjUKUByok5t6kIAAQQQmGOBspIT53b4RmQLt47jJMP5xxvx8yaO44zDie1eadnSK+u2+fGTzjMmFmzxtU3bub1uq28emh6pmTWRnMhSYRkCCCCAAAII1CVAcqIuaepBAAEEEJhzgbKSE8UZzz/ZHHgbR7oUkhNpET4jgAACCCCAQJ0CJCfq1KYuBBBAAIG5FjiPnwNRH8HJry9Z9MrewKslEi35x5mdP00s4QMCCCCAAAIIIFCbAMmJ2qipCAEEEEAAgfoEzr7Ys507O+3XR4Nu5qivPdSEAAIIIIAAAgjkCZCcyNNhHQIIIIAAAggggAACCCCAAAIIVC5AcqJyYipAAAEEEEAAAQQQQAABBBBAAIE8AZITeTqsQwABBBBAAAEEEEAAAQQQQACBygVITlROTAUIIIAAAggggAACCCCAAAIIIJAnQHIiT4d1CCCAAAIIIIAAAggggAACCCBQuQDJicqJqQABBBBAAAEEEEAAAQQQQAABBPIESE7k6bAOAQQQQAABBBBAAAEEEEAAAQQqFyA5UTkxFSCAAAIIIIAAAggggAACCCCAQJ4AyYk8HdYhgAACCCCAAAIIIIAAAggggEDlAiQnKiemAgQQQAABBBBAAAEEEEAAAQQQyBMgOZGnwzoEEEAAAQQQQAABBBBAAAEEEKhcgORE5cRUgAACCCCAAAIIIIAAAggggAACeQIkJ/J0WIcAAggggAACCCCAAAIIIIAAApULkJyonJgKEEAAAQQQQAABBBBAAAEEEEAgT4DkRJ4O6xBAAAEEEEAAAQQQQAABBBBAoHIBkhOVE1MBAggggAACCCCAAAIIIIAAAgjkCZCcyNNhHQIIIIAAAggggAACCCCAAAIIVC5AcqJyYipAAAEEEEAAAQQQQAABBBBAAIE8AZITeTqsQwABBBBAAAEEEEAAAQQQQACBygVITlROTAUIIIAAAggggAACCCCAAAIIIJAnQHIiT4d1CCCAAAIIIIAAAggggAACCCBQuQDJicqJqQABBBBAAAEEEEAAAQQQQAABBPIESE7k6bAOAQQQQAABBBBAAAEEEEAAAQQqFyA5UTkxFSCAAAIIIIAAAggggAACCCCAQJ4AyYk8HdYhgAACCCCAAAIIIIAAAggggEDlAiQnKiemAgQQQAABBBBAAAEEEEAAAQQQyBMgOZGnwzoEEEAAAQQQQAABBBBAAAEEEKhcgORE5cRUgAACCCCAAAIIIIAAAggggAACeQIkJ/J0WIcAAggggAACCCCAAAIIIIAAApULkJyonJgKEEAAAQQQQAABBBBAAAEEEEAgT4DkRJ4O6xBAAAEEEEAAAQQQQAABBBBAoHIBkhOVE1MBAggggAACCCCAAAIIIIAAAgjkCZCcyNNhHQIIIIAAAggggAACCCCAAAIIVC5AcqJyYipAAAEEEEAAAQQQQAABBBBAAIE8AZITeTqsQwABBBBAAAEEEEAAAQQQQACBygVITlROTAUIIIAAAggggAACCCCAAAIIIJAnQHIiT4d1CCCAAAIIIIAAAggggAACCCBQuQDJicqJqQABBBBAAAEEEEAAAQQQQAABBPIESE7k6bAOAQQQQAABBBBAAAEEEEAAAQQqFyA5UTlxgQq+2LYoiuLX9hcFti9lk2Pb7tQZXd23J6WUSSEIIIAAAggggAACCCCAAAIIjC4wZcmJIKD2wFrv0xxcdxITSkoc344sun08+igGe8RlRJEVSXI8ub9aaLugeGYRQAABBBBAAAEEEEAAAQQQKF1gupITj/dtNUxKJOa37WJhfem2hQo8/iLV6sdPLnAVwxPbv6orMFZt/3Gh6tkIAQQQQAABBBBAAAEEEEAAgYkLTCA5kbr6YZQrBfz2h8Q+HpBHtnq/d3OCrgrwWyXi92Cf9tUFCuB7+0ZRKrmRSIRs27F/DsoJR69XZtC/zrZ+NUN/0iDYtsAVIN6n7S+C/RJXjfjyoL0qN9VmL8d9EldZhP107yhpq373+tRe1+t/qMI8AggggAACCCCAAAIIIIAAAsMF6k1OeOCbuOKhP/Ad1GwPqsMkRLytB9GdINy38+Db39tBuCckVm01vsqg/ayHRAJjQDu1TV/dcQMGlTlGHYlkQ1IiTAh4nxJtGtju3pUUg8roJig6lqtXU8md4GqMQWX0JXiSzecTAggggAACCCCAAAIIIIAAApkCtSYnukGtf5PvwXROQN5rtScAMp6nkEpO9PZpz3myop1Y8KsLgisKUvsPbOfAZzn0yvTkRbcM71uijl5felc1+LJeIiHZj/46zMtM19FNJKTK9O276826ZfQldrwdqTJ8zIIy+vqabDifEEAAAQQQQAABBBBAAAEEEMgVqDE54cF16vaJ3OaFK31/D5p765LJBy33gDq4KsITC93gutcO37+dKPB6eut75fXXHbeir8xe/X5FgteRTJCEdfRulfB9ej00s746gmWd5IQnCTxBYuZ9abc72YZO6V7uRcrwpIcnnRIN5wMCCCCAAAIIIIAAAggggAAC+QL1JSdSQXB+szLWDtw/lQjo284D9E4iICOQ9qA+Tgr07a+2pMpIN6+vzP7th9fh/RiQAOmrI33VQ8b+qb4k2uB9SJQ7XhmZSQ8vn3cEEEAAAQQQQAABBBBAAAEEhgjUl5zoC/A9EM64TSOr0Ykg2jfoleE/J5oOlP1zen3v6gQvo5MU8IB+hNsWvI7uFQteht9u0b2SwxMPnrzwz2ZehrfTe+jv/eu93f4cDC8zuBojZdYto3uFg+/jY9D53G13OgHSu7qjezuK99WvTPEG844AAggggAACCCCAAAIIIIBAQYEakxO9YDp8mGNfkNsNnJM96AbWqYdptsvqBeQDt+uU2756oJcU6L8qYkA7M371wlvYV2YnKdBNVnhiJgj6/SqGhEVOgO919D3E08v0JEHg5xbddvg2acNRyvCER7qMIJnjLrwjgAACCCCAAAIIIIAAAgggUESgxuSEmpMK/INA2h/M2A2kE61P7RcGxmEZ8T7Jbbfv79tqN7Hg63rJjO6zHMJywiD+6r4dd36WNL9tvTI98dC9OsMD+rCO1M9x9v/MaAgQtrt3tUPi1zH6EiJ+lUOYiAmeU+GGYZsKluH9U2Kl97Omvf6HLWceAQQQQAABBBBAAAEEEEAAgWECNScnhjVn8uv9aoNuYsGvepjolQEZt1tMhKq/He7VvQJmIu2iUgQQQAABBBBAAAEEEEAAgWkWmNHkhF9pkLpqoMhI+VUOfmWBv/utD0XKKHsbb1N4lUPZdRQqz12Tv4LSvoKiUAFshAACCCCAAAIIIIAAAggggECfwIwmJ/q/4e/rec6C8LaF+JkQk0xM6GaY3NtKcjpSxarwlpdO4qZ3lUkVFVImAggggAACCCCAAAIIIIDArAvMaHJi1oeN/iGAAAIIIIAAAggggAACCCAwOwIkJ2ZnLOkJAggggAACCCCAAAIIIIAAAlMpQHJiKoeNRiOAAAIIIIAAAggggAACCCAwOwIkJ2ZnLOkJAggggAACCCCAAAIIIIAAAlMpQHJiKoeNRiOAAAIIIIAAAggggAACCCAwOwIkJ2ZnLOkJAggggAACCCCAAAIIIIAAAlMpQHJiKoeNRiOAAAIIIIAAAggggAACCCAwOwIkJ2ZnLOkJAggggAACCCCAAAIIIIAAAlMpQHJiKoeNRiOAAAIIIIAAAggggAACCCAwOwIkJ2ZnLOkJAggggAACCCCAAAIIIIAAAlMpQHJiKoeNRiOAAAIIIIAAAggggAACCCAwOwIkJ2ZnLOkJAggggAACCCCAAAIIIIAAAlMpQHJiKoeNRiOAAAIIIIAAAggggAACCCAwOwIkJ2ZnLOkJAggggAACCCCAAAIIIIAAAlMpQHJiKoeNRiOAAAIIIIAAAggggAACCCAwOwIkJ2ZnLOkJAggggAACCCCAAAIIIIAAAlMpQHJiKoeNRiOAAAIIIIAAAggggAACCCAwOwIkJ2ZnLOkJAggggAACCCCAAAIIIIAAAlMpQHJiKoeNRiOAAAIIIIAAAggggAACCCAwOwIkJ2ZnLOkJAggggAACCCCAAAIIIIAAAlMpQHJiKoeNRiOAAAIIIIAAAggggAACCCAwOwIkJ2ZnLOkJAggggAACCCCAAAIIIIAAAlMpQHJiKoeNRiOAAAIIIIAAAggggAACCCAwOwIkJ2ZnLOkJAggggAACCCCAAAIIIIAAAlMpQHJiKoeNRiOAAAIIIIAAAggggAACCCAwOwIkJ2ZnLOkJAggggAACCCCAAAIIIIAAAlMpQHJiKoeNRiOAAAIIIIAAAggggAACCCAwOwIkJ2ZnLOkJAggggAACCCCAAAIIIIAAAlMpQHJiKoeNRiOAAAIIIIAAAggggAACCCAwOwIkJ2ZnLOkJAggggAACCCCAAAIIIIAAAlMpQHJiKoeNRiOAAAIIIIAAAggggAACCCAwOwIkJ2ZnLOkJAggggAACCCCAAAIIIIAAAlMpQHJiKoeNRiOAAAIIIIAAAggggAACCCAwOwIkJ2ZnLOkJAggggAACCCCAAAIIIIAAAlMpQHJiKoeNRiOAAALNFPjXv/5lDx48GKlx2udvf/ubHR0d2T//+c+R9h11Y9WVN52entrvf//7vE1Yh8BUCOhY1zk1yuTn4r179yZ+LqotagcTAggggMD8CJCcmJ+xpqcIIIBApQIKJn7yk5/Er6IVaZ933nnHfve738Xvzz77rClBUMXkdeWVrcTED37wA9O2TAhMs4DOK52Po0x+HipZqHNx1ORG0bqKnItKcnIuFhVlOwQQQGA2BEhOzMY40gsEEEBg4gIKJq5du9YXEGUlG3yZrpR45pln4qstFLAoGFFQNWwqkjxIb6NvYYeVrX2qvnpjWN9Yj8BFBYqeizre/VzUvCcXNa/kRN6VC9pGk7/ntTm9jcpVXenlYRlal7c+3JZ5BBBAAIHZECA5MRvjSC8QQACBiQoooPcrIMJvaxX46NvYMADSduGtH7pawQMRD47SndH+Wud13Lp1qzvvyz2Q0be9N2/ejOv14ErfBEdRFCdPVIa3S8mQTz/9NC5Ly7TOv61VOSr79ddfj2878bZ5Pek28hmBJggMOhe1XOeizgVNOo7T56Kfh998802cnPBtw35pGz8X/EqLX/7yl/FVFr7czxGd5zoX9Uqfiy+99FJc/2effRav83NR53Z4LqrdnIvhCDCPAAIIzK4AyYnZHVt6hgACCNQioEBEAYWCCP9GNKzYEwEKdNLBULidJxC0fdakAEUJhqdPn8bBi6640DLVq8BG82qLkgmaV3kKljwRorrVTg+cfD8PsLSdB2XaRi+tUxl7e3vxu/ZhQqDJAjrOdQ7lnYs6zsNzI+yPzh2tC8+VcL3mda7oXFQ5ft6G56KfczoXdQ6pPWF9fl75+eTnotru/0Z4uVrn56ISGpyL6dHgMwIIIDA7AiQnZmcs6QkCCCAwEQEFIrr6QEFEOujwBinQUGCh9VmT9g2Dl6xtVI9f1aDtFRzpXZP2Db+ZVYCjuvyWEW3jgY+XrYBH5YXJEM3rcnat06R3la22+zLfn3cEmiagc+TPf/5z91zUbVZ+jnhbdYznnYvazs8NnTNZx314Lmp9+KyY8FxU3VnnYjpx4vWpXJ/S57i2UVmciy7EOwIIIDB7AiQnZm9M6RECCCBQq4ACCg/8FTjo5YkCNURBhQIWJQv0CpMB4XolMLRtuG/YkTAgSgcuHhB5kKNvcb/77rvuFRWq09uofVWWbxu2R/NZyQm/MiNsD/MINE2gyLmo80DJRJ2LOufCSeeRytCkeb2ypvBc1HmUlZzw8yvrXPTkRPpc9LpVZ/ocV3lqD+di1oiwDAEEEJgNAZITszGO9AIBBBCYuICCBwU+Ch4UWGjyZR50KPgPExRar0u//UGaCj5URtak/bxsv+RbCQjVpeVerq6o0HJdcq55la36PSDSZeHaX/v5rSFenwIpBVpap7b6ZenaX9t6v3x73hFoooDOK50PShT6MZs+F7Xczxn1Qes98Nf5o/NA67MmLQ/PRW2r801l+DnsiT5PTmib999/Pz4PdT5p/7xzMTzHVZb+XVC9Wq6y1EYmBBBAAIHZEiA5MVvjSW8QQACBiQkoCFEAoZdf/aCgQq9wCpd5wOT76d0TGel9fBuVrZd/DutV2drf1ymQ0bzqefToUXe5PodlaJ+wLQqC9NK+WheWme5P2E7mEWiCQHhO+Lmo4z997OqYD5dp3o977af16Sk8j8LzROdKWK/K8vNP63xeZYZl6HO4X/pcVDv8XNU6lavy9Arbnm4nnxFAAAEEpk+A5MT0jRktRgABBBBAAAEEKhPISkpUVhkFI4AAAggg0BEgOcGhgAACCCCAAAIIIIAAAggggAACExUgOTFRfipHAAEEmiugS691KXb65fewN7fl9bVM3zCnffSZy83rG4Nprclve0gfP1y1UM+IDvLn37d6/KkFAQQQyBIgOZGlwjIEEEAAgfjecz1QMv26desWOh0BBThpH33Ww/4IMjlMBgno2NAxknXsKFnBVK2A/PXgzix/Pf+CCQEEEEBgMgIkJybjTq0IIIBA4wX0sDv98a53/cGulz+QrvGNr6mB3377bdfGjfQLCSQnahqAKa3GkxM6Vvy40bmleZJa1Q+qjJVYdHu9//nPf47/vdM8EwIIIIDAZARITkzGnVoRQACBxgt4coJvcosPlQedJCeKm83jln6c6Nt7khHNOAL075ySsSQnmjEetAIBBOZTgOTEfI47vUYAAQSGCpCcGErUt4EHnSQn+mhYEAj4cUJyIkCZ8CzJiQkPANUjgAACZkZygsMAAQQQQCBTgOREJkvuQg86SU7kMs39Sj9OSE4051AgOdGcsaAlCCAwvwIkJ+Z37Ok5AgggkCswanJCAZeedK+X5vVqyhS2TW2qqm0qV4kJkhNNGflmtsOPk0kmJ8JzQvP+We9NmLw94b8n/u9LFe0jOVGFKmUigAACowmQnBjNi60RQACBuREYJTmhP+xff/1184dBvv/++/GDNJsQ6KgN+oWRZ555Jn7XvIJCBTplT6qL5ETZqrNXnh8nk0pO+Dnh56ufE//5n/8Zn8NVnBujjKLa9+mnn3b/PfH2Xbt2zZ599tlKzl2SE6OMENsigAAC1QiQnKjGlVIRQACBqRcompz47rvv4sBf2yuo+eabb+IHy2UFXgo66pw8CFTCQG3TZwVkevBdOgDLapuW+atIu7UtyYkiUvO9jR8nWedIWmaU4y+976DPeuijzleVrXl/EOQ777zTd24Mqt/Pp0F1XGS52qSEhOrwpIE+K2GhtuqXNnxS+7KmUdvn9fBAzCxNliGAAAL1CJCcqMeZWhBAAIGpEyiSnFBgoAArDPaVrNBn7e/T73//e1Pgo23D6d69e5nLw20uMh8GXipHAYvaEAaFCnTUNl1ZofU+6acd1QffPlzn26Tf5UFyIq3C57SAHyfhcZjeRp+1nYJyXZVU5PjLKiO9TGXqvPDy/DzXeavlemkbTVqnc0Mvn7TOzwsd69q+zEnl69+FdPuUPFBdqtvbN+jfD20jN7VPbfft89pJciJPh3UIIIBAPQIkJ+pxphYEEEBg6gT0B76SDPqjfdDkiYgwyMraLwz0w7IGLQ+3GXdeAYnaFSZOFPAoCaE2+qTkhPfDAyLfV33XvIKccB/fN/3u22p7zTMhkCXgx0l43uRtp2O2iuNJZaoNevmx7+149OiRffbZZ3GQHyYnlBC4efNmvL2SBbrNooq2eTsGtU/r9e+HkhDaxiedz/LS+yjtIznhgrwjgAACkxMgOTE5e2pGAAEEGi2QlWRIN1jBQfoqCQUKnhDQep8U1IRBxLDlvn7cd09EqE4Pnry9CkQUvPhybettVn1aroDM26/5rLan26b9lJggOZGW4XMo4MdJeGyG68P58DgNl19kXse72uDniCfetEwJiXDSsR8mJ7Re57ImD+jVxjKndPvcSe1TneGUPjeVVNGVWtpW/fJ9w32y5r0vZV8JklUXyxBAAAEEsgVITmS7sBQBBBCYe4EiyYn0H/Qe7Cgg0B/5YWBQd3JCwYmSBPpmVZM+a15JiKdPnyZu41C7w+REOPheTpGgxbedVHJC9Y87ad+L7D9uvfO4nx8n4flRl4PXrXNB56SOe0826BjX8vA4SCcnwnZqv7KPdW+fbHSeqn17e3txtfr3Jm2WTk5oQ5Wh5bqCQldFFZnS/5YV2YdtEEAAAQTKFSA5Ua4npSGAAAIzI1AkOaGgXsGJ7on3wEEBgZ6qrwdPaplPdScnVK/6oPYp6FKAo18jUPs0HwZheckJD87CgM37lH73wKrsgC1dT/qz6vVvidXeUb7J9n29n+GYpeu56OciVwEo+CySCLpoWya5vx8n6UC7jjZpDDzgV/06H3Ts6GGT+qxzIZz8uAiXaV7HiY5zv7oovX7cz6pfbdIv/qh8zetcffjwYdy+dLJB7VO7tuNODAAAIABJREFU05PKUb+K3nai/shl1o+9tBOfEUAAgSYJkJxo0mjQFgQQQKBBAvrDXn+sDwtWFQQosNH2mlfwo/n0H/mTSE4oCFT71R59C6vARu1QQKO2+qR59TVcpnXqg/erSBDmQWfdyQn1Sb+SInslirKCNe9r+l19VgCod5WjYK6qSe1SG/MmtaGIdV4ZTV/nx4k8NF/nFJ4TOjf8fPXjPN2WrOSEjhW1Xe/aX7dSlDWF7fNjWm3La194vKs9OoY0ab5owoHkRFkjSDkIIIDA+AIkJ8a3Y08EEEBgpgUUDBRJThRFUHlZwZgCiazlRcstYzsFWenkhAJkXQGiBIVeCtKGTR501p2cUEJCL01qtxIM6pMmtV1Bmk9qo8bCl4XBnJYParu208sDUs2rLF+meZ+0jYI9b4OW67PapYDTt/V9/T0sT/tofy8jnPd6pvVd/ZTzpI/7In66akHHvo+Z3tVuJSR1rGm9xm9Sk+oPHcNj2BMORdrn2+p8YUIAAQQQmIwAyYnJuFMrAggg0HgB/ZFfVnLCAwbd6qFAx4MFX65ALVxeJ46CEtWtwFlBjj9MT5/Dl38bm9c2DzoHBfh5+15knQeOKiOd7JG1nPWu7TSfFYBpmdqdtU7lark8PFj14Fp2WqbkiMpXEkHHjQJXrfPyVK+Wa1u1Ud+2y9sv21fZGgt99mNB67WPAmElirSNl3cRr0nv68dJGFRPuk1Z9WscNM56aV7t1tiF54XmtXwSk7cv/HdFx7lctU7vam+R9pGcmMQIUicCCCCQFCA5kfTgEwIIIIBAR8CDSf3RftFJwUH48vLCZUUCCN+vzPdBbRi0PK9u7ePB3CT6o7HyID9spycolBjICu6//fbb7u0vHoSG+2teSQf1TceFJg/+1E+V70Gq5lWHtte22scttY3W+6TtlHzQMl+ucvXyyT83PZD39hZ59+Ok6X3ycfN39c3nw/cifa5im7ANmvdJ8zqedAwWnUhOFJViOwQQQKA6AZIT1dlSMgIIIDDVAmUmJ6YaYoTGKyiaVHJCgZiCXb17oO9NV7uUmNAra50v8wBNVz2kJ++br/MrNLSd9vfkhLbzhILqy0pOeH0qy9d7fb6vf9a2upoiK6ni20zbu1s2PTkxba4Xaa8f+7N0nF3Eg30RQACBSQiQnJiEOnUigAACUyBAcmL0QfKgMx1wj17SaHuoXiUC9MBPT1JomSa9aywVdCnQ17wnB7ReyQAF/9pOy/1KhnQLtF79ykpO+BUb2sYfyOn1ah/VqXb5VR2qU+uLJCe0rfZPX3WRbt80fXZLkhPNGTWSE80ZC1qCAALzK0ByYn7Hnp4jgAACuQIKCBWo6o92pmICHnTWnZxQkKux8ldYv8Yx/DbYExTeI42vttc2evfEga/3d10pofJVl+aVhPArGrRMyQOvS/MqTwkTbaOfbpWN9tEybe9JFG2rOjV5skLPEPD9tV7bqm3f+9734rq9TdP67seJHDTPNHkBkhOTHwNagAACCJCc4BhAAAEEEMgUIDmRyZK70IPOMDmQu0NJK5VwCF8K5keZtK+SAbryYlCwrOUq1+vxeb2H86pX23z22Wfd5V6m76vPes6F76t3TXpIppelbX1e63zet413mNL/qP86RkhONGcASU40ZyxoCQIIzK8AyYn5HXt6jgACCOQKkJzI5clc6UFn3cmJzMawsLECfpyQnGjOEJGcaM5Y0BIEEJhfAZIT8zv29BwBBBDIFSA5kcuTudKDTpITmTws7Aj4cUJyojmHBMmJ5owFLUEAgfkVIDkxv2NPzxFAAIFcAZITuTyZKz3oLJKc0LYy1jMY/KXPWs5UroBuEXFjf9eySU1+nJCcmNQI9NdLcqLfhCUIIIBA3QIkJ+oWpz4EEEBgSgRITow+UB50Fk1OaLtr1651A+e6khNqp79G72V1e3ib9F7mlE5O+IM8y6xjlLLUP409yYlR1KrdluREtb6UjgACCBQRIDlRRIltEEAAgTkUIDkx+qB70DlKckLOdU96+KUCY7XTfxq07jak65OdfrXD21XVgy99jGQwqcnbQHJiUiPQXy/JiX4TliCAAAJ1C5CcqFuc+hBAAIEpESA5MfpAedDZ9OSEriRQYNy0n4pVokQ/I1pl0O5jRHJi9ON7lvcgOTHLo0vfEEBgWgRITkzLSNFOBBBAoGYBkhOjg3vg2/TkhHqmBIBub6jqCoXR9Sy+1URt0nMhqpp8jEhOVCU8neWSnJjOcaPVCCAwWwIkJ2ZrPOkNAgggUJoAyYnRKT3wbXpyQgkJJQGqvEJhdD2z7777Lr6ao8pbTXyMSE6MM0Kzuw/JidkdW3qGAALTI0ByYnrGipYigAACtQqQnBid2wPfpicnPAnw/vvvx78YokC9CVdQ3Lt3L05OPHz4MG7XN998U/qvl/gYkZwY/fie5T1ITszy6NI3BBCYFgGSE9MyUrQTAQQQqFng97//fRwoTvInF2vu8oWrU+D77//+7/GDJocV5kGykkB1T554UhLl008/jW+j0PykExR+q4lu61CwqM9l+7j7JJMTGm8dJ6+//nrdQ099AwQePXoU/3v32WefDdiCxQgggAACVQuQnKhamPIRQACBKRXw5IT+aL/opIBQwaDemzapTUrAlBWYK+jUa9jkQfKw4FttKztBpKBfD8PUFRSalAjQbR7+WRa6tSIcL83rSgZd3VCWVWikMp999tnurSaq7+bNm3GiR/N6ebvS++lXPoq2S+UoEdOE5MRPf/rTsCuZ8z7+anedk+or87yoou1uU0bZJCfKUKQMBBBA4GICJCcu5sfeCCCAwMwKlJmc8GB40gFh1mAp4FWgrl+JKCMALDM5obYpaaCX5suYvEyNiffXb6dQkkLzCt5l4nVqO22vqyyUTFESoeyx9FtN/HkTXqf6rnklIPyXPNzBt1E71S7f1tdnvWufaUlO+FiVOf5ZJlnLVLeOgSKmWftXvazs9pGcqHrEKB8BBBAYLkByYrgRWyCAAAJzKVBmckJBrwLCsq8AKGNgFJQo8C4r2C4zOaFAWrc4KPDWfBmTJwH29va6xXnySOtUjwd+etfkn/1qCo1lmNzoFnSBGfUxvJpDdSowDutR4kSffdLY+XHlx+uwY2yakhNqq5IyOgbKGn+3G/Yuf78ipe66h7VN69WmMs8NkhNF1NkGAQQQqFaA5ES1vpSOAAIITK2AB3v6o/2iUxODm7BPZbavzORE2May5pUoUhJA75oUhIa3U/iy8MoJLUtf0RAmCeKCLvgfBcJhnUoW6XOYNEonJ1Slxk59UHtUxrCx1PppuXLC+3dBWnYvIEByogASmyCAAAIVC5CcqBiY4hFAAIFpFSgzOTGtBuO0u+nJCQXyHvQrUNetGrpCIbziwLfRe3pSUkPJDE9upNeP+1nJD799QfUqgaBXmGzISk6oPiUmdMuHrr4YNk1bcmJYf1hfjgDJiXIcKQUBBBC4iADJiYvosS8CCCAwwwIkJ8Yb3KYnJxScK4hX4K+gXu/+IEzv8aDkhJZrH7+Kwrcv411l68oHb1PWrQyDkhOqX8kSJTeGtY3kRBmjNXtlkJyYvTGlRwggMH0CJCemb8xoMQIIIFCLAMmJ8ZibnpxQrxSgKxmgl+bTk5aHt1j4Pkoc+HMpilylkC63yGddwTGoXUpOhFdT+NUW3h+1WdvkTSQn8nTmdx3Jifkde3qOAALNESA50ZyxoCUIIIBAowRITow3HNOQnMjrmYI0/WSoAn1djeCJAiUFrl27Fl/ZoCSFrnKoc1LSwq/48FtK/GoJtdHbrPm8ieREns78riM5Mb9jT88RQKA5AiQnmjMWtAQBBBBolADJifGGY9qTE7oaQVcf6KVkgD4roFcyInwNu31iPL3Be6ktYbv8GRlqh7drWGJCpZOcGGw8z2tITszz6NN3BBBoigDJiaaMBO1AAAEEGiZAcmK8AZn25MR4vZ6evUhOTM9Y1dlSkhN1alMXAgggkC1AciLbhaUIIIDA3AuQnBjvECA5MZ5bXXuNkpzQtrp1RD9nWuSl7YtOOk5++tOfFt2c7SoWIDlRMTDFI4AAAgUESE4UQGITBBBAYB4FSE6MN+okJ8Zzq2uvUZITapPf3qLbSvyVtUzrSE7UNYrl10NyonxTSkQAAQRGFSA5MaoY2yOAAAJzIkByYryBJjkxnltde42anKiqXVw5UZXseOWSnBjPjb0QQACBMgVITpSpSVkIIIDADAmQnBhvMElOjOdW116jJCe0rR6yWfQ1Sh9IToyiVf22JCeqN6YGBBBAYJgAyYlhQqxHAAEE5lSA5MR4A09yYjy3uvYaNTmhXwLRT6cWefkviBTpC8mJIkr1bUNyoj5rakIAAQQGCZCcGCTDcgQQQGDOBUhOjHcAkJwYz62uvUZJTnibtE/40vLws8/79kXeSU4UUapvG5IT9VlTEwIIIDBIgOTEIBmWI4AAAnMuQHJivAOA5MR4bnXtpUTCD37wg/jXN+qqM6sekhNZKpNbRnJicvbUjAACCLgAyQmX4B0BBBBAICFAciLBUfjDNCQn9AwF3YKgn8nUfFMmb9cot0eM2naSE6OKzcf2JCfmY5zpJQIINFuA5ESzx4fWIYAAAhMTIDkxHv00JCf0s5dRFMUvJSiaMClpoOc6eLuqSpqQnGjCaDevDSQnmjcmtAgBBOZPgOTE/I05PUYAAQQKCZCcKMTUt9E0JCcU+O/t7cWJgKqSAH0wBRaoLc8880ycpFASoYqJ5EQVqtNfJsmJ6R9DeoAAAtMvQHJi+seQHiCAAAKVCJCcGI91WpIT/usTVSUBxtH77rvv4oSJruyoaiI5UZXsdJdLcmK6x4/WI4DAbAiQnJiNcaQXCCCAQOkCoyYnFPTpm+8mBbshitpVR9umJTmhKxR09YTGrClXT9y7d697q0lVx5KOAR6I2T4zwrH386OOcyQ8L/Pm1RY/Nn2+qvaRnMgbCdYhgAAC9QiQnKjHmVoQQACBqRMYJTmhAOLWrVvx5fh6//TTT03fflcVSIyCqTaoPdeuXYvbp/l33nmnsrZNQ3LiwYMHcRLATXQVxTfffFOZSdHx0rGjZ07cvHmzeyyV/XBMHQ/znpyQwcOHD+NzVhY6J8Lzd9LnrerXs1CUPFP71DbN6zit6twlOVH0LGU7BBBAoDoBkhPV2VIyAgggMNUCRZMTSkwogFDgoMvyFVQowNTnMMjRfPi5DhzVpySJrhJQ2/RSW9U+/0bW2zGobYOW+37p97KTE6PWn25P1md/IObR0VHsoHcZhSaD6h20PKueUZb5caR2eKJEx5ACU69T7z4flj1oebiNz2tbHQPq8yQnHSc//elPhzYhq79DdxqygfouW5krMaHzQc5//vOf4+MgTAgNsh20fEjVhVbr3xCNkc5XHQvf+973uu1TW8OHuA5qx6DlgxpAcmKQDMsRQACB+gRITtRnTU0IIIDAVAkUSU4oANA3mWGwr4BCn8PnBigY0mcFHLp03ycFGdr/9ddf90WlvqtetUUBmCa1V0FZmDhRIKa2KThTWzxAV9u8zeHyYQ0sMznhvqpf82VMWQZ+JYW8BvV70PIy2qQy5J4+bjROnjTRcaMx0rESHkMaIx+ncPmgdqn/05KcUFvVt7LHX446TzWpfLnrs1uqXq/bbTX+msLlGh9fHq8s6T9Z7VM9Gl+3UDv02dvnY+/t86sudGwXmUhOFFFiGwQQQKBaAZIT1fpSOgIIIDC1AkWSEx5QhsG+BzsetGgbDwb1Leizzz5rSgh4cKFgQ/tXMalcBV6ecNC7gl210ScFu/qs9njyxOfVXrXV2+/75L2XmZxwX7VZbSpjcgMFgD4psJOT+qu+pvvtHroVYFQPr2PYu7chPG40fuq7AmfdgqJ2aL2OIfXD+6KkitpcxMn7on0mORW5csLbGh7DZbRZ5fokY71kGU5uq3dZyVyTgn3fXst1vKT3DcsZZz7dvqz+e/vUBm+f9vPlYbvD8ga1h+TEIBmWI4AAAvUJkJyoz5qaEEAAgakSSCcZshrv37iHwb6CXg8mFBTopcBTwYKXGQYLWqdgp+zJgxSV7fX5VR1qt4IRTQps9FnbKwDzRIWSFlquqWgCRfUoWNPL64wLyPiPbxvapTfTNkoGqG1lTW4gd02qQ0Y+ZppP99vb6su1jV5lTp6c8L56O1WPJyTUDh8ntUWftZ/es46trPZ5XzTuk5q8DTrGND9o0jqNv15lTirXX0ro6Jz1z+6v88OPEdn6Ma1lGhNvm46bqtqntqh9Xp8M0u1TO/zY0Xy63Wqflg+bdIxp20keF8PayHoEEEBg1gVITsz6CNM/BBBAYEwBD/b8m+ysYvwPen1rrUmBg4IYBRMKLj34UnDgAU76j38PdrLKv8gy1am2+BUC3gYFIE+fPo3XeaCj4EoJCN9W9XpA4+V4oJbXJt/WA7ki28qlzkl9lYGPqycBwltf1B7vi/d7HI9R+iWHl156qRt8po8/r19jpvZ7QKzlaqMSS96HvHq9X+njMG+fstd5G8Kgu+w6BpWnuv1qIRnI0o9BHRPpNum8UIIgy8vdVWZZk8pSG9RGPzbD9vm/KapP22pdVvvUbp2HWe3Oaqv/W1Z0+6wyWIYAAgggcDEBkhMX82NvBBBAYGYF0sFhVkf1LaUnAPTHvYJ7/yZWAUb4h74nAPySfC9PAY62LXtS4KL2qH0KcjzIUvs++eSTbuJE9aptemlbD9q9PeqDlhcJwLSNti2yvW/rgZfXV/W71ysb9VVt1Xy6f4P67cvLbqfaorFRoksvBc3h8aP6vO2eMPE2+LGl48gTTr4u/e5lpMtOb1flZ2+D2pt2r7Jele3Jnffffz9OBslcSR0//kO/b7/9Nl6uc0evsK3aTsdO2Y5h+3Qrj9qnX2/xYzV9fvrYq31h28PlYbsH+arcrGNu0PYsRwABBBAoX4DkRPmmlIgAAgjMhECR5IT+6FcQoOBWLyUB9Ee+5rW/1uvltwN44PHLX/6ya1RVckIVKHmidqg9Cni9bWEgo/Z7O7U8TCyo3R5Aarthk8rR/mEZg/bxbetOTqg9HriF4xS2c1C/By0P9x13Xh4+PmqX5sNJ6zU+CoY17+Pmx5Y+K7j0z+G+4by7lx1Uh3UMm/c2+LE1bPsy16tuP+c8KaF2yFznr0/y1EuTxiK0VRnaR9aa9+1834u8p9unurPapzp8rMOx1/5Zy4e1yfs4yeNiWBtZjwACCMy6AMmJWR9h+ocAAgiMKVAkOeFFKyAIp/CzAgVdLaEAwpMTYQDggVK4f5nzakvYnnDe2+PfxCsI0kvbKFjRbQZ610uB8bBJ+01DckL9CB3Cfg3qt5brm+xRPMJyi84PapeOGf0Cg44jHZsaMy3TN+saRx/L8NjKqtPHaNh2WfuWtczb4MdaWeUWLUf1D3L2MnS8y1aTB/96135qt8bAx0LvZU5F2qfx178r2jYce7U7vbxI+3Rcc+VEmaNIWQgggMDoAiQnRjdjDwQQQGAuBEZJTuSB6OoF/4ZeQY2CdwUTCioUSCgBoCBI81pW5+RtUN0e1Pi3wWqnghV/af2wSeWNmpzwqwQUHBUJooa14SLrvf3eZ72r3xovBXzp5Repa5R9NSZh3ZqXlV5KmOhY1bE1KNhXvzypoitodMzNc3KiiL285KkkgI5pGctRn9NjoeV1Txp7tU/t0nModJz6OPvysN3D2kdyYpgQ6xFAAIHqBUhOVG9MDQgggMBUCpSVnFDnFdzqj39dNh4GMprXOn9NCkqBjtqndvjkbfL3sN2+Tfpd24ySnFBQpcSMvwYF1+l6qvzs/fV377d/9ndfXmVbwrK9Xn/3dWpHeux8nb8rueHG/q5lk5r8OGnCeOcZyNptfbz17mOgd1+eV05V61R3un2qS+3SOT1K+1SOki6TTFpV5US5CCCAwLQIkJyYlpGinQgggEDNAmUmJ2pu+sSqU7BUNDmhRjYp0JsYWg0Vp50VtE5y8uOk6cmJSRrVXTfJibrFqQ8BBBDoFyA50W/CEgQQQAABs/hyaX2TqD/amYoJeNCpBIXmmRDIEvDjhOREls5klpGcmIw7tSKAAAKhAMmJUIN5BBBAAIGuAFdOdCkKz3jQSXKiMNlcbujHCcmJ5gw/yYnmjAUtQQCB+RUgOTG/Y0/PEUAAgVwBkhO5PJkrPegkOZHJw8KOgB8nJCeac0iQnGjOWNASBBCYXwGSE/M79vQcAQQQyBUgOZHLk7nSg06SE5k8LOwI+HFCcqI5hwTJieaMBS1BAIH5FSA5Mb9jT88RQACBXAGSE7k8mSs96CQ5kcnDwo6AHyckJ5pzSJCcaM5Y0BIEEJhfAZIT8zv29BwBBBDIFSA5kcuTudKDTpITmTws7Aj4cUJyojmHBMmJ5owFLUEAgfkVIDkxv2NPzxFAAIFcAZITuTyZKz3oJDmRycPCjoAfJyQnmnNIkJxozljQEgQQmF8BkhPzO/b0HAEEEMgVIDmRy5O50oNOkhOZPCzsCPhxQnKiOYcEyYnmjAUtQQCB+RUgOTG/Y0/PEUAAgVwBkhO5PJkrPegkOZHJw8KOgB8nJCeac0iQnGjOWNASBBCYXwGSE/M79vQcAQQQyBUgOZHLk7nSg06SE5k8LOwI+HFCcqI5hwTJieaMBS1BAIH5FSA5Mb9jT88RQACBXAGSE7k8mSs96CQ5kcnDwo6AHyckJ5pzSJCcaM5Y0BIEEJhfAZIT8zv29BwBBBDIFSA5kcuTudKDTpITmTws7Aj4cUJyojmHBMmJ5owFLUEAgfkVIDkxv2NPzxFAAIFcAZITuTyZKz3oJDmRycPCjoAfJyQnmnNIkJxozljQEgQQmF8BkhPzO/b0HAEEEMgVKDM5oWDsn//8p+m9idPp6WkpbfOgk+REE0e5OW3y46RIckLnjV6TmHReTKruIv0t04bkRBFxtkEAAQSqFSA5Ua0vpSOAAAJTK1BmckJlPfPMM3Z0dNQ4DwU4URRZkUBxWOM96CQ5MUxqvtf7cTLsmPPtdO7UnSTw86Kpx7Js5KKX5i86kZy4qCD7I4AAAhcXIDlxcUNKQAABBGZSoMzkhJISCnIUADRt0rfDapv6e9Egx4PJpgZ0TbOf1/b4cVIkOfHOO+/Ex+dFj81RrXVevP7666WcF6PWXWR7edy6dau09pGcKKLONggggEC1AiQnqvWldAQQQGBqBcpMTiiQqDu4KgqvdpX1rbTKUmKC5ERR/fnczo+TYckJ6WhbvSY1TbLuIn0uq30kJ4posw0CCCBQrQDJiWp9KR0BBBCYWoEykxNTizBiwxUokZwYEW0ON/fjpEhyYg55JtJlkhMTYadSBBBAICFAciLBwQcEEEAAARcgOeESxd896OTKieJm87ilHyckJ5oz+iQnmjMWtAQBBOZXgOTE/I49PUcAAQRyBUhO5PJkrvSgk+REJg8LOwJ+nJCcaM4hQXKiOWNBSxBAYH4FSE7M79jTcwQQQCBXwJMTDx8+jJ/JoOcy6KXAiqkn4C56/+677+yll17imRM9HuYyBDw5ce3atfiYCY+hjM1ZVIFAaK55/TunX+1p4i8KVdB9ikQAAQQaKUByopHDQqMQQACByQt4ckJ/sIcvPSGfqS2gXzQIbXyeKyc4QvIEPDnhx0v4rm/wmaoVkL+uWgndfZ7kRLX2lI4AAgjkCZCcyNNhHQIIIDDHAgq8laC4d+9e/O7zBE+9g+LRo0ddG/n4iwCnZ8RctkB4Xvm5pXd9i89UrYCSEw8ePOier37eakzwr9ae0hFAAIE8AZITeTqsQwABBBBAAAEEEEAAAQQQQACBygVITlROTAUIIIAAAggggAACCCCAAAIIIJAnQHIiT4d1CCCAAAIIIIAAAggggAACCCBQuQDJicqJqQABBBBAAAEEEEAAAQQQQAABBPIESE7k6bAOAQQQQAABBBBAAAEEEEAAAQQqFyA5UTkxFSCAAAIIIIAAAggggAACCCCAQJ4AyYk8HdYhgAACCCCAAAIIIIAAAggggEDlAiQnKiemAgQQQAABBBBAAAEEEEAAAQQQyBMgOZGnwzoEEEAAAQQQQAABBBBAAAEEEKhcgORE5cRUgAACCCCAAAIIIIAAAggggAACeQIkJ/J0WIcAAggggAACCCCAAAIIIIAAApULkJyonJgKEEAAAQQQQAABBBBAAAEEEEAgT4DkRJ4O6xBAAAEEEEAAAQQQQAABBBBAoHIBkhOVE1MBAggggAACCCCAAAIIIIAAAgjkCZCcyNNhHQIIINAwgZP/es6ee27Q62f2xydm//vfP7Pnrv/R/nfSbX/yR/vZc+02TbopYf2xz3+dhIuC+f+1P15/zt79srOo5D7E4zew7qAZ1hnHgtsm96z2U9pvlD5V27IySz+xd58LjoMLFl2GUeK8/vLdxDmeWDextpZrdsFusDsCCCCAwBQKkJyYwkGjyQgggEAskApQXKXMQMXLHOu95MB+rDZk7JQOrpObVJucSNaV/ym/nfn7Vrm2qe0qt8/lBtplJCcS/Uud+80458s1S/SXDwgggAACcyFAcmIuhplOIoDATAqkAhTvYztQedfevd67wuJn/528jiLepnsFxuCrG7KCqkRwGicgevU8F14pkUhO9Acu/QFVe5vulSGJqwby1nnP/b2dYOiW89xz5v1P9Lvv6pLkfvE+nT68+18/612xkt5P49C1zP+2PfRsO/4xvlLD989vZ7J9iatj1M7rf7Q/+pU1sd0QsyHtjtva7de7pmtNsvzCPmkEEts8196vPTJqz8/sj/8deoXr0/sOPi4tHpd37STsg/ocL/fjMVl2sj/P2XPB8aV17/63rvTRvqq3bZe8gibcJ2cs1NlUO97VuAT1dY/U9FVO8X7Jfsdt+7Jjo2Mv7HPHNza/nn/Oe53+nvToWcXLO23td9Heg46rlJnlGw2q39sUK2BDAAAaLElEQVSXeE/0WWPUa6/6/rP//mN8pYvOIx+z5HEYmrbb5edaoh4+IIAAAghMVIDkxET5qRwBBBC4gID+YE8HykFw6H+kW/yHfe+P83YgE9z2Ea/v/bGfaFHfuvYf9nHZnQCsW48HI96mRKCVDlyCYCuuML0+DCDCeW2c/hy2uL0uDATbQUqq/xmBYruU9v7dPnmQ2d2+3c5uYJP2SfQ5bFd7Pgz8PHjq1pU1Tt16+/scluXBcLddfUap/Ye0O32MhJ/j+W67zMJ2tPvUO5aSn9t2vWM2NVbpNqU/h5zpcfHP3aA12d+4jX5cqpy47F4gG6/v7qsNguOxU3Z3nPpskwY+Ft3tO3WFx2S3K3HZaa9eu9rtaK8PxyBuf9CftnOwX1xn75jv1teZSZTl/2Z0ygvHs98l6Zo8FwOzIUZ59afbmv73y8fGPdt9T/Y1XX67jJ5zXx0sQAABBBBohADJiUYMA41AAAEExhBQABIEKF5C3x/mYaAVzyf/kNd+CkJ6ga2XFK9J3nufCqbCLTWfqDve1usKA5f2XuG28XwQ8MZbdOtKB0TpWod8TrSj08Z0Xd0i2nV1A8vUvtqsF7yltu2UkdmXzrrevimreH3SKFFO5lhr+45vXzvzzIa1O9mOTtO7b4l2JTyy9gvb0b8+LsuP4TigLhhAFuhvup3dDmRYh+PS3s7b2n5PnBtDxiLRp06l/eV7a5Jjoe3e/a93e1dZqK7OsZooN9WGxLqM/nlt7XfvW3KpfwrbGs7H63PHKCg31b5eve3jtb+9Xnux97Bd/WWpHf7vTq887ZMYx94q5hBAAAEEGiJAcqIhA0EzEEAAgZEFMgOAIUFvHNT5Ze/J90F/uPcFAn2BfTso8VsTugmTRAAZBC6djoZBRVxH9xaCsF2dYDUOijrLPZgdApYssxesxPX29cELSwaL7W/Be/tqq55Hqt9h+weU39t3yDh5oicMTMPyu/OdtiWsO30ZaDak3VllOU+qXQmPAfupz+1jK/8Y8G/h/TjqJoiCuruzfXWlxi2jndo3HvuuXe9Kg3Bc2nWERsnxT5fh7fVbmvrL6tSbc0z0fN61E/UtuIrBHcLzJfPKicR50W892K67Jp4J2x/Oa2WiDcnddGZ0E5nDjHzbtl3St69YXxCPefBvQ3huhH1PbxeM96B/47wK3hFAAAEEJitAcmKy/tSOAAIIjC8wdnKiYDDgLYuDXCUJ0gFgL4DzP/oTwUsigOwFLl5suG06CPJt+t7DwCMn2IuDHg9YEu3IDxQ9QPaAsEhyorttX2P7F4T9DPvf3jJpFK8fFICli071MbG6zyxZT2JbfcgrywPUwL7bpwH7aX0v+O4lBFRVv0G7NXGZcVA54Fjtqyt9bCbHOa4nLs+vzEgadPvQxWivV7vTbUx/7u7SmekvK9mW9PbdRIP6FB+z6ov6rXdvb8oqde73tynZv0SdfXaJtUHyLUzEtbfpryfct1dn/nbhPu1xaycpen0Nt/DbZLSNn2uhcV9dQ/qXKJsPCCCAAAKNEiA50ajhoDEIIIDACAKpAMX37PtjPfhG07+x9D/yfZ/8907QET8wMAggMupP1J0IEnqBi9cVbhvO+/rc927CJL2V6kkFtIl2DAkU0wmY1L6qrRcYtQMrT8ykW5L1ubdvKtiMN04axSaeBBjY304tGe3sq79bxrB2J9uRLifRroRH1n5hXf3r88c93DfVir7+trcNj+teO/vXpc+DcFzaNYVtbc93x7nrmGpT52NWn/rLD/dV+e/aH+MHO7YfXKvt4wd0+vinEzlqgyff0uviosP2h3VpPm9deHwn5+NScvselJu7Xbo9+W3qjWNvv9Cz3ztoR28X5hBAAAEEpkCA5MQUDBJNRAABBDIFUgGKbzPsj/V4/aCH/3khqfc4GNA3z0FA1PeQuTggCbZJBJDtANHvn/cAqVdeO6DoBoCJgKs/SA2Dk2RT04FJ+7Nfcq9ts4KdXhmpQDbRh/ZWibrjPofJkP629spOBnuFxqkbnKb9/KGOnWRRXzv72zFKu/vaFgSbab+w3HhdcGwlP6fHJpWgCeqIzfr6FEj2rUuNW2Kc0xYdywHfxHdGuXuLQvw5Mc6d/btjkxqLdPAf75v9ax3tuvrb03brXSmg7eJlfv6pTJ9Pr4sL7bdu19WpMf0rIYF9OJ7hfGfP+NdlwvO0t01YZ75Roi8qOKg/bKfm09u6jf9bkl7f3Sc4Dv3fmzB5la6HzwgggAACkxcgOTH5MaAFCCCAwHgCqQDFC+n/Yz0MGtpbxQFFcC/20D/a4+DBL8/3mjrBtpejYCnerhOspwPI+LPfM975GcggwAov307clqHqEvsGCZBeU3pznba2LxVXW9r97wZU3bKCq0B6e7eDIfVJwWe6D4krBdo7dYOljkO3nqBMn+0Fcv1BV18A1dfOdj/a/ZJj0P6Mdg4zG9bu5DESJGBS7Qr7pH4myw3amA7afdvgGEjWmQzO3TB+7+tvOxgOj+O4HZ5A6La5ffy9+2UyeE73oW8sfNy7bc0ZCzUwrM9/4tXbkuhI+0PbLLDq61/6ePH62+MS799tm8psrw890tUmrXvjG1qE8739ve7OudytN11narvweO1codQ7lnv19+rxuV7yJt7+v046x1jbq7/v7f2S/QuPpXZ5eeep18w7AggggEC9AiQn6vWmNgQQQAABBBBAAAEEEEAAAQQQSAmQnEiB8BEBBBBAAAEEEEAAAQQQQAABBOoVIDlRrze1IYAAAggggAACCCCAAAIIIIBASoDkRAqEjwgggAACCCCAAAIIIIAAAgggUK8AyYl6vakNAQQQQAABBBBAAAEEEEAAAQRSAiQnUiB8RAABBBBAAAEEEEAAAQQQQACBegVITtTrTW0IIIAAAggggAACCCCAAAIIIJASIDmRAuEjAggggAACCCCAAAIIIIAAAgjUK0Byol5vakMAAQQQQAABBBBAAAEEEEAAgZQAyYkUCB8RQAABBBBAAAEEEEAAAQQQQKBeAZIT9XpTGwIIIIAAAggggAACCCCAAAIIpARITqRA+IgAAggggAACCCCAAAIIIIAAAvUKkJyo15vaEEAAAQQQQAABBBBAAAEEEEAgJUByIgXCRwQQQAABBBBAAAEEEEAAAQQQqFeA5ES93tSGAAIIIIAAAggggAACCCCAAAIpAZITKRA+IoAAAggggAACCCCAAAIIIIBAvQIkJ+r1pjYEEEAAgSkUOD09taOjI/vd735nmp+n6V//+le37zJgQgABBBBAAAEEqhAgOVGFKmUigAACCMyUgILyZ555xqIosr/97W8z1bdhnVEy5ic/+Uncd70zIYAAAggggAACVQiQnKhClTIRQAABBGZO4NatW3GA/s9//rOWvqmepiRCvvvuu7jv9+7dq6XvVIIAAggggAAC8ydAcmL+xpweI4AAAgiMKKBEwQ9+8IP4CgLd5lDH5LeR1FHXsDqUlNBVI0pSMCGAAAIIIIAAAlUIkJyoQpUyEUAAgRkQUBDu397rXZ91ib/mmzxltfuiCQW/cmBvby820OeLljnMcNzkhI+Tt7GMdup2Dr2ePn0aJyjKKHNY/1mPAAIIIIAAAvMlQHJivsab3iKAAAKFBBR86uGPL730UhyUenB68+ZNe/bZZ0v/Bl0Jj6KvvA6o3f58CN2Gofaq7Q8ePMjbbeg6WejKAZWnclXmO++8U2mCYpzkhG4DUdvURr2uXbtmr7/++oXaqXHRmOtYUHLGTZuepBo6qGyAAAIIIIAAAo0SIDnRqOGgMQgggEAzBDzIVbCveQXmCnYVMGc9FDLrm/RRrrJQAK3bJoq88n4t49NPP43bp2/4PcEyqL3pNuvzoIBbfVc56r8mT4CE22e1S+v1StdVZJRHTU6EV3eoPrVHbVayIl1/1udB4+XlykD7qT96OKisNelz1r7eBq1nQgABBBBAAAEEhgmQnBgmxHoEEEBgDgUUGHtQ6c8bUJLi0aNHcbLCg1tdPaDgVy+ftE6BrNYp2VDkCgPtU/Tl9aTfPYjWVQ4++RUP3hcF0WqPrgQIr6YIl2s+nLRv+nkTXq5M5KPPKtNdtL+C99DH2xCW7fOqU2WEL131INdwmeZVZ3pSvWqjkhFeT5ZH2B4vQ/vqagityxov1alyVZ4mla/khMZYy/Sul/rvyRvZZi33OnlHAAEEEEAAAQTSAiQn0iJ8RgABBBBICHhw6kFvuFKBrYLzMDmhwFRBrtYpkFYgm7VvuhxtX+T1/7d3p8lO60AYhlkJsBFgJcBCKGAjDPtgXAgH2AdD5dbruh/0UTmDM6FEr6uCHdmSW4/40x0np/arx7WIQjv3TOGEcdkortBOfLU4QTuJNgn2XHGC5ByHbCTeSdjpe3Nzc6s4wf2YN2NxzLVJ3DNG3ePE+LxS7OAeFCjSnn0bH+MwJ+7BfDNXrqetFjM4R3tdL+7HVzY4x7UY1PXiWs6nrRY9KGjwyri4ch19uA/tKXpw7KaAAgoooIACCqwTsDixTsZ2BRRQYGABEkySYPYknEl6STBJ6mui2RYn6JeElf4kyHMJdeVNAsu9eJEM57jdrxuLGLkX92RjT4GAJJk+FBHYiJ0xa3Ei7XPFCfrWJD/jMkYcuIa+ec+9uC/X5n68X7It+VoHcyHGeo94UEyoc51bL/oRJ/HW9UrsWX/i51quoSBDjIxX2+lDW+7J9dVmiYHXKqCAAgoooMA4AhYnxllrZ6qAAgrsJEBySTJKYv/jx48pEeWHENlISNsfWGyT3XoTztUkvp6rx0mMSY63vWq/esyTBnlKg/FqEs188gQB5/YpTvA1DfqSkJOc1ych2uJEjYv71oS/ntt0vKQ4QTGkxkRBAgvmzTi1uLBkvZgvfXmxMS52WHMuW65LUaq2cz3tbgoooIACCiigwCYBixObdDyngAIKDCpAQvns2bMpEeWrBUkweaKBBLVu65Ldua8I1H7HPqZAQJz8fkL+qgQJev66RJJp9lyXT/YTB+1zT07QTjJOgp4CSC1M0H9dcSL3aq/PPTftlxQnGIfYsk7Emt+sePDgwZ/CDNctXS/WEUeKM4zfFiYYE0vOMd+6tYWRes5jBRRQQAEFFFCgClicqBoeK6CAAgpMAiTbJJw8xcBGgspTE3lfmeaSXa7j03L2jMXrHBuFE2Jln3sTX407BYNdixPETR/GrSZ1PnPFCfpQJKAPx+39av+546XFicRInJk79+R93ZauF+Myvzjyvm7cg3lmjjlPe56koK+bAgoooIACCiiwScDixCYdzymggAIKbBQgEU2ymwIAe5JVnl7gqxV8DeRcxYmNwf5/kvj4lJ/kPzFzioIGT05QhEmCvct4XEsf+uapEtpIzHHAgGP2SzbMPn/+vKTL1muJiziIK3Nv14tzu64XhQ+eqmBMXnl6gsIET9mkPUWKrQF6gQIKKKCAAgoMK2BxYtild+IKKKDA4QJJdEk+eZHU5pN0kty8liT7h0e1fgTiI07iYp9P9Ne1rx/p75l8dSFjMn/mm7lnv2vC/3fk4x8de71SmMocGb8WZtIe5+PPyBEVUEABBRRQ4FoELE5cy0o6DwUUUEABBRRQQAEFFFBAAQUuVMDixIUunGEroIACCiiggAIKKKCAAgoocC0CFieuZSWdhwIKKKCAAgoooIACCiiggAIXKmBx4kIXzrAVUEABBRRQQAEFFFBAAQUUuBYBixPXspLOQwEFFFBAAQUUUEABBRRQQIELFbA4caELZ9gKKKCAAgoooIACCiiggAIKXIuAxYlrWUnnoYACCihwUgH+RGYvfxL1pBOdGXzkuc9w2KSAAgoooIACJxCwOHECVIdUQAEFFLgugY8fP66eP3++evLkyerTp0/XNbkts/n9+/fqxYsX09xfv3695WpPK6CAAgoooIAC+wlYnNjPzV4KKKCAAgMJfPv2bUrO79y5s/r69etZZt7LUxrMneIMc7c4cZal9yYKKKCAAgoMKWBxYshld9IKKKCAAksFeGri0aNHK54kOMeWosA57rXtHjwtcs7CzLZ4PK+AAgoooIAC1ydgceL61tQZKaCAAgocWYCCxP3796enJ871RANPK/TypAJxUJw4V2HmyMvncAoooIACCihwAQIWJy5gkQxRAQUU+BcCJOF8heHNmzcrPsXnxe8ukDSfK0HfZ9417l+/fk1xH5pUMw7J+atXr6bfX8Dg0DG3zW2f4gRzZ534jQj6//z58+A4GZOnRh4/fry6ubmZ/j8wbs//B7bZel4BBRRQQAEF+hOwONHfmhiRAgoo8M8FSDwpRJDkkpDeu3dvSk7fvXu3evjw4dF/FJIiCMn0Lq9NSTEFA756QSLNWCTVFBUO/RHLPDnA2B8+fJjG5XhTLIcuIvEveXKCWOjDWtGPF8cYHBInpjw1knG/fPkyHVOwcVNAAQUUUEABBY4lYHHiWJKOo4ACClyRQE2M61MDSXj5dJ6NxJU2nq6oTxLk0/u2fR0R1yWhznj1fT2u96njkYC3vwtBv/a3EhIbc6xJO8ecq20Zn3FJzpOQpwiQ98TEHOpGW540WBdzvZ771lfWoLbNxZYxuJ65smfjnsRMkSkbbRSc2nVJO0WcNtb83kQ7Lk+RsGHGeBSYanzVOfd3r4ACCiiggAIKrBOwOLFOxnYFFFBgYIGaaJJ4JsEn+UzyyjFJOwk6RQA+Xc95nq5I+6mfMMgyJTknlmzER+yJmXkRG0UD4kpBgfZcS1JdN/q2TyDUogdjMFbmT9/YcB9enEsMdewcEzv3ry/i5FXbOK7zS3/uRwy8ch/8mXueGklMWZfEy/UUMJg3e8bg2myZa8Zlz7jEQtwUKfDDKJ60Mw7t7NOeMd0roIACCiiggAKtgMWJVsT3CiiggAK3BEhCa9KbxDUJMUltPl3nmBfXsycpJZFNn1sDlzckvLu+Srdbh7kXCTEb47VFhbdv305JNfEk6c8gXE/CTtx1S5JfiwL0rUUP+iTZpy/jP336dHJhXK5tx6334Pp2/nx9hMS/bZ+zTIzElfMpKnCONl5Zl7peFBJw4jx2zKMtaNRx40xsMaQv49CXeLkmfXJNna/HCiiggAIKKKBAK2BxohXxvQIKKKDAlKSSYJJoknAm0SQJ5WsB7NnYcw3n59pJhmtSP0ebMZPEbtuvS/L51L8WDJKwc38SZ16JmSScpxLSlnbm2o7PtYy7qejRFicyHjbcH4eYTUHs8A+xbbPLMNyfGFkzNu4VRxwyz7n1om/mTLy1kML1xM5YiZ/jONe+KVrkOvZxTrEj8bpXQAEFFFBAAQVaAYsTrYjvFVBAgcEFakLKVxJIRPmUnPYkzElAoSIppTBAcaJuvKcAsEuCzXj1xTj1fT2u96jH3IcnAEjGUzAhdn7AkQSbdjYSahJsYktSTjv3mCtOJGHnSQauYa7ch/ZsjENfztcNG+5VCzf1/KbjWG+6Jue+f/8+rVNipC9z59641DXgmLm368VYtNEn88h8uZ755v9Dih25P+cwru1x5sdJq3P6uFdAAQUUUEABBaqAxYmq4bECCiigwJSYklSTVJJw568zkLSSmCdxhSrHfELOtUlOazuJ/Dk+OSdBT3JN7O/fv58SbY5JyBNTlphra0GB87xvE2namRfz58XXNWphgvHmihO5X8bFdMnGPWtRYVvfxMh8WSf63r17dyoaJN7ElPWq68JxLUzkfsyN8TjHWnKfjMM1HGPZtqc/fatz2t0roIACCiiggAJVwOJE1fBYAQUUUOCPAAltktp6nAtIZpN01gQ87VxHPz7Br0lw+p9iTxw11rxnz/by5cs/X30geSe2zDFzaIsT9ONcO1aNvy1OMCY2zDvjktwv2ZYWJ9r48j7zy7rQzou5p2DCOYoIXMt92/XKWOzbDccUJjhmDObKMVvr3Pb3vQIKKKCAAgoogIDFCf8fKKCAAgrsJUBCnq83kJwm0U87iSzJL0l6EuS9bnTETiTKScLrbynw1EX+qkYS7F1vy3yZfy1G0JavkvCUAjbsl2zEdEy3rEsKEHW98oQFMTMPrt1lY978H6Bf+jJ+68yTFXOFjV3u4TUKKKCAAgooMIaAxYkx1tlZKqCAAicRIIklESX5rIk0iT5tbftJglgwaI03n/bTnXYKKXm1Tw5sugXXph/7JPYUI2LD7130kJzX+We92rkzh123du5xy5isf3XedVyvU0ABBRRQQIHxBCxOjLfmzlgBBRRQQAEFFFBAAQUUUECBrgQsTnS1HAajgAIKKKCAAgoooIACCiigwHgCFifGW3NnrIACCiiggAIKKKCAAgoooEBXAhYnuloOg1FAAQUUUEABBRRQQAEFFFBgPAGLE+OtuTNWQAEFFFBAAQUUUEABBRRQoCsBixNdLYfBKKCAAgoooIACCiiggAIKKDCegMWJ8dbcGSuggAIKKKCAAgoooIACCijQlYDFia6Ww2AUUEABBRRQQAEFFFBAAQUUGE/A4sR4a+6MFVBAAQUUUEABBRRQQAEFFOhKwOJEV8thMAoooIACCiiggAIKKKCAAgqMJ2BxYrw1d8YKKKCAAgoooIACCiiggAIKdCVgcaKr5TAYBRRQQAEFFFBAAQUUUEABBcYTsDgx3po7YwUUUEABBRRQQAEFFFBAAQW6ErA40dVyGIwCCiiggAIKKKCAAgoooIAC4wlYnBhvzZ2xAgoooIACCiiggAIKKKCAAl0JWJzoajkMRgEFFFBAAQUUUEABBRRQQIHxBCxOjLfmzlgBBRRQQAEFFFBAAQUUUECBrgQsTnS1HAajgAIKKKCAAgoooIACCiigwHgCFifGW3NnrIACCiiggAIKKKCAAgoooEBXAhYnuloOg1FAAQUUUEABBRRQQAEFFFBgPAGLE+OtuTNWQAEFFFBAAQUUUEABBRRQoCsBixNdLYfBKKCAAgoooIACCiiggAIKKDCewH/9zG1YTPi5RQAAAABJRU5ErkJggg==)"
      ]
    },
    {
      "cell_type": "markdown",
      "metadata": {
        "id": "h7rV1EGFeRme"
      },
      "source": [
        "Ảnh chụp từ: [wiki](https://en.wikipedia.org/wiki/Matrix_multiplication)"
      ]
    },
    {
      "cell_type": "markdown",
      "metadata": {
        "id": "q7VWchwFebWq"
      },
      "source": [
        "**Thực hành**"
      ]
    },
    {
      "cell_type": "code",
      "metadata": {
        "id": "kFHmbeN6eiia"
      },
      "source": [
        "import numpy as np"
      ],
      "execution_count": null,
      "outputs": []
    },
    {
      "cell_type": "code",
      "metadata": {
        "id": "eJaxWByceloA"
      },
      "source": [
        "A = np.array([\n",
        "    [1, 2],\n",
        "    [3, 4]\n",
        "])\n",
        "\n",
        "B = np.array([\n",
        "    [5, 6],\n",
        "    [7, 8]\n",
        "])"
      ],
      "execution_count": null,
      "outputs": []
    },
    {
      "cell_type": "code",
      "metadata": {
        "colab": {
          "base_uri": "https://localhost:8080/"
        },
        "id": "JSRM-KHrettw",
        "outputId": "e4525cd5-1871-4772-daf9-66cdbfbe353b"
      },
      "source": [
        "# Tích vô hướng của A và B\n",
        "A.dot(B)"
      ],
      "execution_count": null,
      "outputs": [
        {
          "output_type": "execute_result",
          "data": {
            "text/plain": [
              "array([[19, 22],\n",
              "       [43, 50]])"
            ]
          },
          "metadata": {
            "tags": []
          },
          "execution_count": 103
        }
      ]
    },
    {
      "cell_type": "code",
      "metadata": {
        "colab": {
          "base_uri": "https://localhost:8080/"
        },
        "id": "JKPoEbGZe2u0",
        "outputId": "840aa884-7c3e-44c7-e2cc-8d305f7ed7f4"
      },
      "source": [
        "# tích vô hướng của B và A\n",
        "B.dot(A)"
      ],
      "execution_count": null,
      "outputs": [
        {
          "output_type": "execute_result",
          "data": {
            "text/plain": [
              "array([[23, 34],\n",
              "       [31, 46]])"
            ]
          },
          "metadata": {
            "tags": []
          },
          "execution_count": 104
        }
      ]
    },
    {
      "cell_type": "markdown",
      "metadata": {
        "id": "K-XVUqkbe-fi"
      },
      "source": [
        "**7.2.4. tensordot()**\n",
        "\n",
        "**Công thức**\n",
        "\n",
        "> **Dạng tổng quát**\n",
        "\n",
        "![image.png](data:image/png;base64,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)"
      ]
    },
    {
      "cell_type": "markdown",
      "metadata": {
        "id": "hX57aT-ZfLRi"
      },
      "source": [
        ">**Dạng mô phỏng**\n",
        "\n",
        "![image.png](data:image/png;base64,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)"
      ]
    },
    {
      "cell_type": "markdown",
      "metadata": {
        "id": "WdtXMaOyfO1p"
      },
      "source": [
        "**Thực hành**"
      ]
    },
    {
      "cell_type": "code",
      "metadata": {
        "id": "dwwnhVmrfQa2"
      },
      "source": [
        "import numpy as np\n"
      ],
      "execution_count": null,
      "outputs": []
    },
    {
      "cell_type": "code",
      "metadata": {
        "id": "FbBit3z0fTnr"
      },
      "source": [
        "A = np.array([\n",
        "    [2, 0, 6],\n",
        "    [1, -1, 2],\n",
        "])\n",
        "\n",
        "B = np.array([\n",
        "    [8, -3, 2],\n",
        "    [4, 1, -5],\n",
        "])"
      ],
      "execution_count": null,
      "outputs": []
    },
    {
      "cell_type": "code",
      "metadata": {
        "colab": {
          "base_uri": "https://localhost:8080/"
        },
        "id": "xFePvUakfYqc",
        "outputId": "c4020e9f-b0ab-408a-d2ee-b5d7ee5dbde8"
      },
      "source": [
        "np.tensordot(A, B)"
      ],
      "execution_count": null,
      "outputs": [
        {
          "output_type": "execute_result",
          "data": {
            "text/plain": [
              "array(21)"
            ]
          },
          "metadata": {
            "tags": []
          },
          "execution_count": 107
        }
      ]
    },
    {
      "cell_type": "markdown",
      "metadata": {
        "id": "VipG6LK5gRLa"
      },
      "source": [
        "# **8. Norm - Chuẩn**"
      ]
    },
    {
      "cell_type": "markdown",
      "metadata": {
        "id": "lPO_ZnIOgUtT"
      },
      "source": [
        "## **8.1. Lý thuyết**\n",
        "\n",
        "Norm của một vector là chiều dài của vector đó"
      ]
    },
    {
      "cell_type": "markdown",
      "metadata": {
        "id": "IF8fg_jKgd6F"
      },
      "source": [
        "## **8.2. L2 Norm**\n",
        "\n",
        "L2 Norm là căn tổng bình phương các giá trị của vector\n",
        "\n",
        "**Công thức** :\n",
        "\n",
        "![image.png](data:image/png;base64,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)"
      ]
    },
    {
      "cell_type": "markdown",
      "metadata": {
        "id": "2-14VxwqgyBr"
      },
      "source": [
        "**Thực hành**"
      ]
    },
    {
      "cell_type": "code",
      "metadata": {
        "id": "znqY-X15g4Tn"
      },
      "source": [
        "from numpy import linalg"
      ],
      "execution_count": null,
      "outputs": []
    },
    {
      "cell_type": "code",
      "metadata": {
        "id": "13wA4invg8FJ"
      },
      "source": [
        "A = np.array([1, 2, 3, 2, 3, 4])"
      ],
      "execution_count": null,
      "outputs": []
    },
    {
      "cell_type": "markdown",
      "metadata": {
        "id": "55MZMAEWhCuz"
      },
      "source": [
        "L2 Norm A = ![image.png](data:image/png;base64,iVBORw0KGgoAAAANSUhEUgAAAMEAAAAWCAYAAAB5efgLAAAD+UlEQVR4Ae2a3bHTQAyFVQFDCZRAB1ACQwV0ABUAHUAH0AG88AwdwAvP0AF0cJkvtnLPCMXetePk5kaa8eza3pW0Rzr748RsmTw3s59m9qWuwuDCc+D1MgqYfTSzh0s7V79C4NIRIPnfX/ogyv9CYA0CL8zs6RoF1bcQuHQEvl36AMr/QmANAqwArAQt8szMvprZJzN73NJhgzZs3T6MfrzcQH+LSsXhUUuHDdoUDregvhnz4d3to74aZ4F4IOYexUoOgu33b0ejfZbaWmMHkkE2rrhNwzb+8fzvhmR0YPHBx80ITo3D9zuEA+R3YRJ0XLbMB7dHSdz/6AMzezXGhLj8GO9Dk+lbOvJVSIXBofjGzBicS5z5eX9sYZBszQCXi0FhR23jswsE9kD4s2OUjJuA449j4T546XYg4rGlcMgR/Tzmg77VfCAXNGe13cE6HWJQvXEkgT+nzMij77WO/tYvT85q708yTPkBKLRpEXw4NFbtj764+vw+MMMUDgNyW+GgcfEEn5p8yecYO9WR1uMqoI2mki/bQmlfreNU68FbWe066Juxm4TuWQXQ0w3QSDJm+4xs+JU9d9+1LBwGNHpwcPzICyZI+h4iAXFonWxd7265n0qiQyRgm9Ayo7qhJYP2vpS/kuRlwFO+a3+vLyEBdjiEZ7bOgUPE/Vpw8Ml6igRZjHaBgz2HhK3ElGQk0MATAJyakzUkoG/0E7s6rhYf8LGXBCQctlkFwIKxuxQOAxKnwIFYO/mJdbYS0Ia8QGj7gArOwR5m0UxYXrIthraNJEA5iaSXG9Z+MNK/7FDydYMTvT6jPifoZgzRBkue+qCEUJ3RHj74lxZ/l84eqmSsQwb6IufAAfvXiANYa3wzEhBDzQdfNXaAkegkcjZTkkjZ/nuM866IJNB3U3XsQTC/cIqDpd97OaWDd8ruubbZe7fjJT7gi99TZthkujLws3b6rHAY0FiDA8ntExYlExF5Sb15/4+SPTPGCPkMqwHL6ktJEHUBAn70CANkFlCJM6G+a6njA74skSVjiHaW6Mgmq2vCgRwAN7+YGH1ij/kR8d7fs1SwDVDgeKb7233jUDkXCTiI8kvwE7l4NrdyBff/u+0hAbZVSEYCsUZ6SXAXcWBCPTUOijm2ycsuIfk52OneNx40o0IYxs/PGGP5WfvXhJ7gk2zYjdecz3EM2X0rCSAbmHGe4ldjZp+1gcefwmGISg8OMY707SYBSmAveygEJXrQGB9vWpBUSsJNjU0ox4e1q8mE+tlXhcMA0VlwcPZgHELo1mg2ctWgELgvCPBlhK1GPCTfl/HVOAqBWQT4HMheilWhpBC4SgTYCvV+prxKoGrQ9wOBf8yTuzxxfrcGAAAAAElFTkSuQmCC)"
      ]
    },
    {
      "cell_type": "code",
      "metadata": {
        "colab": {
          "base_uri": "https://localhost:8080/"
        },
        "id": "A4OSJP6ZhAJB",
        "outputId": "75c7ba95-1e3a-433a-9676-61c3e2f69d52"
      },
      "source": [
        "linalg.norm(A)"
      ],
      "execution_count": null,
      "outputs": [
        {
          "output_type": "execute_result",
          "data": {
            "text/plain": [
              "6.557438524302"
            ]
          },
          "metadata": {
            "tags": []
          },
          "execution_count": 110
        }
      ]
    },
    {
      "cell_type": "markdown",
      "metadata": {
        "id": "x_JBZzAehIJ7"
      },
      "source": [
        "## **L1 Norm**\n",
        "\n",
        "\n",
        "L1 Norm là tổng trị tuyệt đối các giá trị của vector\n",
        "\n",
        "**Công thức**\n",
        "\n",
        "![image.png](data:image/png;base64,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)"
      ]
    },
    {
      "cell_type": "markdown",
      "metadata": {
        "id": "Luc-dC4hhXTU"
      },
      "source": [
        "**Thực hành**"
      ]
    },
    {
      "cell_type": "code",
      "metadata": {
        "id": "CwKpu-9thaVZ"
      },
      "source": [
        "B = np.array([6, 20, 10, -4])"
      ],
      "execution_count": null,
      "outputs": []
    },
    {
      "cell_type": "markdown",
      "metadata": {
        "id": "mbu7ftl1hbKM"
      },
      "source": [
        "Norm L1 of B = |6| + |20| + |10| + |-4|"
      ]
    },
    {
      "cell_type": "code",
      "metadata": {
        "colab": {
          "base_uri": "https://localhost:8080/"
        },
        "id": "ogqdDPacheHl",
        "outputId": "9e0413d5-875b-450e-d9b6-180c835d84eb"
      },
      "source": [
        "linalg.norm(B, ord=1)"
      ],
      "execution_count": null,
      "outputs": [
        {
          "output_type": "execute_result",
          "data": {
            "text/plain": [
              "40.0"
            ]
          },
          "metadata": {
            "tags": []
          },
          "execution_count": 112
        }
      ]
    }
  ]
}