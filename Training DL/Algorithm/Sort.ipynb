{
  "nbformat": 4,
  "nbformat_minor": 0,
  "metadata": {
    "colab": {
      "name": "Sort.ipynb",
      "provenance": []
    },
    "kernelspec": {
      "name": "python3",
      "display_name": "Python 3"
    },
    "language_info": {
      "name": "python"
    }
  },
  "cells": [
    {
      "cell_type": "code",
      "metadata": {
        "colab": {
          "base_uri": "https://localhost:8080/"
        },
        "id": "yTkUNdNVc4V4",
        "outputId": "b5477d92-8c84-45c0-c4a1-04a0fad71a4a"
      },
      "source": [
        "print(\"hello world\")"
      ],
      "execution_count": null,
      "outputs": [
        {
          "output_type": "stream",
          "text": [
            "hello world\n"
          ],
          "name": "stdout"
        }
      ]
    },
    {
      "cell_type": "code",
      "metadata": {
        "id": "kTcuVTFY8Bp1"
      },
      "source": [
        ""
      ],
      "execution_count": null,
      "outputs": []
    },
    {
      "cell_type": "markdown",
      "metadata": {
        "id": "qoXhfZNwvmOV"
      },
      "source": [
        "**BUBBLE SORT**\n",
        "# ý tưởng: sử dụng 2 vòng lặp so sánh phần tử hiện tại với các phần tử còn lại nếu nhỏ hơn thì đổi chỗ ngược lại tiếp tục lặp\n",
        "Độ phức tạp: ***O(n^2)***\n",
        "\n",
        "\n",
        "\n"
      ]
    },
    {
      "cell_type": "code",
      "metadata": {
        "id": "3OxHdag2wx2u"
      },
      "source": [
        ""
      ],
      "execution_count": null,
      "outputs": []
    },
    {
      "cell_type": "code",
      "metadata": {
        "colab": {
          "base_uri": "https://localhost:8080/"
        },
        "id": "3lXH1UnQw3OF",
        "outputId": "f33a75fd-5bc8-4765-dab2-8b7e52699abb"
      },
      "source": [
        "numbers = [20, 10 , 16 , 42, 98, 1]\n",
        "for i in range( 0, len(numbers)):\n",
        "  for j in range(i+1, len(numbers)):\n",
        "    if numbers[j] < numbers[i]:\n",
        "      temp = numbers[j]\n",
        "      numbers[j] = numbers[i]\n",
        "      numbers[i] = temp\n",
        "\n",
        "numbers"
      ],
      "execution_count": null,
      "outputs": [
        {
          "output_type": "execute_result",
          "data": {
            "text/plain": [
              "[1, 10, 16, 20, 42, 98]"
            ]
          },
          "metadata": {
            "tags": []
          },
          "execution_count": 2
        }
      ]
    },
    {
      "cell_type": "markdown",
      "metadata": {
        "id": "CWH7OulR06gX"
      },
      "source": [
        "**INSERTION SORT**\n",
        "Ý tưởng: "
      ]
    },
    {
      "cell_type": "code",
      "metadata": {
        "colab": {
          "base_uri": "https://localhost:8080/"
        },
        "id": "O6ZlE_Mlwi5G",
        "outputId": "46313844-dae4-4cdf-a599-333aba3f52c3"
      },
      "source": [
        "numbers = [12,5,6,23,90,100,50]\n",
        "for i in range(1, len(numbers)):\n",
        "  j = i - 1\n",
        "  cur = numbers[i]\n",
        "  while j >= 0 and cur < numbers[j]:\n",
        "    numbers[j+1] = numbers[j]\n",
        "    j -= 1\n",
        "  numbers[j+1] = cur\n",
        "numbers"
      ],
      "execution_count": null,
      "outputs": [
        {
          "output_type": "execute_result",
          "data": {
            "text/plain": [
              "[5, 6, 12, 23, 50, 90, 100]"
            ]
          },
          "metadata": {
            "tags": []
          },
          "execution_count": 3
        }
      ]
    },
    {
      "cell_type": "markdown",
      "metadata": {
        "id": "O1npxUe91HMm"
      },
      "source": [
        "# **MERGE SORT**\n",
        "Độ phức tạp : ***O(NlogN)***"
      ]
    },
    {
      "cell_type": "code",
      "metadata": {
        "id": "7r-eVlgL1iPL"
      },
      "source": [
        "numbers =  [20, 10, 16, 6, 89, 1, 5, 9, 100]"
      ],
      "execution_count": null,
      "outputs": []
    },
    {
      "cell_type": "code",
      "metadata": {
        "id": "IBgbUsff1qB_"
      },
      "source": [
        "#Divide\n",
        "def divide(numbers, start, end):\n",
        "  if start == end:\n",
        "    return [numbers[start]]\n",
        "  else:\n",
        "    middle = (start + end) // 2\n",
        "    left_no = divide(numbers, start, middle)\n",
        "    right_no = divide(numbers, middle +1, end)\n",
        "    return conquer(numbers, left_no, right_no)\n"
      ],
      "execution_count": null,
      "outputs": []
    },
    {
      "cell_type": "code",
      "metadata": {
        "id": "VkmO6WtzB86k"
      },
      "source": [
        "#Sort\n",
        "def conquer(numbers, left_no, right_no):\n",
        "  new_nums = []\n",
        "  i = j = 0\n",
        "  while i <  len(left_no) and j < len(right_no):\n",
        "    if left_no[i] < right_no[j]:\n",
        "      new_nums.append(left_no[i])\n",
        "      i += 1\n",
        "    else:\n",
        "      new_nums.append(right_no[j])\n",
        "      j += 1\n",
        "  if i < len(left_no):\n",
        "    new_nums += left_no[i:]\n",
        "  if j < len(right_no):\n",
        "    new_nums += right_no[j:]\n",
        "  return new_nums"
      ],
      "execution_count": null,
      "outputs": []
    },
    {
      "cell_type": "code",
      "metadata": {
        "colab": {
          "base_uri": "https://localhost:8080/"
        },
        "id": "aWemkiBZDBYj",
        "outputId": "5f1628da-ede1-468f-8477-4771347d0994"
      },
      "source": [
        "divide(numbers, 0, len(numbers) - 1)"
      ],
      "execution_count": null,
      "outputs": [
        {
          "output_type": "execute_result",
          "data": {
            "text/plain": [
              "[1, 5, 6, 9, 10, 16, 20, 89, 100]"
            ]
          },
          "metadata": {
            "tags": []
          },
          "execution_count": 18
        }
      ]
    },
    {
      "cell_type": "markdown",
      "metadata": {
        "id": "vpJDES0DIAqv"
      },
      "source": [
        "**String**"
      ]
    },
    {
      "cell_type": "code",
      "metadata": {
        "colab": {
          "base_uri": "https://localhost:8080/",
          "height": 35
        },
        "id": "HHYj8EzmIGIj",
        "outputId": "f1d49e41-2d99-44be-d22e-e67b4dac3818"
      },
      "source": [
        "def get_num_str(n):\n",
        "  chars = []\n",
        "  if n > 2:\n",
        "    for i in range(1, n - 1):\n",
        "      chars.append(str(i))\n",
        "      chars.append(str(i+2))\n",
        "  elif n == 2:\n",
        "    chars.append(str(1))\n",
        "    chars.append(str(2))\n",
        "  else:\n",
        "    chars = str(1)\n",
        "  return \"-\".join(chars)\n",
        "\n",
        "# get_num_str(1) \n",
        "get_num_str(2)\n",
        "# get_num_str(8)"
      ],
      "execution_count": null,
      "outputs": [
        {
          "output_type": "execute_result",
          "data": {
            "application/vnd.google.colaboratory.intrinsic+json": {
              "type": "string"
            },
            "text/plain": [
              "'1-2'"
            ]
          },
          "metadata": {
            "tags": []
          },
          "execution_count": 30
        }
      ]
    }
  ]
}